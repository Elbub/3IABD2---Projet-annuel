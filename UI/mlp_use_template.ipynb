{
 "cells": [
  {
   "cell_type": "code",
   "execution_count": 1,
   "metadata": {},
   "outputs": [],
   "source": [
    "import lib\n",
    "import numpy as np\n",
    "import time"
   ]
  },
  {
   "cell_type": "code",
   "execution_count": 2,
   "metadata": {},
   "outputs": [],
   "source": [
    "dimensions_to_resize_to = (50, 50)"
   ]
  },
  {
   "cell_type": "code",
   "execution_count": 3,
   "metadata": {},
   "outputs": [],
   "source": [
    "images_dimensions = dimensions_to_resize_to[0] * dimensions_to_resize_to[1] * 3\n",
    "\n",
    "inputs_folders = [\"../database/resized_dataset/asie_sud_est\",\"../database/resized_dataset/rome_grece\"]\n",
    "# inputs_folders = [\"../database/resized_dataset/asie_sud_est\", \"../database/resized_dataset/chateau_europe\"\"../database/resized_dataset/rome_grece\"]\n",
    "\n",
    "inputs, number_of_inputs, labels = lib.read_dataset(inputs_folders)"
   ]
  },
  {
   "cell_type": "code",
   "execution_count": 9,
   "metadata": {},
   "outputs": [
    {
     "name": "stdout",
     "output_type": "stream",
     "text": [
      "<class 'ctypes.c_float'> (240098,) <class 'tuple'>\n",
      "[ 0.43131423  0.61907244  0.290658   ...  0.808625   -0.35810494\n",
      "  0.6562569 ]\n"
     ]
    }
   ],
   "source": [
    "layers = [images_dimensions, 32, len(inputs_folders)]\n",
    "mlp_model = lib.generate_multi_layer_perceptron_model(layers)\n",
    "print(mlp_model)"
   ]
  },
  {
   "cell_type": "code",
   "execution_count": 10,
   "metadata": {},
   "outputs": [],
   "source": [
    "learning_rate = 0.01\n",
    "number_of_epochs = 100"
   ]
  },
  {
   "cell_type": "code",
   "execution_count": 11,
   "metadata": {},
   "outputs": [
    {
     "name": "stdout",
     "output_type": "stream",
     "text": [
      "Training...\n",
      "17.11698293685913\n",
      "The model has been trained.\n",
      "2100.494993209839\n",
      "<class 'ctypes.c_float'> (240098,) <class 'tuple'>\n",
      "---------\n",
      "[-2.4951627   0.8780321   2.9477909  ...  0.6876125  -0.83416665\n",
      "  0.8341663 ]\n"
     ]
    }
   ],
   "source": [
    "mlp_model = lib.train_multi_layer_perceptron_model(True,\n",
    "                                                   layers,\n",
    "                                                   inputs,\n",
    "                                                   labels,\n",
    "                                                   mlp_model,\n",
    "                                                   learning_rate,\n",
    "                                                   number_of_epochs,\n",
    "                                                   number_of_inputs,\n",
    "                                                   images_dimensions,\n",
    "                                                   len(inputs_folders))\n",
    "print(\"---------\")\n",
    "print(mlp_model)"
   ]
  },
  {
   "cell_type": "code",
   "execution_count": 12,
   "metadata": {},
   "outputs": [
    {
     "name": "stdout",
     "output_type": "stream",
     "text": [
      "<class 'ctypes.c_float'> (34688,) <class 'tuple'>\n",
      "[[ 0.99720585 -0.99720585]\n",
      " [ 0.99851984 -0.99851984]\n",
      " [ 0.9935923  -0.9935923 ]\n",
      " ...\n",
      " [-0.92889714  0.9288971 ]\n",
      " [-0.99992126  0.99992126]\n",
      " [-0.9999684   0.9999684 ]]\n"
     ]
    }
   ],
   "source": [
    "timer = time.time()\n",
    "predicted_dataset = lib.predict_with_multi_layer_perceptron_model(True,\n",
    "                                                                  layers,\n",
    "                                                                  inputs,\n",
    "                                                                  mlp_model,\n",
    "                                                                  number_of_inputs,\n",
    "                                                                  images_dimensions,\n",
    "                                                                  len(inputs_folders))\n",
    "predicted_dataset = predicted_dataset.reshape(number_of_inputs, len(inputs_folders))\n",
    "print(predicted_dataset)"
   ]
  },
  {
   "cell_type": "code",
   "execution_count": 13,
   "metadata": {},
   "outputs": [
    {
     "name": "stdout",
     "output_type": "stream",
     "text": [
      "2009 0.11583256457564575\n"
     ]
    }
   ],
   "source": [
    "labels_to_predict = labels.reshape(number_of_inputs, len(inputs_folders))\n",
    "total_error = 0\n",
    "for i in range(number_of_inputs) :\n",
    "   for j in range(len(inputs_folders)) :\n",
    "      if abs(predicted_dataset[i][j] - labels_to_predict[i][j]) >= 1 :\n",
    "         total_error += 1\n",
    "         break\n",
    "print(total_error, total_error / number_of_inputs)"
   ]
  }
 ],
 "metadata": {
  "kernelspec": {
   "display_name": "3IABD2_framework_ML",
   "language": "python",
   "name": "python3"
  },
  "language_info": {
   "codemirror_mode": {
    "name": "ipython",
    "version": 3
   },
   "file_extension": ".py",
   "mimetype": "text/x-python",
   "name": "python",
   "nbconvert_exporter": "python",
   "pygments_lexer": "ipython3",
   "version": "3.9.16"
  },
  "orig_nbformat": 4
 },
 "nbformat": 4,
 "nbformat_minor": 2
}
