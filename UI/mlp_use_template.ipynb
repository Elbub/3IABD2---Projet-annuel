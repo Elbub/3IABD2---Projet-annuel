{
 "cells": [
  {
   "cell_type": "code",
   "execution_count": 1,
   "metadata": {},
   "outputs": [],
   "source": [
    "import lib\n",
    "import numpy as np"
   ]
  },
  {
   "cell_type": "code",
   "execution_count": 2,
   "metadata": {},
   "outputs": [],
   "source": [
    "dimensions_to_resize_to = (50, 50)"
   ]
  },
  {
   "cell_type": "code",
   "execution_count": 3,
   "metadata": {},
   "outputs": [],
   "source": [
    "images_dimensions = dimensions_to_resize_to[0] * dimensions_to_resize_to[1] * 3\n",
    "\n",
    "inputs_folders = [\"../database/resized_dataset/asie_sud_est\",\"../database/resized_dataset/rome_grece\"]\n",
    "# inputs_folders = [\"../database/resized_dataset/asie_sud_est\", \"../database/resized_dataset/chateau_europe\"\"../database/resized_dataset/rome_grece\"]\n",
    "\n",
    "inputs, number_of_inputs, labels = lib.read_dataset(inputs_folders)\n",
    "\n",
    "layers = [images_dimensions, len(inputs_folders)]"
   ]
  },
  {
   "cell_type": "code",
   "execution_count": 4,
   "metadata": {},
   "outputs": [
    {
     "name": "stdout",
     "output_type": "stream",
     "text": [
      "-1.0\n",
      "1.0\n",
      "-0.06481984\n"
     ]
    }
   ],
   "source": [
    "print(min(inputs))\n",
    "print(max(inputs))\n",
    "print(inputs.mean())"
   ]
  },
  {
   "cell_type": "code",
   "execution_count": 5,
   "metadata": {},
   "outputs": [
    {
     "name": "stdout",
     "output_type": "stream",
     "text": [
      "<class 'ctypes.c_float'> (15002,) <class 'tuple'>\n",
      "[-0.5744407  -0.62823606  0.5586138  ...  0.22325706 -0.691278\n",
      "  0.11861563]\n"
     ]
    }
   ],
   "source": [
    "mlp_model = lib.generate_multi_layer_perceptron_model(layers)\n",
    "print(mlp_model)"
   ]
  },
  {
   "cell_type": "code",
   "execution_count": 6,
   "metadata": {},
   "outputs": [],
   "source": [
    "learning_rate = 0.02\n",
    "number_of_epochs = 10"
   ]
  },
  {
   "cell_type": "code",
   "execution_count": 1,
   "metadata": {},
   "outputs": [
    {
     "ename": "NameError",
     "evalue": "name 'lib' is not defined",
     "output_type": "error",
     "traceback": [
      "\u001b[1;31m---------------------------------------------------------------------------\u001b[0m",
      "\u001b[1;31mNameError\u001b[0m                                 Traceback (most recent call last)",
      "Cell \u001b[1;32mIn[1], line 1\u001b[0m\n\u001b[1;32m----> 1\u001b[0m mlp_model \u001b[39m=\u001b[39m lib\u001b[39m.\u001b[39mtrain_multi_layer_perceptron_model(\u001b[39mTrue\u001b[39;00m,\n\u001b[0;32m      2\u001b[0m                                                    layers,\n\u001b[0;32m      3\u001b[0m                                                    inputs,\n\u001b[0;32m      4\u001b[0m                                                    labels,                                                   mlp_model,\n\u001b[0;32m      5\u001b[0m                                                    learning_rate,\n\u001b[0;32m      6\u001b[0m                                                    number_of_epochs,\n\u001b[0;32m      7\u001b[0m                                                    number_of_inputs,\n\u001b[0;32m      8\u001b[0m                                                    images_dimensions,\n\u001b[0;32m      9\u001b[0m                                                    \u001b[39mlen\u001b[39m(inputs_folders))\n\u001b[0;32m     10\u001b[0m \u001b[39mprint\u001b[39m(mlp_model)\n",
      "\u001b[1;31mNameError\u001b[0m: name 'lib' is not defined"
     ]
    }
   ],
   "source": [
    "mlp_model = lib.train_multi_layer_perceptron_model(True,\n",
    "                                                   layers,\n",
    "                                                   inputs,\n",
    "                                                   labels,\n",
    "                                                   mlp_model,\n",
    "                                                   learning_rate,\n",
    "                                                   number_of_epochs,\n",
    "                                                   number_of_inputs,\n",
    "                                                   images_dimensions,\n",
    "                                                   len(inputs_folders))\n",
    "print(mlp_model)"
   ]
  },
  {
   "cell_type": "code",
   "execution_count": 6,
   "metadata": {},
   "outputs": [
    {
     "name": "stdout",
     "output_type": "stream",
     "text": [
      "<class 'ctypes.c_float'> (34688,) <class 'tuple'>\n",
      "[[  -58749.29  -1056139.2  ]\n",
      " [  -63117.242 -1065560.   ]\n",
      " [  -46074.996  -800589.2  ]\n",
      " ...\n",
      " [  -74889.97  -1648745.1  ]\n",
      " [  -55652.18  -1195908.   ]\n",
      " [  -48317.875 -1053203.4  ]]\n"
     ]
    }
   ],
   "source": [
    "predicted_dataset = lib.predict_with_multi_layer_perceptron_model(False,\n",
    "                                                                  layers,\n",
    "                                                                  inputs,\n",
    "                                                                  mlp_model)\n",
    "predicted_dataset = np.reshape(predicted_dataset, (len(inputs), len(inputs_folders)))\n",
    "print(predicted_dataset)"
   ]
  }
 ],
 "metadata": {
  "kernelspec": {
   "display_name": "3IABD2_framework_ML",
   "language": "python",
   "name": "python3"
  },
  "language_info": {
   "codemirror_mode": {
    "name": "ipython",
    "version": 3
   },
   "file_extension": ".py",
   "mimetype": "text/x-python",
   "name": "python",
   "nbconvert_exporter": "python",
   "pygments_lexer": "ipython3",
   "version": "3.9.16"
  },
  "orig_nbformat": 4
 },
 "nbformat": 4,
 "nbformat_minor": 2
}
