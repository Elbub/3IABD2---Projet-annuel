{
 "cells": [
  {
   "cell_type": "code",
   "execution_count": 1,
   "metadata": {},
   "outputs": [],
   "source": [
    "import lib\n",
    "import numpy as np\n",
    "import time"
   ]
  },
  {
   "cell_type": "code",
   "execution_count": 2,
   "metadata": {},
   "outputs": [],
   "source": [
    "dimensions_to_resize_to = (50, 50)"
   ]
  },
  {
   "cell_type": "code",
   "execution_count": 3,
   "metadata": {},
   "outputs": [],
   "source": [
    "images_dimensions = dimensions_to_resize_to[0] * dimensions_to_resize_to[1] * 3\n",
    "\n",
    "inputs_folders = [\"../database/resized_dataset/asie_sud_est\",\"../database/resized_dataset/rome_grece\"]\n",
    "# inputs_folders = [\"../database/resized_dataset/asie_sud_est\", \"../database/resized_dataset/chateau_europe\"\"../database/resized_dataset/rome_grece\"]\n",
    "\n",
    "inputs, number_of_inputs, labels = lib.read_dataset(inputs_folders)"
   ]
  },
  {
   "cell_type": "code",
   "execution_count": 4,
   "metadata": {},
   "outputs": [
    {
     "name": "stdout",
     "output_type": "stream",
     "text": [
      "<class 'ctypes.c_float'> (240098,) <class 'tuple'>\n",
      "[0.42622542 0.95706844 0.6044476  ... 0.20528078 0.6044371  0.3534243 ]\n"
     ]
    }
   ],
   "source": [
    "layers = [images_dimensions, 32, len(inputs_folders)]\n",
    "mlp_model = lib.generate_multi_layer_perceptron_model(layers)\n",
    "print(mlp_model)"
   ]
  },
  {
   "cell_type": "code",
   "execution_count": 6,
   "metadata": {},
   "outputs": [],
   "source": [
    "learning_rate = 0.003\n",
    "number_of_epochs = 1000"
   ]
  },
  {
   "cell_type": "code",
   "execution_count": 7,
   "metadata": {},
   "outputs": [
    {
     "name": "stdout",
     "output_type": "stream",
     "text": [
      "Training...\n",
      "17.201050996780396\n",
      "The model has been trained.\n",
      "20008.175489902496\n",
      "<class 'ctypes.c_float'> (240098,) <class 'tuple'>\n",
      "---------\n",
      "[-0.09975376  0.29481477  1.615452   ... -2.2996073   1.8712838\n",
      " -1.871286  ]\n"
     ]
    }
   ],
   "source": [
    "mlp_model = lib.train_multi_layer_perceptron_model(True,\n",
    "                                                   layers,\n",
    "                                                   inputs,\n",
    "                                                   labels,\n",
    "                                                   mlp_model,\n",
    "                                                   learning_rate,\n",
    "                                                   number_of_epochs,\n",
    "                                                   number_of_inputs,\n",
    "                                                   images_dimensions,\n",
    "                                                   len(inputs_folders))\n",
    "print(\"---------\")\n",
    "print(mlp_model)"
   ]
  },
  {
   "cell_type": "code",
   "execution_count": 8,
   "metadata": {},
   "outputs": [
    {
     "name": "stdout",
     "output_type": "stream",
     "text": [
      "<class 'ctypes.c_float'> (34688,) <class 'tuple'>\n",
      "[[ 0.9999965  -0.9999965 ]\n",
      " [ 1.         -1.        ]\n",
      " [ 1.         -1.        ]\n",
      " ...\n",
      " [-0.9999995   0.9999995 ]\n",
      " [-1.          1.        ]\n",
      " [-0.99911976  0.99911976]]\n"
     ]
    }
   ],
   "source": [
    "timer = time.time()\n",
    "predicted_dataset = lib.predict_with_multi_layer_perceptron_model(True,\n",
    "                                                                  layers,\n",
    "                                                                  inputs,\n",
    "                                                                  mlp_model,\n",
    "                                                                  number_of_inputs,\n",
    "                                                                  images_dimensions,\n",
    "                                                                  len(inputs_folders))\n",
    "predicted_dataset = predicted_dataset.reshape(number_of_inputs, len(inputs_folders))\n",
    "print(predicted_dataset)"
   ]
  },
  {
   "cell_type": "code",
   "execution_count": 9,
   "metadata": {},
   "outputs": [
    {
     "name": "stdout",
     "output_type": "stream",
     "text": [
      "323 0.018623154981549817\n"
     ]
    }
   ],
   "source": [
    "labels_to_predict = labels.reshape(number_of_inputs, len(inputs_folders))\n",
    "total_error = 0\n",
    "for i in range(number_of_inputs) :\n",
    "   for j in range(len(inputs_folders)) :\n",
    "      if abs(predicted_dataset[i][j] - labels_to_predict[i][j]) >= 1 :\n",
    "         total_error += 1\n",
    "         break\n",
    "print(total_error, total_error / number_of_inputs)"
   ]
  },
  {
   "cell_type": "code",
   "execution_count": 10,
   "metadata": {},
   "outputs": [
    {
     "name": "stdout",
     "output_type": "stream",
     "text": [
      "```learning_rate = 0.003\n",
      "number_of_epochs = 1000\n",
      "number_of_images = 17344\n",
      "number_of_classes = 2\n",
      "accuracy = 0.018623154981549817 (323 errors)```\n"
     ]
    }
   ],
   "source": [
    "# formatage pour l'envoyer sur Discord\n",
    "print(f\"```learning_rate = {learning_rate}\\n\\\n",
    "number_of_epochs = {number_of_epochs}\\n\\\n",
    "number_of_images = {number_of_inputs}\\n\\\n",
    "number_of_classes = {len(inputs_folders)}\\n\\\n",
    "accuracy = {total_error / number_of_inputs} ({total_error} errors)```\")"
   ]
  }
 ],
 "metadata": {
  "kernelspec": {
   "display_name": "3IABD2_framework_ML",
   "language": "python",
   "name": "python3"
  },
  "language_info": {
   "codemirror_mode": {
    "name": "ipython",
    "version": 3
   },
   "file_extension": ".py",
   "mimetype": "text/x-python",
   "name": "python",
   "nbconvert_exporter": "python",
   "pygments_lexer": "ipython3",
   "version": "3.9.16"
  },
  "orig_nbformat": 4
 },
 "nbformat": 4,
 "nbformat_minor": 2
}
