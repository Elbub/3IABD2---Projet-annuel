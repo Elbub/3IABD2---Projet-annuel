{
 "cells": [
  {
   "cell_type": "code",
   "execution_count": 33,
   "metadata": {
    "collapsed": true,
    "ExecuteTime": {
     "end_time": "2023-06-08T14:45:54.637504600Z",
     "start_time": "2023-06-08T14:45:54.628530600Z"
    }
   },
   "outputs": [],
   "source": [
    "import os\n",
    "from PIL import Image\n",
    "from datetime import datetime"
   ]
  },
  {
   "cell_type": "code",
   "execution_count": 34,
   "outputs": [],
   "source": [
    "directory_inputs = [\"../clean_dataset/amerique_sud\",\"../clean_dataset/asie_sud_est\",\"../clean_dataset/rome_grece\"]\n",
    "directory_output = [\"../resized_dataset/amerique_sud\",\"../resized_dataset/asie_sud_est\",\"../resized_dataset/rome_grece\"]"
   ],
   "metadata": {
    "collapsed": false
   }
  },
  {
   "cell_type": "code",
   "execution_count": 35,
   "outputs": [],
   "source": [
    "newsize = (27,27)\n",
    "for i in range(len(directory_inputs)):\n",
    "    for image_file in os.listdir(directory_inputs[i]):\n",
    "        # print(image_file)\n",
    "        if 'image' in image_file:\n",
    "            # print(image_file)\n",
    "            name = image_file\n",
    "            image_file = Image.open(directory_inputs[i]+'/'+image_file).convert('RGB')\n",
    "            # name_2 = image_file.filename\n",
    "            image_file = image_file.resize(newsize)\n",
    "            # print(image_file)\n",
    "            image_file.save(directory_output[i]+'/'+datetime.now().strftime('%Y-%m-%d_%H-%M_')+name)\n"
   ],
   "metadata": {
    "collapsed": false
   }
  },
  {
   "cell_type": "code",
   "execution_count": 30,
   "outputs": [],
   "source": [
    "asian_img = Image.open(r\"../data/image_asie.jpg\")\n",
    "im = Image.open(r\"../data/test_img.jpg\")\n",
    "eu_img = Image.open(r\"../data/image_eu.png\")"
   ],
   "metadata": {
    "collapsed": false,
    "ExecuteTime": {
     "end_time": "2023-06-08T14:54:52.119092400Z",
     "start_time": "2023-06-08T14:54:52.100146700Z"
    }
   }
  },
  {
   "cell_type": "code",
   "execution_count": 31,
   "outputs": [],
   "source": [
    "newsize = (27,27)"
   ],
   "metadata": {
    "collapsed": false,
    "ExecuteTime": {
     "end_time": "2023-06-08T14:54:53.331285100Z",
     "start_time": "2023-06-08T14:54:53.300231500Z"
    }
   }
  },
  {
   "cell_type": "code",
   "execution_count": 32,
   "outputs": [],
   "source": [
    "south_am = im.resize(newsize)\n",
    "south_am.show()"
   ],
   "metadata": {
    "collapsed": false,
    "ExecuteTime": {
     "end_time": "2023-06-08T14:55:00.802920800Z",
     "start_time": "2023-06-08T14:54:55.012075800Z"
    }
   }
  },
  {
   "cell_type": "code",
   "execution_count": 33,
   "outputs": [],
   "source": [
    "eu = eu_img.resize(newsize)\n",
    "eu.show()"
   ],
   "metadata": {
    "collapsed": false,
    "ExecuteTime": {
     "end_time": "2023-06-08T14:55:04.170023600Z",
     "start_time": "2023-06-08T14:55:00.806910100Z"
    }
   }
  },
  {
   "cell_type": "code",
   "execution_count": 34,
   "outputs": [],
   "source": [
    "asia = asian_img.resize(newsize)\n",
    "asia.show()"
   ],
   "metadata": {
    "collapsed": false,
    "ExecuteTime": {
     "end_time": "2023-06-08T14:55:07.589850500Z",
     "start_time": "2023-06-08T14:55:04.173020700Z"
    }
   }
  },
  {
   "cell_type": "code",
   "execution_count": null,
   "outputs": [],
   "source": [
    "eu.save(\"../data/eu_2.png\")\n",
    "asia.save(\"../data/asia.png\")\n",
    "south_am.save(\"../data/south_am.png\")"
   ],
   "metadata": {
    "collapsed": false
   }
  }
 ],
 "metadata": {
  "kernelspec": {
   "display_name": "Python 3",
   "language": "python",
   "name": "python3"
  },
  "language_info": {
   "codemirror_mode": {
    "name": "ipython",
    "version": 2
   },
   "file_extension": ".py",
   "mimetype": "text/x-python",
   "name": "python",
   "nbconvert_exporter": "python",
   "pygments_lexer": "ipython2",
   "version": "2.7.6"
  }
 },
 "nbformat": 4,
 "nbformat_minor": 0
}
