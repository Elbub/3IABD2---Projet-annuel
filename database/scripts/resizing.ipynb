{
 "cells": [
  {
   "cell_type": "code",
   "execution_count": 22,
   "metadata": {
    "collapsed": true,
    "ExecuteTime": {
     "end_time": "2023-06-08T14:45:54.637504600Z",
     "start_time": "2023-06-08T14:45:54.628530600Z"
    }
   },
   "outputs": [],
   "source": [
    "import os\n",
    "from PIL import Image, ImageOps\n",
    "from datetime import datetime\n",
    "import numpy as np\n",
    "import ctypes"
   ]
  },
  {
   "cell_type": "code",
   "execution_count": 23,
   "outputs": [],
   "source": [
    "directory_inputs = [\"../clean_dataset/asie_sud_est\",\"../clean_dataset/rome_grece\",\"../clean_dataset/chateau_europe\"]\n",
    "directory_output = [\"../resized_dataset/asie_sud_est\",\"../resized_dataset/rome_grece\",\"../clean_dataset/chateau_europe\"]\n",
    "directory_output_grey = [\"../resized_dataset/grey/asie_sud_est\",\"../resized_dataset/grey/rome_grece\",\"../resized_dataset/grey/chateau_europe\"]"
   ],
   "metadata": {
    "collapsed": false
   }
  },
  {
   "cell_type": "code",
   "execution_count": 24,
   "outputs": [],
   "source": [
    "newsize = (50,50)\n",
    "# resize des images en RGB\n",
    "for i in range(len(directory_inputs)):\n",
    "    for image_file in os.listdir(directory_inputs[i]):\n",
    "        if 'image' in image_file:\n",
    "            name = image_file\n",
    "            image_file = Image.open(directory_inputs[i]+'/'+image_file).convert('RGB')\n",
    "            image_file = image_file.resize(newsize)\n",
    "            image_file.save(directory_output[i]+'/'+datetime.now().strftime('%Y-%m-%d_%H-%M_')+name)\n",
    "            image_file = image_file.rotate(90)\n",
    "            image_file.save(directory_output[i]+'/'+datetime.now().strftime('%Y-%m-%d_%H-%M_rotate_90_')+name)\n",
    "            image_file = image_file.rotate(90)\n",
    "            image_file.save(directory_output[i]+'/'+datetime.now().strftime('%Y-%m-%d_%H-%M_rotate_180_')+name)\n",
    "            image_file = image_file.rotate(90)\n",
    "            image_file.save(directory_output[i]+'/'+datetime.now().strftime('%Y-%m-%d_%H-%M_rotate_270_')+name)\n",
    "\n",
    "# resize des images en RGB, en effet mirroir\n",
    "for i in range(len(directory_inputs)):\n",
    "    for image_file in os.listdir(directory_inputs[i]):\n",
    "        if 'image' in image_file:\n",
    "            name = image_file\n",
    "            image_file = Image.open(directory_inputs[i]+'/'+image_file).convert('RGB')\n",
    "            image_file = image_file.resize(newsize)\n",
    "            image_file = ImageOps.flip(image_file)\n",
    "            image_file.save(directory_output[i]+'/'+datetime.now().strftime('%Y-%m-%d_%H-%M_flip_')+name)\n",
    "            image_file = image_file.rotate(90)\n",
    "            image_file.save(directory_output[i]+'/'+datetime.now().strftime('%Y-%m-%d_%H-%M_rotate_90_flip_')+name)\n",
    "            image_file = image_file.rotate(90)\n",
    "            image_file.save(directory_output[i]+'/'+datetime.now().strftime('%Y-%m-%d_%H-%M_rotate_180_flip_')+name)\n",
    "            image_file = image_file.rotate(90)\n",
    "            image_file.save(directory_output[i]+'/'+datetime.now().strftime('%Y-%m-%d_%H-%M_rotate_270_flip_')+name)\n",
    "\n",
    "# resize des images en niveau de gris\n",
    "for i in range(len(directory_inputs)):\n",
    "    for image_file in os.listdir(directory_inputs[i]):\n",
    "        if 'image' in image_file:\n",
    "            name = image_file\n",
    "            image_file = Image.open(directory_inputs[i]+'/'+image_file).convert(\"L\")\n",
    "            image_file = image_file.resize(newsize)\n",
    "            image_file.save(directory_output_grey[i]+'/'+datetime.now().strftime('%Y-%m-%d_%H-%M_grey_')+name)\n",
    "            image_file = image_file.rotate(90)\n",
    "            image_file.save(directory_output_grey[i]+'/'+datetime.now().strftime('%Y-%m-%d_%H-%M_rotate_90_grey_')+name)\n",
    "            image_file = image_file.rotate(90)\n",
    "            image_file.save(directory_output_grey[i]+'/'+datetime.now().strftime('%Y-%m-%d_%H-%M_rotate_180_grey_')+name)\n",
    "            image_file = image_file.rotate(90)\n",
    "            image_file.save(directory_output_grey[i]+'/'+datetime.now().strftime('%Y-%m-%d_%H-%M_rotate_270_grey_')+name)\n",
    "\n",
    "# resize des images en niveau de gris avec effet mirroir\n",
    "for i in range(len(directory_inputs)):\n",
    "    for image_file in os.listdir(directory_inputs[i]):\n",
    "        if 'image' in image_file:\n",
    "            name = image_file\n",
    "            image_file = Image.open(directory_inputs[i]+'/'+image_file).convert(\"L\")\n",
    "            image_file = image_file.resize(newsize)\n",
    "            image_file = ImageOps.flip(image_file)\n",
    "            image_file.save(directory_output_grey[i]+'/'+datetime.now().strftime('%Y-%m-%d_%H-%M_grey_flip_')+name)\n",
    "            image_file = image_file.rotate(90)\n",
    "            image_file.save(directory_output_grey[i]+'/'+datetime.now().strftime('%Y-%m-%d_%H-%M_rotate_90_grey_flip_')+name)\n",
    "            image_file = image_file.rotate(90)\n",
    "            image_file.save(directory_output_grey[i]+'/'+datetime.now().strftime('%Y-%m-%d_%H-%M_rotate_180_grey_flip_')+name)\n",
    "            image_file = image_file.rotate(90)\n",
    "            image_file.save(directory_output_grey[i]+'/'+datetime.now().strftime('%Y-%m-%d_%H-%M_rotate_270_grey_flip_')+name)\n"
   ],
   "metadata": {
    "collapsed": false
   }
  },
  {
   "cell_type": "code",
   "execution_count": 11,
   "outputs": [],
   "source": [
    "image_1 = Image.open(r\"../resized_dataset/rome_grece/2023-06-26_14-32_image_2.jpg\")\n",
    "image_1_grey = Image.open(r\"../resized_dataset/grey/rome_grece/2023-06-26_14-32_grey_image_2.jpg\")"
   ],
   "metadata": {
    "collapsed": false
   }
  },
  {
   "cell_type": "code",
   "execution_count": 18,
   "outputs": [
    {
     "name": "stdout",
     "output_type": "stream",
     "text": [
      "7500\n",
      "2500\n"
     ]
    }
   ],
   "source": [
    "image_1_arr = np.asarray(image_1)\n",
    "image_1_grey_arr = np.asarray(image_1_grey)\n",
    "\n",
    "X = np.array(image_1_arr, dtype=ctypes.c_float)\n",
    "X_flat = X.flatten()\n",
    "\n",
    "X_grey = np.array(image_1_grey_arr, dtype=ctypes.c_float)\n",
    "X_flat_grey = X_grey.flatten()\n",
    "\n",
    "\n",
    "\n",
    "print(len(X_flat))\n",
    "print(len(X_flat_grey))"
   ],
   "metadata": {
    "collapsed": false
   }
  },
  {
   "cell_type": "code",
   "execution_count": 42,
   "outputs": [],
   "source": [
    "asian_img = Image.open(r\"../data/image_asie.jpg\")\n",
    "im = Image.open(r\"../data/test_img.jpg\")\n",
    "eu_img = Image.open(r\"../data/image_eu.png\")"
   ],
   "metadata": {
    "collapsed": false,
    "ExecuteTime": {
     "end_time": "2023-06-08T14:54:52.119092400Z",
     "start_time": "2023-06-08T14:54:52.100146700Z"
    }
   }
  },
  {
   "cell_type": "code",
   "execution_count": 31,
   "outputs": [],
   "source": [
    "newsize = (27,27)"
   ],
   "metadata": {
    "collapsed": false,
    "ExecuteTime": {
     "end_time": "2023-06-08T14:54:53.331285100Z",
     "start_time": "2023-06-08T14:54:53.300231500Z"
    }
   }
  },
  {
   "cell_type": "code",
   "execution_count": 32,
   "outputs": [],
   "source": [
    "south_am = im.resize(newsize)\n",
    "south_am.show()"
   ],
   "metadata": {
    "collapsed": false,
    "ExecuteTime": {
     "end_time": "2023-06-08T14:55:00.802920800Z",
     "start_time": "2023-06-08T14:54:55.012075800Z"
    }
   }
  },
  {
   "cell_type": "code",
   "execution_count": 33,
   "outputs": [],
   "source": [
    "eu = eu_img.resize(newsize)\n",
    "eu.show()"
   ],
   "metadata": {
    "collapsed": false,
    "ExecuteTime": {
     "end_time": "2023-06-08T14:55:04.170023600Z",
     "start_time": "2023-06-08T14:55:00.806910100Z"
    }
   }
  },
  {
   "cell_type": "code",
   "execution_count": 34,
   "outputs": [],
   "source": [
    "asia = asian_img.resize(newsize)\n",
    "asia.show()"
   ],
   "metadata": {
    "collapsed": false,
    "ExecuteTime": {
     "end_time": "2023-06-08T14:55:07.589850500Z",
     "start_time": "2023-06-08T14:55:04.173020700Z"
    }
   }
  },
  {
   "cell_type": "code",
   "execution_count": null,
   "outputs": [],
   "source": [
    "eu.save(\"../data/eu_2.png\")\n",
    "asia.save(\"../data/asia.png\")\n",
    "south_am.save(\"../data/south_am.png\")"
   ],
   "metadata": {
    "collapsed": false
   }
  }
 ],
 "metadata": {
  "kernelspec": {
   "display_name": "Python 3",
   "language": "python",
   "name": "python3"
  },
  "language_info": {
   "codemirror_mode": {
    "name": "ipython",
    "version": 2
   },
   "file_extension": ".py",
   "mimetype": "text/x-python",
   "name": "python",
   "nbconvert_exporter": "python",
   "pygments_lexer": "ipython2",
   "version": "2.7.6"
  }
 },
 "nbformat": 4,
 "nbformat_minor": 0
}
