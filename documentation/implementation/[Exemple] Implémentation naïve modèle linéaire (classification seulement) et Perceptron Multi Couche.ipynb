{
  "nbformat": 4,
  "nbformat_minor": 0,
  "metadata": {
    "colab": {
      "provenance": []
    },
    "kernelspec": {
      "name": "python3",
      "display_name": "Python 3"
    },
    "language_info": {
      "name": "python"
    }
  },
  "cells": [
    {
      "cell_type": "markdown",
      "source": [
        "# Classification Linéaire avec la règle de Rosenblatt"
      ],
      "metadata": {
        "id": "8LxKKSccc9Gw"
      }
    },
    {
      "cell_type": "markdown",
      "source": [
        "## Import de packages"
      ],
      "metadata": {
        "id": "senKF45fMvPQ"
      }
    },
    {
      "cell_type": "code",
      "execution_count": null,
      "metadata": {
        "id": "PuXBzAaPczFK"
      },
      "outputs": [],
      "source": [
        "import numpy as np"
      ]
    },
    {
      "cell_type": "code",
      "source": [
        "import matplotlib.pyplot as plt"
      ],
      "metadata": {
        "id": "yWr8mmhOdc2V"
      },
      "execution_count": null,
      "outputs": []
    },
    {
      "cell_type": "markdown",
      "source": [
        "## Définition d'un petit dataset 'jouet'"
      ],
      "metadata": {
        "id": "tVwzgv-lMzCT"
      }
    },
    {
      "cell_type": "code",
      "source": [
        "points = np.random.rand(25, 2)"
      ],
      "metadata": {
        "id": "ZVBZhUECdDNU"
      },
      "execution_count": null,
      "outputs": []
    },
    {
      "cell_type": "code",
      "source": [
        "labels = np.array([[1] if -p[1] + p[0] + 0.25 >= 0 else [0] for p in points])"
      ],
      "metadata": {
        "id": "qvsE1AJ7drVn"
      },
      "execution_count": null,
      "outputs": []
    },
    {
      "cell_type": "code",
      "source": [
        "colors = ['red' if l[0] == 1 else 'blue' for l in labels]"
      ],
      "metadata": {
        "id": "CLIrqFDDd8gm"
      },
      "execution_count": null,
      "outputs": []
    },
    {
      "cell_type": "markdown",
      "source": [
        "## Affichage du dataset"
      ],
      "metadata": {
        "id": "LxtGoa1qM4BJ"
      }
    },
    {
      "cell_type": "code",
      "source": [
        "plt.scatter(points[:, 0], points[:, 1], c=colors)"
      ],
      "metadata": {
        "colab": {
          "base_uri": "https://localhost:8080/"
        },
        "id": "ZEJJzjD1dRXw",
        "outputId": "1cd9b11f-2d46-4f50-86c2-787a7670d998"
      },
      "execution_count": null,
      "outputs": [
        {
          "output_type": "execute_result",
          "data": {
            "text/plain": [
              "<matplotlib.collections.PathCollection at 0x7f1b249cc1c0>"
            ]
          },
          "metadata": {},
          "execution_count": 72
        },
        {
          "output_type": "display_data",
          "data": {
            "text/plain": [
              "<Figure size 432x288 with 1 Axes>"
            ],
            "image/png": "[encoded data removed]"
          },
          "metadata": {
            "needs_background": "light"
          }
        }
      ]
    },
    {
      "cell_type": "markdown",
      "source": [
        "## Initialisation des poids du modèle linéaire au hasard (ici entre 0 et 1)"
      ],
      "metadata": {
        "id": "g0yNu3jdM7IN"
      }
    },
    {
      "cell_type": "code",
      "source": [
        "W = np.random.rand(3)"
      ],
      "metadata": {
        "id": "VoM5xHBOdjiv"
      },
      "execution_count": null,
      "outputs": []
    },
    {
      "cell_type": "code",
      "source": [
        "W"
      ],
      "metadata": {
        "colab": {
          "base_uri": "https://localhost:8080/"
        },
        "id": "AZUHbBBvefxh",
        "outputId": "42c0d9cb-cc99-4971-ecff-851fb19f075b"
      },
      "execution_count": null,
      "outputs": [
        {
          "output_type": "execute_result",
          "data": {
            "text/plain": [
              "array([0.53018173, 0.73580348, 0.84360726])"
            ]
          },
          "metadata": {},
          "execution_count": 74
        }
      ]
    },
    {
      "cell_type": "markdown",
      "source": [
        "## Entrainement du modèle linéaire avec la règle de Rosenblatt"
      ],
      "metadata": {
        "id": "4ZrZOrfDNBjF"
      }
    },
    {
      "cell_type": "code",
      "source": [
        "from operator import matmul\n",
        "for _ in range(10000):\n",
        "  k = np.random.randint(0, len(labels))\n",
        "  Yk = labels[k]\n",
        "  Xk = np.array([1, points[k][0], points[k][1]])\n",
        "  signal = np.matmul(W, Xk)\n",
        "  gXk = 1.0 if np.squeeze(np.matmul(W.T, Xk)) >= 0 else 0.0\n",
        "  W = W + 0.01 * (Yk - gXk) * Xk"
      ],
      "metadata": {
        "id": "n_Ezcmd-eiBs"
      },
      "execution_count": null,
      "outputs": []
    },
    {
      "cell_type": "markdown",
      "source": [
        "##Interrogation du modèle sur tout le reste de l'espace d'entrée"
      ],
      "metadata": {
        "id": "rpAEnVxdNHyX"
      }
    },
    {
      "cell_type": "code",
      "source": [
        "predicted_labels = []\n",
        "predicted_x1 = []\n",
        "predicted_x2 = []\n",
        "for x1 in range(0, 100):\n",
        "  for x2 in range(0, 100):\n",
        "    predicted_x1.append(x1/100)\n",
        "    predicted_x2.append(x2/100)\n",
        "    predicted_labels.append('pink' if x1/100 * W[1] + x2/100 * W[2] + W[0] >= 0 else 'lightskyblue')"
      ],
      "metadata": {
        "id": "EFepm6f6fqKF"
      },
      "execution_count": null,
      "outputs": []
    },
    {
      "cell_type": "markdown",
      "source": [
        "## Affichage des prédictions sur le reste des entrées pour visualiser la séparation linéaire"
      ],
      "metadata": {
        "id": "eju7nPFXNNhP"
      }
    },
    {
      "cell_type": "code",
      "source": [
        "plt.scatter(predicted_x1, predicted_x2, c=predicted_labels)\n",
        "plt.scatter(points[:, 0], points[:, 1], c=colors)\n",
        "plt.show()"
      ],
      "metadata": {
        "colab": {
          "base_uri": "https://localhost:8080/"
        },
        "id": "FIkhsfYZDpeW",
        "outputId": "3bd64d89-7006-4dd8-fc5e-fd0cf4eaccc2"
      },
      "execution_count": null,
      "outputs": [
        {
          "output_type": "display_data",
          "data": {
            "text/plain": [
              "<Figure size 432x288 with 1 Axes>"
            ],
            "image/png": "[encoded data removed]"
          },
          "metadata": {
            "needs_background": "light"
          }
        }
      ]
    },
    {
      "cell_type": "markdown",
      "source": [
        "# Definition d'un PMC"
      ],
      "metadata": {
        "id": "T2e-xOI7dJXH"
      }
    },
    {
      "cell_type": "code",
      "source": [
        "from typing import List"
      ],
      "metadata": {
        "id": "BM3JuaVSgFiV"
      },
      "execution_count": null,
      "outputs": []
    },
    {
      "cell_type": "code",
      "source": [
        "class MyMLP:\n",
        "  # Constructeur\n",
        "  # npl : Neurons Per Layer - représentant la structure du PMC choisie par l'utilisateur \n",
        "  # (nombre d'entrées, nombre de neurones par couches cachées, nombre de sorties)\n",
        "  def __init__(self, npl: List[int]):\n",
        "    self.d = npl\n",
        "    self.L = len(npl) - 1\n",
        "    self.W = []\n",
        "\n",
        "    # Initialisation des poids du modèles entre -1 et 1 (sauf pour les poids inutiles que l'on laissera à 0)\n",
        "    for l in range(self.L + 1):\n",
        "      self.W.append([])\n",
        "\n",
        "      if l == 0:\n",
        "        continue\n",
        "      for i in range(npl[l - 1] + 1):\n",
        "        self.W[l].append([])\n",
        "        for j in range(npl[l] + 1):\n",
        "          self.W[l][i].append(0.0 if j == 0 else np.random.uniform(-1.0, 1.0))\n",
        "    \n",
        "    # Création de l'espace mémoire pour 'stocker' plus tard les valeurs de sorties de chaque neurone\n",
        "    self.X = []\n",
        "    for l in range(self.L + 1):\n",
        "      self.X.append([])\n",
        "      for j in range(npl[l] + 1):\n",
        "        self.X[l].append(1.0 if j == 0 else 0.0)\n",
        "\n",
        "    # Création de l'espace mémoire pour 'stocker' plus tard les semi-gradient associés à chaque neurone\n",
        "    self.deltas = []\n",
        "    for l in range(self.L + 1):\n",
        "      self.deltas.append([])\n",
        "      for j in range(npl[l] + 1):\n",
        "        self.deltas[l].append(0.0)\n",
        "\n",
        "  # Propagation et mise à jour des valeurs de sorties de chaque neurone à partir des entrées d'un exemple\n",
        "  def _propagate(self, inputs: List[float], is_classification: bool):\n",
        "    # copie des entrées dans la 'couche d'entrée' du modèle\n",
        "    for j in range(self.d[0]): \n",
        "      self.X[0][j + 1] = inputs[j]\n",
        "    \n",
        "    # mise à jour récursive des valeurs de sorties des neurones, couche après couche\n",
        "    for l in range(1, self.L + 1):\n",
        "      for j in range(1, self.d[l] + 1):\n",
        "        total = 0.0\n",
        "        for i in range(0, self.d[l - 1] + 1):\n",
        "          total += self.W[l][i][j] * self.X[l - 1][i]\n",
        "        \n",
        "        if l < self.L or is_classification:\n",
        "          total = np.tanh(total)\n",
        "        \n",
        "        self.X[l][j] = total\n",
        "\n",
        "  # Méthode à utiliser pour interroger le modèle (inférence)\n",
        "  def predict(self, inputs: List[float], is_classification: bool):\n",
        "    self._propagate(inputs, is_classification)\n",
        "    return self.X[self.L][1:]\n",
        "\n",
        "  # Méthode à utiliser pour entrainer le modèle à partir d'un dataset étiqueté\n",
        "  def train(self, all_samples_inputs: List[List[float]], all_samples_expected_outputs: List[List[float]],\n",
        "            is_classification: bool, iteration_count: int, alpha: float):\n",
        "    # Pour un certain nombre d'itération\n",
        "    for it in range(iteration_count):\n",
        "      # Choix d'un exemple étiqueté au hasard dans le dataset\n",
        "      k = np.random.randint(0, len(all_samples_inputs))\n",
        "      inputs_k = all_samples_inputs[k]\n",
        "      y_k = all_samples_expected_outputs[k]\n",
        "\n",
        "      # Mise à jour des valeurs de sorties des neurones du modèle à partir des entrées de l'exemple sélectionné\n",
        "      self._propagate(inputs_k, is_classification)\n",
        "\n",
        "      # Calcul des semi gradients des neurones de la dernière couche\n",
        "      for j in range(1, self.d[self.L] + 1):\n",
        "        self.deltas[self.L][j] = (self.X[self.L][j] - y_k[j - 1])\n",
        "        if is_classification:\n",
        "          self.deltas[self.L][j] *= (1 - self.X[self.L][j] ** 2)\n",
        "\n",
        "      # Calcul de manière récursive des semi gradients des neurones des couches précédentes\n",
        "      for l in reversed(range(1, self.L + 1)):\n",
        "        for i in range(1, self.d[l - 1] + 1):\n",
        "          total = 0.0\n",
        "          for j in range(1, self.d[l] + 1):\n",
        "            total += self.W[l][i][j] * self.deltas[l][j]\n",
        "          self.deltas[l-1][i] = (1 - self.X[l-1][i] ** 2) * total\n",
        "\n",
        "      # Correction des poids du modèle\n",
        "      for l in range(1, self.L + 1):\n",
        "        for i in range(0, self.d[l - 1] + 1):\n",
        "          for j in range(1, self.d[l] + 1):\n",
        "            self.W[l][i][j] -= alpha * self.X[l - 1][i] * self.deltas[l][j]"
      ],
      "metadata": {
        "id": "tzU6EIS1dWfM"
      },
      "execution_count": null,
      "outputs": []
    },
    {
      "cell_type": "markdown",
      "source": [
        "# Classification Linéaire avec un PMC (sans couche cachée)"
      ],
      "metadata": {
        "id": "5OtnWALNnHVM"
      }
    },
    {
      "cell_type": "code",
      "source": [
        "test_1_all_samples_inputs = [\n",
        "    [0, 0],\n",
        "    [0, 1],\n",
        "    [1, 0]\n",
        "]\n",
        "test_1_all_samples_expected_outputs = [\n",
        "    [1],\n",
        "    [-1],\n",
        "    [-1]\n",
        "]"
      ],
      "metadata": {
        "id": "3pz6tnmjnHVM"
      },
      "execution_count": null,
      "outputs": []
    },
    {
      "cell_type": "code",
      "source": [
        "test1_mlp = MyMLP([2, 1])"
      ],
      "metadata": {
        "id": "jwypqauKnHVM"
      },
      "execution_count": null,
      "outputs": []
    },
    {
      "cell_type": "code",
      "source": [
        "for sample_inputs in test_1_all_samples_inputs:\n",
        "  print(test1_mlp.predict(sample_inputs, True))"
      ],
      "metadata": {
        "colab": {
          "base_uri": "https://localhost:8080/"
        },
        "outputId": "e05d49dd-f577-49d3-e814-cab0634ccb5c",
        "id": "xJke5OVUnHVM"
      },
      "execution_count": null,
      "outputs": [
        {
          "output_type": "stream",
          "name": "stdout",
          "text": [
            "[0.19854860472983002]\n",
            "[0.8147933384679242]\n",
            "[0.611574372939876]\n"
          ]
        }
      ]
    },
    {
      "cell_type": "code",
      "source": [
        "test1_mlp.train(test_1_all_samples_inputs, test_1_all_samples_expected_outputs, True, 100000, 0.01)"
      ],
      "metadata": {
        "id": "ZFe5l2IhnHVM"
      },
      "execution_count": null,
      "outputs": []
    },
    {
      "cell_type": "code",
      "source": [
        "for sample_inputs in test_1_all_samples_inputs:\n",
        "  print(test1_mlp.predict(sample_inputs, True))"
      ],
      "metadata": {
        "colab": {
          "base_uri": "https://localhost:8080/"
        },
        "outputId": "98e77441-8551-4ced-9e8a-b0585503ce8f",
        "id": "VmCw53eLnHVM"
      },
      "execution_count": null,
      "outputs": [
        {
          "output_type": "stream",
          "name": "stdout",
          "text": [
            "[0.9548135202945885]\n",
            "[-0.9716046796330355]\n",
            "[-0.9715893811409624]\n"
          ]
        }
      ]
    },
    {
      "cell_type": "markdown",
      "source": [
        "# Classification Non Linéaire (XOR) avec un PMC"
      ],
      "metadata": {
        "id": "18c79y0UnZ-W"
      }
    },
    {
      "cell_type": "code",
      "source": [
        "test_2_all_samples_inputs = [\n",
        "    [0, 0],\n",
        "    [0, 1],\n",
        "    [1, 0],\n",
        "    [1, 1]\n",
        "]\n",
        "test_2_all_samples_expected_outputs = [\n",
        "    [-1],\n",
        "    [1],\n",
        "    [1],\n",
        "    [-1]\n",
        "]"
      ],
      "metadata": {
        "id": "qbui-EklnbrR"
      },
      "execution_count": null,
      "outputs": []
    },
    {
      "cell_type": "code",
      "source": [
        "test2_mlp = MyMLP([2, 2, 1])"
      ],
      "metadata": {
        "id": "zlss41NnnlYS"
      },
      "execution_count": null,
      "outputs": []
    },
    {
      "cell_type": "code",
      "source": [
        "for sample_inputs in test_2_all_samples_inputs:\n",
        "  print(test2_mlp.predict(sample_inputs, True))"
      ],
      "metadata": {
        "colab": {
          "base_uri": "https://localhost:8080/"
        },
        "id": "XBzQhW8PnpcL",
        "outputId": "6a764d82-85d5-4470-b15a-4ad83e730b99"
      },
      "execution_count": null,
      "outputs": [
        {
          "output_type": "stream",
          "name": "stdout",
          "text": [
            "[0.5660343223590687]\n",
            "[-0.075010878135399]\n",
            "[-0.0951304805861134]\n",
            "[-0.5107276023165531]\n"
          ]
        }
      ]
    },
    {
      "cell_type": "code",
      "source": [
        "test2_mlp.train(test_2_all_samples_inputs, test_2_all_samples_expected_outputs, True, 100000, 0.01)"
      ],
      "metadata": {
        "id": "Nhyq54evntaC"
      },
      "execution_count": null,
      "outputs": []
    },
    {
      "cell_type": "code",
      "source": [
        "for sample_inputs in test_2_all_samples_inputs:\n",
        "  print(test2_mlp.predict(sample_inputs, True))"
      ],
      "metadata": {
        "colab": {
          "base_uri": "https://localhost:8080/"
        },
        "id": "b4RpmdxLnucc",
        "outputId": "eb48c2e6-002a-4332-9eb7-d041a15711b2"
      },
      "execution_count": null,
      "outputs": [
        {
          "output_type": "stream",
          "name": "stdout",
          "text": [
            "[-0.9792184154917847]\n",
            "[0.9752548017156218]\n",
            "[0.9743861713999539]\n",
            "[-0.9817632335679124]\n"
          ]
        }
      ]
    },
    {
      "cell_type": "markdown",
      "source": [
        "# Régression Linéaire avec un PMC (sans couche cachée)"
      ],
      "metadata": {
        "id": "uEA9x5auoG2i"
      }
    },
    {
      "cell_type": "code",
      "source": [
        "test_3_all_samples_inputs = [\n",
        "    [0, 0],\n",
        "    [0, 1],\n",
        "    [1, 0]\n",
        "]\n",
        "test_3_all_samples_expected_outputs = [\n",
        "    [42],\n",
        "    [51],\n",
        "    [19]\n",
        "]"
      ],
      "metadata": {
        "id": "HoiC150koFVw"
      },
      "execution_count": null,
      "outputs": []
    },
    {
      "cell_type": "code",
      "source": [
        "test3_mlp = MyMLP([2, 1])"
      ],
      "metadata": {
        "id": "S0jFnnckoXz0"
      },
      "execution_count": null,
      "outputs": []
    },
    {
      "cell_type": "code",
      "source": [
        "for sample_inputs in test_3_all_samples_inputs:\n",
        "  print(test3_mlp.predict(sample_inputs, False))"
      ],
      "metadata": {
        "colab": {
          "base_uri": "https://localhost:8080/"
        },
        "id": "pt95wac3okJA",
        "outputId": "8ca71b76-4e58-4c83-a187-cb2eea3f6d93"
      },
      "execution_count": null,
      "outputs": [
        {
          "output_type": "stream",
          "name": "stdout",
          "text": [
            "[-0.4628262939221668]\n",
            "[-0.7055432287378138]\n",
            "[0.3956549819643127]\n"
          ]
        }
      ]
    },
    {
      "cell_type": "code",
      "source": [
        "test3_mlp.train(test_3_all_samples_inputs, test_3_all_samples_expected_outputs, False, 100000, 0.01)"
      ],
      "metadata": {
        "id": "Pbjla01fonL4"
      },
      "execution_count": null,
      "outputs": []
    },
    {
      "cell_type": "code",
      "source": [
        "for sample_inputs in test_3_all_samples_inputs:\n",
        "  print(test3_mlp.predict(sample_inputs, False))"
      ],
      "metadata": {
        "colab": {
          "base_uri": "https://localhost:8080/"
        },
        "id": "j9nIAUpoor5M",
        "outputId": "5632396e-1d6c-48a4-c0f5-3085d30979f8"
      },
      "execution_count": null,
      "outputs": [
        {
          "output_type": "stream",
          "name": "stdout",
          "text": [
            "[41.999999999999645]\n",
            "[51.000000000000085]\n",
            "[19.000000000000178]\n"
          ]
        }
      ]
    },
    {
      "cell_type": "markdown",
      "source": [
        "# Régression Non Linéaire avec un PMC"
      ],
      "metadata": {
        "id": "WGvrDVSnpR0N"
      }
    },
    {
      "cell_type": "code",
      "source": [
        "test_4_all_samples_inputs = [\n",
        "    [0, 0],\n",
        "    [0, 1],\n",
        "    [1, 0],\n",
        "    [1, 1],\n",
        "]\n",
        "test_4_all_samples_expected_outputs = [\n",
        "    [42],\n",
        "    [51],\n",
        "    [19],\n",
        "    [5],\n",
        "]"
      ],
      "metadata": {
        "id": "Qxy5bFwVotcF"
      },
      "execution_count": null,
      "outputs": []
    },
    {
      "cell_type": "code",
      "source": [
        "test4_mlp = MyMLP([2, 5, 1])"
      ],
      "metadata": {
        "id": "_tZl5MvtpVeS"
      },
      "execution_count": null,
      "outputs": []
    },
    {
      "cell_type": "code",
      "source": [
        "for sample_inputs in test_4_all_samples_inputs:\n",
        "  print(test4_mlp.predict(sample_inputs, False))"
      ],
      "metadata": {
        "colab": {
          "base_uri": "https://localhost:8080/"
        },
        "id": "soZOXrC2pd9_",
        "outputId": "160ab9c0-5e9f-4ef5-e30f-2949ba7e691c"
      },
      "execution_count": null,
      "outputs": [
        {
          "output_type": "stream",
          "name": "stdout",
          "text": [
            "[0.3958294010127158]\n",
            "[-0.13812786254329584]\n",
            "[0.8295645112511555]\n",
            "[0.4765698830536045]\n"
          ]
        }
      ]
    },
    {
      "cell_type": "code",
      "source": [
        "test4_mlp.train(test_4_all_samples_inputs, test_4_all_samples_expected_outputs, False, 100000, 0.01)"
      ],
      "metadata": {
        "id": "bBI7mBRApZbs"
      },
      "execution_count": null,
      "outputs": []
    },
    {
      "cell_type": "code",
      "source": [
        "for sample_inputs in test_4_all_samples_inputs:\n",
        "  print(test4_mlp.predict(sample_inputs, False))"
      ],
      "metadata": {
        "colab": {
          "base_uri": "https://localhost:8080/"
        },
        "id": "rEk0jSr9pb0m",
        "outputId": "1885f2c9-18aa-47bc-d8a5-32720bd47d37"
      },
      "execution_count": null,
      "outputs": [
        {
          "output_type": "stream",
          "name": "stdout",
          "text": [
            "[41.999999999999744]\n",
            "[50.99999999999999]\n",
            "[18.999999999999993]\n",
            "[4.9999999999999964]\n"
          ]
        }
      ]
    },
    {
      "cell_type": "code",
      "source": [],
      "metadata": {
        "id": "07LKh88GpiKX"
      },
      "execution_count": null,
      "outputs": []
    }
  ]
}