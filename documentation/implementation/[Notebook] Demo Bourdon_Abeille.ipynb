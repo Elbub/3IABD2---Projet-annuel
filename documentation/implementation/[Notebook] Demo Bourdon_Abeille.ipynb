{
  "nbformat": 4,
  "nbformat_minor": 0,
  "metadata": {
    "colab": {
      "provenance": []
    },
    "kernelspec": {
      "name": "python3",
      "display_name": "Python 3"
    },
    "language_info": {
      "name": "python"
    },
    "accelerator": "GPU",
    "gpuClass": "standard"
  },
  "cells": [
    {
      "cell_type": "code",
      "execution_count": null,
      "metadata": {
        "id": "n26GgwsgGuWB"
      },
      "outputs": [],
      "source": [
        "import tensorflow as tf"
      ]
    },
    {
      "cell_type": "code",
      "source": [
        "image_gen = tf.keras.preprocessing.image.ImageDataGenerator(rescale=1/255.0)"
      ],
      "metadata": {
        "id": "y0HoRaxhHWkG"
      },
      "execution_count": null,
      "outputs": []
    },
    {
      "cell_type": "code",
      "source": [
        "training_set = image_gen.flow_from_directory(\"/content/drive/MyDrive/2023/3A/IABD2/Dataset/Train\",\n",
        "                                             class_mode='binary',\n",
        "                                             target_size=(16, 16))"
      ],
      "metadata": {
        "colab": {
          "base_uri": "https://localhost:8080/"
        },
        "id": "fN3fbB38HZcy",
        "outputId": "cdc02220-36ea-4b55-f073-d22373574228"
      },
      "execution_count": null,
      "outputs": [
        {
          "output_type": "stream",
          "name": "stdout",
          "text": [
            "Found 20 images belonging to 2 classes.\n"
          ]
        }
      ]
    },
    {
      "cell_type": "code",
      "source": [
        "test_set = image_gen.flow_from_directory(\"/content/drive/MyDrive/2023/3A/IABD2/Dataset/Test\",\n",
        "                                         class_mode='binary',\n",
        "                                         target_size=(16, 16))"
      ],
      "metadata": {
        "colab": {
          "base_uri": "https://localhost:8080/"
        },
        "id": "mtaV0SqQIEG7",
        "outputId": "c0522480-c897-4422-870f-c59af8ef7f32"
      },
      "execution_count": null,
      "outputs": [
        {
          "output_type": "stream",
          "name": "stdout",
          "text": [
            "Found 10 images belonging to 2 classes.\n"
          ]
        }
      ]
    },
    {
      "cell_type": "code",
      "source": [
        "model = tf.keras.models.Sequential()"
      ],
      "metadata": {
        "id": "MFKyZjMbILGX"
      },
      "execution_count": null,
      "outputs": []
    },
    {
      "cell_type": "code",
      "source": [
        "\n",
        "model.add(tf.keras.layers.RandomRotation(0.1))\n",
        "model.add(tf.keras.layers.RandomFlip())\n",
        "model.add(tf.keras.layers.Flatten())\n",
        "model.add(tf.keras.layers.Dense(1, activation=tf.keras.activations.sigmoid))"
      ],
      "metadata": {
        "id": "KdApgVlZIQaa"
      },
      "execution_count": null,
      "outputs": []
    },
    {
      "cell_type": "code",
      "source": [
        "model.compile(loss=tf.keras.losses.mse,\n",
        "              metrics=[tf.keras.metrics.binary_accuracy],\n",
        "              optimizer=tf.keras.optimizers.SGD(0.03))"
      ],
      "metadata": {
        "id": "TzRR4fFqKN35"
      },
      "execution_count": null,
      "outputs": []
    },
    {
      "cell_type": "code",
      "source": [
        "training_history = model.fit(training_set, validation_data=test_set, epochs=50)"
      ],
      "metadata": {
        "colab": {
          "base_uri": "https://localhost:8080/"
        },
        "id": "H5BfIy9aJxyu",
        "outputId": "a630e33b-1274-4395-8ec8-3b621f7af77b"
      },
      "execution_count": null,
      "outputs": [
        {
          "output_type": "stream",
          "name": "stdout",
          "text": [
            "Epoch 1/50\n"
          ]
        },
        {
          "output_type": "stream",
          "name": "stderr",
          "text": [
            "WARNING:tensorflow:Using a while_loop for converting RngReadAndSkip cause there is no registered converter for this op.\n",
            "WARNING:tensorflow:Using a while_loop for converting Bitcast cause there is no registered converter for this op.\n",
            "WARNING:tensorflow:Using a while_loop for converting Bitcast cause there is no registered converter for this op.\n",
            "WARNING:tensorflow:Using a while_loop for converting StatelessRandomUniformV2 cause there is no registered converter for this op.\n",
            "WARNING:tensorflow:Using a while_loop for converting ImageProjectiveTransformV3 cause there is no registered converter for this op.\n",
            "WARNING:tensorflow:Using a while_loop for converting RngReadAndSkip cause there is no registered converter for this op.\n",
            "WARNING:tensorflow:Using a while_loop for converting Bitcast cause there is no registered converter for this op.\n",
            "WARNING:tensorflow:Using a while_loop for converting Bitcast cause there is no registered converter for this op.\n",
            "WARNING:tensorflow:Using a while_loop for converting StatelessRandomUniformV2 cause there is no registered converter for this op.\n",
            "WARNING:tensorflow:Using a while_loop for converting ImageProjectiveTransformV3 cause there is no registered converter for this op.\n",
            "WARNING:tensorflow:Using a while_loop for converting RngReadAndSkip cause there is no registered converter for this op.\n",
            "WARNING:tensorflow:Using a while_loop for converting Bitcast cause there is no registered converter for this op.\n",
            "WARNING:tensorflow:Using a while_loop for converting Bitcast cause there is no registered converter for this op.\n",
            "WARNING:tensorflow:Using a while_loop for converting StatelessRandomUniformV2 cause there is no registered converter for this op.\n",
            "WARNING:tensorflow:Using a while_loop for converting ImageProjectiveTransformV3 cause there is no registered converter for this op.\n"
          ]
        },
        {
          "output_type": "stream",
          "name": "stdout",
          "text": [
            "1/1 [==============================] - 4s 4s/step - loss: 0.2496 - binary_accuracy: 0.6000 - val_loss: 0.2834 - val_binary_accuracy: 0.5000\n",
            "Epoch 2/50\n",
            "1/1 [==============================] - 1s 852ms/step - loss: 0.2676 - binary_accuracy: 0.5000 - val_loss: 0.2804 - val_binary_accuracy: 0.5000\n",
            "Epoch 3/50\n",
            "1/1 [==============================] - 1s 835ms/step - loss: 0.2379 - binary_accuracy: 0.6000 - val_loss: 0.2787 - val_binary_accuracy: 0.5000\n",
            "Epoch 4/50\n",
            "1/1 [==============================] - 1s 945ms/step - loss: 0.2289 - binary_accuracy: 0.6000 - val_loss: 0.2769 - val_binary_accuracy: 0.5000\n",
            "Epoch 5/50\n",
            "1/1 [==============================] - 1s 826ms/step - loss: 0.2194 - binary_accuracy: 0.7000 - val_loss: 0.2763 - val_binary_accuracy: 0.5000\n",
            "Epoch 6/50\n",
            "1/1 [==============================] - 1s 837ms/step - loss: 0.2306 - binary_accuracy: 0.6000 - val_loss: 0.2751 - val_binary_accuracy: 0.5000\n",
            "Epoch 7/50\n",
            "1/1 [==============================] - 1s 852ms/step - loss: 0.2302 - binary_accuracy: 0.5500 - val_loss: 0.2752 - val_binary_accuracy: 0.5000\n",
            "Epoch 8/50\n",
            "1/1 [==============================] - 1s 1s/step - loss: 0.2266 - binary_accuracy: 0.6500 - val_loss: 0.2739 - val_binary_accuracy: 0.5000\n",
            "Epoch 9/50\n",
            "1/1 [==============================] - 1s 1s/step - loss: 0.2116 - binary_accuracy: 0.6500 - val_loss: 0.2728 - val_binary_accuracy: 0.5000\n",
            "Epoch 10/50\n",
            "1/1 [==============================] - 1s 1s/step - loss: 0.2175 - binary_accuracy: 0.7000 - val_loss: 0.2708 - val_binary_accuracy: 0.5000\n",
            "Epoch 11/50\n",
            "1/1 [==============================] - 1s 950ms/step - loss: 0.2240 - binary_accuracy: 0.5000 - val_loss: 0.2711 - val_binary_accuracy: 0.5000\n",
            "Epoch 12/50\n",
            "1/1 [==============================] - 1s 823ms/step - loss: 0.2155 - binary_accuracy: 0.6000 - val_loss: 0.2698 - val_binary_accuracy: 0.5000\n",
            "Epoch 13/50\n",
            "1/1 [==============================] - 1s 827ms/step - loss: 0.2118 - binary_accuracy: 0.7500 - val_loss: 0.2697 - val_binary_accuracy: 0.5000\n",
            "Epoch 14/50\n",
            "1/1 [==============================] - 1s 818ms/step - loss: 0.2185 - binary_accuracy: 0.5500 - val_loss: 0.2691 - val_binary_accuracy: 0.5000\n",
            "Epoch 15/50\n",
            "1/1 [==============================] - 1s 852ms/step - loss: 0.2046 - binary_accuracy: 0.8000 - val_loss: 0.2688 - val_binary_accuracy: 0.5000\n",
            "Epoch 16/50\n",
            "1/1 [==============================] - 1s 848ms/step - loss: 0.2195 - binary_accuracy: 0.7500 - val_loss: 0.2680 - val_binary_accuracy: 0.5000\n",
            "Epoch 17/50\n",
            "1/1 [==============================] - 1s 836ms/step - loss: 0.2164 - binary_accuracy: 0.7000 - val_loss: 0.2677 - val_binary_accuracy: 0.5000\n",
            "Epoch 18/50\n",
            "1/1 [==============================] - 1s 808ms/step - loss: 0.2177 - binary_accuracy: 0.6500 - val_loss: 0.2667 - val_binary_accuracy: 0.5000\n",
            "Epoch 19/50\n",
            "1/1 [==============================] - 1s 844ms/step - loss: 0.2043 - binary_accuracy: 0.6000 - val_loss: 0.2670 - val_binary_accuracy: 0.5000\n",
            "Epoch 20/50\n",
            "1/1 [==============================] - 1s 817ms/step - loss: 0.2054 - binary_accuracy: 0.7500 - val_loss: 0.2672 - val_binary_accuracy: 0.5000\n",
            "Epoch 21/50\n",
            "1/1 [==============================] - 1s 812ms/step - loss: 0.2165 - binary_accuracy: 0.6500 - val_loss: 0.2659 - val_binary_accuracy: 0.5000\n",
            "Epoch 22/50\n",
            "1/1 [==============================] - 1s 1s/step - loss: 0.2030 - binary_accuracy: 0.6000 - val_loss: 0.2657 - val_binary_accuracy: 0.5000\n",
            "Epoch 23/50\n",
            "1/1 [==============================] - 1s 1s/step - loss: 0.2185 - binary_accuracy: 0.8000 - val_loss: 0.2659 - val_binary_accuracy: 0.5000\n",
            "Epoch 24/50\n",
            "1/1 [==============================] - 1s 1s/step - loss: 0.2164 - binary_accuracy: 0.6000 - val_loss: 0.2649 - val_binary_accuracy: 0.6000\n",
            "Epoch 25/50\n",
            "1/1 [==============================] - 1s 836ms/step - loss: 0.2038 - binary_accuracy: 0.6500 - val_loss: 0.2647 - val_binary_accuracy: 0.5000\n",
            "Epoch 26/50\n",
            "1/1 [==============================] - 1s 819ms/step - loss: 0.2009 - binary_accuracy: 0.7000 - val_loss: 0.2643 - val_binary_accuracy: 0.6000\n",
            "Epoch 27/50\n",
            "1/1 [==============================] - 1s 825ms/step - loss: 0.2191 - binary_accuracy: 0.7000 - val_loss: 0.2638 - val_binary_accuracy: 0.5000\n",
            "Epoch 28/50\n",
            "1/1 [==============================] - 1s 838ms/step - loss: 0.1996 - binary_accuracy: 0.8000 - val_loss: 0.2636 - val_binary_accuracy: 0.5000\n",
            "Epoch 29/50\n",
            "1/1 [==============================] - 1s 849ms/step - loss: 0.2057 - binary_accuracy: 0.6500 - val_loss: 0.2632 - val_binary_accuracy: 0.5000\n",
            "Epoch 30/50\n",
            "1/1 [==============================] - 1s 825ms/step - loss: 0.1943 - binary_accuracy: 0.7500 - val_loss: 0.2627 - val_binary_accuracy: 0.6000\n",
            "Epoch 31/50\n",
            "1/1 [==============================] - 1s 868ms/step - loss: 0.1908 - binary_accuracy: 0.7500 - val_loss: 0.2626 - val_binary_accuracy: 0.5000\n",
            "Epoch 32/50\n",
            "1/1 [==============================] - 1s 837ms/step - loss: 0.2018 - binary_accuracy: 0.8000 - val_loss: 0.2625 - val_binary_accuracy: 0.6000\n",
            "Epoch 33/50\n",
            "1/1 [==============================] - 1s 821ms/step - loss: 0.1871 - binary_accuracy: 0.7000 - val_loss: 0.2628 - val_binary_accuracy: 0.5000\n",
            "Epoch 34/50\n",
            "1/1 [==============================] - 1s 805ms/step - loss: 0.1845 - binary_accuracy: 0.7000 - val_loss: 0.2628 - val_binary_accuracy: 0.6000\n",
            "Epoch 35/50\n",
            "1/1 [==============================] - 1s 1s/step - loss: 0.1839 - binary_accuracy: 0.7500 - val_loss: 0.2630 - val_binary_accuracy: 0.5000\n",
            "Epoch 36/50\n",
            "1/1 [==============================] - 1s 1s/step - loss: 0.2030 - binary_accuracy: 0.7500 - val_loss: 0.2630 - val_binary_accuracy: 0.7000\n",
            "Epoch 37/50\n",
            "1/1 [==============================] - 1s 856ms/step - loss: 0.1858 - binary_accuracy: 0.8000 - val_loss: 0.2628 - val_binary_accuracy: 0.6000\n",
            "Epoch 38/50\n",
            "1/1 [==============================] - 1s 792ms/step - loss: 0.2200 - binary_accuracy: 0.6500 - val_loss: 0.2625 - val_binary_accuracy: 0.7000\n",
            "Epoch 39/50\n",
            "1/1 [==============================] - 1s 861ms/step - loss: 0.1998 - binary_accuracy: 0.8000 - val_loss: 0.2621 - val_binary_accuracy: 0.7000\n",
            "Epoch 40/50\n",
            "1/1 [==============================] - 1s 826ms/step - loss: 0.1850 - binary_accuracy: 0.7500 - val_loss: 0.2619 - val_binary_accuracy: 0.6000\n",
            "Epoch 41/50\n",
            "1/1 [==============================] - 1s 853ms/step - loss: 0.1908 - binary_accuracy: 0.6500 - val_loss: 0.2631 - val_binary_accuracy: 0.7000\n",
            "Epoch 42/50\n",
            "1/1 [==============================] - 1s 882ms/step - loss: 0.1993 - binary_accuracy: 0.8000 - val_loss: 0.2617 - val_binary_accuracy: 0.7000\n",
            "Epoch 43/50\n",
            "1/1 [==============================] - 1s 810ms/step - loss: 0.1924 - binary_accuracy: 0.6500 - val_loss: 0.2619 - val_binary_accuracy: 0.7000\n",
            "Epoch 44/50\n",
            "1/1 [==============================] - 1s 856ms/step - loss: 0.1818 - binary_accuracy: 0.7500 - val_loss: 0.2618 - val_binary_accuracy: 0.5000\n",
            "Epoch 45/50\n",
            "1/1 [==============================] - 1s 829ms/step - loss: 0.1818 - binary_accuracy: 0.7500 - val_loss: 0.2619 - val_binary_accuracy: 0.7000\n",
            "Epoch 46/50\n",
            "1/1 [==============================] - 1s 841ms/step - loss: 0.1891 - binary_accuracy: 0.7000 - val_loss: 0.2620 - val_binary_accuracy: 0.7000\n",
            "Epoch 47/50\n",
            "1/1 [==============================] - 1s 823ms/step - loss: 0.1820 - binary_accuracy: 0.7500 - val_loss: 0.2619 - val_binary_accuracy: 0.7000\n",
            "Epoch 48/50\n",
            "1/1 [==============================] - 1s 1s/step - loss: 0.1826 - binary_accuracy: 0.8000 - val_loss: 0.2622 - val_binary_accuracy: 0.7000\n",
            "Epoch 49/50\n",
            "1/1 [==============================] - 1s 1s/step - loss: 0.1789 - binary_accuracy: 0.7500 - val_loss: 0.2620 - val_binary_accuracy: 0.7000\n",
            "Epoch 50/50\n",
            "1/1 [==============================] - 1s 1s/step - loss: 0.1867 - binary_accuracy: 0.7000 - val_loss: 0.2613 - val_binary_accuracy: 0.7000\n"
          ]
        }
      ]
    },
    {
      "cell_type": "code",
      "source": [
        "import matplotlib.pyplot as plt"
      ],
      "metadata": {
        "id": "gYw3MrISJ42g"
      },
      "execution_count": null,
      "outputs": []
    },
    {
      "cell_type": "code",
      "source": [
        "plt.plot(training_history.history[\"loss\"], c=\"red\")\n",
        "plt.plot(training_history.history[\"val_loss\"], c=\"green\")\n",
        "plt.show()"
      ],
      "metadata": {
        "colab": {
          "base_uri": "https://localhost:8080/",
          "height": 265
        },
        "id": "YGD2exwdMfc0",
        "outputId": "e548f57c-3f15-4453-a5fd-aad5877c7f75"
      },
      "execution_count": null,
      "outputs": [
        {
          "output_type": "display_data",
          "data": {
            "text/plain": [
              "<Figure size 432x288 with 1 Axes>"
            ],
            "image/png": "[encoded data removed]"
          },
          "metadata": {
            "needs_background": "light"
          }
        }
      ]
    },
    {
      "cell_type": "code",
      "source": [
        "plt.plot(training_history.history[\"binary_accuracy\"], c=\"red\")\n",
        "plt.plot(training_history.history[\"val_binary_accuracy\"], c=\"green\")\n",
        "plt.show()"
      ],
      "metadata": {
        "colab": {
          "base_uri": "https://localhost:8080/",
          "height": 265
        },
        "id": "-IjKxDTJMpZi",
        "outputId": "fbaad1f6-3bd2-4aa2-c5b9-0401a51c9daf"
      },
      "execution_count": null,
      "outputs": [
        {
          "output_type": "display_data",
          "data": {
            "text/plain": [
              "<Figure size 432x288 with 1 Axes>"
            ],
            "image/png": "[encoded data removed]"
          },
          "metadata": {
            "needs_background": "light"
          }
        }
      ]
    },
    {
      "cell_type": "code",
      "source": [],
      "metadata": {
        "id": "Am-RRPHuMwLb"
      },
      "execution_count": null,
      "outputs": []
    }
  ]
}