{
 "cells": [
  {
   "cell_type": "code",
   "execution_count": 1,
   "metadata": {
    "collapsed": true
   },
   "outputs": [],
   "source": [
    "import numpy as np\n",
    "from PIL import Image\n",
    "import ctypes\n",
    "import matplotlib.pyplot as plt\n",
    "import random"
   ]
  },
  {
   "cell_type": "code",
   "execution_count": 2,
   "outputs": [],
   "source": [
    "asia = Image.open('test_images/asie/asia.jpg')\n",
    "greek = Image.open('test_images/greek/greek.jpg')\n",
    "chateau = Image.open('test_images/chateau/train_chateau.jpg')\n",
    "predict_asia = Image.open('test_images/asie/predict_asie.jpg')\n",
    "predict_greek = Image.open('test_images/greek/predict_grec.jpg')\n",
    "predict_chateau = Image.open('test_images/chateau/predict_chateau.jpg')"
   ],
   "metadata": {
    "collapsed": false
   }
  },
  {
   "cell_type": "code",
   "execution_count": 3,
   "outputs": [],
   "source": [
    "newsize = (50,50)"
   ],
   "metadata": {
    "collapsed": false
   }
  },
  {
   "cell_type": "code",
   "execution_count": 4,
   "outputs": [],
   "source": [
    "asia_new_size = asia.resize(newsize)\n",
    "greek_new_size = greek.resize(newsize)\n",
    "chateau_new_size = chateau.resize(newsize)\n",
    "predict_asia_new_size = predict_asia.resize(newsize)\n",
    "predict_greek_new_size = predict_greek.resize(newsize)\n",
    "predict_chateau_new_size = predict_chateau.resize(newsize)"
   ],
   "metadata": {
    "collapsed": false
   }
  },
  {
   "cell_type": "code",
   "execution_count": 5,
   "outputs": [],
   "source": [
    "# asia_new_size.show()\n",
    "# greek_new_size.show()\n",
    "# chateau_new_size.show()"
   ],
   "metadata": {
    "collapsed": false
   }
  },
  {
   "cell_type": "code",
   "execution_count": 6,
   "outputs": [],
   "source": [
    "asia_data = np.asarray(asia_new_size)\n",
    "greek_data = np.asarray(greek_new_size)\n",
    "chateau_data = np.asarray(predict_chateau_new_size)\n",
    "predict_asia_data = np.asarray(predict_asia_new_size)\n",
    "predict_greek_data = np.asarray(predict_greek_new_size)\n",
    "predict_chateau_data = np.asarray(predict_chateau_new_size)\n",
    "\n",
    "X = np.array([asia_data, greek_data, chateau_data], dtype=ctypes.c_float)\n",
    "X_test = np.array([predict_asia_data, predict_greek_data, predict_chateau_data], dtype=ctypes.c_float)\n",
    "X_flat = X.flatten()\n",
    "X_flat = X_flat/255 * 2 - 1\n",
    "# w_array = w_array/255 * 2 - 1\n",
    "\n",
    "X_test_flat = X_test.flatten()\n",
    "X_test_flat = X_test_flat/255 * 2 - 1"
   ],
   "metadata": {
    "collapsed": false
   }
  },
  {
   "cell_type": "code",
   "execution_count": 7,
   "outputs": [
    {
     "name": "stdout",
     "output_type": "stream",
     "text": [
      "22500\n"
     ]
    }
   ],
   "source": [
    "print(len(X_flat))"
   ],
   "metadata": {
    "collapsed": false
   }
  },
  {
   "cell_type": "code",
   "execution_count": 8,
   "outputs": [
    {
     "name": "stdout",
     "output_type": "stream",
     "text": [
      "3\n"
     ]
    }
   ],
   "source": [
    "print(len(X))"
   ],
   "metadata": {
    "collapsed": false
   }
  },
  {
   "cell_type": "code",
   "execution_count": 9,
   "outputs": [
    {
     "name": "stdout",
     "output_type": "stream",
     "text": [
      "[ 1. -1. -1. -1.  1. -1. -1. -1.  1.]\n",
      "[ 1. -1. -1. -1.  1. -1. -1. -1.  1.]\n"
     ]
    }
   ],
   "source": [
    "Y = np.array([[1, -1, -1], [-1, 1, -1], [-1, -1, 1]], dtype=ctypes.c_float)\n",
    "Y_flat = Y.flatten()\n",
    "Y_test = np.array([[1, -1, -1], [-1, 1, -1], [-1, -1, 1]], dtype=ctypes.c_float)\n",
    "Y_test_flat = Y_test.flatten()\n",
    "print(Y_flat)\n",
    "print(Y_test_flat)"
   ],
   "metadata": {
    "collapsed": false
   }
  },
  {
   "cell_type": "code",
   "execution_count": 10,
   "outputs": [
    {
     "name": "stdout",
     "output_type": "stream",
     "text": [
      "3\n",
      "[7.5e+03 1.6e+01 3.0e+00]\n"
     ]
    }
   ],
   "source": [
    "my_lib = ctypes.CDLL(r\"..\\rust_lib\\target\\release\\rust_lib.dll\")\n",
    "\n",
    "my_lib.delete_float_array.argtypes = [\n",
    "    ctypes.POINTER(ctypes.c_float),\n",
    "    ctypes.c_int32,\n",
    "]\n",
    "\n",
    "my_lib.generate_random_mpl_w.argtypes = [ctypes.POINTER(ctypes.c_float), ctypes.c_int32]\n",
    "my_lib.generate_random_mpl_w.restype = ctypes.POINTER(ctypes.c_float)\n",
    "\n",
    "my_lib.delete_float_array.restype = None\n",
    "\n",
    "layers = np.array([len(X_flat)/len(X), 16, 3], dtype=ctypes.c_float)\n",
    "LP_c_float = ctypes.POINTER(ctypes.c_float)\n",
    "layers_pmc = (ctypes.c_float * len(layers))(*layers)\n",
    "layers_ptr_pmc = ctypes.cast(layers_pmc, LP_c_float)\n",
    "\n",
    "print(len(layers_pmc))\n",
    "number_of_layers = len(layers_pmc)\n",
    "print(layers)"
   ],
   "metadata": {
    "collapsed": false
   }
  },
  {
   "cell_type": "code",
   "execution_count": 11,
   "outputs": [],
   "source": [
    "# w_array_ptr = my_lib.generate_random_mpl_w(layers_ptr_pmc, number_of_layers)\n",
    "# w_array = np.ctypeslib.as_array(w_array_ptr, ((7501*3,))) #3*16 + 17*16 + 17*3\n",
    "#\n",
    "# LP_c_float = ctypes.POINTER(ctypes.c_float)\n",
    "# x_to_predict = (ctypes.c_float * len(X_flat))(*X_flat)\n",
    "# x_to_predict_ptr = ctypes.cast(x_to_predict, LP_c_float)\n",
    "# LP_c_float = ctypes.POINTER(ctypes.c_float)\n",
    "# y_to_predict = (ctypes.c_float * len(Y_flat))(*Y_flat)\n",
    "# y_to_predict_ptr = ctypes.cast(y_to_predict, LP_c_float)\n",
    "# my_lib.multi_layer_perceptron_training.argtypes = [\n",
    "#     ctypes.POINTER(ctypes.c_float),\n",
    "#     ctypes.POINTER(ctypes.c_float),\n",
    "#     ctypes.POINTER(ctypes.c_float),\n",
    "#     ctypes.c_int32,\n",
    "#     ctypes.c_int32,\n",
    "#     ctypes.c_int32,\n",
    "#     ctypes.c_float,\n",
    "#     ctypes.c_int32,\n",
    "#     ctypes.POINTER(ctypes.c_float),\n",
    "#     ctypes.c_int32,\n",
    "#     ctypes.c_bool,\n",
    "# ]\n",
    "# my_lib.multi_layer_perceptron_training.restype = ctypes.POINTER(ctypes.c_float)"
   ],
   "metadata": {
    "collapsed": false
   }
  },
  {
   "cell_type": "code",
   "execution_count": 12,
   "outputs": [
    {
     "name": "stdout",
     "output_type": "stream",
     "text": [
      "[-0.3865404  -0.18745518  0.3504455  ... -0.9476168   0.39746308\n",
      "  0.09263635]\n"
     ]
    }
   ],
   "source": [
    "w_array_ptr = my_lib.generate_random_mpl_w(layers_ptr_pmc, number_of_layers)\n",
    "w_array = np.ctypeslib.as_array(w_array_ptr, (7501*16 + 17*3,)) #3*16 + 17*16 + 17*3\n",
    "print(w_array)\n",
    "LP_c_float = ctypes.POINTER(ctypes.c_float)\n",
    "x_to_predict = (ctypes.c_float * len(X_flat))(*X_flat)\n",
    "x_to_predict_ptr = ctypes.cast(x_to_predict, LP_c_float)\n",
    "LP_c_float = ctypes.POINTER(ctypes.c_float)\n",
    "y_to_predict = (ctypes.c_float * len(Y_flat))(*Y_flat)\n",
    "y_to_predict_ptr = ctypes.cast(y_to_predict, LP_c_float)\n",
    "\n",
    "LP_c_float = ctypes.POINTER(ctypes.c_float)\n",
    "x_to_predict_test = (ctypes.c_float * len(X_test_flat))(*X_test_flat)\n",
    "x_to_predict_test_ptr = ctypes.cast(x_to_predict_test, LP_c_float)\n",
    "LP_c_float = ctypes.POINTER(ctypes.c_float)\n",
    "y_to_predict_test = (ctypes.c_float * len(Y_test_flat))(*Y_test_flat)\n",
    "y_to_predict_test_ptr = ctypes.cast(y_to_predict_test, LP_c_float)\n",
    "\n",
    "my_lib.multi_layer_perceptron_accuracy.argtypes = [\n",
    "    ctypes.POINTER(ctypes.c_float),\n",
    "    ctypes.POINTER(ctypes.c_float),\n",
    "    ctypes.POINTER(ctypes.c_float),\n",
    "    ctypes.c_int32,\n",
    "    ctypes.POINTER(ctypes.c_float),\n",
    "    ctypes.POINTER(ctypes.c_float),\n",
    "    ctypes.c_int32,\n",
    "    ctypes.c_int32,\n",
    "    ctypes.c_int32,\n",
    "    ctypes.c_float,\n",
    "    ctypes.c_int32,\n",
    "    ctypes.c_int32,\n",
    "    ctypes.POINTER(ctypes.c_float),\n",
    "    ctypes.c_int32,\n",
    "    ctypes.c_bool,\n",
    "]\n",
    "my_lib.multi_layer_perceptron_accuracy.restype = ctypes.POINTER(ctypes.c_float)"
   ],
   "metadata": {
    "collapsed": false
   }
  },
  {
   "cell_type": "code",
   "execution_count": 13,
   "outputs": [
    {
     "name": "stdout",
     "output_type": "stream",
     "text": [
      "0.99997115\n",
      "-0.9999602\n",
      "-0.00239578985977875\n"
     ]
    }
   ],
   "source": [
    "print(max(w_array))\n",
    "print(min(w_array))\n",
    "print(sum(w_array)/len(w_array))"
   ],
   "metadata": {
    "collapsed": false
   }
  },
  {
   "cell_type": "code",
   "execution_count": 79,
   "outputs": [],
   "source": [
    "nbr_of_epochs = 100"
   ],
   "metadata": {
    "collapsed": false,
    "ExecuteTime": {
     "end_time": "2023-07-04T14:50:33.041190900Z",
     "start_time": "2023-07-04T14:50:33.000301900Z"
    }
   }
  },
  {
   "cell_type": "code",
   "execution_count": 80,
   "outputs": [],
   "source": [
    "pmc_trained_model_accuracy_ptr = my_lib.multi_layer_perceptron_accuracy(\n",
    "    w_array_ptr,\n",
    "    y_to_predict_ptr,\n",
    "    x_to_predict_ptr,\n",
    "    len(X),  # number of inputs\n",
    "    y_to_predict_test_ptr,\n",
    "    x_to_predict_test_ptr,\n",
    "    len(X_test),\n",
    "    int(len(X_flat)/len(X)),  # dimension of inputs\n",
    "    3,  # number of classes to predict\n",
    "    0.000001,  # learning rate\n",
    "    nbr_of_epochs,  # epochs\n",
    "    1,\n",
    "    layers_ptr_pmc,  # pointeur vers la forme de pmc\n",
    "    number_of_layers,  # number of layers\n",
    "    True,\n",
    ")\n",
    "\n",
    "pmc_trained_model = np.ctypeslib.as_array(pmc_trained_model_accuracy_ptr, (7501*16 + 17*3,))"
   ],
   "metadata": {
    "collapsed": false,
    "ExecuteTime": {
     "end_time": "2023-07-04T14:50:37.494277700Z",
     "start_time": "2023-07-04T14:50:33.666519900Z"
    }
   }
  },
  {
   "cell_type": "code",
   "execution_count": 81,
   "outputs": [],
   "source": [
    "f = open(\"saved_accuracy.txt\", \"r\")\n",
    "content = f.readlines()"
   ],
   "metadata": {
    "collapsed": false,
    "ExecuteTime": {
     "end_time": "2023-07-04T14:50:45.705198200Z",
     "start_time": "2023-07-04T14:50:45.641368400Z"
    }
   }
  },
  {
   "cell_type": "code",
   "execution_count": 82,
   "outputs": [],
   "source": [
    "acc_train = content[0].split(\",\")\n",
    "acc_train.remove('\\n')\n",
    "acc_test = content[1].split(\",\")\n",
    "acc_test.remove('\\n')\n",
    "x = [x for x in range(1,nbr_of_epochs+1)]"
   ],
   "metadata": {
    "collapsed": false,
    "ExecuteTime": {
     "end_time": "2023-07-04T14:50:47.114427200Z",
     "start_time": "2023-07-04T14:50:47.048603900Z"
    }
   }
  },
  {
   "cell_type": "code",
   "execution_count": 83,
   "outputs": [
    {
     "data": {
      "text/plain": "<Figure size 640x480 with 1 Axes>",
      "image/png": "[encoded data removed]"
     },
     "metadata": {},
     "output_type": "display_data"
    }
   ],
   "source": [
    "fig, ax = plt.subplots()\n",
    "\n",
    "ax.plot(x, acc_train)\n",
    "ax.plot(x, acc_test)\n",
    "\n",
    "plt.show()"
   ],
   "metadata": {
    "collapsed": false,
    "ExecuteTime": {
     "end_time": "2023-07-04T14:50:50.763666700Z",
     "start_time": "2023-07-04T14:50:50.455490800Z"
    }
   }
  },
  {
   "cell_type": "code",
   "execution_count": 15,
   "outputs": [
    {
     "name": "stdout",
     "output_type": "stream",
     "text": [
      "3\n"
     ]
    }
   ],
   "source": [
    "print(len(X))"
   ],
   "metadata": {
    "collapsed": false,
    "ExecuteTime": {
     "end_time": "2023-07-03T15:27:04.890625500Z",
     "start_time": "2023-07-03T15:27:04.869645100Z"
    }
   }
  },
  {
   "cell_type": "code",
   "execution_count": 15,
   "outputs": [],
   "source": [],
   "metadata": {
    "collapsed": false,
    "ExecuteTime": {
     "end_time": "2023-07-03T15:27:04.963395900Z",
     "start_time": "2023-07-03T15:27:04.885603200Z"
    }
   }
  },
  {
   "cell_type": "code",
   "execution_count": 16,
   "outputs": [],
   "source": [
    "# pmc_trained_model_ptr = my_lib.multi_layer_perceptron_training(\n",
    "#     w_array_ptr,\n",
    "#     y_to_predict_ptr,\n",
    "#     x_to_predict_ptr,\n",
    "#     len(X),  # number of inputs\n",
    "#     int(len(X_flat)/len(X)),  # dimension of inputs\n",
    "#     3,  # number of classes to predict\n",
    "#     0.5,  # learning rate\n",
    "#     10,  # epochs\n",
    "#     layers_ptr_pmc,  # pointeur vers la forme de pmc\n",
    "#     number_of_layers,  # number of layers\n",
    "#     True,\n",
    "# )\n",
    "#\n",
    "# pmc_trained_model = np.ctypeslib.as_array(pmc_trained_model_ptr, (7501*3,))\n",
    "# #print(pmc_trained_model)\n"
   ],
   "metadata": {
    "collapsed": false,
    "ExecuteTime": {
     "end_time": "2023-07-03T15:27:04.978358100Z",
     "start_time": "2023-07-03T15:27:04.901561900Z"
    }
   }
  },
  {
   "cell_type": "code",
   "execution_count": 17,
   "outputs": [],
   "source": [
    "# asia_data = np.asarray(asia_new_size)\n",
    "# greek_data = np.asarray(greek_new_size)\n",
    "# south_america_data = np.asarray(south_america_new_size)\n",
    "image_a_predire_data = np.array([predict_asia_data, predict_chateau_data, predict_greek_data],dtype=ctypes.c_float)\n",
    "image_a_predire_data_flat=image_a_predire_data.flatten()\n",
    "# new_X = np.array([south_america_data, asia_data, greek_data], dtype=ctypes.c_float)\n",
    "# new_flat_X = X.flatten()"
   ],
   "metadata": {
    "collapsed": false,
    "ExecuteTime": {
     "end_time": "2023-07-03T15:27:04.978358100Z",
     "start_time": "2023-07-03T15:27:04.915523600Z"
    }
   }
  },
  {
   "cell_type": "code",
   "execution_count": 18,
   "outputs": [
    {
     "name": "stdout",
     "output_type": "stream",
     "text": [
      "3\n",
      "22500\n"
     ]
    }
   ],
   "source": [
    "print(len(image_a_predire_data))\n",
    "print(len(image_a_predire_data_flat))"
   ],
   "metadata": {
    "collapsed": false,
    "ExecuteTime": {
     "end_time": "2023-07-03T15:27:04.979356700Z",
     "start_time": "2023-07-03T15:27:04.931481100Z"
    }
   }
  },
  {
   "cell_type": "code",
   "execution_count": 19,
   "outputs": [],
   "source": [
    "my_lib.multi_layer_perceptron_predict.argtypes = [\n",
    "    ctypes.POINTER(ctypes.c_float),\n",
    "    ctypes.POINTER(ctypes.c_float),\n",
    "    ctypes.c_int32,\n",
    "    ctypes.c_int32,\n",
    "    ctypes.c_int32,\n",
    "    ctypes.POINTER(ctypes.c_float),\n",
    "    ctypes.c_int32,\n",
    "    ctypes.c_bool,\n",
    "]\n",
    "\n",
    "my_lib.multi_layer_perceptron_predict.restype = ctypes.POINTER(ctypes.c_float)\n",
    "\n",
    "LP_c_float = ctypes.POINTER(ctypes.c_float)\n",
    "x_to_predict_mlp = (ctypes.c_float * len(image_a_predire_data_flat))(*image_a_predire_data_flat)\n",
    "x_to_predict_ptr_mlp = ctypes.cast(x_to_predict_mlp, LP_c_float)\n",
    "\n",
    "pmc_predict_ptr = my_lib.multi_layer_perceptron_predict(\n",
    "    pmc_trained_model_accuracy_ptr,  # pointeur vers le modele entrainé\n",
    "    x_to_predict_ptr_mlp,  # pointeur vers le dataset à prédire\n",
    "    len(image_a_predire_data),  # nombre d'éléments du dataset\n",
    "    int(len(image_a_predire_data_flat)/len(image_a_predire_data)),  # dimension des éléments du dataset\n",
    "    3,  # number of classes to predict\n",
    "    layers_ptr_pmc,  # pointeur vers la forme de pmc\n",
    "    number_of_layers,  # number of layers\n",
    "    True,  # is classification\n",
    ")\n",
    "\n",
    "pmc_predict_model = np.ctypeslib.as_array(pmc_predict_ptr, (3 * len(image_a_predire_data),))\n",
    "# print(pmc_predict_model)\n",
    "# print(len(X_to_predict))\n",
    "# print(len(X_to_predict_flat))\n"
   ],
   "metadata": {
    "collapsed": false,
    "ExecuteTime": {
     "end_time": "2023-07-03T15:27:05.038198600Z",
     "start_time": "2023-07-03T15:27:04.968384600Z"
    }
   }
  },
  {
   "cell_type": "code",
   "execution_count": 20,
   "outputs": [
    {
     "name": "stdout",
     "output_type": "stream",
     "text": [
      "L'image a deviner vient de grece\n",
      "résultats non concluants\n",
      "résultats non concluants\n"
     ]
    }
   ],
   "source": [
    "for j in range(0,len(pmc_predict_model)-2,3) :\n",
    "    if pmc_predict_model[j] > pmc_predict_model[j+1] and pmc_predict_model[j] > pmc_predict_model[j+2] :\n",
    "        print(\"L'image a deviner vient d'asie\")\n",
    "    elif pmc_predict_model[j+1] > pmc_predict_model[j] and pmc_predict_model[j+1] > pmc_predict_model[j+2] :\n",
    "        print(\"L'image a deviner vient de grece\")\n",
    "    elif pmc_predict_model[j+2] > pmc_predict_model[j] and pmc_predict_model[j+2] > pmc_predict_model[j+1]:\n",
    "        print(\"L'image a deviner vient d'amerique du sud\")\n",
    "    else :\n",
    "        print('résultats non concluants')"
   ],
   "metadata": {
    "collapsed": false,
    "ExecuteTime": {
     "end_time": "2023-07-03T15:27:05.047177700Z",
     "start_time": "2023-07-03T15:27:04.995323Z"
    }
   }
  },
  {
   "cell_type": "code",
   "execution_count": 23,
   "outputs": [
    {
     "name": "stdout",
     "output_type": "stream",
     "text": [
      "[-0.9992589   0.9996983   0.93401915 -0.99956805  0.9992659   0.8752813\n",
      " -0.9994039   0.99961466  0.8829671 ]\n"
     ]
    }
   ],
   "source": [
    "print(pmc_predict_model)"
   ],
   "metadata": {
    "collapsed": false
   }
  }
 ],
 "metadata": {
  "kernelspec": {
   "display_name": "Python 3",
   "language": "python",
   "name": "python3"
  },
  "language_info": {
   "codemirror_mode": {
    "name": "ipython",
    "version": 2
   },
   "file_extension": ".py",
   "mimetype": "text/x-python",
   "name": "python",
   "nbconvert_exporter": "python",
   "pygments_lexer": "ipython2",
   "version": "2.7.6"
  }
 },
 "nbformat": 4,
 "nbformat_minor": 0
}
