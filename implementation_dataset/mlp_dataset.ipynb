{
 "cells": [
  {
   "cell_type": "code",
   "execution_count": 55,
   "metadata": {
    "collapsed": true
   },
   "outputs": [],
   "source": [
    "import numpy as np\n",
    "from PIL import Image\n",
    "import ctypes\n",
    "import matplotlib.pyplot as plt\n",
    "import random"
   ]
  },
  {
   "cell_type": "code",
   "execution_count": 56,
   "outputs": [],
   "source": [
    "asia = Image.open('test_images/asia.jpg')\n",
    "greek = Image.open('test_images/greek.jpg')\n",
    "south_america = Image.open('test_images/south_america.jpg')\n",
    "image_a_predire = Image.open('test_images/to_predict.jpg')"
   ],
   "metadata": {
    "collapsed": false
   }
  },
  {
   "cell_type": "code",
   "execution_count": 57,
   "outputs": [],
   "source": [
    "newsize = (27,27)"
   ],
   "metadata": {
    "collapsed": false
   }
  },
  {
   "cell_type": "code",
   "execution_count": 58,
   "outputs": [],
   "source": [
    "asia_new_size = asia.resize(newsize)\n",
    "greek_new_size = greek.resize(newsize)\n",
    "south_america_new_size = south_america.resize(newsize)\n",
    "image_a_predire_new_size = image_a_predire.resize(newsize)"
   ],
   "metadata": {
    "collapsed": false
   }
  },
  {
   "cell_type": "code",
   "execution_count": 59,
   "outputs": [],
   "source": [
    "# asia_new_size.show()\n",
    "# greek_new_size.show()\n",
    "# south_america_new_size.show()"
   ],
   "metadata": {
    "collapsed": false
   }
  },
  {
   "cell_type": "code",
   "execution_count": 60,
   "outputs": [],
   "source": [
    "asia_data = np.asarray(asia_new_size)\n",
    "greek_data = np.asarray(greek_new_size)\n",
    "south_america_data = np.asarray(south_america_new_size)\n",
    "image_a_predire_data = np.asarray(image_a_predire_new_size)\n",
    "\n",
    "X = np.array([asia_data, greek_data, south_america_data], dtype=ctypes.c_float)\n",
    "X_flat = X.flatten()"
   ],
   "metadata": {
    "collapsed": false
   }
  },
  {
   "cell_type": "code",
   "execution_count": 61,
   "outputs": [
    {
     "name": "stdout",
     "output_type": "stream",
     "text": [
      "6561\n"
     ]
    }
   ],
   "source": [
    "print(len(X_flat))"
   ],
   "metadata": {
    "collapsed": false
   }
  },
  {
   "cell_type": "code",
   "execution_count": 62,
   "outputs": [
    {
     "name": "stdout",
     "output_type": "stream",
     "text": [
      "3\n"
     ]
    }
   ],
   "source": [
    "print(len(X))"
   ],
   "metadata": {
    "collapsed": false
   }
  },
  {
   "cell_type": "code",
   "execution_count": 63,
   "outputs": [
    {
     "name": "stdout",
     "output_type": "stream",
     "text": [
      "[ 1. -1. -1. -1.  1. -1. -1. -1.  1.]\n"
     ]
    }
   ],
   "source": [
    "Y = np.array([[1, -1, -1], [-1, 1, -1], [-1, -1, 1]], dtype=ctypes.c_float)\n",
    "Y_flat = Y.flatten()\n",
    "print(Y_flat)"
   ],
   "metadata": {
    "collapsed": false
   }
  },
  {
   "cell_type": "code",
   "execution_count": 64,
   "outputs": [
    {
     "name": "stdout",
     "output_type": "stream",
     "text": [
      "6\n",
      "[2187.   16.   16.   16.   16.    3.]\n"
     ]
    }
   ],
   "source": [
    "my_lib = ctypes.CDLL(r\"..\\rust_lib\\target\\debug\\rust_lib.dll\")\n",
    "\n",
    "my_lib.delete_float_array.argtypes = [\n",
    "    ctypes.POINTER(ctypes.c_float),\n",
    "    ctypes.c_int32,\n",
    "]\n",
    "\n",
    "my_lib.generate_random_mpl_w.argtypes = [ctypes.POINTER(ctypes.c_float), ctypes.c_int32]\n",
    "my_lib.generate_random_mpl_w.restype = ctypes.POINTER(ctypes.c_float)\n",
    "\n",
    "my_lib.delete_float_array.restype = None\n",
    "\n",
    "layers = np.array([len(X_flat)/len(X), 16, 16, 16, 16, 3], dtype=ctypes.c_float)\n",
    "LP_c_float = ctypes.POINTER(ctypes.c_float)\n",
    "layers_pmc = (ctypes.c_float * len(layers))(*layers)\n",
    "layers_ptr_pmc = ctypes.cast(layers_pmc, LP_c_float)\n",
    "\n",
    "print(len(layers_pmc))\n",
    "number_of_layers = len(layers_pmc)\n",
    "print(layers)"
   ],
   "metadata": {
    "collapsed": false
   }
  },
  {
   "cell_type": "code",
   "execution_count": 65,
   "outputs": [],
   "source": [
    "w_array_ptr = my_lib.generate_random_mpl_w(layers_ptr_pmc, number_of_layers)\n",
    "w_array = np.ctypeslib.as_array(w_array_ptr, ((2188*16 + 17*16 + 17*16 +17*16+ 17*3,))) #3*16 + 17*16 + 17*3\n",
    "\n",
    "LP_c_float = ctypes.POINTER(ctypes.c_float)\n",
    "x_to_predict = (ctypes.c_float * len(X_flat))(*X_flat)\n",
    "x_to_predict_ptr = ctypes.cast(x_to_predict, LP_c_float)\n",
    "LP_c_float = ctypes.POINTER(ctypes.c_float)\n",
    "y_to_predict = (ctypes.c_float * len(Y_flat))(*Y_flat)\n",
    "y_to_predict_ptr = ctypes.cast(y_to_predict, LP_c_float)\n",
    "my_lib.multi_layer_perceptron_training.argtypes = [\n",
    "    ctypes.POINTER(ctypes.c_float),\n",
    "    ctypes.POINTER(ctypes.c_float),\n",
    "    ctypes.POINTER(ctypes.c_float),\n",
    "    ctypes.c_int32,\n",
    "    ctypes.c_int32,\n",
    "    ctypes.c_int32,\n",
    "    ctypes.c_float,\n",
    "    ctypes.c_int32,\n",
    "    ctypes.POINTER(ctypes.c_float),\n",
    "    ctypes.c_int32,\n",
    "    ctypes.c_bool,\n",
    "]\n",
    "my_lib.multi_layer_perceptron_training.restype = ctypes.POINTER(ctypes.c_float)"
   ],
   "metadata": {
    "collapsed": false
   }
  },
  {
   "cell_type": "code",
   "execution_count": 66,
   "outputs": [
    {
     "name": "stdout",
     "output_type": "stream",
     "text": [
      "3\n"
     ]
    }
   ],
   "source": [
    "print(len(X))"
   ],
   "metadata": {
    "collapsed": false
   }
  },
  {
   "cell_type": "code",
   "execution_count": 67,
   "outputs": [],
   "source": [
    "pmc_trained_model_ptr = my_lib.multi_layer_perceptron_training(\n",
    "    w_array_ptr,\n",
    "    y_to_predict_ptr,\n",
    "    x_to_predict_ptr,\n",
    "    len(X),  # number of inputs\n",
    "    int(len(X_flat)/len(X)),  # dimension of inputs\n",
    "    3,  # number of classes to predict\n",
    "    0.5,  # learning rate\n",
    "    10,  # epochs\n",
    "    layers_ptr_pmc,  # pointeur vers la forme de pmc\n",
    "    number_of_layers,  # number of layers\n",
    "    True,\n",
    ")\n",
    "\n",
    "pmc_trained_model = np.ctypeslib.as_array(pmc_trained_model_ptr, (2188*16 + 17*16 + 17*16 +17*16+ 17*3,))\n",
    "#print(pmc_trained_model)\n"
   ],
   "metadata": {
    "collapsed": false
   }
  },
  {
   "cell_type": "code",
   "execution_count": 68,
   "outputs": [],
   "source": [
    "# asia_data = np.asarray(asia_new_size)\n",
    "# greek_data = np.asarray(greek_new_size)\n",
    "# south_america_data = np.asarray(south_america_new_size)\n",
    "image_a_predire_data = np.array([image_a_predire_data],dtype=ctypes.c_float)\n",
    "image_a_predire_data_flat=image_a_predire_data.flatten()\n",
    "# new_X = np.array([south_america_data, asia_data, greek_data], dtype=ctypes.c_float)\n",
    "# new_flat_X = X.flatten()"
   ],
   "metadata": {
    "collapsed": false
   }
  },
  {
   "cell_type": "code",
   "execution_count": 69,
   "outputs": [
    {
     "name": "stdout",
     "output_type": "stream",
     "text": [
      "1\n",
      "2187\n"
     ]
    }
   ],
   "source": [
    "print(len(image_a_predire_data))\n",
    "print(len(image_a_predire_data_flat))"
   ],
   "metadata": {
    "collapsed": false
   }
  },
  {
   "cell_type": "code",
   "execution_count": 70,
   "outputs": [],
   "source": [
    "my_lib.multi_layer_perceptron_predict.argtypes = [\n",
    "    ctypes.POINTER(ctypes.c_float),\n",
    "    ctypes.POINTER(ctypes.c_float),\n",
    "    ctypes.c_int32,\n",
    "    ctypes.c_int32,\n",
    "    ctypes.c_int32,\n",
    "    ctypes.POINTER(ctypes.c_float),\n",
    "    ctypes.c_int32,\n",
    "    ctypes.c_bool,\n",
    "]\n",
    "\n",
    "my_lib.multi_layer_perceptron_predict.restype = ctypes.POINTER(ctypes.c_float)\n",
    "\n",
    "LP_c_float = ctypes.POINTER(ctypes.c_float)\n",
    "x_to_predict_mlp = (ctypes.c_float * len(image_a_predire_data_flat))(*image_a_predire_data_flat)\n",
    "x_to_predict_ptr_mlp = ctypes.cast(x_to_predict_mlp, LP_c_float)\n",
    "\n",
    "pmc_predict_ptr = my_lib.multi_layer_perceptron_predict(\n",
    "    pmc_trained_model_ptr,  # pointeur vers le modele entrainé\n",
    "    x_to_predict_ptr_mlp,  # pointeur vers le dataset à prédire\n",
    "    len(image_a_predire_data),  # nombre d'éléments du dataset\n",
    "    int(len(image_a_predire_data_flat)/len(image_a_predire_data)),  # dimension des éléments du dataset\n",
    "    3,  # number of classes to predict\n",
    "    layers_ptr_pmc,  # pointeur vers la forme de pmc\n",
    "    number_of_layers,  # number of layers\n",
    "    True,  # is classification\n",
    ")\n",
    "\n",
    "pmc_predict_model = np.ctypeslib.as_array(pmc_predict_ptr, (3 * len(image_a_predire_data),))\n",
    "# print(pmc_predict_model)\n",
    "# print(len(X_to_predict))\n",
    "# print(len(X_to_predict_flat))\n"
   ],
   "metadata": {
    "collapsed": false
   }
  },
  {
   "cell_type": "code",
   "execution_count": 71,
   "outputs": [
    {
     "name": "stdout",
     "output_type": "stream",
     "text": [
      "L'image a deviner vient de grece\n"
     ]
    }
   ],
   "source": [
    "for j in range(0,len(pmc_predict_model)-2,3) :\n",
    "    if pmc_predict_model[j] > pmc_predict_model[j+1] and pmc_predict_model[j] > pmc_predict_model[j+2] :\n",
    "        print(\"L'image a deviner vient d'asie\")\n",
    "    elif pmc_predict_model[j+1] > pmc_predict_model[j] and pmc_predict_model[j+1] > pmc_predict_model[j+2] :\n",
    "        print(\"L'image a deviner vient de grece\")\n",
    "    elif pmc_predict_model[j+2] > pmc_predict_model[j] and pmc_predict_model[j+2] > pmc_predict_model[j+1]:\n",
    "        print(\"L'image a deviner vient d'amerique du sud\")\n",
    "    else :\n",
    "        print('résultats non concluants')"
   ],
   "metadata": {
    "collapsed": false
   }
  },
  {
   "cell_type": "code",
   "execution_count": 72,
   "outputs": [
    {
     "name": "stdout",
     "output_type": "stream",
     "text": [
      "[-0.9999999   0.99892205 -0.99490523]\n"
     ]
    }
   ],
   "source": [
    "print(pmc_predict_model)"
   ],
   "metadata": {
    "collapsed": false
   }
  },
  {
   "cell_type": "code",
   "execution_count": 70,
   "outputs": [
    {
     "name": "stdout",
     "output_type": "stream",
     "text": [
      "[ 0.95705676 -0.9888257  -0.98240566 -0.96874535  0.9717122  -0.9874089\n",
      " -0.99191004 -0.95757884  0.9669857 ]\n"
     ]
    }
   ],
   "source": [
    "print(pmc_predict_model)"
   ],
   "metadata": {
    "collapsed": false
   }
  }
 ],
 "metadata": {
  "kernelspec": {
   "display_name": "Python 3",
   "language": "python",
   "name": "python3"
  },
  "language_info": {
   "codemirror_mode": {
    "name": "ipython",
    "version": 2
   },
   "file_extension": ".py",
   "mimetype": "text/x-python",
   "name": "python",
   "nbconvert_exporter": "python",
   "pygments_lexer": "ipython2",
   "version": "2.7.6"
  }
 },
 "nbformat": 4,
 "nbformat_minor": 0
}
