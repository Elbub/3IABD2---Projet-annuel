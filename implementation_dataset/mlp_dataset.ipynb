{
 "cells": [
  {
   "cell_type": "code",
   "execution_count": 1,
   "metadata": {
    "collapsed": true,
    "ExecuteTime": {
     "end_time": "2023-07-03T15:17:02.971955800Z",
     "start_time": "2023-07-03T15:17:01.855360200Z"
    }
   },
   "outputs": [],
   "source": [
    "import numpy as np\n",
    "from PIL import Image\n",
    "import ctypes\n",
    "import matplotlib.pyplot as plt\n",
    "import random"
   ]
  },
  {
   "cell_type": "code",
   "execution_count": 2,
   "outputs": [],
   "source": [
    "asia = Image.open('test_images/asie/asia.jpg')\n",
    "greek = Image.open('test_images/greek/greek.jpg')\n",
    "chateau = Image.open('test_images/chateau/train_chateau.jpg')\n",
    "predict_asia = Image.open('test_images/asie/predict_asie.jpg')\n",
    "predict_greek = Image.open('test_images/greek/predict_grec.jpg')\n",
    "predict_chateau = Image.open('test_images/chateau/predict_chateau.jpg')"
   ],
   "metadata": {
    "collapsed": false,
    "ExecuteTime": {
     "end_time": "2023-07-03T15:17:03.123590800Z",
     "start_time": "2023-07-03T15:17:02.958990600Z"
    }
   }
  },
  {
   "cell_type": "code",
   "execution_count": 3,
   "outputs": [],
   "source": [
    "newsize = (50,50)"
   ],
   "metadata": {
    "collapsed": false,
    "ExecuteTime": {
     "end_time": "2023-07-03T15:17:03.139464200Z",
     "start_time": "2023-07-03T15:17:03.125585400Z"
    }
   }
  },
  {
   "cell_type": "code",
   "execution_count": 4,
   "outputs": [],
   "source": [
    "asia_new_size = asia.resize(newsize)\n",
    "greek_new_size = greek.resize(newsize)\n",
    "chateau_new_size = chateau.resize(newsize)\n",
    "predict_asia_new_size = predict_asia.resize(newsize)\n",
    "predict_greek_new_size = predict_greek.resize(newsize)\n",
    "predict_chateau_new_size = predict_chateau.resize(newsize)"
   ],
   "metadata": {
    "collapsed": false,
    "ExecuteTime": {
     "end_time": "2023-07-03T15:17:03.309012700Z",
     "start_time": "2023-07-03T15:17:03.140463Z"
    }
   }
  },
  {
   "cell_type": "code",
   "execution_count": 5,
   "outputs": [],
   "source": [
    "# asia_new_size.show()\n",
    "# greek_new_size.show()\n",
    "# chateau_new_size.show()"
   ],
   "metadata": {
    "collapsed": false,
    "ExecuteTime": {
     "end_time": "2023-07-03T15:17:03.328958900Z",
     "start_time": "2023-07-03T15:17:03.311006600Z"
    }
   }
  },
  {
   "cell_type": "code",
   "execution_count": 6,
   "outputs": [],
   "source": [
    "asia_data = np.asarray(asia_new_size)\n",
    "greek_data = np.asarray(greek_new_size)\n",
    "chateau_data = np.asarray(predict_chateau_new_size)\n",
    "predict_asia_data = np.asarray(predict_asia_new_size)\n",
    "predict_greek_data = np.asarray(predict_greek_new_size)\n",
    "predict_chateau_data = np.asarray(predict_chateau_new_size)\n",
    "\n",
    "X = np.array([asia_data, greek_data, chateau_data], dtype=ctypes.c_float)\n",
    "X_test = np.array([predict_asia_data, predict_greek_data, predict_chateau_data], dtype=ctypes.c_float)\n",
    "X_flat = X.flatten()\n",
    "X_flat = X_flat/255 * 2 - 1\n",
    "# w_array = w_array/255 * 2 - 1\n",
    "\n",
    "X_test_flat = X_test.flatten()\n",
    "X_test_flat = X_test_flat/255 * 2 - 1"
   ],
   "metadata": {
    "collapsed": false,
    "ExecuteTime": {
     "end_time": "2023-07-03T15:17:03.359875500Z",
     "start_time": "2023-07-03T15:17:03.335939600Z"
    }
   }
  },
  {
   "cell_type": "code",
   "execution_count": 7,
   "outputs": [
    {
     "name": "stdout",
     "output_type": "stream",
     "text": [
      "22500\n"
     ]
    }
   ],
   "source": [
    "print(len(X_flat))"
   ],
   "metadata": {
    "collapsed": false,
    "ExecuteTime": {
     "end_time": "2023-07-03T15:17:03.409741200Z",
     "start_time": "2023-07-03T15:17:03.356889600Z"
    }
   }
  },
  {
   "cell_type": "code",
   "execution_count": 8,
   "outputs": [
    {
     "name": "stdout",
     "output_type": "stream",
     "text": [
      "3\n"
     ]
    }
   ],
   "source": [
    "print(len(X))"
   ],
   "metadata": {
    "collapsed": false,
    "ExecuteTime": {
     "end_time": "2023-07-03T15:17:03.418717100Z",
     "start_time": "2023-07-03T15:17:03.402760500Z"
    }
   }
  },
  {
   "cell_type": "code",
   "execution_count": 9,
   "outputs": [
    {
     "name": "stdout",
     "output_type": "stream",
     "text": [
      "[ 1. -1. -1. -1.  1. -1. -1. -1.  1.]\n",
      "[ 1. -1. -1. -1.  1. -1. -1. -1.  1.]\n"
     ]
    }
   ],
   "source": [
    "Y = np.array([[1, -1, -1], [-1, 1, -1], [-1, -1, 1]], dtype=ctypes.c_float)\n",
    "Y_flat = Y.flatten()\n",
    "Y_test = np.array([[1, -1, -1], [-1, 1, -1], [-1, -1, 1]], dtype=ctypes.c_float)\n",
    "Y_test_flat = Y_test.flatten()\n",
    "print(Y_flat)\n",
    "print(Y_test_flat)"
   ],
   "metadata": {
    "collapsed": false,
    "ExecuteTime": {
     "end_time": "2023-07-03T15:17:03.532412Z",
     "start_time": "2023-07-03T15:17:03.421711900Z"
    }
   }
  },
  {
   "cell_type": "code",
   "execution_count": 10,
   "outputs": [
    {
     "name": "stdout",
     "output_type": "stream",
     "text": [
      "2\n",
      "[7.5e+03 3.0e+00]\n"
     ]
    }
   ],
   "source": [
    "my_lib = ctypes.CDLL(r\"..\\rust_lib\\target\\release\\rust_lib.dll\")\n",
    "\n",
    "my_lib.delete_float_array.argtypes = [\n",
    "    ctypes.POINTER(ctypes.c_float),\n",
    "    ctypes.c_int32,\n",
    "]\n",
    "\n",
    "my_lib.generate_random_mpl_w.argtypes = [ctypes.POINTER(ctypes.c_float), ctypes.c_int32]\n",
    "my_lib.generate_random_mpl_w.restype = ctypes.POINTER(ctypes.c_float)\n",
    "\n",
    "my_lib.delete_float_array.restype = None\n",
    "\n",
    "layers = np.array([len(X_flat)/len(X), 3], dtype=ctypes.c_float)\n",
    "LP_c_float = ctypes.POINTER(ctypes.c_float)\n",
    "layers_pmc = (ctypes.c_float * len(layers))(*layers)\n",
    "layers_ptr_pmc = ctypes.cast(layers_pmc, LP_c_float)\n",
    "\n",
    "print(len(layers_pmc))\n",
    "number_of_layers = len(layers_pmc)\n",
    "print(layers)"
   ],
   "metadata": {
    "collapsed": false,
    "ExecuteTime": {
     "end_time": "2023-07-03T15:17:03.548370600Z",
     "start_time": "2023-07-03T15:17:03.456616900Z"
    }
   }
  },
  {
   "cell_type": "code",
   "execution_count": 11,
   "outputs": [],
   "source": [
    "# w_array_ptr = my_lib.generate_random_mpl_w(layers_ptr_pmc, number_of_layers)\n",
    "# w_array = np.ctypeslib.as_array(w_array_ptr, ((7501*3,))) #3*16 + 17*16 + 17*3\n",
    "#\n",
    "# LP_c_float = ctypes.POINTER(ctypes.c_float)\n",
    "# x_to_predict = (ctypes.c_float * len(X_flat))(*X_flat)\n",
    "# x_to_predict_ptr = ctypes.cast(x_to_predict, LP_c_float)\n",
    "# LP_c_float = ctypes.POINTER(ctypes.c_float)\n",
    "# y_to_predict = (ctypes.c_float * len(Y_flat))(*Y_flat)\n",
    "# y_to_predict_ptr = ctypes.cast(y_to_predict, LP_c_float)\n",
    "# my_lib.multi_layer_perceptron_training.argtypes = [\n",
    "#     ctypes.POINTER(ctypes.c_float),\n",
    "#     ctypes.POINTER(ctypes.c_float),\n",
    "#     ctypes.POINTER(ctypes.c_float),\n",
    "#     ctypes.c_int32,\n",
    "#     ctypes.c_int32,\n",
    "#     ctypes.c_int32,\n",
    "#     ctypes.c_float,\n",
    "#     ctypes.c_int32,\n",
    "#     ctypes.POINTER(ctypes.c_float),\n",
    "#     ctypes.c_int32,\n",
    "#     ctypes.c_bool,\n",
    "# ]\n",
    "# my_lib.multi_layer_perceptron_training.restype = ctypes.POINTER(ctypes.c_float)"
   ],
   "metadata": {
    "collapsed": false,
    "ExecuteTime": {
     "end_time": "2023-07-03T15:17:03.550365600Z",
     "start_time": "2023-07-03T15:17:03.506482700Z"
    }
   }
  },
  {
   "cell_type": "code",
   "execution_count": 12,
   "outputs": [
    {
     "name": "stdout",
     "output_type": "stream",
     "text": [
      "[ 9.18334081e-07  1.10262417e-05  9.47610260e-06 ... -1.95219036e-06\n",
      " -1.27050625e-05  5.17146054e-06]\n"
     ]
    }
   ],
   "source": [
    "w_array_ptr = my_lib.generate_random_mpl_w(layers_ptr_pmc, number_of_layers)\n",
    "w_array = np.ctypeslib.as_array(w_array_ptr, ((7501*3,))) #3*16 + 17*16 + 17*3\n",
    "print(w_array)\n",
    "LP_c_float = ctypes.POINTER(ctypes.c_float)\n",
    "x_to_predict = (ctypes.c_float * len(X_flat))(*X_flat)\n",
    "x_to_predict_ptr = ctypes.cast(x_to_predict, LP_c_float)\n",
    "LP_c_float = ctypes.POINTER(ctypes.c_float)\n",
    "y_to_predict = (ctypes.c_float * len(Y_flat))(*Y_flat)\n",
    "y_to_predict_ptr = ctypes.cast(y_to_predict, LP_c_float)\n",
    "\n",
    "LP_c_float = ctypes.POINTER(ctypes.c_float)\n",
    "x_to_predict_test = (ctypes.c_float * len(X_test_flat))(*X_test_flat)\n",
    "x_to_predict_test_ptr = ctypes.cast(x_to_predict_test, LP_c_float)\n",
    "LP_c_float = ctypes.POINTER(ctypes.c_float)\n",
    "y_to_predict_test = (ctypes.c_float * len(Y_test_flat))(*Y_test_flat)\n",
    "y_to_predict_test_ptr = ctypes.cast(y_to_predict_test, LP_c_float)\n",
    "\n",
    "my_lib.multi_layer_perceptron_accuracy.argtypes = [\n",
    "    ctypes.POINTER(ctypes.c_float),\n",
    "    ctypes.POINTER(ctypes.c_float),\n",
    "    ctypes.POINTER(ctypes.c_float),\n",
    "    ctypes.c_int32,\n",
    "    ctypes.POINTER(ctypes.c_float),\n",
    "    ctypes.POINTER(ctypes.c_float),\n",
    "    ctypes.c_int32,\n",
    "    ctypes.c_int32,\n",
    "    ctypes.c_int32,\n",
    "    ctypes.c_float,\n",
    "    ctypes.c_int32,\n",
    "    ctypes.c_int32,\n",
    "    ctypes.POINTER(ctypes.c_float),\n",
    "    ctypes.c_int32,\n",
    "    ctypes.c_bool,\n",
    "]\n",
    "my_lib.multi_layer_perceptron_accuracy.restype = ctypes.POINTER(ctypes.c_float)"
   ],
   "metadata": {
    "collapsed": false,
    "ExecuteTime": {
     "end_time": "2023-07-03T15:17:03.640123900Z",
     "start_time": "2023-07-03T15:17:03.543384600Z"
    }
   }
  },
  {
   "cell_type": "code",
   "execution_count": 13,
   "outputs": [
    {
     "name": "stdout",
     "output_type": "stream",
     "text": [
      "1.3328218e-05\n",
      "-1.332922e-05\n",
      "3.1476469394680465e-08\n"
     ]
    }
   ],
   "source": [
    "print(max(w_array))\n",
    "print(min(w_array))\n",
    "print(sum(w_array)/len(w_array))"
   ],
   "metadata": {
    "collapsed": false,
    "ExecuteTime": {
     "end_time": "2023-07-03T15:17:03.721905900Z",
     "start_time": "2023-07-03T15:17:03.621176100Z"
    }
   }
  },
  {
   "cell_type": "code",
   "execution_count": 14,
   "outputs": [],
   "source": [
    "pmc_trained_model_accuracy_ptr = my_lib.multi_layer_perceptron_accuracy(\n",
    "    w_array_ptr,\n",
    "    y_to_predict_ptr,\n",
    "    x_to_predict_ptr,\n",
    "    len(X),  # number of inputs\n",
    "    y_to_predict_test_ptr,\n",
    "    x_to_predict_test_ptr,\n",
    "    len(X_test),\n",
    "    int(len(X_flat)/len(X)),  # dimension of inputs\n",
    "    3,  # number of classes to predict\n",
    "    0.0001,  # learning rate\n",
    "    10000,  # epochs\n",
    "    1,\n",
    "    layers_ptr_pmc,  # pointeur vers la forme de pmc\n",
    "    number_of_layers,  # number of layers\n",
    "    True,\n",
    ")\n",
    "\n",
    "pmc_trained_model = np.ctypeslib.as_array(pmc_trained_model_accuracy_ptr, (7501*3,))"
   ],
   "metadata": {
    "collapsed": false,
    "ExecuteTime": {
     "end_time": "2023-07-03T15:20:49.772926400Z",
     "start_time": "2023-07-03T15:17:03.655088600Z"
    }
   }
  },
  {
   "cell_type": "code",
   "execution_count": 15,
   "outputs": [
    {
     "name": "stdout",
     "output_type": "stream",
     "text": [
      "3\n"
     ]
    }
   ],
   "source": [
    "print(len(X))"
   ],
   "metadata": {
    "collapsed": false,
    "ExecuteTime": {
     "end_time": "2023-07-03T15:25:04.047031700Z",
     "start_time": "2023-07-03T15:25:04.021088400Z"
    }
   }
  },
  {
   "cell_type": "code",
   "execution_count": null,
   "outputs": [],
   "source": [],
   "metadata": {
    "collapsed": false
   }
  },
  {
   "cell_type": "code",
   "execution_count": 31,
   "outputs": [
    {
     "ename": "ArgumentError",
     "evalue": "argument 7: TypeError: Don't know how to convert parameter 7",
     "output_type": "error",
     "traceback": [
      "\u001B[1;31m---------------------------------------------------------------------------\u001B[0m",
      "\u001B[1;31mArgumentError\u001B[0m                             Traceback (most recent call last)",
      "Cell \u001B[1;32mIn[31], line 1\u001B[0m\n\u001B[1;32m----> 1\u001B[0m pmc_trained_model_ptr \u001B[38;5;241m=\u001B[39m \u001B[43mmy_lib\u001B[49m\u001B[38;5;241;43m.\u001B[39;49m\u001B[43mmulti_layer_perceptron_training\u001B[49m\u001B[43m(\u001B[49m\n\u001B[0;32m      2\u001B[0m \u001B[43m    \u001B[49m\u001B[43mw_array_ptr\u001B[49m\u001B[43m,\u001B[49m\n\u001B[0;32m      3\u001B[0m \u001B[43m    \u001B[49m\u001B[43my_to_predict_ptr\u001B[49m\u001B[43m,\u001B[49m\n\u001B[0;32m      4\u001B[0m \u001B[43m    \u001B[49m\u001B[43mx_to_predict_ptr\u001B[49m\u001B[43m,\u001B[49m\n\u001B[0;32m      5\u001B[0m \u001B[43m    \u001B[49m\u001B[38;5;28;43mlen\u001B[39;49m\u001B[43m(\u001B[49m\u001B[43mX\u001B[49m\u001B[43m)\u001B[49m\u001B[43m,\u001B[49m\u001B[43m  \u001B[49m\u001B[38;5;66;43;03m# number of inputs\u001B[39;49;00m\n\u001B[0;32m      6\u001B[0m \u001B[43m    \u001B[49m\u001B[38;5;28;43mint\u001B[39;49m\u001B[43m(\u001B[49m\u001B[38;5;28;43mlen\u001B[39;49m\u001B[43m(\u001B[49m\u001B[43mX_flat\u001B[49m\u001B[43m)\u001B[49m\u001B[38;5;241;43m/\u001B[39;49m\u001B[38;5;28;43mlen\u001B[39;49m\u001B[43m(\u001B[49m\u001B[43mX\u001B[49m\u001B[43m)\u001B[49m\u001B[43m)\u001B[49m\u001B[43m,\u001B[49m\u001B[43m  \u001B[49m\u001B[38;5;66;43;03m# dimension of inputs\u001B[39;49;00m\n\u001B[0;32m      7\u001B[0m \u001B[43m    \u001B[49m\u001B[38;5;241;43m3\u001B[39;49m\u001B[43m,\u001B[49m\u001B[43m  \u001B[49m\u001B[38;5;66;43;03m# number of classes to predict\u001B[39;49;00m\n\u001B[0;32m      8\u001B[0m \u001B[43m    \u001B[49m\u001B[38;5;241;43m0.5\u001B[39;49m\u001B[43m,\u001B[49m\u001B[43m  \u001B[49m\u001B[38;5;66;43;03m# learning rate\u001B[39;49;00m\n\u001B[0;32m      9\u001B[0m \u001B[43m    \u001B[49m\u001B[38;5;241;43m10\u001B[39;49m\u001B[43m,\u001B[49m\u001B[43m  \u001B[49m\u001B[38;5;66;43;03m# epochs\u001B[39;49;00m\n\u001B[0;32m     10\u001B[0m \u001B[43m    \u001B[49m\u001B[43mlayers_ptr_pmc\u001B[49m\u001B[43m,\u001B[49m\u001B[43m  \u001B[49m\u001B[38;5;66;43;03m# pointeur vers la forme de pmc\u001B[39;49;00m\n\u001B[0;32m     11\u001B[0m \u001B[43m    \u001B[49m\u001B[43mnumber_of_layers\u001B[49m\u001B[43m,\u001B[49m\u001B[43m  \u001B[49m\u001B[38;5;66;43;03m# number of layers\u001B[39;49;00m\n\u001B[0;32m     12\u001B[0m \u001B[43m    \u001B[49m\u001B[38;5;28;43;01mTrue\u001B[39;49;00m\u001B[43m,\u001B[49m\n\u001B[0;32m     13\u001B[0m \u001B[43m)\u001B[49m\n\u001B[0;32m     15\u001B[0m pmc_trained_model \u001B[38;5;241m=\u001B[39m np\u001B[38;5;241m.\u001B[39mctypeslib\u001B[38;5;241m.\u001B[39mas_array(pmc_trained_model_ptr, (\u001B[38;5;241m7501\u001B[39m\u001B[38;5;241m*\u001B[39m\u001B[38;5;241m3\u001B[39m,))\n\u001B[0;32m     16\u001B[0m \u001B[38;5;66;03m#print(pmc_trained_model)\u001B[39;00m\n",
      "\u001B[1;31mArgumentError\u001B[0m: argument 7: TypeError: Don't know how to convert parameter 7"
     ]
    }
   ],
   "source": [
    "# pmc_trained_model_ptr = my_lib.multi_layer_perceptron_training(\n",
    "#     w_array_ptr,\n",
    "#     y_to_predict_ptr,\n",
    "#     x_to_predict_ptr,\n",
    "#     len(X),  # number of inputs\n",
    "#     int(len(X_flat)/len(X)),  # dimension of inputs\n",
    "#     3,  # number of classes to predict\n",
    "#     0.5,  # learning rate\n",
    "#     10,  # epochs\n",
    "#     layers_ptr_pmc,  # pointeur vers la forme de pmc\n",
    "#     number_of_layers,  # number of layers\n",
    "#     True,\n",
    "# )\n",
    "#\n",
    "# pmc_trained_model = np.ctypeslib.as_array(pmc_trained_model_ptr, (7501*3,))\n",
    "# #print(pmc_trained_model)\n"
   ],
   "metadata": {
    "collapsed": false
   }
  },
  {
   "cell_type": "code",
   "execution_count": 16,
   "outputs": [],
   "source": [
    "# asia_data = np.asarray(asia_new_size)\n",
    "# greek_data = np.asarray(greek_new_size)\n",
    "# south_america_data = np.asarray(south_america_new_size)\n",
    "image_a_predire_data = np.array([predict_asia_data, predict_chateau_data, predict_greek_data],dtype=ctypes.c_float)\n",
    "image_a_predire_data_flat=image_a_predire_data.flatten()\n",
    "# new_X = np.array([south_america_data, asia_data, greek_data], dtype=ctypes.c_float)\n",
    "# new_flat_X = X.flatten()"
   ],
   "metadata": {
    "collapsed": false,
    "ExecuteTime": {
     "end_time": "2023-07-03T15:25:07.933188200Z",
     "start_time": "2023-07-03T15:25:07.895288100Z"
    }
   }
  },
  {
   "cell_type": "code",
   "execution_count": 17,
   "outputs": [
    {
     "name": "stdout",
     "output_type": "stream",
     "text": [
      "3\n",
      "22500\n"
     ]
    }
   ],
   "source": [
    "print(len(image_a_predire_data))\n",
    "print(len(image_a_predire_data_flat))"
   ],
   "metadata": {
    "collapsed": false,
    "ExecuteTime": {
     "end_time": "2023-07-03T15:25:08.743984900Z",
     "start_time": "2023-07-03T15:25:08.708079600Z"
    }
   }
  },
  {
   "cell_type": "code",
   "execution_count": 18,
   "outputs": [
    {
     "ename": "NameError",
     "evalue": "name 'pmc_trained_model_ptr' is not defined",
     "output_type": "error",
     "traceback": [
      "\u001B[1;31m---------------------------------------------------------------------------\u001B[0m",
      "\u001B[1;31mNameError\u001B[0m                                 Traceback (most recent call last)",
      "Cell \u001B[1;32mIn[18], line 19\u001B[0m\n\u001B[0;32m     15\u001B[0m x_to_predict_mlp \u001B[38;5;241m=\u001B[39m (ctypes\u001B[38;5;241m.\u001B[39mc_float \u001B[38;5;241m*\u001B[39m \u001B[38;5;28mlen\u001B[39m(image_a_predire_data_flat))(\u001B[38;5;241m*\u001B[39mimage_a_predire_data_flat)\n\u001B[0;32m     16\u001B[0m x_to_predict_ptr_mlp \u001B[38;5;241m=\u001B[39m ctypes\u001B[38;5;241m.\u001B[39mcast(x_to_predict_mlp, LP_c_float)\n\u001B[0;32m     18\u001B[0m pmc_predict_ptr \u001B[38;5;241m=\u001B[39m my_lib\u001B[38;5;241m.\u001B[39mmulti_layer_perceptron_predict(\n\u001B[1;32m---> 19\u001B[0m     \u001B[43mpmc_trained_model_ptr\u001B[49m,  \u001B[38;5;66;03m# pointeur vers le modele entrainé\u001B[39;00m\n\u001B[0;32m     20\u001B[0m     x_to_predict_ptr_mlp,  \u001B[38;5;66;03m# pointeur vers le dataset à prédire\u001B[39;00m\n\u001B[0;32m     21\u001B[0m     \u001B[38;5;28mlen\u001B[39m(image_a_predire_data),  \u001B[38;5;66;03m# nombre d'éléments du dataset\u001B[39;00m\n\u001B[0;32m     22\u001B[0m     \u001B[38;5;28mint\u001B[39m(\u001B[38;5;28mlen\u001B[39m(image_a_predire_data_flat)\u001B[38;5;241m/\u001B[39m\u001B[38;5;28mlen\u001B[39m(image_a_predire_data)),  \u001B[38;5;66;03m# dimension des éléments du dataset\u001B[39;00m\n\u001B[0;32m     23\u001B[0m     \u001B[38;5;241m3\u001B[39m,  \u001B[38;5;66;03m# number of classes to predict\u001B[39;00m\n\u001B[0;32m     24\u001B[0m     layers_ptr_pmc,  \u001B[38;5;66;03m# pointeur vers la forme de pmc\u001B[39;00m\n\u001B[0;32m     25\u001B[0m     number_of_layers,  \u001B[38;5;66;03m# number of layers\u001B[39;00m\n\u001B[0;32m     26\u001B[0m     \u001B[38;5;28;01mTrue\u001B[39;00m,  \u001B[38;5;66;03m# is classification\u001B[39;00m\n\u001B[0;32m     27\u001B[0m )\n\u001B[0;32m     29\u001B[0m pmc_predict_model \u001B[38;5;241m=\u001B[39m np\u001B[38;5;241m.\u001B[39mctypeslib\u001B[38;5;241m.\u001B[39mas_array(pmc_predict_ptr, (\u001B[38;5;241m3\u001B[39m \u001B[38;5;241m*\u001B[39m \u001B[38;5;28mlen\u001B[39m(image_a_predire_data),))\n\u001B[0;32m     30\u001B[0m \u001B[38;5;66;03m# print(pmc_predict_model)\u001B[39;00m\n\u001B[0;32m     31\u001B[0m \u001B[38;5;66;03m# print(len(X_to_predict))\u001B[39;00m\n\u001B[0;32m     32\u001B[0m \u001B[38;5;66;03m# print(len(X_to_predict_flat))\u001B[39;00m\n",
      "\u001B[1;31mNameError\u001B[0m: name 'pmc_trained_model_ptr' is not defined"
     ]
    }
   ],
   "source": [
    "my_lib.multi_layer_perceptron_predict.argtypes = [\n",
    "    ctypes.POINTER(ctypes.c_float),\n",
    "    ctypes.POINTER(ctypes.c_float),\n",
    "    ctypes.c_int32,\n",
    "    ctypes.c_int32,\n",
    "    ctypes.c_int32,\n",
    "    ctypes.POINTER(ctypes.c_float),\n",
    "    ctypes.c_int32,\n",
    "    ctypes.c_bool,\n",
    "]\n",
    "\n",
    "my_lib.multi_layer_perceptron_predict.restype = ctypes.POINTER(ctypes.c_float)\n",
    "\n",
    "LP_c_float = ctypes.POINTER(ctypes.c_float)\n",
    "x_to_predict_mlp = (ctypes.c_float * len(image_a_predire_data_flat))(*image_a_predire_data_flat)\n",
    "x_to_predict_ptr_mlp = ctypes.cast(x_to_predict_mlp, LP_c_float)\n",
    "\n",
    "pmc_predict_ptr = my_lib.multi_layer_perceptron_predict(\n",
    "    pmc_trained_model_accuracy_ptr,  # pointeur vers le modele entrainé\n",
    "    x_to_predict_ptr_mlp,  # pointeur vers le dataset à prédire\n",
    "    len(image_a_predire_data),  # nombre d'éléments du dataset\n",
    "    int(len(image_a_predire_data_flat)/len(image_a_predire_data)),  # dimension des éléments du dataset\n",
    "    3,  # number of classes to predict\n",
    "    layers_ptr_pmc,  # pointeur vers la forme de pmc\n",
    "    number_of_layers,  # number of layers\n",
    "    True,  # is classification\n",
    ")\n",
    "\n",
    "pmc_predict_model = np.ctypeslib.as_array(pmc_predict_ptr, (3 * len(image_a_predire_data),))\n",
    "# print(pmc_predict_model)\n",
    "# print(len(X_to_predict))\n",
    "# print(len(X_to_predict_flat))\n"
   ],
   "metadata": {
    "collapsed": false,
    "ExecuteTime": {
     "end_time": "2023-07-03T15:25:11.627707Z",
     "start_time": "2023-07-03T15:25:10.101979900Z"
    }
   }
  },
  {
   "cell_type": "code",
   "execution_count": 19,
   "outputs": [
    {
     "ename": "NameError",
     "evalue": "name 'pmc_predict_model' is not defined",
     "output_type": "error",
     "traceback": [
      "\u001B[1;31m---------------------------------------------------------------------------\u001B[0m",
      "\u001B[1;31mNameError\u001B[0m                                 Traceback (most recent call last)",
      "Cell \u001B[1;32mIn[19], line 1\u001B[0m\n\u001B[1;32m----> 1\u001B[0m \u001B[38;5;28;01mfor\u001B[39;00m j \u001B[38;5;129;01min\u001B[39;00m \u001B[38;5;28mrange\u001B[39m(\u001B[38;5;241m0\u001B[39m,\u001B[38;5;28mlen\u001B[39m(\u001B[43mpmc_predict_model\u001B[49m)\u001B[38;5;241m-\u001B[39m\u001B[38;5;241m2\u001B[39m,\u001B[38;5;241m3\u001B[39m) :\n\u001B[0;32m      2\u001B[0m     \u001B[38;5;28;01mif\u001B[39;00m pmc_predict_model[j] \u001B[38;5;241m>\u001B[39m pmc_predict_model[j\u001B[38;5;241m+\u001B[39m\u001B[38;5;241m1\u001B[39m] \u001B[38;5;129;01mand\u001B[39;00m pmc_predict_model[j] \u001B[38;5;241m>\u001B[39m pmc_predict_model[j\u001B[38;5;241m+\u001B[39m\u001B[38;5;241m2\u001B[39m] :\n\u001B[0;32m      3\u001B[0m         \u001B[38;5;28mprint\u001B[39m(\u001B[38;5;124m\"\u001B[39m\u001B[38;5;124mL\u001B[39m\u001B[38;5;124m'\u001B[39m\u001B[38;5;124mimage a deviner vient d\u001B[39m\u001B[38;5;124m'\u001B[39m\u001B[38;5;124masie\u001B[39m\u001B[38;5;124m\"\u001B[39m)\n",
      "\u001B[1;31mNameError\u001B[0m: name 'pmc_predict_model' is not defined"
     ]
    }
   ],
   "source": [
    "for j in range(0,len(pmc_predict_model)-2,3) :\n",
    "    if pmc_predict_model[j] > pmc_predict_model[j+1] and pmc_predict_model[j] > pmc_predict_model[j+2] :\n",
    "        print(\"L'image a deviner vient d'asie\")\n",
    "    elif pmc_predict_model[j+1] > pmc_predict_model[j] and pmc_predict_model[j+1] > pmc_predict_model[j+2] :\n",
    "        print(\"L'image a deviner vient de grece\")\n",
    "    elif pmc_predict_model[j+2] > pmc_predict_model[j] and pmc_predict_model[j+2] > pmc_predict_model[j+1]:\n",
    "        print(\"L'image a deviner vient d'amerique du sud\")\n",
    "    else :\n",
    "        print('résultats non concluants')"
   ],
   "metadata": {
    "collapsed": false,
    "ExecuteTime": {
     "end_time": "2023-07-03T15:25:17.009834700Z",
     "start_time": "2023-07-03T15:25:16.962958300Z"
    }
   }
  },
  {
   "cell_type": "code",
   "execution_count": 23,
   "outputs": [
    {
     "name": "stdout",
     "output_type": "stream",
     "text": [
      "[-0.9992589   0.9996983   0.93401915 -0.99956805  0.9992659   0.8752813\n",
      " -0.9994039   0.99961466  0.8829671 ]\n"
     ]
    }
   ],
   "source": [
    "print(pmc_predict_model)"
   ],
   "metadata": {
    "collapsed": false
   }
  }
 ],
 "metadata": {
  "kernelspec": {
   "display_name": "Python 3",
   "language": "python",
   "name": "python3"
  },
  "language_info": {
   "codemirror_mode": {
    "name": "ipython",
    "version": 2
   },
   "file_extension": ".py",
   "mimetype": "text/x-python",
   "name": "python",
   "nbconvert_exporter": "python",
   "pygments_lexer": "ipython2",
   "version": "2.7.6"
  }
 },
 "nbformat": 4,
 "nbformat_minor": 0
}
