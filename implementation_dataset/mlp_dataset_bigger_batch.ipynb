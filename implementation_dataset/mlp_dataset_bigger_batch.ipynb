{
 "cells": [
  {
   "cell_type": "code",
   "execution_count": 1,
   "metadata": {
    "collapsed": true
   },
   "outputs": [],
   "source": [
    "import numpy as np\n",
    "from PIL import Image\n",
    "import ctypes\n",
    "import matplotlib.pyplot as plt\n",
    "import random\n",
    "import os"
   ]
  },
  {
   "cell_type": "code",
   "execution_count": 2,
   "outputs": [],
   "source": [
    "directory_inputs = [\"../database/32x32/grey/asie_sud_est\",\"../database/32x32/grey/rome_grece\",\"../database/32x32/grey/chateau_europe\"]\n",
    "directory_test_inputs = [\"../database/32x32/grey/tests/asie_sud_est\",\"../database/32x32/grey/tests/rome_grece\",\"../database/32x32/grey/tests/chateau_europe\"]\n",
    "# directory_inputs = [\"../database/resized_dataset/amerique_sud\",\"../database/resized_dataset/asie_sud_est\",\"../database/resized_dataset/rome_grece\"]"
   ],
   "metadata": {
    "collapsed": false
   }
  },
  {
   "cell_type": "code",
   "execution_count": 3,
   "outputs": [],
   "source": [
    "X = []\n",
    "Y = []\n",
    "\n",
    "for i in range(len(directory_inputs)):\n",
    "    for image_file in os.listdir(directory_inputs[i]):\n",
    "        if 'image' in image_file:\n",
    "            if i == 0 :\n",
    "                image_file = Image.open(directory_inputs[i]+'/'+image_file)\n",
    "                # print(image_file)\n",
    "                X.append(np.asarray(image_file))\n",
    "                Y.append([1., -1., -1.])\n",
    "            elif i == 1 :\n",
    "                image_file = Image.open(directory_inputs[i]+'/'+image_file)\n",
    "                # print(image_file)\n",
    "                X.append(np.asarray(image_file))\n",
    "                Y.append([-1., 1., -1.])\n",
    "            elif i == 2 :\n",
    "                image_file = Image.open(directory_inputs[i]+'/'+image_file)\n",
    "                # print(image_file)\n",
    "                X.append(np.asarray(image_file))\n",
    "                Y.append([-1.,-1.,1.])\n",
    "\n",
    "X = np.array(X, dtype=ctypes.c_float)\n",
    "X_flat = X.flatten()/255 * 2 - 1\n",
    "\n",
    "Y = np.array(Y, dtype=ctypes.c_float)\n",
    "Y_flat = Y.flatten()"
   ],
   "metadata": {
    "collapsed": false
   }
  },
  {
   "cell_type": "code",
   "execution_count": 4,
   "outputs": [],
   "source": [
    "# len(Y_flat)"
   ],
   "metadata": {
    "collapsed": false
   }
  },
  {
   "cell_type": "code",
   "execution_count": 5,
   "outputs": [],
   "source": [
    "X_train = []\n",
    "Y_train = []\n",
    "\n",
    "for i in range(len(directory_test_inputs)):\n",
    "    for image_file in os.listdir(directory_test_inputs[i]):\n",
    "        if 'image' in image_file:\n",
    "            if i == 0 :\n",
    "                image_file = Image.open(directory_test_inputs[i]+'/'+image_file)\n",
    "                # print(image_file)\n",
    "                X_train.append(np.asarray(image_file))\n",
    "                Y_train.append([1., -1.,-1.])\n",
    "            elif i == 1 :\n",
    "                image_file = Image.open(directory_test_inputs[i]+'/'+image_file)\n",
    "                # print(image_file)\n",
    "                X_train.append(np.asarray(image_file))\n",
    "                Y_train.append([-1., 1.,-1.])\n",
    "            elif i == 2 :\n",
    "                image_file = Image.open(directory_test_inputs[i]+'/'+image_file)\n",
    "                # print(image_file)\n",
    "                X_train.append(np.asarray(image_file))\n",
    "                Y_train.append([-1., -1.,1.])\n",
    "\n",
    "X_train = np.array(X_train, dtype=ctypes.c_float)\n",
    "X_train_flat = X_train.flatten()/255 * 2 - 1\n",
    "\n",
    "Y_train = np.array(Y_train, dtype=ctypes.c_float)\n",
    "Y_train_flat = Y_train.flatten()"
   ],
   "metadata": {
    "collapsed": false
   }
  },
  {
   "cell_type": "code",
   "execution_count": 6,
   "outputs": [],
   "source": [
    "# len(X_train)"
   ],
   "metadata": {
    "collapsed": false
   }
  },
  {
   "cell_type": "code",
   "execution_count": 7,
   "outputs": [],
   "source": [
    "# print(len(X_flat)/(3*27*27))\n",
    "# print(len(Y_train_flat)/2)"
   ],
   "metadata": {
    "collapsed": false
   }
  },
  {
   "cell_type": "code",
   "execution_count": 8,
   "outputs": [],
   "source": [
    "# print(len(X_flat)/len(X))\n",
    "# print(len(Y_flat))\n",
    "#\n",
    "# print(X_flat)\n",
    "# print(Y_flat)"
   ],
   "metadata": {
    "collapsed": false
   }
  },
  {
   "cell_type": "code",
   "execution_count": 9,
   "outputs": [],
   "source": [
    "# print(len(X_flat))"
   ],
   "metadata": {
    "collapsed": false
   }
  },
  {
   "cell_type": "code",
   "execution_count": 10,
   "outputs": [
    {
     "name": "stdout",
     "output_type": "stream",
     "text": [
      "5\n",
      "[1024.  256.  128.   64.    3.]\n"
     ]
    }
   ],
   "source": [
    "my_lib = ctypes.CDLL(r\"..\\rust_lib\\target\\release\\rust_lib.dll\")\n",
    "\n",
    "my_lib.delete_float_array.argtypes = [\n",
    "    ctypes.POINTER(ctypes.c_float),\n",
    "    ctypes.c_int32,\n",
    "]\n",
    "\n",
    "my_lib.generate_random_mpl_w.argtypes = [ctypes.POINTER(ctypes.c_float), ctypes.c_int32]\n",
    "my_lib.generate_random_mpl_w.restype = ctypes.POINTER(ctypes.c_float)\n",
    "\n",
    "my_lib.delete_float_array.restype = None\n",
    "\n",
    "layers = np.array([len(X_flat)/len(X), 256, 128, 64, 3], dtype=ctypes.c_float)\n",
    "LP_c_float = ctypes.POINTER(ctypes.c_float)\n",
    "layers_pmc = (ctypes.c_float * len(layers))(*layers)\n",
    "layers_ptr_pmc = ctypes.cast(layers_pmc, LP_c_float)\n",
    "\n",
    "print(len(layers_pmc))\n",
    "number_of_layers = len(layers_pmc)\n",
    "print(layers)\n",
    "number_of_classes_to_predict = int(layers[-1])"
   ],
   "metadata": {
    "collapsed": false
   }
  },
  {
   "cell_type": "code",
   "execution_count": 11,
   "outputs": [],
   "source": [
    "# print(int(layers[-1]))"
   ],
   "metadata": {
    "collapsed": false
   }
  },
  {
   "cell_type": "code",
   "execution_count": 12,
   "outputs": [],
   "source": [
    "# w_array_ptr = my_lib.generate_random_mpl_w(layers_ptr_pmc, number_of_layers)\n",
    "# w_array = np.ctypeslib.as_array(w_array_ptr, ((7501*3 + 4*3,))) #3*16 + 17*16 + 17*3\n",
    "#\n",
    "# LP_c_float = ctypes.POINTER(ctypes.c_float)\n",
    "# x_to_predict = (ctypes.c_float * len(X_flat))(*X_flat)\n",
    "# x_to_predict_ptr = ctypes.cast(x_to_predict, LP_c_float)\n",
    "# LP_c_float = ctypes.POINTER(ctypes.c_float)\n",
    "# y_to_predict = (ctypes.c_float * len(Y_flat))(*Y_flat)\n",
    "# y_to_predict_ptr = ctypes.cast(y_to_predict, LP_c_float)\n",
    "# my_lib.multi_layer_perceptron_training.argtypes = [\n",
    "#     ctypes.POINTER(ctypes.c_float),\n",
    "#     ctypes.POINTER(ctypes.c_float),\n",
    "#     ctypes.POINTER(ctypes.c_float),\n",
    "#     ctypes.c_int32,\n",
    "#     ctypes.c_int32,\n",
    "#     ctypes.c_int32,\n",
    "#     ctypes.c_float,\n",
    "#     ctypes.c_int32,\n",
    "#     ctypes.POINTER(ctypes.c_float),\n",
    "#     ctypes.c_int32,\n",
    "#     ctypes.c_bool,\n",
    "# ]\n",
    "# my_lib.multi_layer_perceptron_training.restype = ctypes.POINTER(ctypes.c_float)"
   ],
   "metadata": {
    "collapsed": false
   }
  },
  {
   "cell_type": "code",
   "execution_count": 13,
   "outputs": [],
   "source": [
    "# print(len(X))"
   ],
   "metadata": {
    "collapsed": false
   }
  },
  {
   "cell_type": "code",
   "execution_count": 14,
   "outputs": [],
   "source": [
    "w_array_ptr = my_lib.generate_random_mpl_w(layers_ptr_pmc, number_of_layers)\n",
    "w_array = np.ctypeslib.as_array(w_array_ptr, ((1025*256+257*128+129*64+65*3,))) #3*16 + 17*16 + 17*3\n",
    "\n",
    "LP_c_float = ctypes.POINTER(ctypes.c_float)\n",
    "x_to_predict = (ctypes.c_float * len(X_flat))(*X_flat)\n",
    "x_to_predict_ptr = ctypes.cast(x_to_predict, LP_c_float)\n",
    "LP_c_float = ctypes.POINTER(ctypes.c_float)\n",
    "y_to_predict = (ctypes.c_float * len(Y_flat))(*Y_flat)\n",
    "y_to_predict_ptr = ctypes.cast(y_to_predict, LP_c_float)\n",
    "\n",
    "LP_c_float = ctypes.POINTER(ctypes.c_float)\n",
    "x_to_predict_test = (ctypes.c_float * len(X_train_flat))(*X_train_flat)\n",
    "x_to_predict_test_ptr = ctypes.cast(x_to_predict_test, LP_c_float)\n",
    "LP_c_float = ctypes.POINTER(ctypes.c_float)\n",
    "y_to_predict_test = (ctypes.c_float * len(Y_train_flat))(*Y_train_flat)\n",
    "y_to_predict_test_ptr = ctypes.cast(y_to_predict_test, LP_c_float)\n",
    "\n",
    "my_lib.multi_layer_perceptron_accuracy.argtypes = [\n",
    "    ctypes.POINTER(ctypes.c_float),\n",
    "    ctypes.POINTER(ctypes.c_float),\n",
    "    ctypes.POINTER(ctypes.c_float),\n",
    "    ctypes.c_int32,\n",
    "    ctypes.POINTER(ctypes.c_float),\n",
    "    ctypes.POINTER(ctypes.c_float),\n",
    "    ctypes.c_int32,\n",
    "    ctypes.c_int32,\n",
    "    ctypes.c_int32,\n",
    "    ctypes.c_float,\n",
    "    ctypes.c_int32,\n",
    "    ctypes.c_int32,\n",
    "    ctypes.POINTER(ctypes.c_float),\n",
    "    ctypes.c_int32,\n",
    "    ctypes.c_bool,\n",
    "]\n",
    "my_lib.multi_layer_perceptron_accuracy.restype = ctypes.POINTER(ctypes.c_float)"
   ],
   "metadata": {
    "collapsed": false
   }
  },
  {
   "cell_type": "code",
   "execution_count": 15,
   "outputs": [],
   "source": [
    "# int(len(X_flat)/len(X))"
   ],
   "metadata": {
    "collapsed": false
   }
  },
  {
   "cell_type": "code",
   "execution_count": 16,
   "outputs": [],
   "source": [
    "pmc_trained_model_accuracy_ptr = my_lib.multi_layer_perceptron_accuracy(\n",
    "    w_array_ptr,\n",
    "    y_to_predict_ptr,\n",
    "    x_to_predict_ptr,\n",
    "    len(X),  # number of inputs\n",
    "    y_to_predict_test_ptr,\n",
    "    x_to_predict_test_ptr,\n",
    "    len(X_train),\n",
    "    int(len(X_flat)/len(X)),  # dimension of inputs\n",
    "    3,  # number of classes to predict\n",
    "    0.001,  # learning rate\n",
    "    1000,  # epochs\n",
    "    1,\n",
    "    layers_ptr_pmc,  # pointeur vers la forme de pmc\n",
    "    number_of_layers,  # number of layers\n",
    "    True,\n",
    ")\n",
    "\n",
    "pmc_trained_model = np.ctypeslib.as_array(pmc_trained_model_accuracy_ptr, (1025*256+257*128+129*64+65*3,))\n",
    "\n"
   ],
   "metadata": {
    "collapsed": false
   }
  },
  {
   "cell_type": "code",
   "execution_count": 17,
   "outputs": [],
   "source": [
    "np.savetxt('saved_pmc_grey_256_128_64_3', pmc_trained_model)"
   ],
   "metadata": {
    "collapsed": false
   }
  },
  {
   "cell_type": "code",
   "execution_count": 21,
   "outputs": [
    {
     "data": {
      "text/plain": "<Figure size 640x480 with 1 Axes>",
      "image/png": "[encoded data removed]"
     },
     "metadata": {},
     "output_type": "display_data"
    }
   ],
   "source": [
    "f = open(\"saved_accuracy.txt\", \"r\")\n",
    "content = f.readlines()\n",
    "acc_train = [float(value) for value in content[0].strip().replace(',', ' ').split()]\n",
    "acc_test = [float(value) for value in content[1].strip().replace(',', ' ').split()]\n",
    "\n",
    "plt.plot(range(len(acc_train)), acc_train, label='Train')\n",
    "plt.plot(range(len(acc_test)), acc_test, label='Test')\n",
    "\n",
    "plt.xlabel('Epoch')\n",
    "plt.ylabel('Erreur %')\n",
    "\n",
    "plt.legend()\n",
    "\n",
    "plt.show()"
   ],
   "metadata": {
    "collapsed": false
   }
  },
  {
   "cell_type": "code",
   "execution_count": 21,
   "outputs": [
    {
     "ename": "AttributeError",
     "evalue": "'numpy.ndarray' object has no attribute 'to_list'",
     "output_type": "error",
     "traceback": [
      "\u001B[1;31m---------------------------------------------------------------------------\u001B[0m",
      "\u001B[1;31mAttributeError\u001B[0m                            Traceback (most recent call last)",
      "Cell \u001B[1;32mIn[21], line 3\u001B[0m\n\u001B[0;32m      1\u001B[0m \u001B[38;5;28;01mfrom\u001B[39;00m \u001B[38;5;21;01mjson\u001B[39;00m \u001B[38;5;28;01mimport\u001B[39;00m dump\n\u001B[0;32m      2\u001B[0m \u001B[38;5;28;01mwith\u001B[39;00m \u001B[38;5;28mopen\u001B[39m(\u001B[38;5;124m'\u001B[39m\u001B[38;5;124msaved_pmc_grey_128_128_3_json\u001B[39m\u001B[38;5;124m'\u001B[39m, \u001B[38;5;124m'\u001B[39m\u001B[38;5;124mw\u001B[39m\u001B[38;5;124m'\u001B[39m) \u001B[38;5;28;01mas\u001B[39;00m filepath :\n\u001B[1;32m----> 3\u001B[0m   dump(\u001B[43mpmc_trained_model\u001B[49m\u001B[38;5;241;43m.\u001B[39;49m\u001B[43mto_list\u001B[49m())\n",
      "\u001B[1;31mAttributeError\u001B[0m: 'numpy.ndarray' object has no attribute 'to_list'"
     ]
    }
   ],
   "source": [
    "from json import dump\n",
    "with open('saved_pmc_grey_128_128_3_json', 'w') as filepath :\n",
    "  dump(pmc_trained_model.to_list())"
   ],
   "metadata": {
    "collapsed": false
   }
  },
  {
   "cell_type": "code",
   "execution_count": null,
   "outputs": [],
   "source": [
    "# pmc_trained_model_ptr = my_lib.multi_layer_perceptron_training(\n",
    "#     w_array_ptr,\n",
    "#     y_to_predict_ptr,\n",
    "#     x_to_predict_ptr,\n",
    "#     len(X),  # number of inputs\n",
    "#     int(len(X_flat)/len(X)),  # dimension of inputs\n",
    "#     number_of_classes_to_predict,  # number of classes to predict\n",
    "#     0.005,  # learning rate\n",
    "#     1000,  # epochs\n",
    "#     layers_ptr_pmc,  # pointeur vers la forme de pmc\n",
    "#     number_of_layers,  # number of layers\n",
    "#     True,\n",
    "# )\n",
    "#\n",
    "# pmc_trained_model = np.ctypeslib.as_array(pmc_trained_model_ptr, (7501*3+4*3,))\n",
    "# #print(pmc_trained_model)\n"
   ],
   "metadata": {
    "collapsed": false,
    "pycharm": {
     "is_executing": true
    }
   }
  },
  {
   "cell_type": "code",
   "execution_count": 17,
   "outputs": [
    {
     "name": "stdout",
     "output_type": "stream",
     "text": [
      "120849\n"
     ]
    }
   ],
   "source": [
    "print(len(pmc_trained_model))"
   ],
   "metadata": {
    "collapsed": false
   }
  },
  {
   "cell_type": "code",
   "execution_count": 37,
   "outputs": [],
   "source": [
    "image_a_predire_grec = np.asarray(Image.open('test_images/rome_grece/predict_grec.jpg').resize((32,32)).convert('L'))/255 * 2 - 1\n",
    "image_a_predire_asie = np.asarray(Image.open('test_images/asie_sud_est/predict_asie.jpg').resize((32,32)).convert('L'))/255 * 2 - 1\n",
    "image_a_predire_asie_maps = np.asarray(Image.open('test_images/asie/predict_asia_maps.png').resize((32,32)).convert('L'))/255 * 2 - 1\n",
    "image_a_predire_chateau = np.asarray(Image.open('test_images/chateau/image_2023-06-26_16-37_0.jpg').resize((32,32)).convert('L'))/255 * 2 - 1\n",
    "\n",
    "\n",
    "\n",
    "# image_a_predire_amerique = np.asarray(Image.open('test_images/predict_amerique.jpg').resize((27,27)).convert('RGB'))\n",
    "\n",
    "# print(image_a_predire_grec)\n",
    "# print(image_a_predire_asie)\n",
    "# print(image_a_predire_amerique)\n",
    "\n",
    "# image_a_predire_grec.show()\n",
    "# image_a_predire_amerique.show()\n",
    "# image_a_predire_asie.show()\n",
    "\n",
    "image_a_predire_data = np.array([image_a_predire_asie,image_a_predire_grec,image_a_predire_asie_maps,image_a_predire_chateau],dtype=ctypes.c_float)\n",
    "image_a_predire_data_flat=image_a_predire_data.flatten()\n",
    "\n"
   ],
   "metadata": {
    "collapsed": false
   }
  },
  {
   "cell_type": "code",
   "execution_count": 38,
   "outputs": [
    {
     "name": "stdout",
     "output_type": "stream",
     "text": [
      "4\n",
      "4096\n"
     ]
    }
   ],
   "source": [
    "print(len(image_a_predire_data))\n",
    "print(len(image_a_predire_data_flat))"
   ],
   "metadata": {
    "collapsed": false
   }
  },
  {
   "cell_type": "code",
   "execution_count": 39,
   "outputs": [],
   "source": [
    "LP_c_float = ctypes.POINTER(ctypes.c_float)\n",
    "x_to_predict_test = (ctypes.c_float * len(X_train_flat))(*X_train_flat)\n",
    "x_to_predict_test_ptr = ctypes.cast(x_to_predict_test, LP_c_float)\n",
    "LP_c_float = ctypes.POINTER(ctypes.c_float)\n",
    "y_to_predict_test = (ctypes.c_float * len(Y_train_flat))(*Y_train_flat)\n",
    "y_to_predict_test_ptr = ctypes.cast(y_to_predict_test, LP_c_float)"
   ],
   "metadata": {
    "collapsed": false
   }
  },
  {
   "cell_type": "code",
   "execution_count": 40,
   "outputs": [],
   "source": [
    "my_lib.multi_layer_perceptron_predict.argtypes = [\n",
    "    ctypes.POINTER(ctypes.c_float),\n",
    "    ctypes.POINTER(ctypes.c_float),\n",
    "    ctypes.c_int32,\n",
    "    ctypes.c_int32,\n",
    "    ctypes.c_int32,\n",
    "    ctypes.POINTER(ctypes.c_float),\n",
    "    ctypes.c_int32,\n",
    "    ctypes.c_bool,\n",
    "]\n",
    "\n",
    "my_lib.multi_layer_perceptron_predict.restype = ctypes.POINTER(ctypes.c_float)\n",
    "\n",
    "# LP_c_float = ctypes.POINTER(ctypes.c_float)\n",
    "# x_to_predict_mlp = (ctypes.c_float * len(image_a_predire_data_flat))(*image_a_predire_data_flat)\n",
    "# x_to_predict_ptr_mlp = ctypes.cast(x_to_predict_mlp, LP_c_float)\n",
    "\n",
    "pmc_predict_ptr = my_lib.multi_layer_perceptron_predict(\n",
    "    pmc_trained_model_accuracy_ptr,  # pointeur vers le modele entrainé\n",
    "    x_to_predict_test_ptr,  # pointeur vers le dataset à prédire\n",
    "    len(image_a_predire_data),  # nombre d'éléments du dataset\n",
    "    int(len(image_a_predire_data_flat)/len(image_a_predire_data)),  # dimension des éléments du dataset\n",
    "    3,  # number of classes to predict\n",
    "    layers_ptr_pmc,  # pointeur vers la forme de pmc\n",
    "    number_of_layers,  # number of layers\n",
    "    True,  # is classification\n",
    ")\n",
    "\n",
    "pmc_predict_model = np.ctypeslib.as_array(pmc_predict_ptr, (3 * len(image_a_predire_data),))\n",
    "# print(pmc_predict_model)\n",
    "# print(len(X_to_predict))\n",
    "# print(len(X_to_predict_flat))\n"
   ],
   "metadata": {
    "collapsed": false
   }
  },
  {
   "cell_type": "code",
   "execution_count": 41,
   "outputs": [
    {
     "name": "stdout",
     "output_type": "stream",
     "text": [
      "L'image a deviner vient asie\n",
      "L'image a deviner vient rome\n",
      "L'image a deviner vient asie\n",
      "L'image a deviner vient asie\n"
     ]
    }
   ],
   "source": [
    "# for element in pmc_predict_model:\n",
    "#     if element >= 0 :\n",
    "#         print(\"L'image a deviner vient d'asie du sud est\")\n",
    "#     elif element < 0:\n",
    "#         print(\"L'image a deviner vient de rome\")\n",
    "#     else :\n",
    "#         print('résultats non concluants')\n",
    "\n",
    "for j in range(0,len(pmc_predict_model)-2,3) :\n",
    "    if pmc_predict_model[j] > pmc_predict_model[j+1] and pmc_predict_model[j] > pmc_predict_model[j+2] :\n",
    "        print(\"L'image a deviner vient asie\")\n",
    "    elif pmc_predict_model[j+1] > pmc_predict_model[j] and pmc_predict_model[j+1] > pmc_predict_model[j+2] :\n",
    "        print(\"L'image a deviner vient rome\")\n",
    "    elif pmc_predict_model[j+2] > pmc_predict_model[j] and pmc_predict_model[j+2] > pmc_predict_model[j+1]:\n",
    "        print(\"L'image a deviner vient de chateau\")\n",
    "    else :\n",
    "        print('résultats non concluants')"
   ],
   "metadata": {
    "collapsed": false
   }
  },
  {
   "cell_type": "code",
   "execution_count": 42,
   "outputs": [
    {
     "name": "stdout",
     "output_type": "stream",
     "text": [
      "[ 0.99203163  0.368133   -1.         -0.47539455  0.9540296  -0.9999995\n",
      "  0.999986   -0.9999848  -0.9999949   0.99990654 -0.9999119  -0.9999971 ]\n"
     ]
    }
   ],
   "source": [
    "print(pmc_predict_model[0:15])"
   ],
   "metadata": {
    "collapsed": false
   }
  },
  {
   "cell_type": "code",
   "execution_count": null,
   "outputs": [],
   "source": [],
   "metadata": {
    "collapsed": false
   }
  }
 ],
 "metadata": {
  "kernelspec": {
   "display_name": "Python 3",
   "language": "python",
   "name": "python3"
  },
  "language_info": {
   "codemirror_mode": {
    "name": "ipython",
    "version": 2
   },
   "file_extension": ".py",
   "mimetype": "text/x-python",
   "name": "python",
   "nbconvert_exporter": "python",
   "pygments_lexer": "ipython2",
   "version": "2.7.6"
  }
 },
 "nbformat": 4,
 "nbformat_minor": 0
}
