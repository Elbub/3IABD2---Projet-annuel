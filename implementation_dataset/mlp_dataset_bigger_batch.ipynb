{
 "cells": [
  {
   "cell_type": "code",
   "execution_count": 2,
   "metadata": {
    "collapsed": true
   },
   "outputs": [],
   "source": [
    "import numpy as np\n",
    "from PIL import Image\n",
    "import ctypes\n",
    "import matplotlib.pyplot as plt\n",
    "import random\n",
    "import os"
   ]
  },
  {
   "cell_type": "code",
   "execution_count": 2,
   "metadata": {
    "collapsed": false
   },
   "outputs": [],
   "source": [
    "directory_inputs = [\"../database/resized_dataset/asie_sud_est\",\"../database/resized_dataset/rome_grece\"]\n",
    "# directory_inputs = [\"../database/resized_dataset/amerique_sud\",\"../database/resized_dataset/asie_sud_est\",\"../database/resized_dataset/rome_grece\"]"
   ]
  },
  {
   "cell_type": "code",
   "execution_count": 3,
   "metadata": {
    "collapsed": false
   },
   "outputs": [],
   "source": [
    "X = []\n",
    "Y = []\n",
    "\n",
    "for i in range(len(directory_inputs)):\n",
    "    for image_file in os.listdir(directory_inputs[i]):\n",
    "        if 'image' in image_file:\n",
    "            if i == 0 :\n",
    "                image_file = Image.open(directory_inputs[i]+'/'+image_file)\n",
    "                # print(image_file)\n",
    "                X.append(np.asarray(image_file))\n",
    "                Y.append([1.])\n",
    "            elif i == 1 :\n",
    "                image_file = Image.open(directory_inputs[i]+'/'+image_file)\n",
    "                # print(image_file)\n",
    "                X.append(np.asarray(image_file))\n",
    "                Y.append([-1.])\n",
    "            # elif i == 2 :\n",
    "            #     image_file = Image.open(directory_inputs[i]+'/'+image_file)\n",
    "            #     # print(image_file)\n",
    "            #     X.append(np.asarray(image_file))\n",
    "            #     Y.append([-1.,-1.,1.])\n",
    "\n",
    "X = np.array(X, dtype=ctypes.c_float)\n",
    "X_flat = X.flatten()\n",
    "\n",
    "Y = np.array(Y, dtype=ctypes.c_float)\n",
    "Y_flat = Y.flatten()"
   ]
  },
  {
   "cell_type": "code",
   "execution_count": 4,
   "metadata": {
    "collapsed": false
   },
   "outputs": [
    {
     "name": "stdout",
     "output_type": "stream",
     "text": [
      "7500.0\n",
      "2168\n",
      "[179. 195. 220. ...  88.  74.  63.]\n",
      "[ 1.  1.  1. ... -1. -1. -1.]\n"
     ]
    }
   ],
   "source": [
    "print(len(X_flat)/len(X))\n",
    "print(len(Y_flat))\n",
    "\n",
    "print(X_flat)\n",
    "print(Y_flat)"
   ]
  },
  {
   "cell_type": "code",
   "execution_count": 5,
   "metadata": {
    "collapsed": false
   },
   "outputs": [
    {
     "name": "stdout",
     "output_type": "stream",
     "text": [
      "16260000\n"
     ]
    }
   ],
   "source": [
    "print(len(X_flat))"
   ]
  },
  {
   "cell_type": "code",
   "execution_count": 6,
   "metadata": {
    "collapsed": false
   },
   "outputs": [
    {
     "name": "stdout",
     "output_type": "stream",
     "text": [
      "6\n",
      "[7.5e+03 1.6e+01 1.6e+01 1.6e+01 1.6e+01 1.0e+00]\n"
     ]
    }
   ],
   "source": [
    "my_lib = ctypes.CDLL(r\"..\\rust_lib\\target\\release\\rust_lib.dll\")\n",
    "\n",
    "my_lib.delete_float_array.argtypes = [\n",
    "    ctypes.POINTER(ctypes.c_float),\n",
    "    ctypes.c_int32,\n",
    "]\n",
    "\n",
    "my_lib.generate_random_mpl_w.argtypes = [ctypes.POINTER(ctypes.c_float), ctypes.c_int32]\n",
    "my_lib.generate_random_mpl_w.restype = ctypes.POINTER(ctypes.c_float)\n",
    "\n",
    "my_lib.delete_float_array.restype = None\n",
    "\n",
    "layers = np.array([len(X_flat)/len(X), 16, 16, 16, 16, 1], dtype=ctypes.c_float)\n",
    "LP_c_float = ctypes.POINTER(ctypes.c_float)\n",
    "layers_pmc = (ctypes.c_float * len(layers))(*layers)\n",
    "layers_ptr_pmc = ctypes.cast(layers_pmc, LP_c_float)\n",
    "\n",
    "print(len(layers_pmc))\n",
    "number_of_layers = len(layers_pmc)\n",
    "print(layers)"
   ]
  },
  {
   "cell_type": "code",
   "execution_count": 7,
   "metadata": {
    "collapsed": false
   },
   "outputs": [],
   "source": [
    "w_array_ptr = my_lib.generate_random_mpl_w(layers_ptr_pmc, number_of_layers)\n",
    "w_array = np.ctypeslib.as_array(w_array_ptr, ((7501*16 + 17*16 + 17*16 + 17*16 + 17,))) #3*16 + 17*16 + 17*3\n",
    "\n",
    "LP_c_float = ctypes.POINTER(ctypes.c_float)\n",
    "x_to_predict = (ctypes.c_float * len(X_flat))(*X_flat)\n",
    "x_to_predict_ptr = ctypes.cast(x_to_predict, LP_c_float)\n",
    "LP_c_float = ctypes.POINTER(ctypes.c_float)\n",
    "y_to_predict = (ctypes.c_float * len(Y_flat))(*Y_flat)\n",
    "y_to_predict_ptr = ctypes.cast(y_to_predict, LP_c_float)\n",
    "my_lib.multi_layer_perceptron_training.argtypes = [\n",
    "    ctypes.POINTER(ctypes.c_float),\n",
    "    ctypes.POINTER(ctypes.c_float),\n",
    "    ctypes.POINTER(ctypes.c_float),\n",
    "    ctypes.c_int32,\n",
    "    ctypes.c_int32,\n",
    "    ctypes.c_int32,\n",
    "    ctypes.c_float,\n",
    "    ctypes.c_int32,\n",
    "    ctypes.POINTER(ctypes.c_float),\n",
    "    ctypes.c_int32,\n",
    "    ctypes.c_bool,\n",
    "]\n",
    "my_lib.multi_layer_perceptron_training.restype = ctypes.POINTER(ctypes.c_float)"
   ]
  },
  {
   "cell_type": "code",
   "execution_count": 3,
   "metadata": {
    "collapsed": false
   },
   "outputs": [
    {
     "name": "stdout",
     "output_type": "stream",
     "text": [
      "<class 'ctypes.wintypes.LP_c_float'>\n"
     ]
    }
   ],
   "source": [
    "print(ctypes.POINTER(ctypes.c_float))"
   ]
  },
  {
   "cell_type": "code",
   "execution_count": 16,
   "metadata": {
    "collapsed": false
   },
   "outputs": [],
   "source": [
    "pmc_trained_model_ptr = my_lib.multi_layer_perceptron_training(\n",
    "    w_array_ptr,\n",
    "    y_to_predict_ptr,\n",
    "    x_to_predict_ptr,\n",
    "    len(X),  # number of inputs\n",
    "    int(len(X_flat)/len(X)),  # dimension of inputs\n",
    "    1,  # number of classes to predict\n",
    "    0.05,  # learning rate\n",
    "    50,  # epochs\n",
    "    layers_ptr_pmc,  # pointeur vers la forme de pmc\n",
    "    number_of_layers,  # number of layers\n",
    "    True,\n",
    ")\n",
    "\n",
    "pmc_trained_model = np.ctypeslib.as_array(pmc_trained_model_ptr, (7501*16 + 17*16 + 17*16 + 17*16 + 17,))\n",
    "#print(pmc_trained_model)\n"
   ]
  },
  {
   "cell_type": "code",
   "execution_count": 17,
   "metadata": {
    "collapsed": false
   },
   "outputs": [
    {
     "name": "stdout",
     "output_type": "stream",
     "text": [
      "120849\n"
     ]
    }
   ],
   "source": [
    "print(len(pmc_trained_model))"
   ]
  },
  {
   "cell_type": "code",
   "execution_count": 25,
   "metadata": {
    "collapsed": false
   },
   "outputs": [],
   "source": [
    "image_a_predire_grec = np.asarray(Image.open('test_images/predict_grec.jpg').resize((50,50)).convert('RGB'))\n",
    "image_a_predire_asie = np.asarray(Image.open('test_images/predict_asie.jpg').resize((50,50)).convert('RGB'))\n",
    "image_a_predire_asie_maps = np.asarray(Image.open('test_images/predict_asia_maps.png').resize((50,50)).convert('RGB'))\n",
    "# image_a_predire_amerique = np.asarray(Image.open('test_images/predict_amerique.jpg').resize((27,27)).convert('RGB'))\n",
    "\n",
    "# print(image_a_predire_grec)\n",
    "# print(image_a_predire_asie)\n",
    "# print(image_a_predire_amerique)\n",
    "\n",
    "# image_a_predire_grec.show()\n",
    "# image_a_predire_amerique.show()\n",
    "# image_a_predire_asie.show()\n",
    "\n",
    "image_a_predire_data = np.array([image_a_predire_asie,image_a_predire_grec,image_a_predire_asie_maps],dtype=ctypes.c_float)\n",
    "image_a_predire_data_flat=image_a_predire_data.flatten()\n",
    "\n"
   ]
  },
  {
   "cell_type": "code",
   "execution_count": 26,
   "metadata": {
    "collapsed": false
   },
   "outputs": [
    {
     "name": "stdout",
     "output_type": "stream",
     "text": [
      "3\n",
      "22500\n"
     ]
    }
   ],
   "source": [
    "print(len(image_a_predire_data))\n",
    "print(len(image_a_predire_data_flat))"
   ]
  },
  {
   "cell_type": "code",
   "execution_count": 27,
   "metadata": {
    "collapsed": false
   },
   "outputs": [],
   "source": [
    "my_lib.multi_layer_perceptron_predict.argtypes = [\n",
    "    ctypes.POINTER(ctypes.c_float),\n",
    "    ctypes.POINTER(ctypes.c_float),\n",
    "    ctypes.c_int32,\n",
    "    ctypes.c_int32,\n",
    "    ctypes.c_int32,\n",
    "    ctypes.POINTER(ctypes.c_float),\n",
    "    ctypes.c_int32,\n",
    "    ctypes.c_bool,\n",
    "]\n",
    "\n",
    "my_lib.multi_layer_perceptron_predict.restype = ctypes.POINTER(ctypes.c_float)\n",
    "\n",
    "LP_c_float = ctypes.POINTER(ctypes.c_float)\n",
    "x_to_predict_mlp = (ctypes.c_float * len(image_a_predire_data_flat))(*image_a_predire_data_flat)\n",
    "x_to_predict_ptr_mlp = ctypes.cast(x_to_predict_mlp, LP_c_float)\n",
    "\n",
    "pmc_predict_ptr = my_lib.multi_layer_perceptron_predict(\n",
    "    pmc_trained_model_ptr,  # pointeur vers le modele entrainé\n",
    "    x_to_predict_ptr_mlp,  # pointeur vers le dataset à prédire\n",
    "    len(image_a_predire_data),  # nombre d'éléments du dataset\n",
    "    int(len(image_a_predire_data_flat)/len(image_a_predire_data)),  # dimension des éléments du dataset\n",
    "    1,  # number of classes to predict\n",
    "    layers_ptr_pmc,  # pointeur vers la forme de pmc\n",
    "    number_of_layers,  # number of layers\n",
    "    True,  # is classification\n",
    ")\n",
    "\n",
    "pmc_predict_model = np.ctypeslib.as_array(pmc_predict_ptr, (1 * len(image_a_predire_data),))\n",
    "# print(pmc_predict_model)\n",
    "# print(len(X_to_predict))\n",
    "# print(len(X_to_predict_flat))\n"
   ]
  },
  {
   "cell_type": "code",
   "execution_count": 28,
   "metadata": {
    "collapsed": false
   },
   "outputs": [
    {
     "name": "stdout",
     "output_type": "stream",
     "text": [
      "L'image a deviner vient d'asie du sud est\n",
      "L'image a deviner vient de rome\n",
      "L'image a deviner vient d'asie du sud est\n"
     ]
    }
   ],
   "source": [
    "for element in pmc_predict_model:\n",
    "    if element >= 0 :\n",
    "        print(\"L'image a deviner vient d'asie du sud est\")\n",
    "    elif element < 0:\n",
    "        print(\"L'image a deviner vient de rome\")\n",
    "    else :\n",
    "        print('résultats non concluants')\n",
    "\n",
    "# for j in range(0,len(pmc_predict_model)-2,3) :\n",
    "#     if pmc_predict_model[j] > pmc_predict_model[j+1] and pmc_predict_model[j] > pmc_predict_model[j+2] :\n",
    "#         print(\"L'image a deviner vient d'amerique du sud\")\n",
    "#     elif pmc_predict_model[j+1] > pmc_predict_model[j] and pmc_predict_model[j+1] > pmc_predict_model[j+2] :\n",
    "#         print(\"L'image a deviner vient d'asie du sud est\")\n",
    "#     elif pmc_predict_model[j+2] > pmc_predict_model[j] and pmc_predict_model[j+2] > pmc_predict_model[j+1]:\n",
    "#         print(\"L'image a deviner vient de rome\")\n",
    "#     else :\n",
    "#         print('résultats non concluants')"
   ]
  },
  {
   "cell_type": "code",
   "execution_count": 29,
   "metadata": {
    "collapsed": false
   },
   "outputs": [
    {
     "name": "stdout",
     "output_type": "stream",
     "text": [
      "[ 0.57839155 -0.3929676   0.2939246 ]\n"
     ]
    }
   ],
   "source": [
    "print(pmc_predict_model)"
   ]
  },
  {
   "cell_type": "code",
   "execution_count": null,
   "metadata": {
    "collapsed": false
   },
   "outputs": [],
   "source": []
  }
 ],
 "metadata": {
  "kernelspec": {
   "display_name": "Python 3",
   "language": "python",
   "name": "python3"
  },
  "language_info": {
   "codemirror_mode": {
    "name": "ipython",
    "version": 3
   },
   "file_extension": ".py",
   "mimetype": "text/x-python",
   "name": "python",
   "nbconvert_exporter": "python",
   "pygments_lexer": "ipython3",
   "version": "3.9.16"
  }
 },
 "nbformat": 4,
 "nbformat_minor": 0
}
