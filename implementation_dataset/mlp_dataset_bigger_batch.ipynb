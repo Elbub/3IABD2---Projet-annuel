{
 "cells": [
  {
   "cell_type": "code",
   "execution_count": 1,
   "metadata": {
    "collapsed": true
   },
   "outputs": [],
   "source": [
    "import numpy as np\n",
    "from PIL import Image\n",
    "import ctypes\n",
    "import matplotlib.pyplot as plt\n",
    "import random\n",
    "import os"
   ]
  },
  {
   "cell_type": "code",
   "execution_count": 2,
   "outputs": [],
   "source": [
    "directory_inputs = [\"../database/resized_dataset/28x28_dataset/train_dataset/second_dataset/angkor\",\"../database/resized_dataset/28x28_dataset/train_dataset/second_dataset/parthenon\",\"../database/resized_dataset/28x28_dataset/train_dataset/second_dataset/chateau_bodiam\"]\n",
    "\n",
    "directory_test_inputs = [\"../database/resized_dataset/28x28_dataset/test_dataset/second_dataset/angkor\",\"../database/resized_dataset/28x28_dataset/test_dataset/second_dataset/parthenon\",\"../database/resized_dataset/28x28_dataset/test_dataset/second_dataset/chateau_bodiam\"]\n",
    "# directory_inputs = [\"../database/resized_dataset/amerique_sud\",\"../database/resized_dataset/asie_sud_est\",\"../database/resized_dataset/rome_grece\"]"
   ],
   "metadata": {
    "collapsed": false
   }
  },
  {
   "cell_type": "code",
   "execution_count": 3,
   "outputs": [],
   "source": [
    "X = []\n",
    "Y = []\n",
    "\n",
    "for i in range(len(directory_inputs)):\n",
    "    for image_file in os.listdir(directory_inputs[i]):\n",
    "        if 'image' in image_file:\n",
    "            if i == 0 :\n",
    "                image_file = Image.open(directory_inputs[i]+'/'+image_file)\n",
    "                # print(image_file)\n",
    "                X.append(np.asarray(image_file))\n",
    "                Y.append([1., -1., -1.])\n",
    "            elif i == 1 :\n",
    "                image_file = Image.open(directory_inputs[i]+'/'+image_file)\n",
    "                # print(image_file)\n",
    "                X.append(np.asarray(image_file))\n",
    "                Y.append([-1., 1., -1.])\n",
    "            elif i == 2 :\n",
    "                image_file = Image.open(directory_inputs[i]+'/'+image_file)\n",
    "                # print(image_file)\n",
    "                X.append(np.asarray(image_file))\n",
    "                Y.append([-1.,-1.,1.])\n",
    "\n",
    "X = np.array(X, dtype=ctypes.c_float)\n",
    "X_flat = X.flatten()/255 * 2 - 1\n",
    "\n",
    "Y = np.array(Y, dtype=ctypes.c_float)\n",
    "Y_flat = Y.flatten()"
   ],
   "metadata": {
    "collapsed": false
   }
  },
  {
   "cell_type": "code",
   "execution_count": 4,
   "outputs": [],
   "source": [
    "X_train = []\n",
    "Y_train = []\n",
    "\n",
    "for i in range(len(directory_test_inputs)):\n",
    "    for image_file in os.listdir(directory_test_inputs[i]):\n",
    "        if 'image' in image_file:\n",
    "            if i == 0 :\n",
    "                image_file = Image.open(directory_test_inputs[i]+'/'+image_file)\n",
    "                # print(image_file)\n",
    "                X_train.append(np.asarray(image_file))\n",
    "                Y_train.append([1., -1.,-1.])\n",
    "            elif i == 1 :\n",
    "                image_file = Image.open(directory_test_inputs[i]+'/'+image_file)\n",
    "                # print(image_file)\n",
    "                X_train.append(np.asarray(image_file))\n",
    "                Y_train.append([-1., 1.,-1.])\n",
    "            elif i == 2 :\n",
    "                image_file = Image.open(directory_test_inputs[i]+'/'+image_file)\n",
    "                # print(image_file)\n",
    "                X_train.append(np.asarray(image_file))\n",
    "                Y_train.append([-1., -1.,1.])\n",
    "\n",
    "X_train = np.array(X_train, dtype=ctypes.c_float)\n",
    "X_train_flat = X_train.flatten()/255 * 2 - 1\n",
    "\n",
    "Y_train = np.array(Y_train, dtype=ctypes.c_float)\n",
    "Y_train_flat = Y_train.flatten()"
   ],
   "metadata": {
    "collapsed": false
   }
  },
  {
   "cell_type": "code",
   "execution_count": 5,
   "outputs": [
    {
     "name": "stdout",
     "output_type": "stream",
     "text": [
      "4\n",
      "[2352.    8.    8.    3.]\n"
     ]
    }
   ],
   "source": [
    "my_lib = ctypes.CDLL(r\"..\\rust_lib\\target\\release\\rust_lib.dll\")\n",
    "\n",
    "my_lib.delete_float_array.argtypes = [\n",
    "    ctypes.POINTER(ctypes.c_float),\n",
    "    ctypes.c_int32,\n",
    "]\n",
    "\n",
    "my_lib.generate_multi_layer_perceptron_model.argtypes = [ctypes.POINTER(ctypes.c_float), ctypes.c_int32]\n",
    "my_lib.generate_multi_layer_perceptron_model.restype = ctypes.POINTER(ctypes.c_float)\n",
    "\n",
    "my_lib.delete_float_array.restype = None\n",
    "\n",
    "layers = np.array([len(X_flat)/len(X), 8, 8, 3], dtype=ctypes.c_float)\n",
    "LP_c_float = ctypes.POINTER(ctypes.c_float)\n",
    "layers_pmc = (ctypes.c_float * len(layers))(*layers)\n",
    "layers_ptr_pmc = ctypes.cast(layers_pmc, LP_c_float)\n",
    "\n",
    "print(len(layers_pmc))\n",
    "number_of_layers = len(layers_pmc)\n",
    "print(layers)\n",
    "number_of_classes_to_predict = int(layers[-1])"
   ],
   "metadata": {
    "collapsed": false
   }
  },
  {
   "cell_type": "code",
   "execution_count": 6,
   "outputs": [],
   "source": [
    "w_array_ptr = my_lib.generate_multi_layer_perceptron_model(layers_ptr_pmc, number_of_layers)\n",
    "w_array = np.ctypeslib.as_array(w_array_ptr, (2353*8 + 9*8 + 9*3,)) #3*16 + 17*16 + 17*3\n",
    "\n",
    "LP_c_float = ctypes.POINTER(ctypes.c_float)\n",
    "x_to_predict = (ctypes.c_float * len(X_flat))(*X_flat)\n",
    "x_to_predict_ptr = ctypes.cast(x_to_predict, LP_c_float)\n",
    "LP_c_float = ctypes.POINTER(ctypes.c_float)\n",
    "y_to_predict = (ctypes.c_float * len(Y_flat))(*Y_flat)\n",
    "y_to_predict_ptr = ctypes.cast(y_to_predict, LP_c_float)\n",
    "\n",
    "LP_c_float = ctypes.POINTER(ctypes.c_float)\n",
    "x_to_predict_test = (ctypes.c_float * len(X_train_flat))(*X_train_flat)\n",
    "x_to_predict_test_ptr = ctypes.cast(x_to_predict_test, LP_c_float)\n",
    "LP_c_float = ctypes.POINTER(ctypes.c_float)\n",
    "y_to_predict_test = (ctypes.c_float * len(Y_train_flat))(*Y_train_flat)\n",
    "y_to_predict_test_ptr = ctypes.cast(y_to_predict_test, LP_c_float)\n",
    "\n",
    "my_lib.train_multi_layer_perceptron_model.argtypes = [\n",
    "    ctypes.POINTER(ctypes.c_float),\n",
    "    ctypes.POINTER(ctypes.c_float),\n",
    "    ctypes.c_int32,\n",
    "    ctypes.POINTER(ctypes.c_float),\n",
    "    ctypes.c_int32,\n",
    "    ctypes.POINTER(ctypes.c_float),\n",
    "    ctypes.c_int32,\n",
    "    ctypes.c_int32,\n",
    "    ctypes.POINTER(ctypes.c_float),\n",
    "    ctypes.POINTER(ctypes.c_float),\n",
    "    ctypes.c_int32,\n",
    "    ctypes.c_float,\n",
    "    ctypes.c_int32,\n",
    "    ctypes.c_int32,\n",
    "    ctypes.c_bool,\n",
    "]\n",
    "my_lib.train_multi_layer_perceptron_model.restype = ctypes.POINTER(ctypes.c_float)"
   ],
   "metadata": {
    "collapsed": false
   }
  },
  {
   "cell_type": "code",
   "execution_count": 7,
   "outputs": [],
   "source": [
    "pmc_trained_model_accuracy_ptr = my_lib.train_multi_layer_perceptron_model(\n",
    "    w_array_ptr,\n",
    "    layers_ptr_pmc,  # pointeur vers la forme de pmc\n",
    "    number_of_layers,  # number of layers\n",
    "    x_to_predict_ptr,\n",
    "    len(X),  # number of inputs\n",
    "    x_to_predict_test_ptr,\n",
    "    len(X_train),\n",
    "    int(len(X_flat)/len(X)),  # dimension of inputs\n",
    "    y_to_predict_ptr,\n",
    "    y_to_predict_test_ptr,\n",
    "    3,  # number of classes to predict\n",
    "    0.0001,  # learning rate\n",
    "    5,  # epochs\n",
    "    1,\n",
    "    True,\n",
    ")\n",
    "\n",
    "pmc_trained_model = np.ctypeslib.as_array(pmc_trained_model_accuracy_ptr, (2353*8 + 9*8 + 9*3,))"
   ],
   "metadata": {
    "collapsed": false
   }
  },
  {
   "cell_type": "code",
   "execution_count": 8,
   "outputs": [],
   "source": [
    "image_a_predire_bodiam = np.asarray(Image.open('test_images/predict_bodiam.png').resize((28,28)).convert('RGB'))\n",
    "image_a_predire_angkor = np.asarray(Image.open('test_images/predict_angkor_3.png').resize((28,28)).convert('RGB'))\n",
    "image_a_predire_parthenon = np.asarray(Image.open('test_images/predict_parthenon.png').resize((28,28)).convert('RGB'))\n",
    "\n",
    "\n",
    "image_a_predire_data = np.array([image_a_predire_parthenon,image_a_predire_angkor,image_a_predire_bodiam],dtype=ctypes.c_float)\n",
    "image_a_predire_data_flat=image_a_predire_data.flatten()"
   ],
   "metadata": {
    "collapsed": false
   }
  },
  {
   "cell_type": "code",
   "execution_count": 9,
   "outputs": [],
   "source": [
    "LP_c_float = ctypes.POINTER(ctypes.c_float)\n",
    "x_to_predict_test = (ctypes.c_float * len(image_a_predire_data_flat))(*image_a_predire_data_flat)\n",
    "x_to_predict_test_ptr = ctypes.cast(x_to_predict_test, LP_c_float)"
   ],
   "metadata": {
    "collapsed": false
   }
  },
  {
   "cell_type": "code",
   "execution_count": 10,
   "outputs": [],
   "source": [
    "my_lib.predict_with_multi_layer_perceptron_model.argtypes = [\n",
    "    ctypes.POINTER(ctypes.c_float),\n",
    "    ctypes.POINTER(ctypes.c_float),\n",
    "    ctypes.c_int32,\n",
    "    ctypes.POINTER(ctypes.c_float),\n",
    "    ctypes.c_int32,\n",
    "    ctypes.c_int32,\n",
    "    ctypes.c_int32,\n",
    "    ctypes.c_bool,\n",
    "]"
   ],
   "metadata": {
    "collapsed": false
   }
  },
  {
   "cell_type": "code",
   "execution_count": 11,
   "outputs": [],
   "source": [
    "my_lib.predict_with_multi_layer_perceptron_model.restype = ctypes.POINTER(ctypes.c_float)\n",
    "\n",
    "pmc_predict_ptr = my_lib.predict_with_multi_layer_perceptron_model(\n",
    "    pmc_trained_model_accuracy_ptr,  # pointeur vers le modele entrainé\n",
    "    layers_ptr_pmc,  # pointeur vers la forme de pmc\n",
    "    number_of_layers,  # number of layers\n",
    "    x_to_predict_test_ptr,  # pointeur vers le dataset à prédire\n",
    "    len(image_a_predire_data),  # nombre d'éléments du dataset\n",
    "    int(len(image_a_predire_data_flat)/len(image_a_predire_data)),  # dimension des éléments du dataset\n",
    "    3,  # number of classes to predict\n",
    "    True,  # is classification\n",
    ")\n"
   ],
   "metadata": {
    "collapsed": false
   }
  },
  {
   "cell_type": "code",
   "execution_count": 19,
   "outputs": [],
   "source": [
    "pmc_predict_model = np.ctypeslib.as_array(pmc_predict_ptr, (3 * len(image_a_predire_data),))"
   ],
   "metadata": {
    "collapsed": false
   }
  },
  {
   "cell_type": "code",
   "execution_count": 20,
   "outputs": [
    {
     "name": "stdout",
     "output_type": "stream",
     "text": [
      "L'image a deviner vient bodiam\n",
      "L'image a deviner vient bodiam\n",
      "L'image a deviner vient bodiam\n"
     ]
    }
   ],
   "source": [
    "for j in range(0,len(pmc_predict_model)-2,3) :\n",
    "    if pmc_predict_model[j] > pmc_predict_model[j+1] and pmc_predict_model[j] > pmc_predict_model[j+2] :\n",
    "        print(\"L'image a deviner vient angkor\")\n",
    "    elif pmc_predict_model[j+1] > pmc_predict_model[j] and pmc_predict_model[j+1] > pmc_predict_model[j+2] :\n",
    "        print(\"L'image a deviner vient parthénon\")\n",
    "    elif pmc_predict_model[j+2] > pmc_predict_model[j] and pmc_predict_model[j+2] > pmc_predict_model[j+1]:\n",
    "        print(\"L'image a deviner vient bodiam\")\n",
    "    else :\n",
    "        print('résultats non concluants')"
   ],
   "metadata": {
    "collapsed": false
   }
  },
  {
   "cell_type": "code",
   "execution_count": 21,
   "outputs": [
    {
     "name": "stdout",
     "output_type": "stream",
     "text": [
      "9\n"
     ]
    }
   ],
   "source": [
    "print(len(pmc_predict_model))"
   ],
   "metadata": {
    "collapsed": false
   }
  }
 ],
 "metadata": {
  "kernelspec": {
   "display_name": "Python 3",
   "language": "python",
   "name": "python3"
  },
  "language_info": {
   "codemirror_mode": {
    "name": "ipython",
    "version": 2
   },
   "file_extension": ".py",
   "mimetype": "text/x-python",
   "name": "python",
   "nbconvert_exporter": "python",
   "pygments_lexer": "ipython2",
   "version": "2.7.6"
  }
 },
 "nbformat": 4,
 "nbformat_minor": 0
}
