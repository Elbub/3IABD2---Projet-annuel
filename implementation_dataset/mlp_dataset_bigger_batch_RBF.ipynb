{
 "cells": [
  {
   "cell_type": "code",
   "execution_count": 5,
   "metadata": {
    "collapsed": true
   },
   "outputs": [],
   "source": [
    "import numpy as np\n",
    "from PIL import Image\n",
    "import ctypes\n",
    "import matplotlib.pyplot as plt\n",
    "import random\n",
    "import os"
   ]
  },
  {
   "cell_type": "code",
   "execution_count": 6,
   "outputs": [],
   "source": [
    "directory_inputs = [\"../database/16x16/asie_sud_est\",\"../database/16x16/rome_grece\",\"../database/16x16/chateau_europe\"]\n",
    "directory_test_inputs = [\"../database/16x16/tests/asie_sud_est\",\"../database/16x16/tests/rome_grece\",\"../database/16x16/tests/chateau_europe\"]\n",
    "# directory_inputs = [\"../database/resized_dataset/amerique_sud\",\"../database/resized_dataset/asie_sud_est\",\"../database/resized_dataset/rome_grece\"]"
   ],
   "metadata": {
    "collapsed": false
   }
  },
  {
   "cell_type": "code",
   "execution_count": 7,
   "outputs": [],
   "source": [
    "X = []\n",
    "Y = []\n",
    "\n",
    "for i in range(len(directory_inputs)):\n",
    "    for image_file in os.listdir(directory_inputs[i]):\n",
    "        if 'image' in image_file:\n",
    "            if i == 0 :\n",
    "                image_file = Image.open(directory_inputs[i]+'/'+image_file)\n",
    "                # print(image_file)\n",
    "                X.append(np.asarray(image_file))\n",
    "                Y.append([1., -1., -1.])\n",
    "            elif i == 1 :\n",
    "                image_file = Image.open(directory_inputs[i]+'/'+image_file)\n",
    "                # print(image_file)\n",
    "                X.append(np.asarray(image_file))\n",
    "                Y.append([-1., 1., -1.])\n",
    "            elif i == 2 :\n",
    "                image_file = Image.open(directory_inputs[i]+'/'+image_file)\n",
    "                # print(image_file)\n",
    "                X.append(np.asarray(image_file))\n",
    "                Y.append([-1.,-1.,1.])\n",
    "\n",
    "X = np.array(X, dtype=ctypes.c_float)\n",
    "X_flat = X.flatten()/255 * 2 - 1\n",
    "\n",
    "Y = np.array(Y, dtype=ctypes.c_float)\n",
    "Y_flat = Y.flatten()"
   ],
   "metadata": {
    "collapsed": false
   }
  },
  {
   "cell_type": "code",
   "execution_count": 8,
   "outputs": [],
   "source": [
    "X_train = []\n",
    "Y_train = []\n",
    "\n",
    "for i in range(len(directory_test_inputs)):\n",
    "    for image_file in os.listdir(directory_test_inputs[i]):\n",
    "        if 'image' in image_file:\n",
    "            if i == 0 :\n",
    "                image_file = Image.open(directory_test_inputs[i]+'/'+image_file)\n",
    "                # print(image_file)\n",
    "                X_train.append(np.asarray(image_file))\n",
    "                Y_train.append([1., -1.,-1.])\n",
    "            elif i == 1 :\n",
    "                image_file = Image.open(directory_test_inputs[i]+'/'+image_file)\n",
    "                # print(image_file)\n",
    "                X_train.append(np.asarray(image_file))\n",
    "                Y_train.append([-1., 1.,-1.])\n",
    "            elif i == 2 :\n",
    "                image_file = Image.open(directory_test_inputs[i]+'/'+image_file)\n",
    "                # print(image_file)\n",
    "                X_train.append(np.asarray(image_file))\n",
    "                Y_train.append([-1., -1.,1.])\n",
    "\n",
    "X_train = np.array(X_train, dtype=ctypes.c_float)\n",
    "X_train_flat = X_train.flatten()/255 * 2 - 1\n",
    "\n",
    "Y_train = np.array(Y_train, dtype=ctypes.c_float)\n",
    "Y_train_flat = Y_train.flatten()"
   ],
   "metadata": {
    "collapsed": false
   }
  },
  {
   "cell_type": "code",
   "execution_count": 9,
   "outputs": [],
   "source": [
    "my_lib = ctypes.CDLL(r\"..\\rust_lib\\target\\release\\rust_lib.dll\")\n",
    "\n",
    "my_lib.delete_float_array.argtypes = [\n",
    "    ctypes.POINTER(ctypes.c_float),\n",
    "    ctypes.c_int32,\n",
    "]\n",
    "\n",
    "my_lib.delete_float_array.restype = None"
   ],
   "metadata": {
    "collapsed": false
   }
  },
  {
   "cell_type": "code",
   "execution_count": 10,
   "outputs": [],
   "source": [
    "LP_c_float = ctypes.POINTER(ctypes.c_float)\n",
    "x_to_predict = (ctypes.c_float * len(X_flat))(*X_flat)\n",
    "x_to_predict_ptr = ctypes.cast(x_to_predict, LP_c_float)\n",
    "LP_c_float = ctypes.POINTER(ctypes.c_float)\n",
    "y_to_predict = (ctypes.c_float * len(Y_flat))(*Y_flat)\n",
    "y_to_predict_ptr = ctypes.cast(y_to_predict, LP_c_float)\n",
    "\n",
    "LP_c_float = ctypes.POINTER(ctypes.c_float)\n",
    "x_to_predict_test = (ctypes.c_float * len(X_train_flat))(*X_train_flat)\n",
    "x_to_predict_test_ptr = ctypes.cast(x_to_predict_test, LP_c_float)\n",
    "# LP_c_float = ctypes.POINTER(ctypes.c_float)\n",
    "# y_to_predict_test = (ctypes.c_float * len(Y_train_flat))(*Y_train_flat)\n",
    "# y_to_predict_test_ptr = ctypes.cast(y_to_predict_test, LP_c_float)\n",
    "\n",
    "my_lib.radial_basis_function_model.argtypes = [\n",
    "    ctypes.POINTER(ctypes.c_float),\n",
    "    ctypes.c_int32,\n",
    "    ctypes.POINTER(ctypes.c_float),\n",
    "    ctypes.c_int32,\n",
    "    ctypes.c_int32,\n",
    "    ctypes.POINTER(ctypes.c_float),\n",
    "    ctypes.c_int32,\n",
    "    ctypes.c_float,\n",
    "    ctypes.c_bool,\n",
    "    ctypes.c_int32,\n",
    "    ctypes.c_bool,\n",
    "]\n",
    "\n",
    "my_lib.radial_basis_function_model.restype = ctypes.POINTER(ctypes.c_float)"
   ],
   "metadata": {
    "collapsed": false
   }
  },
  {
   "cell_type": "code",
   "execution_count": null,
   "outputs": [],
   "source": [
    "rbf_trained_model_ptr = my_lib.radial_basis_function_model(\n",
    "    x_to_predict_ptr,  # pointer_to_inputs_train : *mut f32,\n",
    "    len(X),  # number_of_training_inputs : usize,\n",
    "    x_to_predict_test_ptr,  # pointer_to_inputs_to_predict : *mut f32,\n",
    "    len(x_to_predict),  # number_of_inputs_to_predict : usize,\n",
    "    len(X[0]),  # dimension_of_inputs : usize,\n",
    "    y_to_predict_ptr,  # pointer_to_labels : *mut f32,\n",
    "    3,  # number_of_classes : usize,\n",
    "    0.5,  # gamma : f32,\n",
    "    True,  # is_classification : bool,\n",
    "    50,  # number_of_clusters : usize\n",
    "    False,\n",
    ")\n",
    "\n",
    "rbf_trained_model = np.ctypeslib.as_array(rbf_trained_model_ptr, (len(x_to_predict) * 3,))\n",
    "\n",
    "print(len(rbf_trained_model))"
   ],
   "metadata": {
    "collapsed": false,
    "pycharm": {
     "is_executing": true
    }
   }
  },
  {
   "cell_type": "code",
   "execution_count": null,
   "outputs": [],
   "source": [
    "image_a_predire_grec = np.asarray(Image.open('test_images/predict_grec.jpg').resize((16,16)).convert('RGB'))\n",
    "image_a_predire_asie = np.asarray(Image.open('test_images/predict_asie.jpg').resize((16,16)).convert('RGB'))\n",
    "image_a_predire_asie_maps = np.asarray(Image.open('test_images/predict_asia_maps.png').resize((16,16)).convert('RGB'))\n",
    "\n",
    "image_a_predire_data = np.array([image_a_predire_asie,image_a_predire_grec,image_a_predire_asie_maps],dtype=ctypes.c_float)\n",
    "image_a_predire_data_flat=image_a_predire_data.flatten()\n",
    "\n"
   ],
   "metadata": {
    "collapsed": false,
    "pycharm": {
     "is_executing": true
    }
   }
  },
  {
   "cell_type": "code",
   "execution_count": null,
   "outputs": [],
   "source": [
    "for j in range(0,len(rbf_trained_model)-2,3) :\n",
    "    if rbf_trained_model[j] > rbf_trained_model[j+1] and rbf_trained_model[j] > rbf_trained_model[j+2] :\n",
    "        print(\"L'image a deviner vient asie\")\n",
    "    elif rbf_trained_model[j+1] > rbf_trained_model[j] and rbf_trained_model[j+1] > rbf_trained_model[j+2] :\n",
    "        print(\"L'image a deviner vient rome\")\n",
    "    elif rbf_trained_model[j+2] > rbf_trained_model[j] and rbf_trained_model[j+2] > rbf_trained_model[j+1]:\n",
    "        print(\"L'image a deviner vient de chateau\")\n",
    "    else :\n",
    "        print('résultats non concluants')"
   ],
   "metadata": {
    "collapsed": false,
    "pycharm": {
     "is_executing": true
    }
   }
  },
  {
   "cell_type": "code",
   "execution_count": null,
   "outputs": [],
   "source": [
    "print(rbf_trained_model[0:15])"
   ],
   "metadata": {
    "collapsed": false,
    "pycharm": {
     "is_executing": true
    }
   }
  },
  {
   "cell_type": "code",
   "execution_count": null,
   "outputs": [],
   "source": [],
   "metadata": {
    "collapsed": false
   }
  }
 ],
 "metadata": {
  "kernelspec": {
   "display_name": "Python 3",
   "language": "python",
   "name": "python3"
  },
  "language_info": {
   "codemirror_mode": {
    "name": "ipython",
    "version": 2
   },
   "file_extension": ".py",
   "mimetype": "text/x-python",
   "name": "python",
   "nbconvert_exporter": "python",
   "pygments_lexer": "ipython2",
   "version": "2.7.6"
  }
 },
 "nbformat": 4,
 "nbformat_minor": 0
}
