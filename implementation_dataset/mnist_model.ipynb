{
 "cells": [
  {
   "cell_type": "code",
   "execution_count": 1,
   "metadata": {
    "collapsed": true
   },
   "outputs": [],
   "source": [
    "import numpy as np\n",
    "from PIL import Image\n",
    "import ctypes\n",
    "import matplotlib.pyplot as plt\n",
    "import random\n",
    "import os"
   ]
  },
  {
   "cell_type": "code",
   "execution_count": 2,
   "outputs": [],
   "source": [
    "# directory_inputs = [\"../database/mnist_dataset/trainingSet/trainingSet/0\", \"../database/mnist_dataset/trainingSet/trainingSet/1\", \"../database/mnist_dataset/trainingSet/trainingSet/2\", \"../database/mnist_dataset/trainingSet/trainingSet/3\", \"../database/mnist_dataset/trainingSet/trainingSet/4\", \"../database/mnist_dataset/trainingSet/trainingSet/5\", \"../database/mnist_dataset/trainingSet/trainingSet/6\", \"../database/mnist_dataset/trainingSet/trainingSet/7\", \"../database/mnist_dataset/trainingSet/trainingSet/8\", \"../database/mnist_dataset/trainingSet/trainingSet/9\"]\n",
    "\n",
    "directory_inputs = [\"../database/mnist_dataset/trainingSet/trainingSet/0\", \"../database/mnist_dataset/trainingSet/trainingSet/1\", \"../database/mnist_dataset/trainingSet/trainingSet/2\"]"
   ],
   "metadata": {
    "collapsed": false
   }
  },
  {
   "cell_type": "code",
   "execution_count": 3,
   "outputs": [],
   "source": [
    "X = []\n",
    "Y = []\n",
    "\n",
    "X_test = []\n",
    "Y_test = []\n",
    "\n",
    "for i in range(len(directory_inputs)):\n",
    "    for image_file in os.listdir(directory_inputs[i]):\n",
    "        random_value = random.uniform(0,1)\n",
    "        if 'img' in image_file:\n",
    "            if random_value <= 0.8 :\n",
    "                if i == 0 :\n",
    "                    image_file = Image.open(directory_inputs[i]+'/'+image_file)\n",
    "                    # print(image_file)\n",
    "                    X.append(np.asarray(image_file))\n",
    "                    Y.append([1., -1., -1.])\n",
    "                elif i == 1 :\n",
    "                    image_file = Image.open(directory_inputs[i]+'/'+image_file)\n",
    "                    # print(image_file)\n",
    "                    X.append(np.asarray(image_file))\n",
    "                    Y.append([-1., 1., -1.])\n",
    "                elif i == 2 :\n",
    "                    image_file = Image.open(directory_inputs[i]+'/'+image_file)\n",
    "                    # print(image_file)\n",
    "                    X.append(np.asarray(image_file))\n",
    "                    Y.append([-1.,-1.,1.])\n",
    "            else:\n",
    "                if i == 0 :\n",
    "                    image_file = Image.open(directory_inputs[i]+'/'+image_file)\n",
    "                    # print(image_file)\n",
    "                    X_test.append(np.asarray(image_file))\n",
    "                    Y_test.append([1., -1., -1.])\n",
    "                elif i == 1 :\n",
    "                    image_file = Image.open(directory_inputs[i]+'/'+image_file)\n",
    "                    # print(image_file)\n",
    "                    X_test.append(np.asarray(image_file))\n",
    "                    Y_test.append([-1., 1., -1.])\n",
    "                elif i == 2 :\n",
    "                    image_file = Image.open(directory_inputs[i]+'/'+image_file)\n",
    "                    # print(image_file)\n",
    "                    X_test.append(np.asarray(image_file))\n",
    "                    Y_test.append([-1.,-1.,1.])\n",
    "\n",
    "\n",
    "X_test = np.array(X_test, dtype=ctypes.c_float)\n",
    "X_test_flat = X_test.flatten()/255 * 2 - 1\n",
    "\n",
    "Y_test = np.array(Y_test, dtype=ctypes.c_float)\n",
    "Y_test_flat = Y_test.flatten()\n",
    "\n",
    "X = np.array(X, dtype=ctypes.c_float)\n",
    "X_flat = X.flatten()/255 * 2 - 1\n",
    "\n",
    "Y = np.array(Y, dtype=ctypes.c_float)\n",
    "Y_flat = Y.flatten()"
   ],
   "metadata": {
    "collapsed": false
   }
  },
  {
   "cell_type": "code",
   "execution_count": 4,
   "outputs": [
    {
     "name": "stdout",
     "output_type": "stream",
     "text": [
      "7866\n",
      "31113\n"
     ]
    }
   ],
   "source": [
    "print(len(Y_test_flat))\n",
    "print(len(Y_flat))"
   ],
   "metadata": {
    "collapsed": false
   }
  },
  {
   "cell_type": "code",
   "execution_count": 5,
   "outputs": [
    {
     "name": "stdout",
     "output_type": "stream",
     "text": [
      "3\n",
      "[784.  16.   3.]\n"
     ]
    }
   ],
   "source": [
    "my_lib = ctypes.CDLL(r\"..\\rust_lib\\target\\release\\rust_lib.dll\")\n",
    "\n",
    "my_lib.delete_float_array.argtypes = [\n",
    "    ctypes.POINTER(ctypes.c_float),\n",
    "    ctypes.c_int32,\n",
    "]\n",
    "\n",
    "my_lib.generate_random_mpl_w.argtypes = [ctypes.POINTER(ctypes.c_float), ctypes.c_int32]\n",
    "my_lib.generate_random_mpl_w.restype = ctypes.POINTER(ctypes.c_float)\n",
    "\n",
    "my_lib.delete_float_array.restype = None\n",
    "\n",
    "layers = np.array([len(X_flat)/len(X), 16, 3], dtype=ctypes.c_float)\n",
    "LP_c_float = ctypes.POINTER(ctypes.c_float)\n",
    "layers_pmc = (ctypes.c_float * len(layers))(*layers)\n",
    "layers_ptr_pmc = ctypes.cast(layers_pmc, LP_c_float)\n",
    "\n",
    "print(len(layers_pmc))\n",
    "number_of_layers = len(layers_pmc)\n",
    "print(layers)\n",
    "number_of_classes_to_predict = int(layers[-1])"
   ],
   "metadata": {
    "collapsed": false
   }
  },
  {
   "cell_type": "code",
   "execution_count": 6,
   "outputs": [],
   "source": [
    "w_array_ptr = my_lib.generate_random_mpl_w(layers_ptr_pmc, number_of_layers)\n",
    "w_array = np.ctypeslib.as_array(w_array_ptr, ((785*16 + 17*3,))) #3*16 + 17*16 + 17*3"
   ],
   "metadata": {
    "collapsed": false
   }
  },
  {
   "cell_type": "code",
   "execution_count": 7,
   "outputs": [
    {
     "name": "stdout",
     "output_type": "stream",
     "text": [
      "12611\n"
     ]
    }
   ],
   "source": [
    "print(len(w_array))\n"
   ],
   "metadata": {
    "collapsed": false
   }
  },
  {
   "cell_type": "code",
   "execution_count": 8,
   "outputs": [],
   "source": [
    "\n",
    "LP_c_float = ctypes.POINTER(ctypes.c_float)\n",
    "x_to_predict = (ctypes.c_float * len(X_flat))(*X_flat)\n",
    "x_to_predict_ptr = ctypes.cast(x_to_predict, LP_c_float)\n",
    "LP_c_float = ctypes.POINTER(ctypes.c_float)\n",
    "y_to_predict = (ctypes.c_float * len(Y_flat))(*Y_flat)\n",
    "y_to_predict_ptr = ctypes.cast(y_to_predict, LP_c_float)\n",
    "\n",
    "LP_c_float = ctypes.POINTER(ctypes.c_float)\n",
    "x_to_predict_test = (ctypes.c_float * len(X_test_flat))(*X_test_flat)\n",
    "x_to_predict_test_ptr = ctypes.cast(x_to_predict_test, LP_c_float)\n",
    "LP_c_float = ctypes.POINTER(ctypes.c_float)\n",
    "y_to_predict_test = (ctypes.c_float * len(Y_test_flat))(*Y_test_flat)\n",
    "y_to_predict_test_ptr = ctypes.cast(y_to_predict_test, LP_c_float)\n",
    "\n",
    "my_lib.multi_layer_perceptron_accuracy.argtypes = [\n",
    "    ctypes.POINTER(ctypes.c_float),\n",
    "    ctypes.POINTER(ctypes.c_float),\n",
    "    ctypes.POINTER(ctypes.c_float),\n",
    "    ctypes.c_int32,\n",
    "    ctypes.POINTER(ctypes.c_float),\n",
    "    ctypes.POINTER(ctypes.c_float),\n",
    "    ctypes.c_int32,\n",
    "    ctypes.c_int32,\n",
    "    ctypes.c_int32,\n",
    "    ctypes.c_float,\n",
    "    ctypes.c_int32,\n",
    "    ctypes.c_int32,\n",
    "    ctypes.POINTER(ctypes.c_float),\n",
    "    ctypes.c_int32,\n",
    "    ctypes.c_bool,\n",
    "]\n",
    "my_lib.multi_layer_perceptron_accuracy.restype = ctypes.POINTER(ctypes.c_float)"
   ],
   "metadata": {
    "collapsed": false
   }
  },
  {
   "cell_type": "code",
   "execution_count": 9,
   "outputs": [],
   "source": [
    "pmc_trained_model_accuracy_ptr = my_lib.multi_layer_perceptron_accuracy(\n",
    "    w_array_ptr,\n",
    "    y_to_predict_ptr,\n",
    "    x_to_predict_ptr,\n",
    "    len(X),  # number of inputs\n",
    "    y_to_predict_test_ptr,\n",
    "    x_to_predict_test_ptr,\n",
    "    len(X_test),\n",
    "    int(len(X_flat)/len(X)),  # dimension of inputs\n",
    "    3,  # number of classes to predict\n",
    "    0.01,  # learning rate\n",
    "    100,  # epochs\n",
    "    1,\n",
    "    layers_ptr_pmc,  # pointeur vers la forme de pmc\n",
    "    number_of_layers,  # number of layers\n",
    "    True,\n",
    ")\n",
    "\n",
    "pmc_trained_model = np.ctypeslib.as_array(pmc_trained_model_accuracy_ptr, (785*16 + 17*3,))\n",
    "\n"
   ],
   "metadata": {
    "collapsed": false
   }
  },
  {
   "cell_type": "code",
   "execution_count": 10,
   "outputs": [
    {
     "data": {
      "text/plain": "<Figure size 640x480 with 1 Axes>",
      "image/png": "[encoded data removed]"
     },
     "metadata": {},
     "output_type": "display_data"
    }
   ],
   "source": [
    "f = open(\"saved_accuracy.txt\", \"r\")\n",
    "content = f.readlines()\n",
    "acc_train = [float(value) for value in content[0].strip().replace(',', ' ').split()]\n",
    "acc_test = [float(value) for value in content[1].strip().replace(',', ' ').split()]\n",
    "\n",
    "plt.plot(range(len(acc_train)), acc_train, label='Train')\n",
    "plt.plot(range(len(acc_test)), acc_test, label='Test')\n",
    "\n",
    "plt.xlabel('Epoch')\n",
    "plt.ylabel('Erreur %')\n",
    "\n",
    "plt.legend()\n",
    "\n",
    "plt.show()"
   ],
   "metadata": {
    "collapsed": false
   }
  },
  {
   "cell_type": "code",
   "execution_count": 51,
   "outputs": [],
   "source": [
    "from PIL import Image, ImageOps\n",
    "newsize = (28,28)\n",
    "\n",
    "predict_0 = Image.open(\"../database/test_set_img_0.jpg\").convert('L')\n",
    "predict_1 = Image.open(\"../database/test_set_img_1.jpg\").convert('L')\n",
    "predict_2 = Image.open(\"../database/test_set_img_2.jpg\").convert('L')\n",
    "\n",
    "predict_0 = predict_0.resize(newsize)\n",
    "predict_1 = predict_1.resize(newsize)\n",
    "predict_2 = predict_2.resize(newsize)"
   ],
   "metadata": {
    "collapsed": false
   }
  },
  {
   "cell_type": "code",
   "execution_count": 52,
   "outputs": [],
   "source": [
    "predict_0 = np.asarray(predict_0)/255 * 2 - 1\n",
    "predict_1 = np.asarray(predict_1)/255 * 2 - 1\n",
    "predict_2 = np.asarray(predict_2)/255 * 2 - 1"
   ],
   "metadata": {
    "collapsed": false
   }
  },
  {
   "cell_type": "code",
   "execution_count": 59,
   "outputs": [],
   "source": [
    "data_to_predict = np.array([predict_2,predict_1, predict_0],dtype=ctypes.c_float)\n",
    "data_to_predict_flat =data_to_predict.flatten()"
   ],
   "metadata": {
    "collapsed": false
   }
  },
  {
   "cell_type": "code",
   "execution_count": 60,
   "outputs": [
    {
     "name": "stdout",
     "output_type": "stream",
     "text": [
      "[-1. -1. -1. ... -1. -1. -1.]\n"
     ]
    }
   ],
   "source": [
    "print(data_to_predict_flat)"
   ],
   "metadata": {
    "collapsed": false
   }
  },
  {
   "cell_type": "code",
   "execution_count": 61,
   "outputs": [],
   "source": [
    "LP_c_float = ctypes.POINTER(ctypes.c_float)\n",
    "x_to_predict = (ctypes.c_float * len(data_to_predict_flat))(*data_to_predict_flat)\n",
    "x_to_predict_test_ptr = ctypes.cast(x_to_predict, LP_c_float)"
   ],
   "metadata": {
    "collapsed": false
   }
  },
  {
   "cell_type": "code",
   "execution_count": 62,
   "outputs": [],
   "source": [
    "my_lib.multi_layer_perceptron_predict.argtypes = [\n",
    "    ctypes.POINTER(ctypes.c_float),\n",
    "    ctypes.POINTER(ctypes.c_float),\n",
    "    ctypes.c_int32,\n",
    "    ctypes.c_int32,\n",
    "    ctypes.c_int32,\n",
    "    ctypes.POINTER(ctypes.c_float),\n",
    "    ctypes.c_int32,\n",
    "    ctypes.c_bool,\n",
    "]\n",
    "\n",
    "my_lib.multi_layer_perceptron_predict.restype = ctypes.POINTER(ctypes.c_float)\n",
    "\n",
    "# LP_c_float = ctypes.POINTER(ctypes.c_float)\n",
    "# x_to_predict_mlp = (ctypes.c_float * len(image_a_predire_data_flat))(*image_a_predire_data_flat)\n",
    "# x_to_predict_ptr_mlp = ctypes.cast(x_to_predict_mlp, LP_c_float)\n",
    "\n",
    "pmc_predict_ptr = my_lib.multi_layer_perceptron_predict(\n",
    "    pmc_trained_model_accuracy_ptr,  # pointeur vers le modele entrainé\n",
    "    x_to_predict_test_ptr,  # pointeur vers le dataset à prédire\n",
    "    len(data_to_predict),  # nombre d'éléments du dataset\n",
    "    int(len(data_to_predict_flat)/len(data_to_predict)),  # dimension des éléments du dataset\n",
    "    3,  # number of classes to predict\n",
    "    layers_ptr_pmc,  # pointeur vers la forme de pmc\n",
    "    number_of_layers,  # number of layers\n",
    "    True,  # is classification\n",
    ")\n",
    "\n",
    "pmc_predict_model = np.ctypeslib.as_array(pmc_predict_ptr, (3 * len(data_to_predict),))\n",
    "# print(pmc_predict_model)\n",
    "# print(len(X_to_predict))\n",
    "# print(len(X_to_predict_flat))\n"
   ],
   "metadata": {
    "collapsed": false
   }
  },
  {
   "cell_type": "code",
   "execution_count": 63,
   "outputs": [
    {
     "name": "stdout",
     "output_type": "stream",
     "text": [
      "L'image est un 2\n",
      "L'image est un 1\n",
      "L'image est un 0\n"
     ]
    }
   ],
   "source": [
    "for j in range(0,len(pmc_predict_model)-2,3) :\n",
    "    if pmc_predict_model[j] > pmc_predict_model[j+1] and pmc_predict_model[j] > pmc_predict_model[j+2] :\n",
    "        print(\"L'image est un 0\")\n",
    "    elif pmc_predict_model[j+1] > pmc_predict_model[j] and pmc_predict_model[j+1] > pmc_predict_model[j+2] :\n",
    "        print(\"L'image est un 1\")\n",
    "    elif pmc_predict_model[j+2] > pmc_predict_model[j] and pmc_predict_model[j+2] > pmc_predict_model[j+1]:\n",
    "        print(\"L'image est un 2\")\n",
    "    else :\n",
    "        print('résultats non concluants')"
   ],
   "metadata": {
    "collapsed": false
   }
  },
  {
   "cell_type": "code",
   "execution_count": 64,
   "outputs": [
    {
     "data": {
      "text/plain": "array([-0.99999946, -0.99999994,  1.        , -0.99915206,  0.99958795,\n       -0.9991619 ,  0.99999225, -0.99999994, -0.9999994 ], dtype=float32)"
     },
     "execution_count": 64,
     "metadata": {},
     "output_type": "execute_result"
    }
   ],
   "source": [
    "pmc_predict_model"
   ],
   "metadata": {
    "collapsed": false
   }
  },
  {
   "cell_type": "code",
   "execution_count": null,
   "outputs": [],
   "source": [],
   "metadata": {
    "collapsed": false
   }
  }
 ],
 "metadata": {
  "kernelspec": {
   "display_name": "Python 3",
   "language": "python",
   "name": "python3"
  },
  "language_info": {
   "codemirror_mode": {
    "name": "ipython",
    "version": 2
   },
   "file_extension": ".py",
   "mimetype": "text/x-python",
   "name": "python",
   "nbconvert_exporter": "python",
   "pygments_lexer": "ipython2",
   "version": "2.7.6"
  }
 },
 "nbformat": 4,
 "nbformat_minor": 0
}
