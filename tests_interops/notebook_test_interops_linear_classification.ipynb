{
 "nbformat": 4,
 "nbformat_minor": 0,
 "metadata": {
  "colab": {
   "provenance": []
  },
  "kernelspec": {
   "name": "python3",
   "display_name": "Python 3"
  }
 },
 "cells": [
  {
   "cell_type": "markdown",
   "metadata": {
    "id": "12URBFa0yULK"
   },
   "source": [
    "# Imports"
   ]
  },
  {
   "cell_type": "code",
   "metadata": {
    "id": "sXU99qaCyT8S"
   },
   "source": [
    "import matplotlib.pyplot as plt\n",
    "import numpy as np\n",
    "import ctypes\n",
    "import random"
   ],
   "execution_count": 1,
   "outputs": []
  },
  {
   "cell_type": "markdown",
   "metadata": {
    "id": "MlaksdgDxaA6"
   },
   "source": [
    "# Cas de tests, Modele linéaire"
   ]
  },
  {
   "cell_type": "markdown",
   "source": [
    "## Classification"
   ],
   "metadata": {
    "collapsed": false
   }
  },
  {
   "cell_type": "markdown",
   "metadata": {
    "id": "-d0zULTsyFhh"
   },
   "source": [
    "### Linear Simple :\n",
    "        Linear Model : OK\n",
    "        MLP (2, 1)   : OK"
   ]
  },
  {
   "cell_type": "code",
   "execution_count": 2,
   "outputs": [
    {
     "name": "stdout",
     "output_type": "stream",
     "text": [
      "[0.77923024 0.5227573  0.89185786]\n"
     ]
    }
   ],
   "source": [
    "my_lib = ctypes.CDLL(r\"..\\rust_lib\\target\\debug\\rust_lib.dll\")\n",
    "\n",
    "my_lib.delete_float_array.argtypes = [\n",
    "    ctypes.POINTER(ctypes.c_float),\n",
    "    ctypes.c_int32,\n",
    "]\n",
    "\n",
    "my_lib.generate_random_w.argtypes = [ctypes.c_int32]\n",
    "my_lib.generate_random_w.restype = ctypes.POINTER(ctypes.c_float)\n",
    "\n",
    "my_lib.delete_float_array.restype = None\n",
    "\n",
    "dimension = 2\n",
    "\n",
    "w_array_ptr = my_lib.generate_random_w(dimension)\n",
    "\n",
    "w_array = np.ctypeslib.as_array(w_array_ptr, ((dimension + 1),))\n",
    "\n",
    "print(w_array)"
   ],
   "metadata": {
    "collapsed": false
   }
  },
  {
   "cell_type": "code",
   "metadata": {
    "id": "EktwRhEMxV2A"
   },
   "source": [
    "X = np.array([\n",
    "      [1, 1],\n",
    "      [2, 3],\n",
    "      [3, 3]\n",
    "], dtype=ctypes.c_float)\n",
    "Y = np.array([\n",
    "      1,\n",
    "      -1,\n",
    "      -1\n",
    "], dtype=ctypes.c_float)\n",
    "\n",
    "print(type(X))\n",
    "print(Y)"
   ],
   "execution_count": 3,
   "outputs": [
    {
     "name": "stdout",
     "output_type": "stream",
     "text": [
      "<class 'numpy.ndarray'>\n",
      "[ 1. -1. -1.]\n"
     ]
    }
   ]
  },
  {
   "cell_type": "code",
   "execution_count": 4,
   "outputs": [],
   "source": [
    "X_plot = np.array([\n",
    "      [1, 1],\n",
    "      [2, 3],\n",
    "      [3, 3]\n",
    "])\n",
    "Y_plot = np.array([\n",
    "      1,\n",
    "      -1,\n",
    "      -1\n",
    "])"
   ],
   "metadata": {
    "collapsed": false
   }
  },
  {
   "cell_type": "code",
   "execution_count": 5,
   "outputs": [],
   "source": [
    "arr_size = len(X)"
   ],
   "metadata": {
    "collapsed": false
   }
  },
  {
   "cell_type": "code",
   "execution_count": 6,
   "outputs": [],
   "source": [
    "dimension = len(X[0])"
   ],
   "metadata": {
    "collapsed": false
   }
  },
  {
   "cell_type": "code",
   "execution_count": 7,
   "outputs": [],
   "source": [
    "learning_rate = ctypes.c_float(0.001)"
   ],
   "metadata": {
    "collapsed": false
   }
  },
  {
   "cell_type": "code",
   "execution_count": 8,
   "outputs": [],
   "source": [
    "epoch = 1000000"
   ],
   "metadata": {
    "collapsed": false
   }
  },
  {
   "cell_type": "code",
   "execution_count": 9,
   "outputs": [],
   "source": [
    "X_flat = X.flatten()"
   ],
   "metadata": {
    "collapsed": false
   }
  },
  {
   "cell_type": "code",
   "execution_count": 10,
   "outputs": [],
   "source": [
    "LP_c_float = ctypes.POINTER(ctypes.c_float)\n",
    "x_to_predict = (ctypes.c_float * len(X_flat))(*X_flat)\n",
    "x_to_predict_ptr = ctypes.cast(x_to_predict, LP_c_float)"
   ],
   "metadata": {
    "collapsed": false
   }
  },
  {
   "cell_type": "code",
   "execution_count": 11,
   "outputs": [],
   "source": [
    "LP_c_float = ctypes.POINTER(ctypes.c_float)\n",
    "y_to_predict = (ctypes.c_float * len(Y))(*Y)\n",
    "y_to_predict_ptr = ctypes.cast(y_to_predict, LP_c_float)"
   ],
   "metadata": {
    "collapsed": false
   }
  },
  {
   "cell_type": "code",
   "execution_count": 12,
   "outputs": [],
   "source": [
    "my_lib.linear_model_training.argtypes = [\n",
    "    ctypes.POINTER(ctypes.c_float),\n",
    "    ctypes.POINTER(ctypes.c_float),\n",
    "    ctypes.POINTER(ctypes.c_float),\n",
    "    ctypes.c_int32,\n",
    "    ctypes.c_int32,\n",
    "    ctypes.c_float,\n",
    "    ctypes.c_int32,\n",
    "]\n",
    "my_lib.linear_model_training.restype = ctypes.POINTER(ctypes.c_float)"
   ],
   "metadata": {
    "collapsed": false
   }
  },
  {
   "cell_type": "code",
   "execution_count": 13,
   "outputs": [
    {
     "name": "stdout",
     "output_type": "stream",
     "text": [
      "[ 0.47723377 -0.22924295 -0.01414141]\n",
      "<class 'ctypes.wintypes.LP_c_float'>\n"
     ]
    }
   ],
   "source": [
    "linear_model_training_ptr = my_lib.linear_model_training(\n",
    "    w_array_ptr,  # pointeur vers le résultat du vecteur W random\n",
    "    y_to_predict_ptr,  # pointeur vers les résultats labellisés pour entrainer le modele\n",
    "    x_to_predict_ptr,  # points qui ont permis de labeliser le vecteur d'au dessus\n",
    "    arr_size,  # array size\n",
    "    dimension,  # dimension de chaque vecteur\n",
    "    learning_rate,  # learning rate\n",
    "    epoch,  # nombre de fois où l'on passe sur le data set\n",
    ")\n",
    "trained_linear_model = np.ctypeslib.as_array(\n",
    "    linear_model_training_ptr, ((dimension + 1),)\n",
    ")\n",
    "print(trained_linear_model)\n",
    "print(type(linear_model_training_ptr))"
   ],
   "metadata": {
    "collapsed": false
   }
  },
  {
   "cell_type": "code",
   "execution_count": 14,
   "outputs": [],
   "source": [
    "my_lib.predict_linear_model.argtypes = [\n",
    "    ctypes.POINTER(ctypes.c_float),\n",
    "    ctypes.POINTER(ctypes.c_float),\n",
    "    ctypes.c_int32,\n",
    "    ctypes.c_int32,\n",
    "]\n",
    "my_lib.predict_linear_model.restype = ctypes.POINTER(ctypes.c_float)"
   ],
   "metadata": {
    "collapsed": false
   }
  },
  {
   "cell_type": "code",
   "execution_count": 15,
   "outputs": [],
   "source": [
    "predicted_labels = []\n",
    "predicted_x1 = []\n",
    "predicted_x2 = []\n",
    "for x1 in range(100* min(X_plot[:, 0]),100* max(X_plot[:, 0])) :\n",
    "  for x2 in range(100*min(X_plot[:, 1]), 100*max(X_plot[:, 1])) :\n",
    "    predicted_x1.append(x1/100)\n",
    "    predicted_x2.append(x2/100)\n",
    "    predicted_labels.append('pink' if x1/100 * trained_linear_model[1] + x2/100 * trained_linear_model[2] + trained_linear_model[0] >= 0 else 'lightskyblue')"
   ],
   "metadata": {
    "collapsed": false
   }
  },
  {
   "cell_type": "code",
   "metadata": {
    "id": "OpWOCJ5ZyDMY",
    "colab": {
     "base_uri": "https://localhost:8080/",
     "height": 287
    },
    "outputId": "25884536-e733-4cee-b175-79c147b7c927"
   },
   "source": [
    "plt.scatter(predicted_x1, predicted_x2, c=predicted_labels)\n",
    "plt.scatter(X[0, 0], X[0, 1], color='blue')\n",
    "plt.scatter(X[1:3,0], X[1:3,1], color='red')\n",
    "plt.show()\n",
    "plt.clf()"
   ],
   "execution_count": 16,
   "outputs": [
    {
     "data": {
      "text/plain": "<Figure size 640x480 with 1 Axes>",
      "image/png": "[encoded data removed]"
     },
     "metadata": {},
     "output_type": "display_data"
    },
    {
     "data": {
      "text/plain": "<Figure size 640x480 with 0 Axes>"
     },
     "metadata": {},
     "output_type": "display_data"
    }
   ]
  },
  {
   "cell_type": "code",
   "execution_count": 17,
   "outputs": [],
   "source": [
    "my_lib.delete_float_array(linear_model_training_ptr, (dimension + 1))\n",
    "del linear_model_training_ptr"
   ],
   "metadata": {
    "collapsed": false
   }
  },
  {
   "cell_type": "markdown",
   "metadata": {
    "id": "7v8KFue-zmCv"
   },
   "source": [
    "### Linear Multiple :\n",
    "        Linear Model : OK\n",
    "        MLP (2, 1)   : OK"
   ]
  },
  {
   "cell_type": "code",
   "execution_count": 18,
   "outputs": [
    {
     "name": "stdout",
     "output_type": "stream",
     "text": [
      "[0.19952416 0.7611414  0.06879938]\n"
     ]
    }
   ],
   "source": [
    "my_lib = ctypes.CDLL(r\"..\\rust_lib\\target\\debug\\rust_lib.dll\")\n",
    "\n",
    "my_lib.delete_float_array.argtypes = [\n",
    "    ctypes.POINTER(ctypes.c_float),\n",
    "    ctypes.c_int32,\n",
    "]\n",
    "\n",
    "my_lib.generate_random_w.argtypes = [ctypes.c_int32]\n",
    "my_lib.generate_random_w.restype = ctypes.POINTER(ctypes.c_float)\n",
    "\n",
    "my_lib.delete_float_array.restype = None\n",
    "\n",
    "dimension = 2\n",
    "\n",
    "w_array_ptr = my_lib.generate_random_w(dimension)\n",
    "\n",
    "w_array = np.ctypeslib.as_array(w_array_ptr, ((dimension + 1),))\n",
    "\n",
    "print(w_array)"
   ],
   "metadata": {
    "collapsed": false
   }
  },
  {
   "cell_type": "code",
   "metadata": {
    "id": "hZlnpb-qzmCw"
   },
   "source": [
    "X = np.concatenate([np.random.random((50,2)) * 0.9 + np.array([1, 1]), np.random.random((50,2)) * 0.9 + np.array([2, 2])], dtype=ctypes.c_float)\n",
    "Y = np.concatenate([np.ones((50, 1)), np.ones((50, 1)) * -1.0], dtype=ctypes.c_float)\n",
    "\n",
    "X_plot = np.concatenate([np.random.random((50,2)) * 0.9 + np.array([1, 1]), np.random.random((50,2)) * 0.9 + np.array([2, 2])])\n",
    "Y_plot = np.concatenate([np.ones((50, 1)), np.ones((50, 1)) * -1.0])"
   ],
   "execution_count": 19,
   "outputs": []
  },
  {
   "cell_type": "code",
   "execution_count": 20,
   "outputs": [],
   "source": [
    "arr_size = len(X)\n",
    "dimension = len(X[0])\n",
    "learning_rate = ctypes.c_float(0.001)\n",
    "epoch = 1000000\n",
    "X_flat = X.flatten()"
   ],
   "metadata": {
    "collapsed": false
   }
  },
  {
   "cell_type": "code",
   "execution_count": 21,
   "outputs": [],
   "source": [
    "LP_c_float = ctypes.POINTER(ctypes.c_float)\n",
    "x_to_predict = (ctypes.c_float * len(X_flat))(*X_flat)\n",
    "x_to_predict_ptr = ctypes.cast(x_to_predict, LP_c_float)"
   ],
   "metadata": {
    "collapsed": false
   }
  },
  {
   "cell_type": "code",
   "execution_count": 22,
   "outputs": [],
   "source": [
    "LP_c_float = ctypes.POINTER(ctypes.c_float)\n",
    "y_to_predict = (ctypes.c_float * len(Y))(*Y)\n",
    "y_to_predict_ptr = ctypes.cast(y_to_predict, LP_c_float)"
   ],
   "metadata": {
    "collapsed": false
   }
  },
  {
   "cell_type": "code",
   "execution_count": 23,
   "outputs": [],
   "source": [
    "my_lib.linear_model_training.argtypes = [\n",
    "    ctypes.POINTER(ctypes.c_float),\n",
    "    ctypes.POINTER(ctypes.c_float),\n",
    "    ctypes.POINTER(ctypes.c_float),\n",
    "    ctypes.c_int32,\n",
    "    ctypes.c_int32,\n",
    "    ctypes.c_float,\n",
    "    ctypes.c_int32,\n",
    "]\n",
    "my_lib.linear_model_training.restype = ctypes.POINTER(ctypes.c_float)"
   ],
   "metadata": {
    "collapsed": false
   }
  },
  {
   "cell_type": "code",
   "execution_count": 24,
   "outputs": [
    {
     "name": "stdout",
     "output_type": "stream",
     "text": [
      "[ 0.29952437  0.01699028 -0.16973397]\n",
      "<class 'ctypes.wintypes.LP_c_float'>\n"
     ]
    }
   ],
   "source": [
    "linear_model_training_ptr = my_lib.linear_model_training(\n",
    "    w_array_ptr,  # pointeur vers le résultat du vecteur W random\n",
    "    y_to_predict_ptr,  # pointeur vers les résultats labellisés pour entrainer le modele\n",
    "    x_to_predict_ptr,  # points qui ont permis de labeliser le vecteur d'au dessus\n",
    "    arr_size,  # array size\n",
    "    dimension,  # dimension de chaque vecteur\n",
    "    learning_rate,  # learning rate\n",
    "    epoch,  # nombre de fois où l'on passe sur le data set\n",
    ")\n",
    "trained_linear_model = np.ctypeslib.as_array(\n",
    "    linear_model_training_ptr, ((dimension + 1),)\n",
    ")\n",
    "print(trained_linear_model)\n",
    "print(type(linear_model_training_ptr))"
   ],
   "metadata": {
    "collapsed": false
   }
  },
  {
   "cell_type": "code",
   "execution_count": 25,
   "outputs": [],
   "source": [
    "my_lib.predict_linear_model.argtypes = [\n",
    "    ctypes.POINTER(ctypes.c_float),\n",
    "    ctypes.POINTER(ctypes.c_float),\n",
    "    ctypes.c_int32,\n",
    "    ctypes.c_int32,\n",
    "]\n",
    "my_lib.predict_linear_model.restype = ctypes.POINTER(ctypes.c_float)"
   ],
   "metadata": {
    "collapsed": false
   }
  },
  {
   "cell_type": "code",
   "execution_count": 26,
   "outputs": [],
   "source": [
    "predicted_labels = []\n",
    "predicted_x1 = []\n",
    "predicted_x2 = []\n",
    "for x1 in range(100 , 300) :\n",
    "  for x2 in range(100 , 300) :\n",
    "    predicted_x1.append(x1/100)\n",
    "    predicted_x2.append(x2/100)\n",
    "    predicted_labels.append('pink' if x1/100 * trained_linear_model[1] + x2/100 * trained_linear_model[2] + trained_linear_model[0] >= 0 else 'lightskyblue')"
   ],
   "metadata": {
    "collapsed": false
   }
  },
  {
   "cell_type": "code",
   "metadata": {
    "id": "a6e8GdL_zmCx",
    "colab": {
     "base_uri": "https://localhost:8080/",
     "height": 282
    },
    "outputId": "10b1a13c-51b3-4b33-930b-541bb01f159f"
   },
   "source": [
    "plt.scatter(predicted_x1, predicted_x2, c=predicted_labels)\n",
    "plt.scatter(X[0:50, 0], X[0:50, 1], color='blue')\n",
    "plt.scatter(X[50:100,0], X[50:100,1], color='red')\n",
    "plt.show()\n",
    "plt.clf()"
   ],
   "execution_count": 27,
   "outputs": [
    {
     "data": {
      "text/plain": "<Figure size 640x480 with 1 Axes>",
      "image/png": "[encoded data removed]"
     },
     "metadata": {},
     "output_type": "display_data"
    },
    {
     "data": {
      "text/plain": "<Figure size 640x480 with 0 Axes>"
     },
     "metadata": {},
     "output_type": "display_data"
    }
   ]
  },
  {
   "cell_type": "code",
   "execution_count": 28,
   "outputs": [],
   "source": [
    "my_lib.delete_float_array(linear_model_training_ptr, (dimension + 1))\n",
    "del linear_model_training_ptr"
   ],
   "metadata": {
    "collapsed": false
   }
  },
  {
   "cell_type": "markdown",
   "metadata": {
    "id": "gZlONmsp1T_W"
   },
   "source": [
    "### XOR :\n",
    "        Linear Model    : KO\n",
    "        MLP (2, 2, 1)   : OK"
   ]
  },
  {
   "cell_type": "code",
   "execution_count": 29,
   "outputs": [
    {
     "name": "stdout",
     "output_type": "stream",
     "text": [
      "[0.9617152 0.4469385 0.8159851]\n"
     ]
    }
   ],
   "source": [
    "my_lib = ctypes.CDLL(r\"..\\rust_lib\\target\\debug\\rust_lib.dll\")\n",
    "\n",
    "my_lib.delete_float_array.argtypes = [\n",
    "    ctypes.POINTER(ctypes.c_float),\n",
    "    ctypes.c_int32,\n",
    "]\n",
    "\n",
    "my_lib.generate_random_w.argtypes = [ctypes.c_int32]\n",
    "my_lib.generate_random_w.restype = ctypes.POINTER(ctypes.c_float)\n",
    "\n",
    "my_lib.delete_float_array.restype = None\n",
    "\n",
    "dimension = 2\n",
    "\n",
    "w_array_ptr = my_lib.generate_random_w(dimension)\n",
    "\n",
    "w_array = np.ctypeslib.as_array(w_array_ptr, ((dimension + 1),))\n",
    "\n",
    "print(w_array)"
   ],
   "metadata": {
    "collapsed": false
   }
  },
  {
   "cell_type": "code",
   "metadata": {
    "id": "673wfC9U1T_W"
   },
   "source": [
    "X = np.array([[1, 0], [0, 1], [0, 0], [1, 1]], dtype= ctypes.c_float)\n",
    "Y = np.array([1, 1, -1, -1], dtype= ctypes.c_float)\n",
    "\n",
    "X_plot = np.array([[1, 0], [0, 1], [0, 0], [1, 1]])\n",
    "Y_plot = np.array([1, 1, -1, -1])"
   ],
   "execution_count": 30,
   "outputs": []
  },
  {
   "cell_type": "code",
   "execution_count": 31,
   "outputs": [],
   "source": [
    "arr_size = len(X)\n",
    "dimension = len(X[0])\n",
    "learning_rate = ctypes.c_float(0.001)\n",
    "epoch = 1000000\n",
    "X_flat = X.flatten()"
   ],
   "metadata": {
    "collapsed": false
   }
  },
  {
   "cell_type": "code",
   "execution_count": 32,
   "outputs": [],
   "source": [
    "LP_c_float = ctypes.POINTER(ctypes.c_float)\n",
    "x_to_predict = (ctypes.c_float * len(X_flat))(*X_flat)\n",
    "x_to_predict_ptr = ctypes.cast(x_to_predict, LP_c_float)"
   ],
   "metadata": {
    "collapsed": false
   }
  },
  {
   "cell_type": "code",
   "execution_count": 33,
   "outputs": [],
   "source": [
    "LP_c_float = ctypes.POINTER(ctypes.c_float)\n",
    "y_to_predict = (ctypes.c_float * len(Y))(*Y)\n",
    "y_to_predict_ptr = ctypes.cast(y_to_predict, LP_c_float)"
   ],
   "metadata": {
    "collapsed": false
   }
  },
  {
   "cell_type": "code",
   "execution_count": 34,
   "outputs": [],
   "source": [
    "my_lib.linear_model_training.argtypes = [\n",
    "    ctypes.POINTER(ctypes.c_float),\n",
    "    ctypes.POINTER(ctypes.c_float),\n",
    "    ctypes.POINTER(ctypes.c_float),\n",
    "    ctypes.c_int32,\n",
    "    ctypes.c_int32,\n",
    "    ctypes.c_float,\n",
    "    ctypes.c_int32,\n",
    "]\n",
    "my_lib.linear_model_training.restype = ctypes.POINTER(ctypes.c_float)"
   ],
   "metadata": {
    "collapsed": false
   }
  },
  {
   "cell_type": "code",
   "execution_count": 35,
   "outputs": [
    {
     "name": "stdout",
     "output_type": "stream",
     "text": [
      "[ 0.00172048 -0.00306203  0.00198846]\n",
      "<class 'ctypes.wintypes.LP_c_float'>\n"
     ]
    }
   ],
   "source": [
    "linear_model_training_ptr = my_lib.linear_model_training(\n",
    "    w_array_ptr,  # pointeur vers le résultat du vecteur W random\n",
    "    y_to_predict_ptr,  # pointeur vers les résultats labellisés pour entrainer le modele\n",
    "    x_to_predict_ptr,  # points qui ont permis de labeliser le vecteur d'au dessus\n",
    "    arr_size,  # array size\n",
    "    dimension,  # dimension de chaque vecteur\n",
    "    learning_rate,  # learning rate\n",
    "    epoch,  # nombre de fois où l'on passe sur le data set\n",
    ")\n",
    "trained_linear_model = np.ctypeslib.as_array(\n",
    "    linear_model_training_ptr, ((dimension + 1),)\n",
    ")\n",
    "print(trained_linear_model)\n",
    "print(type(linear_model_training_ptr))"
   ],
   "metadata": {
    "collapsed": false
   }
  },
  {
   "cell_type": "code",
   "execution_count": 36,
   "outputs": [],
   "source": [
    "my_lib.predict_linear_model.argtypes = [\n",
    "    ctypes.POINTER(ctypes.c_float),\n",
    "    ctypes.POINTER(ctypes.c_float),\n",
    "    ctypes.c_int32,\n",
    "    ctypes.c_int32,\n",
    "]\n",
    "my_lib.predict_linear_model.restype = ctypes.POINTER(ctypes.c_float)"
   ],
   "metadata": {
    "collapsed": false
   }
  },
  {
   "cell_type": "code",
   "execution_count": 37,
   "outputs": [],
   "source": [
    "predicted_labels = []\n",
    "predicted_x1 = []\n",
    "predicted_x2 = []\n",
    "for x1 in range(0 , 100) :\n",
    "  for x2 in range(0 , 100) :\n",
    "    predicted_x1.append(x1/100)\n",
    "    predicted_x2.append(x2/100)\n",
    "    predicted_labels.append('pink' if x1/100 * trained_linear_model[1] + x2/100 * trained_linear_model[2] + trained_linear_model[0] >= 0 else 'lightskyblue')"
   ],
   "metadata": {
    "collapsed": false
   }
  },
  {
   "cell_type": "code",
   "metadata": {
    "id": "uA3E-h801T_Y",
    "colab": {
     "base_uri": "https://localhost:8080/",
     "height": 283
    },
    "outputId": "9fc31c6d-e44c-447b-a7c0-a3fa7b0d778e"
   },
   "source": [
    "plt.scatter(predicted_x1, predicted_x2, c=predicted_labels)\n",
    "plt.scatter(X[0:2, 0], X[0:2, 1], color='blue')\n",
    "plt.scatter(X[2:4,0], X[2:4,1], color='red')\n",
    "plt.show()\n",
    "plt.clf()"
   ],
   "execution_count": 38,
   "outputs": [
    {
     "data": {
      "text/plain": "<Figure size 640x480 with 1 Axes>",
      "image/png": "[encoded data removed]"
     },
     "metadata": {},
     "output_type": "display_data"
    },
    {
     "data": {
      "text/plain": "<Figure size 640x480 with 0 Axes>"
     },
     "metadata": {},
     "output_type": "display_data"
    }
   ]
  },
  {
   "cell_type": "code",
   "execution_count": 39,
   "outputs": [],
   "source": [
    "my_lib.delete_float_array(linear_model_training_ptr, (dimension + 1))\n",
    "del linear_model_training_ptr"
   ],
   "metadata": {
    "collapsed": false
   }
  },
  {
   "cell_type": "markdown",
   "metadata": {
    "id": "5qxkXVo02MpM"
   },
   "source": [
    "### Cross :\n",
    "        Linear Model    : KO\n",
    "        MLP (2, 4, 1)   : OK"
   ]
  },
  {
   "cell_type": "code",
   "execution_count": 40,
   "outputs": [
    {
     "name": "stdout",
     "output_type": "stream",
     "text": [
      "[0.24964821 0.4694972  0.18534899]\n"
     ]
    }
   ],
   "source": [
    "my_lib = ctypes.CDLL(r\"..\\rust_lib\\target\\debug\\rust_lib.dll\")\n",
    "\n",
    "my_lib.delete_float_array.argtypes = [\n",
    "    ctypes.POINTER(ctypes.c_float),\n",
    "    ctypes.c_int32,\n",
    "]\n",
    "\n",
    "my_lib.generate_random_w.argtypes = [ctypes.c_int32]\n",
    "my_lib.generate_random_w.restype = ctypes.POINTER(ctypes.c_float)\n",
    "\n",
    "my_lib.delete_float_array.restype = None\n",
    "\n",
    "dimension = 2\n",
    "\n",
    "w_array_ptr = my_lib.generate_random_w(dimension)\n",
    "\n",
    "w_array = np.ctypeslib.as_array(w_array_ptr, ((dimension + 1),))\n",
    "\n",
    "print(w_array)"
   ],
   "metadata": {
    "collapsed": false
   }
  },
  {
   "cell_type": "code",
   "metadata": {
    "id": "7kkrrfnX2MpM"
   },
   "source": [
    "X = np.random.random((500, 2)) * 2.0 - 1.0\n",
    "X = np.array(X, dtype= ctypes.c_float)\n",
    "Y = np.array([1 if abs(p[0]) <= 0.3 or abs(p[1]) <= 0.3 else -1 for p in X])\n",
    "Y = np.array(Y, dtype= ctypes.c_float)\n",
    "\n",
    "X_plot = np.random.random((500, 2)) * 2.0 - 1.0\n",
    "Y_plot = np.array([1 if abs(p[0]) <= 0.3 or abs(p[1]) <= 0.3 else -1 for p in X])"
   ],
   "execution_count": 41,
   "outputs": []
  },
  {
   "cell_type": "code",
   "execution_count": 42,
   "outputs": [
    {
     "name": "stdout",
     "output_type": "stream",
     "text": [
      "[[ 5.24294734e-01 -4.08396870e-01]\n",
      " [ 3.21583360e-01  8.83104503e-01]\n",
      " [-2.18933761e-01  8.05828810e-01]\n",
      " [ 1.08010456e-01 -9.39930528e-02]\n",
      " [-4.25735652e-01 -2.15274379e-01]\n",
      " [-5.02957582e-01 -9.22687411e-01]\n",
      " [-8.80790830e-01  2.50962645e-01]\n",
      " [ 6.87895179e-01 -3.32322747e-01]\n",
      " [ 5.32802343e-01 -9.87606466e-01]\n",
      " [ 4.19245511e-01  4.28475380e-01]\n",
      " [-5.41565455e-02  5.51002145e-01]\n",
      " [-3.79399508e-01  6.19877815e-01]\n",
      " [ 7.03602970e-01 -1.66804910e-01]\n",
      " [-7.68565297e-01  9.04770792e-01]\n",
      " [ 6.77388668e-01  8.95861924e-01]\n",
      " [-8.58132780e-01  4.35739070e-01]\n",
      " [ 5.64341843e-01 -1.47309616e-01]\n",
      " [ 6.63218737e-01 -3.39361042e-01]\n",
      " [-8.08726907e-01  6.34629607e-01]\n",
      " [ 7.81606376e-01  5.53746641e-01]\n",
      " [ 2.00229079e-01 -1.80856586e-01]\n",
      " [-8.99225354e-01  1.12959847e-01]\n",
      " [-5.81352450e-02 -8.43611717e-01]\n",
      " [ 5.36773622e-01  8.24592650e-01]\n",
      " [ 2.92037606e-01  2.86925167e-01]\n",
      " [-5.51669657e-01  5.47473907e-01]\n",
      " [-3.09025168e-01 -4.05315638e-01]\n",
      " [ 3.21835577e-02  7.36621737e-01]\n",
      " [ 9.21904385e-01  3.61209810e-01]\n",
      " [-2.77571492e-02 -4.83532995e-01]\n",
      " [ 6.32873237e-01 -3.95549685e-01]\n",
      " [ 1.84345856e-01 -4.02862191e-01]\n",
      " [ 7.46244550e-01  4.08795327e-01]\n",
      " [ 1.16537437e-02  4.31817681e-01]\n",
      " [-1.21655054e-02  6.85831010e-01]\n",
      " [-1.57699868e-01  9.81546044e-01]\n",
      " [ 8.76301527e-01  3.65588337e-01]\n",
      " [ 8.60776663e-01 -1.05656892e-01]\n",
      " [ 5.90416729e-01  2.64344305e-01]\n",
      " [ 5.02748668e-01  3.37404728e-01]\n",
      " [-9.20657039e-01 -2.91779935e-01]\n",
      " [ 2.06409961e-01 -8.95885825e-01]\n",
      " [-5.03330112e-01 -8.89765322e-01]\n",
      " [ 4.20778543e-01 -7.72547364e-01]\n",
      " [-8.79545629e-01 -8.41396689e-01]\n",
      " [-4.28885758e-01  2.28244513e-01]\n",
      " [-4.93680835e-02  9.26360607e-01]\n",
      " [-1.35420337e-01  4.56299424e-01]\n",
      " [ 5.11029005e-01  8.39198887e-01]\n",
      " [ 6.50616825e-01  1.61807686e-01]\n",
      " [-2.10889861e-01 -6.35068238e-01]\n",
      " [-3.11699659e-01 -3.43811184e-01]\n",
      " [-8.25659573e-01  4.97202039e-01]\n",
      " [-9.69504058e-01 -2.97525346e-01]\n",
      " [-3.35386992e-01 -4.72246945e-01]\n",
      " [ 1.31142244e-01  8.29699337e-01]\n",
      " [ 8.53904426e-01  5.96876219e-02]\n",
      " [ 4.58275646e-01  3.58022243e-01]\n",
      " [-8.56390655e-01  8.75047565e-01]\n",
      " [ 4.82884914e-01 -1.12238951e-01]\n",
      " [ 7.03862727e-01 -6.43063426e-01]\n",
      " [ 7.42259622e-01 -3.99505794e-01]\n",
      " [ 4.29468155e-01 -7.31650949e-01]\n",
      " [ 3.26197743e-01 -4.72357333e-01]\n",
      " [ 1.61794171e-01  2.95797169e-01]\n",
      " [-5.96362017e-02 -7.50648558e-01]\n",
      " [-5.39280176e-01 -4.40310419e-01]\n",
      " [ 2.67955035e-01 -5.24827361e-01]\n",
      " [ 9.90581453e-01  8.55760574e-01]\n",
      " [-8.65459144e-01 -2.71047264e-01]\n",
      " [-9.90417302e-01 -9.10512567e-01]\n",
      " [ 7.95879960e-01 -6.81822300e-01]\n",
      " [ 5.93685210e-01 -2.60867417e-01]\n",
      " [ 7.56999075e-01 -8.87042344e-01]\n",
      " [ 1.52484342e-01  6.11649811e-01]\n",
      " [ 4.79851604e-01  5.27732670e-01]\n",
      " [ 8.00792873e-01 -4.59822208e-01]\n",
      " [-5.00347257e-01  1.62052363e-01]\n",
      " [ 8.40987116e-02 -5.49020052e-01]\n",
      " [ 5.99684477e-01 -1.25809312e-01]\n",
      " [-8.37766826e-01  5.06711662e-01]\n",
      " [-9.39473093e-01 -1.93119608e-02]\n",
      " [ 3.72503459e-01  8.58652055e-01]\n",
      " [ 9.55468640e-02 -7.18769550e-01]\n",
      " [ 9.59964216e-01 -1.71872415e-03]\n",
      " [-3.23634297e-01 -4.71359462e-01]\n",
      " [-5.43679774e-01 -3.83040488e-01]\n",
      " [-7.45579362e-01  5.34911931e-01]\n",
      " [-3.76705617e-01  6.91284597e-01]\n",
      " [-5.43275103e-02  8.74433517e-01]\n",
      " [-3.22798550e-01  2.24905387e-01]\n",
      " [-2.04061255e-01 -5.73590159e-01]\n",
      " [-6.77083492e-01  5.79893410e-01]\n",
      " [-1.19123004e-01  6.54792845e-01]\n",
      " [-1.50195017e-01 -3.30913335e-01]\n",
      " [ 7.36525238e-01 -1.28313079e-01]\n",
      " [-2.84489155e-01 -8.15965831e-01]\n",
      " [ 9.94538188e-01  6.59503162e-01]\n",
      " [ 8.98925662e-01  2.71445543e-01]\n",
      " [-4.41374362e-01  9.05053437e-01]\n",
      " [ 7.21199930e-01  1.21848814e-01]\n",
      " [-3.93097907e-01  4.78475243e-01]\n",
      " [-7.43715763e-01 -2.48943791e-01]\n",
      " [ 7.39085972e-01 -5.59426427e-01]\n",
      " [ 7.30417013e-01 -8.83120477e-01]\n",
      " [ 1.46471441e-01 -9.25557315e-01]\n",
      " [ 5.64290166e-01  8.43885243e-01]\n",
      " [ 9.72089529e-01 -7.69268036e-01]\n",
      " [ 8.53698730e-01  7.99462080e-01]\n",
      " [ 3.44064862e-01  9.33588982e-01]\n",
      " [-8.11012208e-01 -7.62763573e-03]\n",
      " [-1.16873235e-01  3.58511776e-01]\n",
      " [ 1.11803338e-01  5.85474372e-01]\n",
      " [-7.98707187e-01 -4.65859950e-01]\n",
      " [ 9.62749839e-01  4.36237380e-02]\n",
      " [ 3.21563333e-01 -7.66428590e-01]\n",
      " [-2.37987682e-01  4.80551980e-02]\n",
      " [ 1.44509658e-01  5.74903131e-01]\n",
      " [-2.70645946e-01  3.56138945e-01]\n",
      " [-4.31082606e-01  6.82683468e-01]\n",
      " [-7.55351663e-01  4.72892791e-01]\n",
      " [-5.80443084e-01  4.88769144e-01]\n",
      " [-3.36383939e-01 -7.32535303e-01]\n",
      " [ 1.09678200e-02 -8.03617179e-01]\n",
      " [-1.74086303e-01  9.41005647e-01]\n",
      " [-3.40761334e-01  9.77482855e-01]\n",
      " [ 4.19140667e-01 -1.21175544e-02]\n",
      " [-5.04958093e-01  7.11820543e-01]\n",
      " [-9.08817947e-02 -5.35611928e-01]\n",
      " [-6.11911058e-01 -7.10430980e-01]\n",
      " [ 8.07369351e-01  7.50935078e-01]\n",
      " [-4.65465605e-01 -7.96582401e-01]\n",
      " [-4.16777521e-01  1.60507798e-01]\n",
      " [ 8.17844748e-01  5.23015201e-01]\n",
      " [ 4.22804415e-01 -2.77945310e-01]\n",
      " [-5.50106108e-01 -2.54818171e-01]\n",
      " [-7.76996076e-01 -5.38062572e-01]\n",
      " [ 4.61056918e-01  1.66418523e-01]\n",
      " [ 4.17521507e-01  4.65171218e-01]\n",
      " [ 8.95233989e-01  7.42496312e-01]\n",
      " [-7.59261012e-01 -4.42047976e-02]\n",
      " [-4.25556123e-01  4.84583020e-01]\n",
      " [ 4.07712162e-01  8.35504889e-01]\n",
      " [-3.55009049e-01 -9.85789657e-01]\n",
      " [ 5.48420668e-01  8.00250590e-01]\n",
      " [-5.62176645e-01 -2.52948016e-01]\n",
      " [-7.16690123e-01  1.02846697e-02]\n",
      " [ 5.53237915e-01 -8.05987567e-02]\n",
      " [-6.41185701e-01  5.99499345e-01]\n",
      " [-7.89101005e-01 -2.90019751e-01]\n",
      " [ 8.68787020e-02  9.40429270e-02]\n",
      " [-4.55990642e-01 -5.99586189e-01]\n",
      " [ 8.90888035e-01  2.84384787e-01]\n",
      " [ 5.56613207e-01  8.59824717e-01]\n",
      " [-2.88233727e-01 -6.77834034e-01]\n",
      " [-9.51765180e-02  7.34815180e-01]\n",
      " [-6.66339517e-01  5.54803491e-01]\n",
      " [ 6.11284554e-01 -5.13564050e-01]\n",
      " [-6.88055575e-01 -4.53441203e-01]\n",
      " [ 1.36149913e-01  5.88673651e-01]\n",
      " [-8.25761035e-02  5.50563991e-01]\n",
      " [-5.13275027e-01  8.07134271e-01]\n",
      " [-7.18818963e-01  5.35862565e-01]\n",
      " [-7.00640500e-01 -3.26780736e-01]\n",
      " [-8.38296488e-02  3.58782798e-01]\n",
      " [ 8.57549608e-01 -1.54252827e-01]\n",
      " [ 4.63409960e-01  2.81417221e-01]\n",
      " [ 1.57215133e-01  6.20234641e-04]\n",
      " [-4.29362357e-01 -8.21826458e-01]\n",
      " [ 4.13054645e-01 -7.85077989e-01]\n",
      " [ 6.32559180e-01 -5.20286143e-01]\n",
      " [ 2.35259920e-01 -2.20443651e-01]\n",
      " [-4.40659493e-01  8.61562267e-02]\n",
      " [ 2.21266016e-01 -7.82505989e-01]\n",
      " [ 3.90568316e-01  6.04925752e-01]\n",
      " [-4.57215816e-01  9.37752128e-01]\n",
      " [ 1.91270158e-01 -5.90131462e-01]\n",
      " [-6.26665235e-01 -1.02507196e-01]\n",
      " [-7.48637766e-02 -1.08522810e-01]\n",
      " [ 9.28543806e-01 -6.95144892e-01]\n",
      " [ 7.94897258e-01 -7.46286333e-01]\n",
      " [-5.85903049e-01 -9.25721049e-01]\n",
      " [ 6.31427824e-01  9.36521888e-01]\n",
      " [ 3.42496037e-02  6.72376812e-01]\n",
      " [ 3.89402896e-01 -5.21780312e-01]\n",
      " [-9.51503277e-01  8.73324454e-01]\n",
      " [-4.51011717e-01  8.26250136e-01]\n",
      " [ 3.97529691e-01 -2.82352298e-01]\n",
      " [ 8.99329603e-01 -6.14065647e-01]\n",
      " [-4.05617982e-01  3.35900068e-01]\n",
      " [-1.05256185e-01 -1.04893506e-01]\n",
      " [-5.67018449e-01  3.72431986e-02]\n",
      " [-3.67058992e-01  3.35886389e-01]\n",
      " [-8.24837863e-01 -5.30286372e-01]\n",
      " [ 4.38703269e-01  7.31353462e-01]\n",
      " [ 5.85744381e-01  1.44908935e-01]\n",
      " [-2.99467891e-01  1.13047734e-01]\n",
      " [ 9.40919995e-01  7.75128484e-01]\n",
      " [ 8.23987126e-01 -7.57199883e-01]\n",
      " [-5.96946418e-01  8.98299694e-01]\n",
      " [-7.55117118e-01  5.43218732e-01]\n",
      " [ 5.92912376e-01 -7.80804634e-01]\n",
      " [ 7.30765283e-01  9.65168417e-01]\n",
      " [-1.00373931e-01 -1.84682578e-01]\n",
      " [ 9.01973069e-01 -1.15653509e-02]\n",
      " [-2.78716952e-01  7.91337490e-01]\n",
      " [ 7.90375650e-01  5.00674732e-02]\n",
      " [ 4.05222833e-01 -3.32392752e-01]\n",
      " [ 5.38640261e-01  1.11430101e-01]\n",
      " [-8.62601757e-01 -1.06048740e-01]\n",
      " [ 1.68956235e-01 -2.09538907e-01]\n",
      " [ 7.16903210e-01  1.60191819e-01]\n",
      " [-3.16419750e-01 -6.82717204e-01]\n",
      " [ 9.31118011e-01 -7.79785216e-01]\n",
      " [-5.22011638e-01 -3.66066754e-01]\n",
      " [-7.16992915e-01 -5.32635093e-01]\n",
      " [ 4.48504090e-01 -2.25903600e-01]\n",
      " [ 8.85266423e-01  3.02181423e-01]\n",
      " [-8.04881155e-01  8.51567268e-01]\n",
      " [-7.82761097e-01  1.19641401e-01]\n",
      " [ 2.37306096e-02  7.72290170e-01]\n",
      " [ 7.50389576e-01 -9.40000713e-01]\n",
      " [-5.92268109e-01  5.93587995e-01]\n",
      " [ 4.62320566e-01 -3.81835997e-01]\n",
      " [-3.62720579e-01 -1.19947910e-01]\n",
      " [ 5.46553791e-01 -5.94699681e-02]\n",
      " [ 8.36384356e-01 -1.10181972e-01]\n",
      " [-3.12131476e-02  7.59737730e-01]\n",
      " [-2.29528889e-01  5.38372159e-01]\n",
      " [ 5.16600072e-01  9.28410470e-01]\n",
      " [ 3.81422758e-01  1.18342079e-01]\n",
      " [ 9.48566139e-01  6.07260317e-02]\n",
      " [ 9.97320354e-01  6.52740821e-02]\n",
      " [ 7.76257813e-01  8.32760453e-01]\n",
      " [-5.50644875e-01 -5.61574757e-01]\n",
      " [ 9.29968238e-01 -2.92609960e-01]\n",
      " [ 7.75106072e-01 -8.56599152e-01]\n",
      " [ 6.57941282e-01 -5.53019702e-01]\n",
      " [ 3.05268615e-01 -5.94118796e-02]\n",
      " [ 1.18066050e-01  2.03517646e-01]\n",
      " [ 8.85447264e-01  5.46812356e-01]\n",
      " [-9.37766433e-01 -2.47426257e-01]\n",
      " [-8.17301273e-01  4.87874597e-01]\n",
      " [-2.63096929e-01  2.00691238e-01]\n",
      " [ 1.60628960e-01 -7.42152035e-02]\n",
      " [ 1.00387469e-01  7.30383933e-01]\n",
      " [-7.57714450e-01  3.41768235e-01]\n",
      " [ 3.34504604e-01  2.47329175e-01]\n",
      " [-7.40947425e-01  8.46726775e-01]\n",
      " [ 4.43955541e-01 -3.61053169e-01]\n",
      " [ 5.09222865e-01  3.97168040e-01]\n",
      " [ 5.51347554e-01 -9.39430356e-01]\n",
      " [-2.33229443e-01  3.44609350e-01]\n",
      " [-6.36481881e-01 -9.63236094e-01]\n",
      " [ 4.08690035e-01 -1.92313328e-01]\n",
      " [ 1.07959338e-01 -8.12720880e-02]\n",
      " [ 1.63615838e-01 -5.34230590e-01]\n",
      " [ 7.42456496e-01 -4.82093215e-01]\n",
      " [-2.21964702e-01 -3.51458132e-01]\n",
      " [-8.18799794e-01  9.55588400e-01]\n",
      " [ 5.77607036e-01  7.20301032e-01]\n",
      " [-6.51992559e-01  3.46722364e-01]\n",
      " [-3.42473716e-01 -3.81078511e-01]\n",
      " [-3.45708251e-01  7.36536324e-01]\n",
      " [ 1.16456926e-01  3.09438348e-01]\n",
      " [-5.31268597e-01 -4.25470531e-01]\n",
      " [ 6.68598637e-02 -6.25639856e-01]\n",
      " [-4.53833789e-01 -4.12542731e-01]\n",
      " [ 4.53396350e-01 -5.54485023e-02]\n",
      " [-9.13275599e-01  8.24449658e-01]\n",
      " [ 3.19006115e-01  5.82911015e-01]\n",
      " [ 9.11135137e-01 -8.34789515e-01]\n",
      " [-7.69294918e-01  3.38127613e-01]\n",
      " [ 1.24791674e-01  1.17918357e-01]\n",
      " [-5.54822862e-01 -7.93656349e-01]\n",
      " [ 7.87702978e-01  7.56814897e-01]\n",
      " [-6.75078630e-01 -9.39337760e-02]\n",
      " [ 9.97819722e-01 -8.81571248e-02]\n",
      " [-1.20738715e-01 -6.01186864e-02]\n",
      " [ 7.91667342e-01 -5.79162002e-01]\n",
      " [-8.59809875e-01  6.09719932e-01]\n",
      " [-2.88210332e-01 -5.15895128e-01]\n",
      " [-1.66785434e-01 -6.70875311e-01]\n",
      " [ 7.49758780e-01  1.99974760e-01]\n",
      " [-8.07343721e-01  8.47603619e-01]\n",
      " [-3.48636210e-01 -8.46969128e-01]\n",
      " [ 3.81764054e-01  4.78218228e-01]\n",
      " [-7.07586467e-01  4.58711326e-01]\n",
      " [ 6.45955443e-01 -5.50964534e-01]\n",
      " [-8.96018445e-01  9.63260591e-01]\n",
      " [ 8.46478820e-01  8.29457462e-01]\n",
      " [-1.44150600e-01 -2.20106337e-02]\n",
      " [-6.41431451e-01 -1.50256723e-01]\n",
      " [-9.04161155e-01 -6.73004687e-01]\n",
      " [-7.95049667e-02 -6.44483194e-02]\n",
      " [-2.24287108e-01  6.07987761e-01]\n",
      " [ 3.34628969e-01 -8.61941934e-01]\n",
      " [ 9.21872020e-01 -4.08744633e-01]\n",
      " [-2.19298735e-01  9.08087552e-01]\n",
      " [ 1.48478031e-01 -6.85819507e-01]\n",
      " [ 6.46986187e-01  9.68228698e-01]\n",
      " [-1.18670732e-01 -9.22262907e-01]\n",
      " [ 6.21684380e-02  8.78732324e-01]\n",
      " [ 3.03984523e-01 -4.76180986e-02]\n",
      " [-2.65841454e-01  2.44596794e-01]\n",
      " [-8.00576687e-01 -2.25756347e-01]\n",
      " [-1.09875105e-01  3.95118147e-01]\n",
      " [ 5.64304054e-01  1.75796956e-01]\n",
      " [-4.15188849e-01 -7.95486748e-01]\n",
      " [ 9.25419271e-01 -1.47083998e-01]\n",
      " [ 3.54688078e-01 -5.73058009e-01]\n",
      " [-1.12878278e-01 -4.51772481e-01]\n",
      " [ 8.48495141e-02  7.45051205e-01]\n",
      " [-9.48236763e-01  7.17172563e-01]\n",
      " [ 7.28705645e-01  8.97316039e-01]\n",
      " [-5.29545546e-01  3.53794724e-01]\n",
      " [ 9.06456828e-01 -8.14805150e-01]\n",
      " [-7.77427256e-01  8.18735600e-01]\n",
      " [ 1.39856115e-01 -3.52434784e-01]\n",
      " [ 7.97960639e-01  3.39559197e-01]\n",
      " [-4.39209402e-01  5.81747770e-01]\n",
      " [-9.96826291e-01 -7.49562383e-01]\n",
      " [-7.08100975e-01 -4.37797785e-01]\n",
      " [ 8.69850636e-01 -1.97967097e-01]\n",
      " [-5.80413342e-01 -2.50642926e-01]\n",
      " [-1.21170320e-01  9.96149659e-01]\n",
      " [ 2.99344003e-01  9.40116704e-01]\n",
      " [-8.36527944e-01  6.51148438e-01]\n",
      " [ 2.46564344e-01 -4.37720567e-01]\n",
      " [-3.30567122e-01  1.61909804e-01]\n",
      " [-4.19795424e-01 -6.24972641e-01]\n",
      " [ 8.36751640e-01  7.17410445e-01]\n",
      " [ 9.32832718e-01 -6.91475987e-01]\n",
      " [ 7.80369401e-01 -4.28528816e-01]\n",
      " [ 2.98815519e-01 -4.36581850e-01]\n",
      " [-8.93408358e-01 -1.39083520e-01]\n",
      " [ 1.88538924e-01  9.35566351e-02]\n",
      " [-3.38576794e-01  3.91433984e-01]\n",
      " [-2.54374504e-01  6.80474579e-01]\n",
      " [-4.56353068e-01 -1.75876439e-01]\n",
      " [-5.80159962e-01  7.24518418e-01]\n",
      " [ 2.90975600e-01  4.93532658e-01]\n",
      " [ 1.18089154e-01 -6.06555820e-01]\n",
      " [ 1.09380081e-01 -6.09857380e-01]\n",
      " [ 7.60743082e-01 -8.36125493e-01]\n",
      " [-4.98405039e-01 -3.95016283e-01]\n",
      " [ 9.85174537e-01  8.93727899e-01]\n",
      " [-2.17101902e-01  6.00516438e-01]\n",
      " [-3.12721282e-01  9.69818652e-01]\n",
      " [-6.77827299e-01 -2.14859098e-01]\n",
      " [ 1.83595955e-01  5.09633183e-01]\n",
      " [ 2.91694663e-02 -8.61347437e-01]\n",
      " [-3.77788574e-01  5.22725642e-01]\n",
      " [ 2.98506647e-01 -1.12142615e-01]\n",
      " [ 2.88662195e-01  5.08190334e-01]\n",
      " [-9.56074178e-01  4.05634016e-01]\n",
      " [ 9.28222179e-01 -2.90241808e-01]\n",
      " [-3.33885342e-01  3.97109151e-01]\n",
      " [ 1.02785453e-01 -3.48710388e-01]\n",
      " [ 2.09296316e-01 -5.57365716e-01]\n",
      " [-9.88830104e-02 -3.67005825e-01]\n",
      " [ 1.55898303e-01 -7.14316428e-01]\n",
      " [ 5.87792635e-01  6.15846992e-01]\n",
      " [-8.60034406e-01 -6.08391762e-01]\n",
      " [-7.83637106e-01  1.55809790e-01]\n",
      " [-1.59240693e-01  2.28033215e-01]\n",
      " [ 2.16351729e-02 -2.45563880e-01]\n",
      " [-7.53973067e-01 -4.28401113e-01]\n",
      " [ 4.88992542e-01  7.18902290e-01]\n",
      " [-4.87295300e-01 -4.94330972e-01]\n",
      " [-4.96537954e-01  5.22590935e-01]\n",
      " [ 7.58581698e-01  7.56556511e-01]\n",
      " [ 6.32411301e-01 -3.34380955e-01]\n",
      " [-8.56052041e-01 -8.83053958e-01]\n",
      " [-3.02652359e-01 -2.83691622e-02]\n",
      " [ 8.99034917e-01  4.96965855e-01]\n",
      " [-5.75412661e-02 -4.68834005e-02]\n",
      " [-8.39895606e-01  5.53074896e-01]\n",
      " [ 6.91826105e-01  8.41836631e-01]\n",
      " [-3.11693579e-01 -1.14236012e-01]\n",
      " [-3.25888321e-02 -4.26094800e-01]\n",
      " [ 7.02502653e-02 -2.48342201e-01]\n",
      " [-4.33134884e-01 -1.34512469e-01]\n",
      " [ 6.62262678e-01 -8.79997909e-01]\n",
      " [-9.26182985e-01  9.78601813e-01]\n",
      " [-2.58555356e-02  9.93458331e-01]\n",
      " [-9.76019740e-01 -4.42529321e-01]\n",
      " [ 2.87386447e-01 -4.75011140e-01]\n",
      " [-5.67457676e-01  9.02461886e-01]\n",
      " [-7.42648005e-01 -5.46371639e-01]\n",
      " [ 9.38388944e-01 -8.03162038e-01]\n",
      " [ 2.12796181e-01 -4.69310552e-01]\n",
      " [ 7.53817037e-02  3.70502144e-01]\n",
      " [-5.72774887e-01  9.73460138e-01]\n",
      " [ 3.21946323e-01 -6.57592297e-01]\n",
      " [-6.98442578e-01  3.85082513e-01]\n",
      " [-4.62403327e-01  3.44559729e-01]\n",
      " [-3.63771856e-01  2.59261191e-01]\n",
      " [-3.32974672e-01  1.40676707e-01]\n",
      " [-2.61468768e-01  4.78788614e-01]\n",
      " [-2.33033597e-01  1.08727053e-01]\n",
      " [ 4.77740437e-01  1.11819401e-01]\n",
      " [ 6.55414939e-01 -5.66623211e-02]\n",
      " [ 5.28599024e-01  3.73175949e-01]\n",
      " [ 7.78010607e-01 -7.94248521e-01]\n",
      " [ 4.01968837e-01 -9.75949243e-02]\n",
      " [-8.75755012e-01 -4.03229207e-01]\n",
      " [ 2.14188308e-01 -8.27630520e-01]\n",
      " [-5.37277877e-01 -2.79133976e-01]\n",
      " [-5.95244169e-01  9.66282070e-01]\n",
      " [-6.94313124e-02 -6.38531327e-01]\n",
      " [-7.33324766e-01  2.07847521e-01]\n",
      " [-6.65719986e-01  5.69073081e-01]\n",
      " [-6.15632057e-01 -1.34117186e-01]\n",
      " [-5.75870097e-01  1.41793311e-01]\n",
      " [-4.12752181e-01  8.17869604e-01]\n",
      " [-4.00318742e-01  3.28782767e-01]\n",
      " [-4.45480496e-01  8.29618931e-01]\n",
      " [-1.22878343e-01 -2.15737775e-01]\n",
      " [-1.86475918e-01  7.40357161e-01]\n",
      " [-6.47789598e-01  9.69874442e-01]\n",
      " [-6.82432234e-01 -7.05712974e-01]\n",
      " [-6.63295746e-01  1.14233218e-01]\n",
      " [ 4.30902958e-01 -5.84397554e-01]\n",
      " [-1.23040564e-01  5.13853073e-01]\n",
      " [ 1.46606788e-01 -3.99957240e-01]\n",
      " [ 7.79770255e-01 -3.59792709e-01]\n",
      " [ 8.28551948e-01  3.17353010e-01]\n",
      " [ 7.09059238e-01  5.96272826e-01]\n",
      " [-5.43548465e-01 -9.29851353e-01]\n",
      " [-6.01140678e-01 -6.97218060e-01]\n",
      " [ 8.90527129e-01  9.70478773e-01]\n",
      " [ 8.44024360e-01 -9.79573578e-02]\n",
      " [ 4.17557299e-01  5.66332579e-01]\n",
      " [ 7.42643118e-01  5.06259799e-01]\n",
      " [ 4.98192757e-02  4.41388458e-01]\n",
      " [-3.47457826e-01 -2.83453315e-01]\n",
      " [ 9.12061393e-01  8.69893193e-01]\n",
      " [ 1.61618829e-01 -1.31178051e-01]\n",
      " [-3.71303707e-01  1.17129758e-01]\n",
      " [ 5.03515184e-01  1.54564586e-02]\n",
      " [ 9.08397853e-01  8.35772216e-01]\n",
      " [-9.18045163e-01 -7.33366609e-01]\n",
      " [-6.11672640e-01 -5.74342549e-01]\n",
      " [-3.77216488e-01 -1.59697577e-01]\n",
      " [ 1.08949892e-01 -9.95552599e-01]\n",
      " [ 5.82354367e-01 -4.11809623e-01]\n",
      " [-1.71829686e-01 -9.34402645e-01]\n",
      " [-4.50546533e-01  9.75251257e-01]\n",
      " [-6.32849038e-01 -1.38177842e-01]\n",
      " [ 2.35512495e-01  6.94599807e-01]\n",
      " [-6.94499731e-01 -9.94825125e-01]\n",
      " [-7.37968922e-01  6.40557885e-01]\n",
      " [ 7.77333021e-01 -4.67433453e-01]\n",
      " [ 6.67813182e-01 -3.97322387e-01]\n",
      " [ 8.00559402e-01  8.79391730e-01]\n",
      " [-8.00191998e-01 -9.42309976e-01]\n",
      " [-4.30582553e-01  8.17802489e-01]\n",
      " [-7.51857817e-01  8.51966888e-02]\n",
      " [-5.67743182e-01  5.77303529e-01]\n",
      " [ 1.30125895e-01 -6.67520285e-01]\n",
      " [ 3.08717340e-01 -7.64601350e-01]\n",
      " [-9.07178998e-01  8.14121127e-01]\n",
      " [-6.98957205e-01  9.28394496e-01]\n",
      " [ 6.85604036e-01 -8.91678557e-02]\n",
      " [ 4.13485736e-01  1.02834366e-01]\n",
      " [ 4.87308502e-01  7.30267048e-01]\n",
      " [ 3.99694681e-01  7.22187757e-01]\n",
      " [ 3.27675670e-01 -8.76786113e-01]\n",
      " [ 2.75196463e-01  9.26384985e-01]\n",
      " [-7.96151996e-01 -8.04163635e-01]\n",
      " [-7.07293034e-01 -2.95829121e-02]\n",
      " [ 8.39321315e-01  3.28932881e-01]\n",
      " [ 8.03864956e-01 -8.91841173e-01]\n",
      " [-6.56580329e-01  7.31199443e-01]\n",
      " [ 9.67846334e-01  8.96091044e-01]\n",
      " [-5.27305543e-01 -3.55685055e-01]\n",
      " [ 7.08208799e-01 -5.44714987e-01]\n",
      " [-2.25357920e-01  7.59051070e-02]\n",
      " [ 8.57136309e-01 -6.35979295e-01]\n",
      " [ 2.64342070e-01  4.43773568e-01]\n",
      " [-9.47371185e-01 -8.29937220e-01]\n",
      " [ 3.46450537e-01 -5.19816697e-01]\n",
      " [ 8.27563554e-02 -7.83737481e-01]\n",
      " [-9.98025775e-01 -4.92597401e-01]\n",
      " [-2.86046147e-01  5.29877879e-02]\n",
      " [-3.37171972e-01 -4.16343331e-01]\n",
      " [-3.75321414e-03 -7.62229502e-01]\n",
      " [ 3.58448118e-01 -8.45607162e-01]\n",
      " [ 5.19235075e-01  8.37983042e-02]\n",
      " [-3.15908551e-01  7.64939666e-01]\n",
      " [ 1.73476517e-01  1.42231747e-03]\n",
      " [ 4.06667531e-01 -1.40338227e-01]\n",
      " [ 7.56008446e-01 -5.94527900e-01]\n",
      " [-8.16768825e-01  9.40427780e-01]\n",
      " [ 9.35253918e-01 -5.93621552e-01]\n",
      " [ 3.31754804e-01 -5.72160840e-01]\n",
      " [-1.40269473e-01  6.56468391e-01]\n",
      " [ 2.76464224e-01  5.77214301e-01]\n",
      " [ 7.41685271e-01  7.86328673e-01]]\n",
      "[-1. -1.  1.  1.  1. -1.  1. -1. -1. -1.  1. -1.  1. -1. -1. -1.  1. -1.\n",
      " -1. -1.  1.  1.  1. -1.  1. -1. -1.  1. -1.  1. -1.  1. -1.  1.  1.  1.\n",
      " -1.  1.  1. -1.  1.  1. -1. -1. -1.  1.  1.  1. -1.  1.  1. -1. -1.  1.\n",
      " -1.  1.  1. -1. -1.  1. -1. -1. -1. -1.  1.  1. -1.  1. -1.  1. -1. -1.\n",
      "  1. -1.  1. -1. -1.  1.  1.  1. -1.  1. -1.  1.  1. -1. -1. -1. -1.  1.\n",
      "  1.  1. -1.  1.  1.  1.  1. -1.  1. -1.  1. -1.  1. -1. -1.  1. -1. -1.\n",
      " -1. -1.  1.  1.  1. -1.  1. -1.  1.  1.  1. -1. -1. -1. -1.  1.  1. -1.\n",
      "  1. -1.  1. -1. -1. -1.  1. -1.  1.  1. -1.  1. -1. -1.  1. -1. -1. -1.\n",
      " -1.  1.  1.  1. -1.  1.  1. -1.  1. -1.  1.  1. -1. -1. -1.  1.  1. -1.\n",
      " -1. -1.  1.  1.  1.  1. -1. -1. -1.  1.  1.  1. -1. -1.  1.  1.  1. -1.\n",
      " -1. -1. -1.  1. -1. -1. -1.  1. -1. -1.  1.  1. -1. -1. -1.  1.  1. -1.\n",
      " -1. -1. -1. -1. -1.  1.  1.  1.  1. -1.  1.  1.  1.  1. -1. -1. -1. -1.\n",
      "  1. -1. -1.  1.  1. -1. -1. -1.  1.  1.  1.  1.  1. -1.  1.  1.  1. -1.\n",
      " -1.  1. -1. -1.  1.  1. -1.  1. -1.  1.  1.  1. -1.  1. -1. -1. -1. -1.\n",
      "  1. -1.  1.  1.  1. -1.  1. -1. -1. -1. -1. -1.  1. -1.  1. -1.  1. -1.\n",
      " -1. -1. -1.  1. -1. -1.  1.  1.  1. -1. -1.  1.  1.  1. -1. -1. -1. -1.\n",
      " -1. -1. -1.  1.  1. -1.  1.  1. -1. -1.  1.  1. -1.  1.  1.  1.  1.  1.\n",
      "  1.  1. -1.  1. -1.  1.  1. -1. -1. -1. -1. -1.  1. -1. -1. -1. -1.  1.\n",
      "  1.  1.  1. -1.  1.  1. -1. -1. -1. -1.  1.  1.  1. -1.  1.  1. -1.  1.\n",
      "  1.  1. -1. -1. -1.  1. -1.  1.  1.  1. -1.  1.  1. -1.  1. -1.  1.  1.\n",
      "  1.  1. -1. -1.  1.  1.  1. -1. -1. -1. -1. -1. -1. -1.  1. -1.  1. -1.\n",
      " -1.  1.  1.  1.  1. -1. -1.  1. -1.  1. -1. -1. -1.  1.  1. -1. -1. -1.\n",
      " -1.  1.  1.  1.  1.  1.  1. -1. -1.  1. -1.  1.  1. -1.  1.  1. -1.  1.\n",
      "  1. -1. -1. -1.  1.  1. -1. -1.  1. -1.  1.  1. -1. -1. -1. -1. -1. -1.\n",
      "  1. -1. -1.  1.  1. -1.  1.  1.  1. -1. -1. -1.  1.  1. -1.  1. -1.  1.\n",
      "  1. -1. -1. -1. -1. -1. -1. -1.  1. -1.  1. -1. -1. -1.  1.  1. -1. -1.\n",
      " -1.  1. -1.  1. -1. -1. -1. -1. -1. -1.  1. -1.  1. -1. -1.  1. -1.  1.\n",
      " -1.  1. -1.  1. -1.  1.  1. -1. -1. -1. -1.  1.  1. -1.]\n"
     ]
    }
   ],
   "source": [
    "print(X)\n",
    "print(Y)"
   ],
   "metadata": {
    "collapsed": false
   }
  },
  {
   "cell_type": "code",
   "execution_count": 43,
   "outputs": [],
   "source": [
    "arr_size = len(X)\n",
    "dimension = len(X[0])\n",
    "learning_rate = ctypes.c_float(0.001)\n",
    "epoch = 1000000\n",
    "X_flat = X.flatten()"
   ],
   "metadata": {
    "collapsed": false
   }
  },
  {
   "cell_type": "code",
   "execution_count": 44,
   "outputs": [],
   "source": [
    "LP_c_float = ctypes.POINTER(ctypes.c_float)\n",
    "x_to_predict = (ctypes.c_float * len(X_flat))(*X_flat)\n",
    "x_to_predict_ptr = ctypes.cast(x_to_predict, LP_c_float)"
   ],
   "metadata": {
    "collapsed": false
   }
  },
  {
   "cell_type": "code",
   "execution_count": 45,
   "outputs": [],
   "source": [
    "LP_c_float = ctypes.POINTER(ctypes.c_float)\n",
    "y_to_predict = (ctypes.c_float * len(Y))(*Y)\n",
    "y_to_predict_ptr = ctypes.cast(y_to_predict, LP_c_float)"
   ],
   "metadata": {
    "collapsed": false
   }
  },
  {
   "cell_type": "code",
   "execution_count": 46,
   "outputs": [],
   "source": [
    "my_lib.linear_model_training.argtypes = [\n",
    "    ctypes.POINTER(ctypes.c_float),\n",
    "    ctypes.POINTER(ctypes.c_float),\n",
    "    ctypes.POINTER(ctypes.c_float),\n",
    "    ctypes.c_int32,\n",
    "    ctypes.c_int32,\n",
    "    ctypes.c_float,\n",
    "    ctypes.c_int32,\n",
    "]\n",
    "my_lib.linear_model_training.restype = ctypes.POINTER(ctypes.c_float)"
   ],
   "metadata": {
    "collapsed": false
   }
  },
  {
   "cell_type": "code",
   "execution_count": 47,
   "outputs": [
    {
     "name": "stdout",
     "output_type": "stream",
     "text": [
      "[-0.00235194 -0.0019848  -0.00084812]\n",
      "<class 'ctypes.wintypes.LP_c_float'>\n"
     ]
    }
   ],
   "source": [
    "linear_model_training_ptr = my_lib.linear_model_training(\n",
    "    w_array_ptr,  # pointeur vers le résultat du vecteur W random\n",
    "    y_to_predict_ptr,  # pointeur vers les résultats labellisés pour entrainer le modele\n",
    "    x_to_predict_ptr,  # points qui ont permis de labeliser le vecteur d'au dessus\n",
    "    arr_size,  # array size\n",
    "    dimension,  # dimension de chaque vecteur\n",
    "    learning_rate,  # learning rate\n",
    "    epoch,  # nombre de fois où l'on passe sur le data set\n",
    ")\n",
    "trained_linear_model = np.ctypeslib.as_array(\n",
    "    linear_model_training_ptr, ((dimension + 1),)\n",
    ")\n",
    "print(trained_linear_model)\n",
    "print(type(linear_model_training_ptr))"
   ],
   "metadata": {
    "collapsed": false
   }
  },
  {
   "cell_type": "code",
   "execution_count": 48,
   "outputs": [],
   "source": [
    "my_lib.predict_linear_model.argtypes = [\n",
    "    ctypes.POINTER(ctypes.c_float),\n",
    "    ctypes.POINTER(ctypes.c_float),\n",
    "    ctypes.c_int32,\n",
    "    ctypes.c_int32,\n",
    "]\n",
    "my_lib.predict_linear_model.restype = ctypes.POINTER(ctypes.c_float)"
   ],
   "metadata": {
    "collapsed": false
   }
  },
  {
   "cell_type": "code",
   "execution_count": 49,
   "outputs": [],
   "source": [
    "predicted_labels = []\n",
    "predicted_x1 = []\n",
    "predicted_x2 = []\n",
    "for x1 in range(-100 , 100) :\n",
    "  for x2 in range(-100 , 100) :\n",
    "    predicted_x1.append(x1/100)\n",
    "    predicted_x2.append(x2/100)\n",
    "    predicted_labels.append('pink' if x1/100 * trained_linear_model[1] + x2/100 * trained_linear_model[2] + trained_linear_model[0] >= 0 else 'lightskyblue')"
   ],
   "metadata": {
    "collapsed": false
   }
  },
  {
   "cell_type": "code",
   "metadata": {
    "id": "zVBAE2fY2MpO",
    "colab": {
     "base_uri": "https://localhost:8080/",
     "height": 287
    },
    "outputId": "46b434a6-2fd8-492e-c080-14b0d0028968"
   },
   "source": [
    "plt.scatter(predicted_x1, predicted_x2, c=predicted_labels)\n",
    "plt.scatter(np.array(list(map(lambda elt : elt[1], filter(lambda c: Y[c[0]] == 1, enumerate(X)))))[:,0], np.array(list(map(lambda elt : elt[1], filter(lambda c: Y[c[0]] == 1, enumerate(X)))))[:,1], color='blue')\n",
    "plt.scatter(np.array(list(map(lambda elt : elt[1], filter(lambda c: Y[c[0]] == -1, enumerate(X)))))[:,0], np.array(list(map(lambda elt : elt[1], filter(lambda c: Y[c[0]] == -1, enumerate(X)))))[:,1], color='red')\n",
    "plt.show()\n",
    "plt.clf()"
   ],
   "execution_count": 50,
   "outputs": [
    {
     "data": {
      "text/plain": "<Figure size 640x480 with 1 Axes>",
      "image/png": "[encoded data removed]"
     },
     "metadata": {},
     "output_type": "display_data"
    },
    {
     "data": {
      "text/plain": "<Figure size 640x480 with 0 Axes>"
     },
     "metadata": {},
     "output_type": "display_data"
    }
   ]
  },
  {
   "cell_type": "code",
   "execution_count": 51,
   "outputs": [],
   "source": [
    "my_lib.delete_float_array(linear_model_training_ptr, (dimension + 1))\n",
    "del linear_model_training_ptr"
   ],
   "metadata": {
    "collapsed": false
   }
  },
  {
   "cell_type": "markdown",
   "metadata": {
    "id": "v4hhnYge928d"
   },
   "source": [
    "### Multi Linear 3 classes :\n",
    "        Linear Model x3 : OK\n",
    "        MLP (2, 3)      : OK"
   ]
  },
  {
   "cell_type": "code",
   "execution_count": 61,
   "outputs": [
    {
     "name": "stdout",
     "output_type": "stream",
     "text": [
      "[0.9266579 0.5264684 0.863109 ]\n"
     ]
    }
   ],
   "source": [
    "my_lib = ctypes.CDLL(r\"..\\rust_lib\\target\\debug\\rust_lib.dll\")\n",
    "\n",
    "my_lib.delete_float_array.argtypes = [\n",
    "    ctypes.POINTER(ctypes.c_float),\n",
    "    ctypes.c_int32,\n",
    "]\n",
    "\n",
    "my_lib.generate_random_w.argtypes = [ctypes.c_int32]\n",
    "my_lib.generate_random_w.restype = ctypes.POINTER(ctypes.c_float)\n",
    "\n",
    "my_lib.delete_float_array.restype = None\n",
    "\n",
    "dimension = 2\n",
    "\n",
    "w_array_ptr = my_lib.generate_random_w(dimension)\n",
    "\n",
    "w_array = np.ctypeslib.as_array(w_array_ptr, ((dimension + 1),))\n",
    "\n",
    "print(w_array)"
   ],
   "metadata": {
    "collapsed": false
   }
  },
  {
   "cell_type": "code",
   "metadata": {
    "id": "IvhvqkDw928q",
    "colab": {
     "base_uri": "https://localhost:8080/"
    },
    "outputId": "be06d0ab-dfcb-4469-f009-7cad5672caab"
   },
   "source": [
    "X = np.random.random((500, 2)) * 2.0 - 1.0\n",
    "Y = np.array([[1, 0, 0] if -p[0] - p[1] - 0.5 > 0 and p[1] < 0 and p[0] - p[1] - 0.5 < 0 else\n",
    "              [0, 1, 0] if -p[0] - p[1] - 0.5 < 0 and p[1] > 0 and p[0] - p[1] - 0.5 < 0 else\n",
    "              [0, 0, 1] if -p[0] - p[1] - 0.5 < 0 and p[1] < 0 and p[0] - p[1] - 0.5 > 0 else\n",
    "              [0, 0, 0]for p in X])\n",
    "\n",
    "X = X[[not np.all(arr == [0, 0, 0]) for arr in Y]]\n",
    "Y = Y[[not np.all(arr == [0, 0, 0]) for arr in Y]]\n",
    "\n",
    "Y_1 = [1 if -p[0] - p[1] - 0.5 > 0 and p[1] < 0 and p[0] - p[1] - 0.5 < 0 else 0 for p in X]\n",
    "Y_2 = [1 if -p[0] - p[1] - 0.5 < 0 and p[1] > 0 and p[0] - p[1] - 0.5 < 0 else 0 for p in X]\n",
    "Y_3 = [1 if -p[0] - p[1] - 0.5 < 0 and p[1] < 0 and p[0] - p[1] - 0.5 > 0 else 0 for p in X]\n",
    "\n",
    "\n",
    "X = np.array(X, dtype=ctypes.c_float)\n",
    "Y_1 = np.array(Y_1, dtype=ctypes.c_float)\n",
    "Y_2 = np.array(Y_2, dtype=ctypes.c_float)\n",
    "Y_3 = np.array(Y_3, dtype=ctypes.c_float)\n",
    "\n",
    "X_plot = np.random.random((500, 2)) * 2.0 - 1.0\n",
    "Y_plot = np.array([[1, 0, 0] if -p[0] - p[1] - 0.5 > 0 and p[1] < 0 and p[0] - p[1] - 0.5 < 0 else\n",
    "              [0, 1, 0] if -p[0] - p[1] - 0.5 < 0 and p[1] > 0 and p[0] - p[1] - 0.5 < 0 else\n",
    "              [0, 0, 1] if -p[0] - p[1] - 0.5 < 0 and p[1] < 0 and p[0] - p[1] - 0.5 > 0 else\n",
    "              [0, 0, 0]for p in X_plot])\n",
    "\n",
    "X_plot = X_plot[[not np.all(arr == [0, 0, 0]) for arr in Y_plot]]\n",
    "Y_plot = Y_plot[[not np.all(arr == [0, 0, 0]) for arr in Y_plot]]"
   ],
   "execution_count": 62,
   "outputs": []
  },
  {
   "cell_type": "code",
   "execution_count": 63,
   "outputs": [],
   "source": [
    "arr_size = len(X)\n",
    "dimension = len(X[0])\n",
    "learning_rate = ctypes.c_float(0.001)\n",
    "epoch = 1000000\n",
    "X_flat = X.flatten()"
   ],
   "metadata": {
    "collapsed": false
   }
  },
  {
   "cell_type": "code",
   "execution_count": 64,
   "outputs": [],
   "source": [
    "LP_c_float = ctypes.POINTER(ctypes.c_float)\n",
    "x_to_predict = (ctypes.c_float * len(X_flat))(*X_flat)\n",
    "x_to_predict_ptr = ctypes.cast(x_to_predict, LP_c_float)"
   ],
   "metadata": {
    "collapsed": false
   }
  },
  {
   "cell_type": "code",
   "execution_count": 65,
   "outputs": [],
   "source": [
    "LP_c_float = ctypes.POINTER(ctypes.c_float)\n",
    "y_1_to_predict = (ctypes.c_float * len(Y_1))(*Y_1)\n",
    "y_1_to_predict_ptr = ctypes.cast(y_1_to_predict, LP_c_float)\n",
    "\n",
    "LP_c_float = ctypes.POINTER(ctypes.c_float)\n",
    "y_2_to_predict = (ctypes.c_float * len(Y_2))(*Y_2)\n",
    "y_2_to_predict_ptr = ctypes.cast(y_2_to_predict, LP_c_float)\n",
    "\n",
    "LP_c_float = ctypes.POINTER(ctypes.c_float)\n",
    "y_3_to_predict = (ctypes.c_float * len(Y_3))(*Y_3)\n",
    "y_3_to_predict_ptr = ctypes.cast(y_3_to_predict, LP_c_float)"
   ],
   "metadata": {
    "collapsed": false
   }
  },
  {
   "cell_type": "code",
   "execution_count": 66,
   "outputs": [],
   "source": [
    "my_lib.linear_model_training.argtypes = [\n",
    "    ctypes.POINTER(ctypes.c_float),\n",
    "    ctypes.POINTER(ctypes.c_float),\n",
    "    ctypes.POINTER(ctypes.c_float),\n",
    "    ctypes.c_int32,\n",
    "    ctypes.c_int32,\n",
    "    ctypes.c_float,\n",
    "    ctypes.c_int32,\n",
    "]\n",
    "my_lib.linear_model_training_restype = ctypes.POINTER(ctypes.c_float)"
   ],
   "metadata": {
    "collapsed": false
   }
  },
  {
   "cell_type": "code",
   "execution_count": 67,
   "outputs": [
    {
     "name": "stdout",
     "output_type": "stream",
     "text": [
      "<class 'ctypes.wintypes.LP_c_float'>\n",
      "<class 'ctypes.wintypes.LP_c_float'>\n",
      "<class 'ctypes.wintypes.LP_c_float'>\n",
      "<class 'int'>\n",
      "<class 'int'>\n",
      "<class 'ctypes.c_float'>\n",
      "<class 'int'>\n"
     ]
    }
   ],
   "source": [
    "print(type(w_array_ptr))\n",
    "print(type(y_1_to_predict_ptr))\n",
    "print(type(x_to_predict_ptr))\n",
    "print(type(arr_size))\n",
    "print(type(dimension))\n",
    "print(type(learning_rate))\n",
    "print(type(epoch))"
   ],
   "metadata": {
    "collapsed": false
   }
  },
  {
   "cell_type": "code",
   "execution_count": 68,
   "outputs": [
    {
     "name": "stdout",
     "output_type": "stream",
     "text": [
      "-1020022064\n",
      "<class 'int'>\n"
     ]
    }
   ],
   "source": [
    "linear_model_training_ptr = my_lib.linear_model_training(\n",
    "    w_array_ptr,  # pointeur vers le résultat du vecteur W random\n",
    "    y_1_to_predict_ptr,  # pointeur vers les résultats labellisés pour entrainer le modele\n",
    "    x_to_predict_ptr,  # points qui ont permis de labeliser le vecteur d'au dessus\n",
    "    arr_size,  # array size\n",
    "    dimension,  # dimension de chaque vecteur\n",
    "    learning_rate,  # learning rate\n",
    "    epoch,  # nombre de fois où l'on passe sur le data set\n",
    ")\n",
    "trained_linear_model_1 = np.ctypeslib.as_array(\n",
    "    linear_model_training_ptr, ((dimension + 1),)\n",
    ")\n",
    "print(trained_linear_model_1)\n",
    "print(type(linear_model_training_ptr))"
   ],
   "metadata": {
    "collapsed": false
   }
  },
  {
   "cell_type": "code",
   "execution_count": 60,
   "outputs": [
    {
     "name": "stdout",
     "output_type": "stream",
     "text": [
      "<class 'ctypes.wintypes.LP_c_float'>\n",
      "<class 'ctypes.wintypes.LP_c_float'>\n",
      "<class 'ctypes.wintypes.LP_c_float'>\n",
      "<class 'int'>\n",
      "<class 'int'>\n",
      "<class 'ctypes.c_float'>\n",
      "<class 'int'>\n"
     ]
    }
   ],
   "source": [
    "print(type(w_array_ptr))\n",
    "print(type(y_1_to_predict_ptr))\n",
    "print(type(x_to_predict_ptr))\n",
    "print(type(arr_size))\n",
    "print(type(dimension))\n",
    "print(type(learning_rate))\n",
    "print(type(epoch))"
   ],
   "metadata": {
    "collapsed": false
   }
  },
  {
   "cell_type": "code",
   "execution_count": null,
   "outputs": [],
   "source": [
    "w_array_ptr = my_lib.generate_random_w(dimension)\n",
    "w_array = np.ctypeslib.as_array(w_array_ptr, ((dimension + 1),))\n",
    "linear_model_training_ptr_2 = my_lib.linear_model_training(\n",
    "    w_array,  # pointeur vers le résultat du vecteur W random\n",
    "    y_2_to_predict,  # pointeur vers les résultats labellisés pour entrainer le modele\n",
    "    x_to_predict_ptr,  # points qui ont permis de labeliser le vecteur d'au dessus\n",
    "    arr_size,  # array size\n",
    "    dimension,  # dimension de chaque vecteur\n",
    "    learning_rate,  # learning rate\n",
    "    epoch,  # nombre de fois où l'on passe sur le data set\n",
    ")\n",
    "trained_linear_model_2 = np.ctypeslib.as_array(\n",
    "    linear_model_training_ptr_2, ((dimension + 1),)\n",
    ")\n",
    "print(trained_linear_model_2)\n",
    "print(type(linear_model_training_ptr_2))"
   ],
   "metadata": {
    "collapsed": false
   }
  },
  {
   "cell_type": "code",
   "execution_count": 4,
   "outputs": [
    {
     "name": "stdout",
     "output_type": "stream",
     "text": [
      "[[-0.65830046  0.49325362]\n",
      " [-0.32316357  0.369188  ]\n",
      " [ 0.9682845  -0.66753227]\n",
      " [ 0.7328385  -0.16892165]\n",
      " [-0.32976398  0.05528286]\n",
      " [ 0.6788458  -0.674251  ]\n",
      " [ 0.98073334 -0.22099482]\n",
      " [-0.44010127 -0.7497357 ]\n",
      " [ 0.7305739  -0.13536686]\n",
      " [-0.53302217 -0.7211303 ]\n",
      " [-0.77151835  0.6417255 ]\n",
      " [ 0.48888645 -0.04368049]\n",
      " [-0.6887377  -0.14310935]\n",
      " [ 0.6607649   0.7252065 ]\n",
      " [ 0.58615977 -0.3614234 ]\n",
      " [-0.30190015  0.7269409 ]\n",
      " [ 0.75136405  0.8283048 ]\n",
      " [ 0.38870364  0.6510039 ]\n",
      " [ 0.78699106  0.3652396 ]\n",
      " [-0.44821146  0.9721233 ]\n",
      " [-0.6367694  -0.6461271 ]\n",
      " [ 0.6260202   0.8308028 ]\n",
      " [ 0.8284559  -0.86640596]\n",
      " [ 0.35857567  0.03432909]\n",
      " [ 0.73011446 -0.22374825]\n",
      " [ 0.22790839  0.40727058]\n",
      " [-0.10677968  0.74144644]\n",
      " [-0.32152155  0.8539428 ]\n",
      " [-0.7893408   0.58583856]\n",
      " [ 0.960185   -0.63435394]\n",
      " [ 0.03815125  0.16122521]\n",
      " [-0.611132   -0.2892645 ]\n",
      " [-0.6832456  -0.562166  ]\n",
      " [-0.8369755  -0.94398457]\n",
      " [ 0.5131418   0.21231869]\n",
      " [-0.89203304 -0.8740545 ]\n",
      " [ 0.19056553  0.5046733 ]\n",
      " [ 0.56450975  0.1255496 ]\n",
      " [-0.6670527   0.9641914 ]\n",
      " [-0.72951037  0.44396505]\n",
      " [-0.52153295  0.94979906]\n",
      " [-0.32869804  0.3509744 ]\n",
      " [-0.35683748 -0.23179044]\n",
      " [-0.74899495 -0.8002048 ]\n",
      " [ 0.5578059  -0.33828068]\n",
      " [ 0.99262065 -0.22787558]\n",
      " [ 0.58104473 -0.05254576]\n",
      " [ 0.12192696  0.7369875 ]\n",
      " [ 0.92755085 -0.26648366]\n",
      " [ 0.41084102  0.96650445]\n",
      " [ 0.39706272 -0.82233036]\n",
      " [ 0.6357973  -0.9018586 ]\n",
      " [ 0.9655329  -0.20435573]\n",
      " [ 0.37582868 -0.35624495]\n",
      " [ 0.28414753  0.76386285]\n",
      " [ 0.60351187  0.22402082]\n",
      " [-0.6181774  -0.23354019]\n",
      " [ 0.22593239  0.70846945]\n",
      " [-0.72184455 -0.6654966 ]\n",
      " [ 0.08589818  0.94462824]\n",
      " [ 0.3793195   0.3849119 ]\n",
      " [ 0.21638079  0.28350952]\n",
      " [ 0.925036   -0.7586602 ]\n",
      " [-0.4879228   0.8699769 ]\n",
      " [-0.9498635   0.60798085]\n",
      " [ 0.33677486 -0.70648026]\n",
      " [-0.2903805   0.95725256]\n",
      " [-0.40681562 -0.3790179 ]\n",
      " [-0.9290418  -0.6711277 ]\n",
      " [ 0.36424878  0.45523244]\n",
      " [-0.6486564  -0.8980672 ]\n",
      " [-0.21913369 -0.40609604]\n",
      " [-0.6874442   0.43705523]\n",
      " [ 0.68253297  0.45430672]\n",
      " [ 0.55030566  0.46053067]\n",
      " [ 0.80261034 -0.71574026]\n",
      " [-0.64394623  0.9219213 ]\n",
      " [-0.53181225 -0.5103475 ]\n",
      " [ 0.72035635  0.8028313 ]\n",
      " [ 0.5651042  -0.47492686]\n",
      " [-0.85076386  0.6666107 ]\n",
      " [-0.17897536  0.09601121]\n",
      " [ 0.28668386 -0.2560089 ]\n",
      " [ 0.49876216 -0.5996036 ]\n",
      " [ 0.47517323  0.11671951]\n",
      " [-0.3908886   0.8242177 ]\n",
      " [ 0.9462107  -0.4824063 ]\n",
      " [-0.71342784 -0.19438161]\n",
      " [ 0.05760244  0.8134474 ]\n",
      " [ 0.36671174 -0.7508836 ]\n",
      " [-0.705346   -0.13579303]\n",
      " [-0.6641301   0.5756411 ]\n",
      " [ 0.80033255 -0.3959038 ]\n",
      " [-0.34575427 -0.3043759 ]\n",
      " [ 0.6562229  -0.60769945]\n",
      " [-0.33987162  0.9164547 ]\n",
      " [-0.3536425   0.5284917 ]\n",
      " [-0.48167902 -0.8865089 ]\n",
      " [ 0.4706787   0.9894451 ]\n",
      " [-0.6094407   0.7411481 ]\n",
      " [-0.87669206 -0.18931775]\n",
      " [-0.369193    0.76468945]\n",
      " [-0.24023895 -0.40099153]\n",
      " [ 0.39988953 -0.8272979 ]\n",
      " [ 0.342432   -0.5715485 ]\n",
      " [ 0.0354724   0.13313568]\n",
      " [-0.99807256  0.897726  ]\n",
      " [-0.8626613   0.6886702 ]\n",
      " [ 0.8234251  -0.14528175]\n",
      " [ 0.0383255   0.6988004 ]\n",
      " [-0.986643   -0.71171284]\n",
      " [ 0.29699567  0.52085906]\n",
      " [-0.8573583  -0.51371974]\n",
      " [-0.91495544 -0.44092184]\n",
      " [-0.06302568 -0.4830096 ]\n",
      " [-0.1747451   0.77465445]\n",
      " [-0.66247576 -0.8873562 ]\n",
      " [-0.9974565  -0.60200256]\n",
      " [ 0.23161723 -0.5925591 ]\n",
      " [-0.32473654  0.01463462]\n",
      " [-0.98785144 -0.45794353]\n",
      " [-0.1811168   0.3989555 ]\n",
      " [-0.88137037  0.73395234]\n",
      " [ 0.01495179  0.19734584]\n",
      " [ 0.30204275 -0.67179906]\n",
      " [ 0.74790853 -0.0479016 ]\n",
      " [ 0.77536535  0.41917288]\n",
      " [-0.28146    -0.6502119 ]\n",
      " [ 0.5737001   0.10544235]\n",
      " [ 0.41135958 -0.4067056 ]\n",
      " [ 0.58627224  0.43891895]\n",
      " [ 0.9857893  -0.3738339 ]\n",
      " [ 0.42862335  0.8477945 ]\n",
      " [ 0.15568739 -0.43687105]\n",
      " [ 0.52516156  0.812279  ]\n",
      " [ 0.74374896  0.45162973]\n",
      " [-0.867922   -0.4381526 ]\n",
      " [ 0.1404043   0.9656426 ]\n",
      " [-0.08467115  0.91593355]\n",
      " [ 0.7958727  -0.9496314 ]\n",
      " [ 0.21273759  0.06243375]\n",
      " [ 0.61082155  0.5856681 ]\n",
      " [-0.91346097 -0.7021862 ]\n",
      " [-0.97504866 -0.5323201 ]\n",
      " [-0.397583    0.9268222 ]\n",
      " [-0.3607851  -0.82092965]\n",
      " [-0.7961316  -0.88423765]\n",
      " [-0.18279716 -0.58397394]\n",
      " [ 0.805434   -0.2356294 ]\n",
      " [ 0.02042933  0.7553237 ]\n",
      " [-0.5285239   0.50559485]\n",
      " [-0.69649476 -0.83526075]\n",
      " [-0.7123464   0.92000157]\n",
      " [ 0.62589544  0.80810827]\n",
      " [-0.7494032  -0.5442958 ]\n",
      " [-0.5920028   0.6649152 ]\n",
      " [-0.2860837   0.26834533]\n",
      " [-0.27827135  0.5862715 ]\n",
      " [ 0.3046661   0.47657415]\n",
      " [ 0.39713165  0.3708258 ]\n",
      " [ 0.449846    0.23963743]\n",
      " [ 0.60016143  0.8296852 ]\n",
      " [ 0.7560899   0.8284461 ]\n",
      " [-0.0475347   0.6839061 ]\n",
      " [ 0.69839406 -0.36495733]\n",
      " [ 0.06619386 -0.49999735]\n",
      " [-0.63106996  0.19311582]\n",
      " [-0.5863001   0.2363968 ]\n",
      " [ 0.44861093  0.7738112 ]\n",
      " [-0.8757565  -0.35332865]\n",
      " [ 0.29798734  0.18694316]\n",
      " [-0.54860514  0.93000996]\n",
      " [-0.79816765 -0.2912121 ]\n",
      " [ 0.5777369  -0.00983167]\n",
      " [ 0.69850975  0.38682216]\n",
      " [ 0.8584758  -0.8322682 ]\n",
      " [-0.13377231  0.35127407]\n",
      " [-0.31406772 -0.34409758]\n",
      " [ 0.22106373  0.18843327]\n",
      " [-0.80734146 -0.14592661]\n",
      " [-0.6244376   0.23244046]\n",
      " [-0.6101797  -0.57556057]\n",
      " [-0.6155037   0.9817188 ]\n",
      " [ 0.23255002  0.5377032 ]\n",
      " [-0.6824537   0.45802253]\n",
      " [ 0.47904706 -0.1489093 ]\n",
      " [-0.15147762 -0.47693446]\n",
      " [ 0.46243322  0.32312015]\n",
      " [ 0.83935183 -0.23195867]\n",
      " [ 0.18359302 -0.66173536]\n",
      " [ 0.23841098  0.5794809 ]\n",
      " [ 0.19204094  0.35407445]\n",
      " [ 0.9347376  -0.08524483]\n",
      " [-0.46581978  0.37580153]\n",
      " [-0.00335206  0.6907514 ]\n",
      " [-0.59801185  0.10124033]\n",
      " [-0.66329294  0.5576022 ]\n",
      " [ 0.91620314 -0.15606727]\n",
      " [ 0.4287526  -0.23259445]\n",
      " [ 0.9742581  -0.3212045 ]\n",
      " [-0.5654054  -0.09664826]\n",
      " [-0.0066142   0.7640201 ]\n",
      " [ 0.6216375   0.920838  ]\n",
      " [-0.45746255  0.42678475]\n",
      " [ 0.41439033 -0.67748964]\n",
      " [-0.67623377 -0.4191221 ]\n",
      " [-0.6930189  -0.8380512 ]\n",
      " [-0.3294083  -0.63286614]\n",
      " [-0.99942863 -0.985259  ]\n",
      " [-0.04150414  0.33067438]\n",
      " [ 0.79181755 -0.00484212]\n",
      " [-0.4343504  -0.45859033]\n",
      " [-0.20953602  0.7666256 ]\n",
      " [-0.9178374  -0.8223057 ]\n",
      " [-0.5402745  -0.77770114]\n",
      " [ 0.2789046   0.17904982]\n",
      " [ 0.7561994  -0.06384945]\n",
      " [-0.07852267  0.42672497]\n",
      " [-0.65002143  0.9457864 ]\n",
      " [ 0.40381908 -0.22524899]\n",
      " [ 0.8023886  -0.22056983]\n",
      " [-0.34387302  0.19929688]\n",
      " [-0.36388788  0.0012126 ]\n",
      " [-0.88905215 -0.17369866]\n",
      " [ 0.05803921  0.14386503]\n",
      " [-0.99343336  0.7665918 ]\n",
      " [ 0.5672991   0.43360636]\n",
      " [-0.32021725 -0.72099566]\n",
      " [-0.21978875  0.90652096]\n",
      " [-0.71440023 -0.03596897]\n",
      " [-0.0640064   0.94826674]\n",
      " [ 0.35030574 -0.54024094]\n",
      " [-0.60742617 -0.19868259]\n",
      " [ 0.62602973 -0.2737462 ]\n",
      " [ 0.9915255   0.6332724 ]\n",
      " [ 0.99483174  0.7590957 ]\n",
      " [-0.97971433 -0.07133456]\n",
      " [ 0.71752024 -0.26499537]\n",
      " [-0.6827696   0.9352985 ]\n",
      " [ 0.7061421   0.9592167 ]\n",
      " [-0.10115913  0.41094065]\n",
      " [ 0.71608955 -0.22504571]\n",
      " [ 0.24412426  0.7489403 ]\n",
      " [-0.811087   -0.76080745]\n",
      " [-0.17314294  0.9511346 ]\n",
      " [-0.38353604  0.3402445 ]\n",
      " [-0.43450493  0.6838436 ]\n",
      " [-0.24408533  0.6228238 ]\n",
      " [ 0.26894656  0.5942171 ]\n",
      " [-0.501645    0.47864076]\n",
      " [-0.6545719  -0.95433825]\n",
      " [-0.63659817  0.315409  ]\n",
      " [-0.04046398  0.22090538]\n",
      " [ 0.92615    -0.9398068 ]\n",
      " [-0.6843346  -0.2274026 ]\n",
      " [ 0.70152825 -0.6741704 ]\n",
      " [-0.8203855  -0.6902621 ]\n",
      " [ 0.78707343 -0.6365714 ]\n",
      " [-0.92497444  0.4764681 ]\n",
      " [ 0.40254265  0.77879816]\n",
      " [-0.82258064  0.34910977]\n",
      " [ 0.53901064  0.522734  ]\n",
      " [-0.7987827   0.49466836]\n",
      " [ 0.2142092   0.25851586]\n",
      " [ 0.8124922  -0.9006123 ]\n",
      " [ 0.63636136 -0.84576744]\n",
      " [-0.8727587   0.70512474]\n",
      " [ 0.8291523  -0.1481343 ]\n",
      " [ 0.81279546 -0.6532466 ]\n",
      " [-0.8351397   0.7332105 ]\n",
      " [-0.46953556  0.6073952 ]\n",
      " [ 0.57354033 -0.4868267 ]\n",
      " [-0.09474844  0.08851659]\n",
      " [-0.5237837   0.6668336 ]\n",
      " [ 0.03717382  0.06919725]\n",
      " [ 0.8624727  -0.88225603]\n",
      " [-0.13118342  0.52896696]\n",
      " [-0.25591362  0.9952483 ]\n",
      " [ 0.00172836  0.2724597 ]\n",
      " [-0.0139713   0.90812427]\n",
      " [ 0.7339569   0.3275336 ]\n",
      " [ 0.5355912   0.25432795]\n",
      " [ 0.610802   -0.05550218]\n",
      " [ 0.32563114 -0.73300076]\n",
      " [-0.05152921  0.0036368 ]\n",
      " [ 0.900977   -0.74203235]\n",
      " [ 0.21593611  0.9960151 ]\n",
      " [-0.6461632   0.6106778 ]\n",
      " [-0.7325453   0.5423237 ]\n",
      " [-0.46777767 -0.11328752]\n",
      " [ 0.49104604  0.31860736]\n",
      " [ 0.67154527  0.3296949 ]\n",
      " [ 0.48544848  0.16781029]\n",
      " [-0.7694884  -0.845645  ]\n",
      " [ 0.5430858   0.22460736]\n",
      " [ 0.28801426  0.6641226 ]\n",
      " [ 0.8646761   0.38747203]\n",
      " [-0.8069274   0.7113821 ]\n",
      " [-0.37969533 -0.7602119 ]\n",
      " [ 0.40898713  0.0521748 ]\n",
      " [ 0.95095825 -0.36337736]\n",
      " [ 0.8772826  -0.9785836 ]\n",
      " [-0.6725895   0.18845834]\n",
      " [-0.7008962  -0.27930734]\n",
      " [-0.41991577  0.97600234]\n",
      " [-0.22240345  0.4226562 ]\n",
      " [-0.13537613 -0.44729298]\n",
      " [ 0.90635943 -0.32999587]\n",
      " [ 0.10936598  0.56083435]\n",
      " [-0.77221    -0.5646816 ]\n",
      " [ 0.4833345   0.3720452 ]\n",
      " [ 0.43377852  0.73637587]\n",
      " [-0.5089166   0.95919573]\n",
      " [-0.5415369  -0.3234746 ]\n",
      " [ 0.6055804  -0.5805125 ]\n",
      " [-0.68840605  0.8058826 ]\n",
      " [-0.21852212  0.1305697 ]\n",
      " [-0.56735986 -0.62119293]\n",
      " [ 0.20457335  0.9654158 ]\n",
      " [-0.43519     0.35978317]\n",
      " [ 0.583683   -0.4328094 ]\n",
      " [-0.42617014  0.44464293]\n",
      " [ 0.15588608  0.8005751 ]\n",
      " [-0.6634599   0.16432539]\n",
      " [ 0.19439818  0.31543562]\n",
      " [ 0.4550321  -0.18577965]\n",
      " [ 0.20554364  0.34230924]\n",
      " [-0.01500886  0.38037738]\n",
      " [-0.4478624   0.9527672 ]\n",
      " [ 0.29008672  0.6452217 ]\n",
      " [-0.6871134  -0.28445786]\n",
      " [-0.43888313 -0.14696826]\n",
      " [-0.08867531 -0.4514232 ]\n",
      " [-0.3974887   0.18441767]\n",
      " [-0.5155926   0.04866485]\n",
      " [-0.4288531   0.08909748]\n",
      " [ 0.1078324   0.5983317 ]\n",
      " [-0.8688429  -0.13715874]\n",
      " [-0.42688823  0.3750596 ]\n",
      " [-0.32498726  0.15658583]\n",
      " [ 0.42968023  0.28534195]\n",
      " [-0.6904042   0.7338652 ]\n",
      " [-0.36038175  0.9278088 ]\n",
      " [-0.9694357  -0.9157255 ]\n",
      " [ 0.8898275   0.5797704 ]\n",
      " [-0.4407931   0.8187916 ]\n",
      " [-0.20503023  0.3775282 ]\n",
      " [-0.632529    0.83308923]\n",
      " [ 0.97552985  0.7080733 ]\n",
      " [ 0.28334996  0.27284864]\n",
      " [-0.04096539  0.3811209 ]\n",
      " [-0.87385976 -0.8308629 ]\n",
      " [-0.624211    0.77517384]\n",
      " [ 0.6386012  -0.1100219 ]\n",
      " [-0.3106755  -0.5739771 ]\n",
      " [-0.4510518  -0.3631916 ]\n",
      " [ 0.63234985 -0.39612797]\n",
      " [-0.49944913  0.4858796 ]\n",
      " [-0.47674406 -0.67896885]\n",
      " [-0.94944906 -0.0341258 ]\n",
      " [-0.5209745   0.76297295]\n",
      " [-0.9453153   0.60993075]\n",
      " [-0.4496041   0.26444274]\n",
      " [ 0.6281447   0.42083868]\n",
      " [-0.38066825  0.95212895]\n",
      " [-0.70776105  0.75262344]\n",
      " [-0.89989656 -0.02865811]\n",
      " [ 0.325595    0.06976349]\n",
      " [ 0.41485903  0.102541  ]\n",
      " [ 0.88024056  0.9574029 ]\n",
      " [-0.15444323  0.29845715]\n",
      " [-0.34727472 -0.3668226 ]\n",
      " [-0.7729468   0.40892583]\n",
      " [ 0.69994843  0.372256  ]\n",
      " [-0.1768915   0.82403016]\n",
      " [-0.49202207  0.02616787]\n",
      " [ 0.60737175  0.15221727]\n",
      " [-0.28227267 -0.5102645 ]\n",
      " [ 0.3261878  -0.48464948]\n",
      " [ 0.9134508  -0.10954124]\n",
      " [-0.5567674  -0.27016583]\n",
      " [-0.05501291 -0.5115773 ]\n",
      " [-0.4637506   0.25802302]\n",
      " [ 0.45278773 -0.26731333]\n",
      " [ 0.29957557  0.67475903]\n",
      " [-0.43209928  0.5558448 ]\n",
      " [ 0.36458805  0.52588475]\n",
      " [-0.9302901   0.47760358]\n",
      " [-0.21569918  0.13803412]\n",
      " [ 0.21268289  0.81514966]\n",
      " [ 0.5633759   0.9018449 ]\n",
      " [ 0.6612759   0.89285785]]\n"
     ]
    }
   ],
   "source": [
    "print(X)"
   ],
   "metadata": {
    "collapsed": false
   }
  },
  {
   "cell_type": "code",
   "execution_count": 6,
   "outputs": [
    {
     "name": "stdout",
     "output_type": "stream",
     "text": [
      "[[0. 1. 0.]\n",
      " [0. 1. 0.]\n",
      " [0. 0. 1.]\n",
      " ...\n",
      " [0. 1. 0.]\n",
      " [0. 1. 0.]\n",
      " [0. 1. 0.]]\n"
     ]
    }
   ],
   "source": [
    "print(Y)"
   ],
   "metadata": {
    "collapsed": false
   }
  },
  {
   "cell_type": "code",
   "execution_count": 7,
   "outputs": [],
   "source": [
    "arr_size = len(X)\n",
    "dimension = 2\n",
    "learning_rate = ctypes.c_float(0.001)\n",
    "epoch = 1000000\n",
    "X_flat = X.flatten()"
   ],
   "metadata": {
    "collapsed": false
   }
  },
  {
   "cell_type": "code",
   "execution_count": 8,
   "outputs": [],
   "source": [
    "LP_c_float = ctypes.POINTER(ctypes.c_float)\n",
    "x_to_predict = (ctypes.c_float * len(X_flat))(*X_flat)\n",
    "x_to_predict_ptr = ctypes.cast(x_to_predict, LP_c_float)"
   ],
   "metadata": {
    "collapsed": false
   }
  },
  {
   "cell_type": "code",
   "execution_count": 9,
   "outputs": [],
   "source": [
    "Y_flat = Y.flatten()"
   ],
   "metadata": {
    "collapsed": false
   }
  },
  {
   "cell_type": "code",
   "execution_count": 10,
   "outputs": [],
   "source": [
    "LP_c_float = ctypes.POINTER(ctypes.c_float)\n",
    "y_to_predict = (ctypes.c_float * len(Y_flat))(*Y_flat)\n",
    "y_to_predict_ptr = ctypes.cast(y_to_predict, LP_c_float)"
   ],
   "metadata": {
    "collapsed": false
   }
  },
  {
   "cell_type": "code",
   "execution_count": 11,
   "outputs": [],
   "source": [
    "my_lib.linear_model_training.argtypes = [\n",
    "    ctypes.POINTER(ctypes.c_float),\n",
    "    ctypes.POINTER(ctypes.c_float),\n",
    "    ctypes.POINTER(ctypes.c_float),\n",
    "    ctypes.c_int32,\n",
    "    ctypes.c_int32,\n",
    "    ctypes.c_float,\n",
    "    ctypes.c_int32,\n",
    "]\n",
    "my_lib.linear_model_training.restype = ctypes.POINTER(ctypes.c_float)"
   ],
   "metadata": {
    "collapsed": false
   }
  },
  {
   "cell_type": "code",
   "execution_count": 12,
   "outputs": [
    {
     "name": "stdout",
     "output_type": "stream",
     "text": [
      "[ 0.00022795 -0.00073191 -0.00019612]\n",
      "<class 'ctypes.wintypes.LP_c_float'>\n"
     ]
    }
   ],
   "source": [
    "linear_model_training_ptr = my_lib.linear_model_training(\n",
    "    w_array_ptr,  # pointeur vers le résultat du vecteur W random\n",
    "    y_to_predict_ptr,  # pointeur vers les résultats labellisés pour entrainer le modele\n",
    "    x_to_predict_ptr,  # points qui ont permis de labeliser le vecteur d'au dessus\n",
    "    arr_size,  # array size\n",
    "    dimension,  # dimension de chaque vecteur\n",
    "    learning_rate,  # learning rate\n",
    "    epoch,  # nombre de fois où l'on passe sur le data set\n",
    ")\n",
    "trained_linear_model = np.ctypeslib.as_array(\n",
    "    linear_model_training_ptr, ((dimension + 1),)\n",
    ")\n",
    "print(trained_linear_model)\n",
    "print(type(linear_model_training_ptr))"
   ],
   "metadata": {
    "collapsed": false
   }
  },
  {
   "cell_type": "code",
   "execution_count": 11,
   "outputs": [],
   "source": [
    "my_lib.predict_linear_model.argtypes = [\n",
    "    ctypes.POINTER(ctypes.c_float),\n",
    "    ctypes.POINTER(ctypes.c_float),\n",
    "    ctypes.c_int32,\n",
    "    ctypes.c_int32,\n",
    "]\n",
    "my_lib.predict_linear_model.restype = ctypes.POINTER(ctypes.c_float)"
   ],
   "metadata": {
    "collapsed": false
   }
  },
  {
   "cell_type": "code",
   "execution_count": 13,
   "outputs": [],
   "source": [
    "predicted_labels = []\n",
    "predicted_x1 = []\n",
    "predicted_x2 = []\n",
    "for x1 in range(-100 , 100) :\n",
    "  for x2 in range(-100 , 100) :\n",
    "    predicted_x1.append(x1/100)\n",
    "    predicted_x2.append(x2/100)\n",
    "    predicted_labels.append('pink' if x1/100 * trained_linear_model[1] + x2/100 * trained_linear_model[2] + trained_linear_model[0] >= 0 else 'lightskyblue')"
   ],
   "metadata": {
    "collapsed": false
   }
  },
  {
   "cell_type": "code",
   "metadata": {
    "id": "4aqzcUlJ928s",
    "colab": {
     "base_uri": "https://localhost:8080/",
     "height": 287
    },
    "outputId": "71df307b-e9c9-4a2d-a942-b75e3a141e46"
   },
   "source": [
    "plt.scatter(predicted_x1, predicted_x2, c=predicted_labels)\n",
    "plt.scatter(np.array(list(map(lambda elt : elt[1], filter(lambda c: Y[c[0]][0] == 1, enumerate(X)))))[:,0], np.array(list(map(lambda elt : elt[1], filter(lambda c: Y[c[0]][0] == 1, enumerate(X)))))[:,1], color='blue')\n",
    "plt.scatter(np.array(list(map(lambda elt : elt[1], filter(lambda c: Y[c[0]][1] == 1, enumerate(X)))))[:,0], np.array(list(map(lambda elt : elt[1], filter(lambda c: Y[c[0]][1] == 1, enumerate(X)))))[:,1], color='red')\n",
    "plt.scatter(np.array(list(map(lambda elt : elt[1], filter(lambda c: Y[c[0]][2] == 1, enumerate(X)))))[:,0], np.array(list(map(lambda elt : elt[1], filter(lambda c: Y[c[0]][2] == 1, enumerate(X)))))[:,1], color='green')\n",
    "plt.show()\n",
    "plt.clf()"
   ],
   "execution_count": 14,
   "outputs": [
    {
     "data": {
      "text/plain": "<Figure size 640x480 with 1 Axes>",
      "image/png": "[encoded data removed]"
     },
     "metadata": {},
     "output_type": "display_data"
    },
    {
     "data": {
      "text/plain": "<Figure size 640x480 with 0 Axes>"
     },
     "metadata": {},
     "output_type": "display_data"
    }
   ]
  },
  {
   "cell_type": "code",
   "execution_count": 14,
   "outputs": [],
   "source": [
    "my_lib.delete_float_array(linear_model_training_ptr, (dimension + 1))\n",
    "del linear_model_training_ptr"
   ],
   "metadata": {
    "collapsed": false
   }
  },
  {
   "cell_type": "markdown",
   "metadata": {
    "id": "uKFBx2m066i2"
   },
   "source": [
    "### Multi Cross :\n",
    "        Linear Model x3 : KO\n",
    "        MLP (2, ?, ?, 3): OK"
   ]
  },
  {
   "cell_type": "code",
   "metadata": {
    "id": "0ZE8OW-K66i5"
   },
   "source": [
    "X = np.random.random((1000, 2)) * 2.0 - 1.0\n",
    "Y = np.array([[1, 0, 0] if abs(p[0] % 0.5) <= 0.25 and abs(p[1] % 0.5) > 0.25 else [0, 1, 0] if abs(p[0] % 0.5) > 0.25 and abs(p[1] % 0.5) <= 0.25 else [0, 0, 1] for p in X])"
   ],
   "execution_count": null,
   "outputs": []
  },
  {
   "cell_type": "code",
   "metadata": {
    "id": "55U95UMS66i6",
    "colab": {
     "base_uri": "https://localhost:8080/",
     "height": 287
    },
    "outputId": "f14df72f-c2c1-4498-9668-f91f29594b06"
   },
   "source": [
    "plt.scatter(np.array(list(map(lambda elt : elt[1], filter(lambda c: Y[c[0]][0] == 1, enumerate(X)))))[:,0], np.array(list(map(lambda elt : elt[1], filter(lambda c: Y[c[0]][0] == 1, enumerate(X)))))[:,1], color='blue')\n",
    "plt.scatter(np.array(list(map(lambda elt : elt[1], filter(lambda c: Y[c[0]][1] == 1, enumerate(X)))))[:,0], np.array(list(map(lambda elt : elt[1], filter(lambda c: Y[c[0]][1] == 1, enumerate(X)))))[:,1], color='red')\n",
    "plt.scatter(np.array(list(map(lambda elt : elt[1], filter(lambda c: Y[c[0]][2] == 1, enumerate(X)))))[:,0], np.array(list(map(lambda elt : elt[1], filter(lambda c: Y[c[0]][2] == 1, enumerate(X)))))[:,1], color='green')\n",
    "plt.show()\n",
    "plt.clf()"
   ],
   "execution_count": null,
   "outputs": [
    {
     "output_type": "display_data",
     "data": {
      "image/png": "[encoded data removed]",
      "text/plain": [
       "<Figure size 432x288 with 1 Axes>"
      ]
     },
     "metadata": {
      "tags": []
     }
    },
    {
     "output_type": "display_data",
     "data": {
      "text/plain": [
       "<Figure size 432x288 with 0 Axes>"
      ]
     },
     "metadata": {
      "tags": []
     }
    }
   ]
  },
  {
   "cell_type": "markdown",
   "metadata": {
    "id": "zyrivJMK_WOQ"
   },
   "source": [
    "## Régression"
   ]
  },
  {
   "cell_type": "markdown",
   "metadata": {
    "id": "p4EB787A_WOR"
   },
   "source": [
    "### Linear Simple 2D :\n",
    "        Linear Model : OK\n",
    "        MLP (1, 1)   : OK"
   ]
  },
  {
   "cell_type": "code",
   "metadata": {
    "id": "dan93I7A_WOR"
   },
   "source": [
    "X = np.array([\n",
    "      [1],\n",
    "      [2]\n",
    "])\n",
    "Y = np.array([\n",
    "      2,\n",
    "      3\n",
    "])"
   ],
   "execution_count": null,
   "outputs": []
  },
  {
   "cell_type": "code",
   "metadata": {
    "id": "6vHbCksm_sQU",
    "colab": {
     "base_uri": "https://localhost:8080/",
     "height": 287
    },
    "outputId": "1e476e34-d3ef-456a-c46e-62de28756946"
   },
   "source": [
    "plt.scatter(X,Y)\n",
    "plt.show()\n",
    "plt.clf()"
   ],
   "execution_count": null,
   "outputs": [
    {
     "output_type": "display_data",
     "data": {
      "image/png": "[encoded data removed]",
      "text/plain": [
       "<Figure size 432x288 with 1 Axes>"
      ]
     },
     "metadata": {
      "tags": []
     }
    },
    {
     "output_type": "display_data",
     "data": {
      "text/plain": [
       "<Figure size 432x288 with 0 Axes>"
      ]
     },
     "metadata": {
      "tags": []
     }
    }
   ]
  },
  {
   "cell_type": "markdown",
   "metadata": {
    "id": "CkFb79fq_6ci"
   },
   "source": [
    "### Non Linear Simple 2D :\n",
    "        Linear Model    : OK\n",
    "        MLP (1, ?, 1)   : OK"
   ]
  },
  {
   "cell_type": "code",
   "metadata": {
    "id": "sZqi1Yy3_6cj"
   },
   "source": [
    "X = np.array([\n",
    "      [1],\n",
    "      [2],\n",
    "      [3]\n",
    "])\n",
    "Y = np.array([\n",
    "      2,\n",
    "      3,\n",
    "      2.5\n",
    "])"
   ],
   "execution_count": null,
   "outputs": []
  },
  {
   "cell_type": "code",
   "metadata": {
    "id": "NSqXDh6c_6ck",
    "colab": {
     "base_uri": "https://localhost:8080/",
     "height": 287
    },
    "outputId": "5e07562b-4b2f-4dc9-b4bd-263ac1b778fd"
   },
   "source": [
    "plt.scatter(X,Y)\n",
    "plt.show()\n",
    "plt.clf()"
   ],
   "execution_count": null,
   "outputs": [
    {
     "output_type": "display_data",
     "data": {
      "image/png": "[encoded data removed]",
      "text/plain": [
       "<Figure size 432x288 with 1 Axes>"
      ]
     },
     "metadata": {
      "tags": []
     }
    },
    {
     "output_type": "display_data",
     "data": {
      "text/plain": [
       "<Figure size 432x288 with 0 Axes>"
      ]
     },
     "metadata": {
      "tags": []
     }
    }
   ]
  },
  {
   "cell_type": "markdown",
   "metadata": {
    "id": "WT1s5lZxAJuL"
   },
   "source": [
    "### Linear Simple 3D :\n",
    "        Linear Model    : OK\n",
    "        MLP (2, 1)      : OK"
   ]
  },
  {
   "cell_type": "code",
   "metadata": {
    "id": "KL_IanGMAJuM"
   },
   "source": [
    "X = np.array([\n",
    "      [1, 1],\n",
    "      [2, 2],\n",
    "      [3, 1]\n",
    "])\n",
    "Y = np.array([\n",
    "      2,\n",
    "      3,\n",
    "      2.5\n",
    "])"
   ],
   "execution_count": null,
   "outputs": []
  },
  {
   "cell_type": "code",
   "metadata": {
    "id": "91dQpMIzAJuO",
    "colab": {
     "base_uri": "https://localhost:8080/",
     "height": 337
    },
    "outputId": "c1681d4c-3b99-429c-fa3f-6b8ef879e0de"
   },
   "source": [
    "from mpl_toolkits.mplot3d import Axes3D\n",
    "fig = plt.figure()\n",
    "ax = Axes3D(fig)\n",
    "ax.scatter(X[:,0],X[:,1],Y)\n",
    "plt.show()\n",
    "plt.clf()"
   ],
   "execution_count": null,
   "outputs": [
    {
     "output_type": "display_data",
     "data": {
      "image/png": "[encoded data removed]",
      "text/plain": [
       "<Figure size 432x288 with 1 Axes>"
      ]
     },
     "metadata": {
      "tags": []
     }
    },
    {
     "output_type": "display_data",
     "data": {
      "text/plain": [
       "<Figure size 432x288 with 0 Axes>"
      ]
     },
     "metadata": {
      "tags": []
     }
    }
   ]
  },
  {
   "cell_type": "markdown",
   "metadata": {
    "id": "kO361TllBqbm"
   },
   "source": [
    "### Linear Tricky 3D :\n",
    "        Linear Model    : OK\n",
    "        MLP (2, 1)      : OK"
   ]
  },
  {
   "cell_type": "code",
   "metadata": {
    "id": "nR_i7qLxBqbm"
   },
   "source": [
    "X = np.array([\n",
    "      [1, 1],\n",
    "      [2, 2],\n",
    "      [3, 3]\n",
    "])\n",
    "Y = np.array([\n",
    "      1,\n",
    "      2,\n",
    "      3\n",
    "])"
   ],
   "execution_count": null,
   "outputs": []
  },
  {
   "cell_type": "code",
   "metadata": {
    "id": "dHriVYrKBqbo",
    "colab": {
     "base_uri": "https://localhost:8080/",
     "height": 337
    },
    "outputId": "681a33c5-8ad5-427a-beea-eaf2a4e268ac"
   },
   "source": [
    "from mpl_toolkits.mplot3d import Axes3D\n",
    "fig = plt.figure()\n",
    "ax = Axes3D(fig)\n",
    "ax.scatter(X[:,0],X[:,1],Y)\n",
    "plt.show()\n",
    "plt.clf()"
   ],
   "execution_count": null,
   "outputs": [
    {
     "output_type": "display_data",
     "data": {
      "image/png": "[encoded data removed]",
      "text/plain": [
       "<Figure size 432x288 with 1 Axes>"
      ]
     },
     "metadata": {
      "tags": []
     }
    },
    {
     "output_type": "display_data",
     "data": {
      "text/plain": [
       "<Figure size 432x288 with 0 Axes>"
      ]
     },
     "metadata": {
      "tags": []
     }
    }
   ]
  },
  {
   "cell_type": "markdown",
   "metadata": {
    "id": "H_h0_vtCBEzk"
   },
   "source": [
    "### Non Linear Simple 3D :\n",
    "        Linear Model       : KO\n",
    "        MLP (2, 2, 1)      : OK"
   ]
  },
  {
   "cell_type": "code",
   "metadata": {
    "id": "ij70I1H9BEzk"
   },
   "source": [
    "X = np.array([\n",
    "      [1, 0],\n",
    "      [0, 1],\n",
    "      [1, 1],\n",
    "      [0, 0],\n",
    "])\n",
    "Y = np.array([\n",
    "      2,\n",
    "      1,\n",
    "      -2,\n",
    "      -1\n",
    "])"
   ],
   "execution_count": null,
   "outputs": []
  },
  {
   "cell_type": "code",
   "metadata": {
    "id": "N3VDOby8BEzn",
    "colab": {
     "base_uri": "https://localhost:8080/",
     "height": 337
    },
    "outputId": "ef903fb3-08ed-4afd-f1e0-bcaed828b118"
   },
   "source": [
    "from mpl_toolkits.mplot3d import Axes3D\n",
    "fig = plt.figure()\n",
    "ax = Axes3D(fig)\n",
    "ax.scatter(X[:,0],X[:,1],Y)\n",
    "plt.show()\n",
    "plt.clf()"
   ],
   "execution_count": null,
   "outputs": [
    {
     "output_type": "display_data",
     "data": {
      "image/png": "[encoded data removed]",
      "text/plain": [
       "<Figure size 432x288 with 1 Axes>"
      ]
     },
     "metadata": {
      "tags": []
     }
    },
    {
     "output_type": "display_data",
     "data": {
      "text/plain": [
       "<Figure size 432x288 with 0 Axes>"
      ]
     },
     "metadata": {
      "tags": []
     }
    }
   ]
  }
 ]
}
