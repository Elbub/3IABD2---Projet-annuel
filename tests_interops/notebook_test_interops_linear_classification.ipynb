{
 "nbformat": 4,
 "nbformat_minor": 0,
 "metadata": {
  "colab": {
   "provenance": []
  },
  "kernelspec": {
   "name": "python3",
   "display_name": "Python 3"
  }
 },
 "cells": [
  {
   "cell_type": "markdown",
   "metadata": {
    "id": "12URBFa0yULK"
   },
   "source": [
    "# Imports"
   ]
  },
  {
   "cell_type": "code",
   "metadata": {
    "id": "sXU99qaCyT8S"
   },
   "source": [
    "import matplotlib.pyplot as plt\n",
    "import numpy as np\n",
    "import ctypes\n",
    "import random"
   ],
   "execution_count": 1,
   "outputs": []
  },
  {
   "cell_type": "markdown",
   "metadata": {
    "id": "MlaksdgDxaA6"
   },
   "source": [
    "# Cas de tests, Modele linéaire"
   ]
  },
  {
   "cell_type": "markdown",
   "source": [
    "## Classification"
   ],
   "metadata": {
    "collapsed": false
   }
  },
  {
   "cell_type": "markdown",
   "metadata": {
    "id": "-d0zULTsyFhh"
   },
   "source": [
    "### Linear Simple :\n",
    "        Linear Model : OK\n",
    "        MLP (2, 1)   : OK"
   ]
  },
  {
   "cell_type": "code",
   "execution_count": 16,
   "outputs": [
    {
     "name": "stdout",
     "output_type": "stream",
     "text": [
      "[0.64399683 0.9010502  0.49449027]\n"
     ]
    }
   ],
   "source": [
    "my_lib = ctypes.CDLL(r\"..\\rust_lib\\target\\debug\\rust_lib.dll\")\n",
    "\n",
    "my_lib.delete_float_array.argtypes = [\n",
    "    ctypes.POINTER(ctypes.c_float),\n",
    "    ctypes.c_int32,\n",
    "]\n",
    "\n",
    "my_lib.generate_random_w.argtypes = [ctypes.c_int32]\n",
    "my_lib.generate_random_w.restype = ctypes.POINTER(ctypes.c_float)\n",
    "\n",
    "my_lib.delete_float_array.restype = None\n",
    "\n",
    "dimension = 2\n",
    "\n",
    "w_array_ptr = my_lib.generate_random_w(dimension)\n",
    "\n",
    "w_array = np.ctypeslib.as_array(w_array_ptr, ((dimension + 1),))\n",
    "\n",
    "print(w_array)"
   ],
   "metadata": {
    "collapsed": false
   }
  },
  {
   "cell_type": "code",
   "metadata": {
    "id": "EktwRhEMxV2A"
   },
   "source": [
    "X = np.array([\n",
    "      [1, 1],\n",
    "      [2, 3],\n",
    "      [3, 3]\n",
    "], dtype=ctypes.c_float)\n",
    "Y = np.array([\n",
    "      1,\n",
    "      0,\n",
    "      0\n",
    "], dtype=ctypes.c_float)\n"
   ],
   "execution_count": 2,
   "outputs": []
  },
  {
   "cell_type": "code",
   "execution_count": 18,
   "outputs": [],
   "source": [
    "X_plot = np.array([\n",
    "      [1, 1],\n",
    "      [2, 3],\n",
    "      [3, 3]\n",
    "])\n",
    "Y_plot = np.array([\n",
    "      1,\n",
    "      -1,\n",
    "      -1\n",
    "])"
   ],
   "metadata": {
    "collapsed": false
   }
  },
  {
   "cell_type": "code",
   "execution_count": 19,
   "outputs": [],
   "source": [
    "arr_size = len(X)"
   ],
   "metadata": {
    "collapsed": false
   }
  },
  {
   "cell_type": "code",
   "execution_count": 20,
   "outputs": [],
   "source": [
    "dimension = len(X[0])"
   ],
   "metadata": {
    "collapsed": false
   }
  },
  {
   "cell_type": "code",
   "execution_count": 21,
   "outputs": [],
   "source": [
    "learning_rate = ctypes.c_float(0.001)"
   ],
   "metadata": {
    "collapsed": false
   }
  },
  {
   "cell_type": "code",
   "execution_count": 22,
   "outputs": [],
   "source": [
    "epoch = 1000000"
   ],
   "metadata": {
    "collapsed": false
   }
  },
  {
   "cell_type": "code",
   "execution_count": 3,
   "outputs": [
    {
     "name": "stdout",
     "output_type": "stream",
     "text": [
      "[1. 1. 2. 3. 3. 3.]\n"
     ]
    }
   ],
   "source": [
    "X_flat = X.flatten()\n",
    "print(X_flat)"
   ],
   "metadata": {
    "collapsed": false
   }
  },
  {
   "cell_type": "code",
   "execution_count": 24,
   "outputs": [],
   "source": [
    "LP_c_float = ctypes.POINTER(ctypes.c_float)\n",
    "x_to_predict = (ctypes.c_float * len(X_flat))(*X_flat)\n",
    "x_to_predict_ptr = ctypes.cast(x_to_predict, LP_c_float)"
   ],
   "metadata": {
    "collapsed": false
   }
  },
  {
   "cell_type": "code",
   "execution_count": 25,
   "outputs": [],
   "source": [
    "LP_c_float = ctypes.POINTER(ctypes.c_float)\n",
    "y_to_predict = (ctypes.c_float * len(Y))(*Y)\n",
    "y_to_predict_ptr = ctypes.cast(y_to_predict, LP_c_float)"
   ],
   "metadata": {
    "collapsed": false
   }
  },
  {
   "cell_type": "code",
   "execution_count": 26,
   "outputs": [],
   "source": [
    "my_lib.linear_model_training.argtypes = [\n",
    "    ctypes.POINTER(ctypes.c_float),\n",
    "    ctypes.POINTER(ctypes.c_float),\n",
    "    ctypes.POINTER(ctypes.c_float),\n",
    "    ctypes.c_int32,\n",
    "    ctypes.c_int32,\n",
    "    ctypes.c_float,\n",
    "    ctypes.c_int32,\n",
    "]\n",
    "my_lib.linear_model_training.restype = ctypes.POINTER(ctypes.c_float)"
   ],
   "metadata": {
    "collapsed": false
   }
  },
  {
   "cell_type": "code",
   "execution_count": 27,
   "outputs": [
    {
     "name": "stdout",
     "output_type": "stream",
     "text": [
      "[ 0.37000036  0.20405036 -0.32750922]\n"
     ]
    }
   ],
   "source": [
    "linear_model_training_ptr = my_lib.linear_model_training(\n",
    "    w_array_ptr,  # pointeur vers le résultat du vecteur W random\n",
    "    y_to_predict_ptr,  # pointeur vers les résultats labellisés pour entrainer le modele\n",
    "    x_to_predict_ptr,  # points qui ont permis de labeliser le vecteur d'au dessus\n",
    "    arr_size,  # array size\n",
    "    dimension,  # dimension de chaque vecteur\n",
    "    learning_rate,  # learning rate\n",
    "    epoch,  # nombre de fois où l'on passe sur le data set\n",
    ")\n",
    "trained_linear_model = np.ctypeslib.as_array(\n",
    "    linear_model_training_ptr, ((dimension + 1),)\n",
    ")\n",
    "print(trained_linear_model)"
   ],
   "metadata": {
    "collapsed": false
   }
  },
  {
   "cell_type": "code",
   "execution_count": 28,
   "outputs": [],
   "source": [
    "my_lib.predict_linear_model.argtypes = [\n",
    "    ctypes.POINTER(ctypes.c_float),\n",
    "    ctypes.POINTER(ctypes.c_float),\n",
    "    ctypes.c_int32,\n",
    "    ctypes.c_int32,\n",
    "]\n",
    "my_lib.predict_linear_model.restype = ctypes.POINTER(ctypes.c_float)"
   ],
   "metadata": {
    "collapsed": false
   }
  },
  {
   "cell_type": "code",
   "execution_count": 29,
   "outputs": [],
   "source": [
    "predicted_labels = []\n",
    "predicted_x1 = []\n",
    "predicted_x2 = []\n",
    "for x1 in range(100* min(X_plot[:, 0]),100* max(X_plot[:, 0])) :\n",
    "  for x2 in range(100*min(X_plot[:, 1]), 100*max(X_plot[:, 1])) :\n",
    "    predicted_x1.append(x1/100)\n",
    "    predicted_x2.append(x2/100)\n",
    "    predicted_labels.append('pink' if x1/100 * trained_linear_model[1] + x2/100 * trained_linear_model[2] + trained_linear_model[0] >= 0 else 'lightskyblue')"
   ],
   "metadata": {
    "collapsed": false
   }
  },
  {
   "cell_type": "code",
   "metadata": {
    "id": "OpWOCJ5ZyDMY",
    "colab": {
     "base_uri": "https://localhost:8080/",
     "height": 287
    },
    "outputId": "25884536-e733-4cee-b175-79c147b7c927"
   },
   "source": [
    "plt.scatter(predicted_x1, predicted_x2, c=predicted_labels)\n",
    "plt.scatter(X[0, 0], X[0, 1], color='blue')\n",
    "plt.scatter(X[1:3,0], X[1:3,1], color='red')\n",
    "plt.show()\n",
    "plt.clf()"
   ],
   "execution_count": 30,
   "outputs": [
    {
     "data": {
      "text/plain": "<Figure size 640x480 with 1 Axes>",
      "image/png": "[encoded data removed]"
     },
     "metadata": {},
     "output_type": "display_data"
    },
    {
     "data": {
      "text/plain": "<Figure size 640x480 with 0 Axes>"
     },
     "metadata": {},
     "output_type": "display_data"
    }
   ]
  },
  {
   "cell_type": "code",
   "execution_count": 31,
   "outputs": [],
   "source": [
    "my_lib.delete_float_array(linear_model_training_ptr, (dimension + 1))\n",
    "del linear_model_training_ptr"
   ],
   "metadata": {
    "collapsed": false
   }
  },
  {
   "cell_type": "markdown",
   "metadata": {
    "id": "7v8KFue-zmCv"
   },
   "source": [
    "### Linear Multiple :\n",
    "        Linear Model : OK\n",
    "        MLP (2, 1)   : OK"
   ]
  },
  {
   "cell_type": "code",
   "execution_count": 32,
   "outputs": [
    {
     "name": "stdout",
     "output_type": "stream",
     "text": [
      "[0.08568752 0.5436076  0.09917021]\n"
     ]
    }
   ],
   "source": [
    "my_lib = ctypes.CDLL(r\"..\\rust_lib\\target\\debug\\rust_lib.dll\")\n",
    "\n",
    "my_lib.delete_float_array.argtypes = [\n",
    "    ctypes.POINTER(ctypes.c_float),\n",
    "    ctypes.c_int32,\n",
    "]\n",
    "\n",
    "my_lib.generate_random_w.argtypes = [ctypes.c_int32]\n",
    "my_lib.generate_random_w.restype = ctypes.POINTER(ctypes.c_float)\n",
    "\n",
    "my_lib.delete_float_array.restype = None\n",
    "\n",
    "dimension = 2\n",
    "\n",
    "w_array_ptr = my_lib.generate_random_w(dimension)\n",
    "\n",
    "w_array = np.ctypeslib.as_array(w_array_ptr, ((dimension + 1),))\n",
    "\n",
    "print(w_array)"
   ],
   "metadata": {
    "collapsed": false
   }
  },
  {
   "cell_type": "code",
   "metadata": {
    "id": "hZlnpb-qzmCw"
   },
   "source": [
    "X = np.concatenate([np.random.random((50,2)) * 0.9 + np.array([1, 1]), np.random.random((50,2)) * 0.9 + np.array([2, 2])], dtype=ctypes.c_float)\n",
    "Y = np.concatenate([np.ones((50, 1)), np.ones((50, 1)) * 0.0], dtype=ctypes.c_float)\n",
    "\n",
    "X_plot = np.concatenate([np.random.random((50,2)) * 0.9 + np.array([1, 1]), np.random.random((50,2)) * 0.9 + np.array([2, 2])])\n",
    "Y_plot = np.concatenate([np.ones((50, 1)), np.ones((50, 1)) * 0.0])"
   ],
   "execution_count": 33,
   "outputs": []
  },
  {
   "cell_type": "code",
   "execution_count": 34,
   "outputs": [],
   "source": [
    "arr_size = len(X)\n",
    "dimension = len(X[0])\n",
    "learning_rate = ctypes.c_float(0.001)\n",
    "epoch = 1000000\n",
    "X_flat = X.flatten()"
   ],
   "metadata": {
    "collapsed": false
   }
  },
  {
   "cell_type": "code",
   "execution_count": 35,
   "outputs": [],
   "source": [
    "LP_c_float = ctypes.POINTER(ctypes.c_float)\n",
    "x_to_predict = (ctypes.c_float * len(X_flat))(*X_flat)\n",
    "x_to_predict_ptr = ctypes.cast(x_to_predict, LP_c_float)"
   ],
   "metadata": {
    "collapsed": false
   }
  },
  {
   "cell_type": "code",
   "execution_count": 36,
   "outputs": [],
   "source": [
    "LP_c_float = ctypes.POINTER(ctypes.c_float)\n",
    "y_to_predict = (ctypes.c_float * len(Y))(*Y)\n",
    "y_to_predict_ptr = ctypes.cast(y_to_predict, LP_c_float)"
   ],
   "metadata": {
    "collapsed": false
   }
  },
  {
   "cell_type": "code",
   "execution_count": 37,
   "outputs": [],
   "source": [
    "my_lib.linear_model_training.argtypes = [\n",
    "    ctypes.POINTER(ctypes.c_float),\n",
    "    ctypes.POINTER(ctypes.c_float),\n",
    "    ctypes.POINTER(ctypes.c_float),\n",
    "    ctypes.c_int32,\n",
    "    ctypes.c_int32,\n",
    "    ctypes.c_float,\n",
    "    ctypes.c_int32,\n",
    "]\n",
    "my_lib.linear_model_training.restype = ctypes.POINTER(ctypes.c_float)"
   ],
   "metadata": {
    "collapsed": false
   }
  },
  {
   "cell_type": "code",
   "execution_count": 38,
   "outputs": [
    {
     "name": "stdout",
     "output_type": "stream",
     "text": [
      "[ 0.16568768  0.00548769 -0.09153549]\n",
      "<class 'ctypes.wintypes.LP_c_float'>\n"
     ]
    }
   ],
   "source": [
    "linear_model_training_ptr = my_lib.linear_model_training(\n",
    "    w_array_ptr,  # pointeur vers le résultat du vecteur W random\n",
    "    y_to_predict_ptr,  # pointeur vers les résultats labellisés pour entrainer le modele\n",
    "    x_to_predict_ptr,  # points qui ont permis de labeliser le vecteur d'au dessus\n",
    "    arr_size,  # array size\n",
    "    dimension,  # dimension de chaque vecteur\n",
    "    learning_rate,  # learning rate\n",
    "    epoch,  # nombre de fois où l'on passe sur le data set\n",
    ")\n",
    "trained_linear_model = np.ctypeslib.as_array(\n",
    "    linear_model_training_ptr, ((dimension + 1),)\n",
    ")\n",
    "print(trained_linear_model)\n",
    "print(type(linear_model_training_ptr))"
   ],
   "metadata": {
    "collapsed": false
   }
  },
  {
   "cell_type": "code",
   "execution_count": 39,
   "outputs": [],
   "source": [
    "my_lib.predict_linear_model.argtypes = [\n",
    "    ctypes.POINTER(ctypes.c_float),\n",
    "    ctypes.POINTER(ctypes.c_float),\n",
    "    ctypes.c_int32,\n",
    "    ctypes.c_int32,\n",
    "]\n",
    "my_lib.predict_linear_model.restype = ctypes.POINTER(ctypes.c_float)"
   ],
   "metadata": {
    "collapsed": false
   }
  },
  {
   "cell_type": "code",
   "execution_count": 40,
   "outputs": [],
   "source": [
    "predicted_labels = []\n",
    "predicted_x1 = []\n",
    "predicted_x2 = []\n",
    "for x1 in range(100 , 300) :\n",
    "  for x2 in range(100 , 300) :\n",
    "    predicted_x1.append(x1/100)\n",
    "    predicted_x2.append(x2/100)\n",
    "    predicted_labels.append('pink' if x1/100 * trained_linear_model[1] + x2/100 * trained_linear_model[2] + trained_linear_model[0] >= 0 else 'lightskyblue')"
   ],
   "metadata": {
    "collapsed": false
   }
  },
  {
   "cell_type": "code",
   "metadata": {
    "id": "a6e8GdL_zmCx",
    "colab": {
     "base_uri": "https://localhost:8080/",
     "height": 282
    },
    "outputId": "10b1a13c-51b3-4b33-930b-541bb01f159f"
   },
   "source": [
    "plt.scatter(predicted_x1, predicted_x2, c=predicted_labels)\n",
    "plt.scatter(X[0:50, 0], X[0:50, 1], color='blue')\n",
    "plt.scatter(X[50:100,0], X[50:100,1], color='red')\n",
    "plt.show()\n",
    "plt.clf()"
   ],
   "execution_count": 41,
   "outputs": [
    {
     "data": {
      "text/plain": "<Figure size 640x480 with 1 Axes>",
      "image/png": "[encoded data removed]"
     },
     "metadata": {},
     "output_type": "display_data"
    },
    {
     "data": {
      "text/plain": "<Figure size 640x480 with 0 Axes>"
     },
     "metadata": {},
     "output_type": "display_data"
    }
   ]
  },
  {
   "cell_type": "code",
   "execution_count": 42,
   "outputs": [],
   "source": [
    "my_lib.delete_float_array(linear_model_training_ptr, (dimension + 1))\n",
    "del linear_model_training_ptr"
   ],
   "metadata": {
    "collapsed": false
   }
  },
  {
   "cell_type": "markdown",
   "metadata": {
    "id": "gZlONmsp1T_W"
   },
   "source": [
    "### XOR :\n",
    "        Linear Model    : KO\n",
    "        MLP (2, 2, 1)   : OK"
   ]
  },
  {
   "cell_type": "code",
   "execution_count": 43,
   "outputs": [
    {
     "name": "stdout",
     "output_type": "stream",
     "text": [
      "[0.968405   0.08101904 0.2028004 ]\n"
     ]
    }
   ],
   "source": [
    "my_lib = ctypes.CDLL(r\"..\\rust_lib\\target\\debug\\rust_lib.dll\")\n",
    "\n",
    "my_lib.delete_float_array.argtypes = [\n",
    "    ctypes.POINTER(ctypes.c_float),\n",
    "    ctypes.c_int32,\n",
    "]\n",
    "\n",
    "my_lib.generate_random_w.argtypes = [ctypes.c_int32]\n",
    "my_lib.generate_random_w.restype = ctypes.POINTER(ctypes.c_float)\n",
    "\n",
    "my_lib.delete_float_array.restype = None\n",
    "\n",
    "dimension = 2\n",
    "\n",
    "w_array_ptr = my_lib.generate_random_w(dimension)\n",
    "\n",
    "w_array = np.ctypeslib.as_array(w_array_ptr, ((dimension + 1),))\n",
    "\n",
    "print(w_array)"
   ],
   "metadata": {
    "collapsed": false
   }
  },
  {
   "cell_type": "code",
   "metadata": {
    "id": "673wfC9U1T_W"
   },
   "source": [
    "X = np.array([[1, 0], [0, 1], [0, 0], [1, 1]], dtype= ctypes.c_float)\n",
    "Y = np.array([1, 1, -1, -1], dtype= ctypes.c_float)\n",
    "\n",
    "X_plot = np.array([[1, 0], [0, 1], [0, 0], [1, 1]])\n",
    "Y_plot = np.array([1, 1, -1, -1])"
   ],
   "execution_count": 44,
   "outputs": []
  },
  {
   "cell_type": "code",
   "execution_count": 45,
   "outputs": [],
   "source": [
    "arr_size = len(X)\n",
    "dimension = len(X[0])\n",
    "learning_rate = ctypes.c_float(0.001)\n",
    "epoch = 1000000\n",
    "X_flat = X.flatten()"
   ],
   "metadata": {
    "collapsed": false
   }
  },
  {
   "cell_type": "code",
   "execution_count": 46,
   "outputs": [],
   "source": [
    "LP_c_float = ctypes.POINTER(ctypes.c_float)\n",
    "x_to_predict = (ctypes.c_float * len(X_flat))(*X_flat)\n",
    "x_to_predict_ptr = ctypes.cast(x_to_predict, LP_c_float)"
   ],
   "metadata": {
    "collapsed": false
   }
  },
  {
   "cell_type": "code",
   "execution_count": 47,
   "outputs": [],
   "source": [
    "LP_c_float = ctypes.POINTER(ctypes.c_float)\n",
    "y_to_predict = (ctypes.c_float * len(Y))(*Y)\n",
    "y_to_predict_ptr = ctypes.cast(y_to_predict, LP_c_float)"
   ],
   "metadata": {
    "collapsed": false
   }
  },
  {
   "cell_type": "code",
   "execution_count": 48,
   "outputs": [],
   "source": [
    "my_lib.linear_model_training.argtypes = [\n",
    "    ctypes.POINTER(ctypes.c_float),\n",
    "    ctypes.POINTER(ctypes.c_float),\n",
    "    ctypes.POINTER(ctypes.c_float),\n",
    "    ctypes.c_int32,\n",
    "    ctypes.c_int32,\n",
    "    ctypes.c_float,\n",
    "    ctypes.c_int32,\n",
    "]\n",
    "my_lib.linear_model_training.restype = ctypes.POINTER(ctypes.c_float)"
   ],
   "metadata": {
    "collapsed": false
   }
  },
  {
   "cell_type": "code",
   "execution_count": 49,
   "outputs": [
    {
     "name": "stdout",
     "output_type": "stream",
     "text": [
      "[-0.13458925  0.13501933 -0.4171977 ]\n",
      "<class 'ctypes.wintypes.LP_c_float'>\n"
     ]
    }
   ],
   "source": [
    "linear_model_training_ptr = my_lib.linear_model_training(\n",
    "    w_array_ptr,  # pointeur vers le résultat du vecteur W random\n",
    "    y_to_predict_ptr,  # pointeur vers les résultats labellisés pour entrainer le modele\n",
    "    x_to_predict_ptr,  # points qui ont permis de labeliser le vecteur d'au dessus\n",
    "    arr_size,  # array size\n",
    "    dimension,  # dimension de chaque vecteur\n",
    "    learning_rate,  # learning rate\n",
    "    epoch,  # nombre de fois où l'on passe sur le data set\n",
    ")\n",
    "trained_linear_model = np.ctypeslib.as_array(\n",
    "    linear_model_training_ptr, ((dimension + 1),)\n",
    ")\n",
    "print(trained_linear_model)\n",
    "print(type(linear_model_training_ptr))"
   ],
   "metadata": {
    "collapsed": false
   }
  },
  {
   "cell_type": "code",
   "execution_count": 50,
   "outputs": [],
   "source": [
    "my_lib.predict_linear_model.argtypes = [\n",
    "    ctypes.POINTER(ctypes.c_float),\n",
    "    ctypes.POINTER(ctypes.c_float),\n",
    "    ctypes.c_int32,\n",
    "    ctypes.c_int32,\n",
    "]\n",
    "my_lib.predict_linear_model.restype = ctypes.POINTER(ctypes.c_float)"
   ],
   "metadata": {
    "collapsed": false
   }
  },
  {
   "cell_type": "code",
   "execution_count": 51,
   "outputs": [],
   "source": [
    "predicted_labels = []\n",
    "predicted_x1 = []\n",
    "predicted_x2 = []\n",
    "for x1 in range(0 , 100) :\n",
    "  for x2 in range(0 , 100) :\n",
    "    predicted_x1.append(x1/100)\n",
    "    predicted_x2.append(x2/100)\n",
    "    predicted_labels.append('pink' if x1/100 * trained_linear_model[1] + x2/100 * trained_linear_model[2] + trained_linear_model[0] >= 0 else 'lightskyblue')"
   ],
   "metadata": {
    "collapsed": false
   }
  },
  {
   "cell_type": "code",
   "metadata": {
    "id": "uA3E-h801T_Y",
    "colab": {
     "base_uri": "https://localhost:8080/",
     "height": 283
    },
    "outputId": "9fc31c6d-e44c-447b-a7c0-a3fa7b0d778e"
   },
   "source": [
    "plt.scatter(predicted_x1, predicted_x2, c=predicted_labels)\n",
    "plt.scatter(X[0:2, 0], X[0:2, 1], color='blue')\n",
    "plt.scatter(X[2:4,0], X[2:4,1], color='red')\n",
    "plt.show()\n",
    "plt.clf()"
   ],
   "execution_count": 52,
   "outputs": [
    {
     "data": {
      "text/plain": "<Figure size 640x480 with 1 Axes>",
      "image/png": "[encoded data removed]"
     },
     "metadata": {},
     "output_type": "display_data"
    },
    {
     "data": {
      "text/plain": "<Figure size 640x480 with 0 Axes>"
     },
     "metadata": {},
     "output_type": "display_data"
    }
   ]
  },
  {
   "cell_type": "code",
   "execution_count": 53,
   "outputs": [],
   "source": [
    "my_lib.delete_float_array(linear_model_training_ptr, (dimension + 1))\n",
    "del linear_model_training_ptr"
   ],
   "metadata": {
    "collapsed": false
   }
  },
  {
   "cell_type": "markdown",
   "metadata": {
    "id": "5qxkXVo02MpM"
   },
   "source": [
    "### Cross :\n",
    "        Linear Model    : KO\n",
    "        MLP (2, 4, 1)   : OK"
   ]
  },
  {
   "cell_type": "code",
   "execution_count": 54,
   "outputs": [
    {
     "name": "stdout",
     "output_type": "stream",
     "text": [
      "[0.37729836 0.75617075 0.496454  ]\n"
     ]
    }
   ],
   "source": [
    "my_lib = ctypes.CDLL(r\"..\\rust_lib\\target\\debug\\rust_lib.dll\")\n",
    "\n",
    "my_lib.delete_float_array.argtypes = [\n",
    "    ctypes.POINTER(ctypes.c_float),\n",
    "    ctypes.c_int32,\n",
    "]\n",
    "\n",
    "my_lib.generate_random_w.argtypes = [ctypes.c_int32]\n",
    "my_lib.generate_random_w.restype = ctypes.POINTER(ctypes.c_float)\n",
    "\n",
    "my_lib.delete_float_array.restype = None\n",
    "\n",
    "dimension = 2\n",
    "\n",
    "w_array_ptr = my_lib.generate_random_w(dimension)\n",
    "\n",
    "w_array = np.ctypeslib.as_array(w_array_ptr, ((dimension + 1),))\n",
    "\n",
    "print(w_array)"
   ],
   "metadata": {
    "collapsed": false
   }
  },
  {
   "cell_type": "code",
   "metadata": {
    "id": "7kkrrfnX2MpM"
   },
   "source": [
    "X = np.random.random((500, 2)) * 2.0 - 1.0\n",
    "X = np.array(X, dtype= ctypes.c_float)\n",
    "Y = np.array([1 if abs(p[0]) <= 0.3 or abs(p[1]) <= 0.3 else -1 for p in X])\n",
    "Y = np.array(Y, dtype= ctypes.c_float)\n",
    "\n",
    "X_plot = np.random.random((500, 2)) * 2.0 - 1.0\n",
    "Y_plot = np.array([1 if abs(p[0]) <= 0.3 or abs(p[1]) <= 0.3 else -1 for p in X])"
   ],
   "execution_count": 55,
   "outputs": []
  },
  {
   "cell_type": "code",
   "execution_count": 56,
   "outputs": [
    {
     "name": "stdout",
     "output_type": "stream",
     "text": [
      "[[ 0.1839202   0.42865205]\n",
      " [ 0.03958483  0.79094416]\n",
      " [-0.8282947   0.28736275]\n",
      " [-0.90569407 -0.98035264]\n",
      " [ 0.57621247 -0.45599982]\n",
      " [ 0.67056423 -0.7230921 ]\n",
      " [ 0.6706738   0.25353986]\n",
      " [ 0.42893     0.90467787]\n",
      " [ 0.64376205  0.23895735]\n",
      " [ 0.20373575 -0.41217986]\n",
      " [-0.84272164  0.6178145 ]\n",
      " [ 0.69813275  0.12631138]\n",
      " [-0.70075524 -0.9750242 ]\n",
      " [ 0.9905226  -0.4199359 ]\n",
      " [-0.13674925  0.09952431]\n",
      " [-0.7854235  -0.12076415]\n",
      " [ 0.57310486 -0.0101678 ]\n",
      " [-0.41512176  0.9540636 ]\n",
      " [-0.17661594 -0.04307264]\n",
      " [ 0.24294876  0.69318604]\n",
      " [ 0.1997008   0.7312937 ]\n",
      " [ 0.05162748 -0.14107202]\n",
      " [ 0.06068793 -0.33320796]\n",
      " [ 0.5748665  -0.12346623]\n",
      " [-0.90746975  0.845816  ]\n",
      " [-0.12848577  0.87768656]\n",
      " [-0.65271616  0.04006906]\n",
      " [-0.4890094   0.05119459]\n",
      " [-0.6395391   0.04379303]\n",
      " [ 0.88041204  0.5212819 ]\n",
      " [-0.75952685  0.02871895]\n",
      " [ 0.13779515 -0.31266645]\n",
      " [ 0.47769293  0.43152893]\n",
      " [ 0.77136666 -0.89212453]\n",
      " [-0.5622319   0.61289537]\n",
      " [-0.5309565   0.66463506]\n",
      " [-0.8973203  -0.7506172 ]\n",
      " [ 0.32973906 -0.17600265]\n",
      " [-0.11004727  0.28134984]\n",
      " [-0.38473618 -0.02254471]\n",
      " [ 0.09856074  0.06839641]\n",
      " [-0.02536011 -0.45853508]\n",
      " [-0.40205595 -0.73253393]\n",
      " [-0.4532765  -0.6024946 ]\n",
      " [-0.11535461 -0.60371083]\n",
      " [ 0.62337077  0.3124805 ]\n",
      " [ 0.6839465  -0.13590044]\n",
      " [-0.36651474 -0.8139787 ]\n",
      " [ 0.09365054 -0.8996568 ]\n",
      " [-0.5239766   0.22851387]\n",
      " [-0.85440356 -0.9248715 ]\n",
      " [-0.36426276  0.5419641 ]\n",
      " [-0.26276118 -0.7848343 ]\n",
      " [-0.6664977  -0.85193074]\n",
      " [-0.44964272 -0.8010954 ]\n",
      " [ 0.36422914 -0.2734508 ]\n",
      " [ 0.8619586  -0.7419519 ]\n",
      " [-0.2590425   0.35242438]\n",
      " [-0.05803802 -0.42619434]\n",
      " [-0.14311574 -0.8217513 ]\n",
      " [-0.5175062  -0.8227827 ]\n",
      " [-0.3144558  -0.7911968 ]\n",
      " [-0.16255563  0.14167282]\n",
      " [ 0.9688077   0.19853409]\n",
      " [ 0.20767888  0.8290353 ]\n",
      " [-0.9760407  -0.40054494]\n",
      " [ 0.8412709  -0.7713543 ]\n",
      " [ 0.74880177 -0.84442276]\n",
      " [ 0.29902682 -0.67005   ]\n",
      " [-0.45760196  0.92116845]\n",
      " [-0.9223032   0.26537713]\n",
      " [ 0.02922926  0.7069758 ]\n",
      " [-0.06046025  0.5071338 ]\n",
      " [ 0.24114849 -0.5701725 ]\n",
      " [-0.43706992 -0.4958503 ]\n",
      " [ 0.60794246 -0.5381215 ]\n",
      " [ 0.60769993 -0.86061937]\n",
      " [ 0.74330235 -0.0859426 ]\n",
      " [-0.28694     0.6983969 ]\n",
      " [-0.47092664 -0.86126184]\n",
      " [ 0.5361688   0.06345234]\n",
      " [-0.10674296  0.36752796]\n",
      " [ 0.8487314  -0.01769632]\n",
      " [-0.23119988 -0.17923258]\n",
      " [ 0.59217334  0.23213051]\n",
      " [ 0.7689847  -0.88089854]\n",
      " [ 0.4259034   0.31729665]\n",
      " [-0.78368294  0.34884593]\n",
      " [ 0.93757933 -0.9971161 ]\n",
      " [-0.58720845  0.55156875]\n",
      " [-0.33033243  0.4823021 ]\n",
      " [-0.91406834 -0.7399505 ]\n",
      " [-0.77584577  0.71667296]\n",
      " [-0.93701535 -0.1299807 ]\n",
      " [ 0.0221433   0.51087606]\n",
      " [-0.542812    0.05005145]\n",
      " [ 0.3496419   0.76174235]\n",
      " [-0.7571995  -0.23369205]\n",
      " [-0.6772609  -0.33223075]\n",
      " [ 0.9014916   0.81921554]\n",
      " [ 0.1375182   0.91057175]\n",
      " [-0.47308144 -0.36591887]\n",
      " [ 0.5668135   0.46093917]\n",
      " [-0.17300424  0.7539147 ]\n",
      " [ 0.76186967 -0.64887077]\n",
      " [ 0.94454074  0.65876484]\n",
      " [-0.76693594 -0.08826884]\n",
      " [ 0.5659201   0.2263506 ]\n",
      " [ 0.22519596 -0.77524745]\n",
      " [ 0.2247426  -0.22117703]\n",
      " [ 0.08383094 -0.04942914]\n",
      " [ 0.2875665   0.01708259]\n",
      " [-0.0864516  -0.04615904]\n",
      " [ 0.41888002 -0.941089  ]\n",
      " [ 0.17214552  0.47774237]\n",
      " [ 0.71318084 -0.41909888]\n",
      " [ 0.10943676  0.70116657]\n",
      " [ 0.03909585  0.4128222 ]\n",
      " [ 0.47639453  0.16089013]\n",
      " [-0.22892533  0.45053625]\n",
      " [-0.7747206   0.65616524]\n",
      " [-0.892098    0.32668364]\n",
      " [ 0.7738749   0.6538809 ]\n",
      " [ 0.19008683 -0.12001998]\n",
      " [ 0.82196766 -0.26183584]\n",
      " [-0.18885757  0.4235113 ]\n",
      " [-0.802553   -0.92905784]\n",
      " [-0.2878882  -0.5172714 ]\n",
      " [ 0.86665845  0.01618088]\n",
      " [-0.8544278  -0.14229085]\n",
      " [-0.19605447  0.02967339]\n",
      " [-0.9059815  -0.5857414 ]\n",
      " [-0.11700631 -0.75431603]\n",
      " [ 0.7721713   0.9407546 ]\n",
      " [ 0.46317294  0.48674315]\n",
      " [ 0.33935854 -0.01424817]\n",
      " [ 0.6157002  -0.9190877 ]\n",
      " [-0.39601234  0.46662465]\n",
      " [ 0.32009053 -0.32235646]\n",
      " [ 0.96129286  0.7087047 ]\n",
      " [-0.76560265  0.97182375]\n",
      " [ 0.5500815  -0.93901944]\n",
      " [-0.49832538 -0.8685401 ]\n",
      " [-0.4071663   0.09912248]\n",
      " [ 0.49976468 -0.5593399 ]\n",
      " [ 0.92474383 -0.70649153]\n",
      " [ 0.54933524 -0.46884876]\n",
      " [-0.38152778 -0.13380721]\n",
      " [ 0.6364632  -0.9259804 ]\n",
      " [-0.12671041 -0.74604756]\n",
      " [ 0.14840792 -0.09736522]\n",
      " [-0.11252625  0.73151505]\n",
      " [-0.9543405   0.8748956 ]\n",
      " [ 0.3846065   0.7599887 ]\n",
      " [-0.32851315 -0.35785386]\n",
      " [-0.16395375  0.36349738]\n",
      " [-0.21038139  0.10928235]\n",
      " [-0.5227606  -0.2052463 ]\n",
      " [-0.7484817  -0.06378546]\n",
      " [ 0.75763434 -0.49442956]\n",
      " [-0.36830544 -0.694783  ]\n",
      " [ 0.04425173 -0.39736328]\n",
      " [ 0.41273162 -0.22885796]\n",
      " [ 0.87143296  0.39398444]\n",
      " [-0.24278513  0.29349494]\n",
      " [-0.72088075 -0.26666722]\n",
      " [-0.7617423  -0.32234418]\n",
      " [-0.16499051 -0.11122029]\n",
      " [ 0.24777547  0.16275622]\n",
      " [-0.22311744 -0.3355676 ]\n",
      " [ 0.91985595  0.06423452]\n",
      " [-0.07965115 -0.28102764]\n",
      " [-0.98124516  0.92999274]\n",
      " [-0.8450887  -0.11019661]\n",
      " [-0.62539035 -0.54107785]\n",
      " [-0.14531314 -0.26373598]\n",
      " [ 0.19017221 -0.07467325]\n",
      " [ 0.45646247  0.62958884]\n",
      " [ 0.30921102 -0.8406855 ]\n",
      " [ 0.38954487 -0.4206886 ]\n",
      " [ 0.6187547   0.8101094 ]\n",
      " [-0.69824487  0.10725307]\n",
      " [-0.33889434 -0.43026266]\n",
      " [ 0.23210204  0.60315216]\n",
      " [ 0.48280072 -0.45810264]\n",
      " [-0.69505405 -0.44773927]\n",
      " [ 0.3954934  -0.02556532]\n",
      " [ 0.1615244   0.25416347]\n",
      " [-0.18623745  0.52404994]\n",
      " [ 0.16919857  0.33057418]\n",
      " [-0.52134866 -0.39584768]\n",
      " [ 0.9828659   0.48289102]\n",
      " [-0.15727592 -0.23349768]\n",
      " [ 0.6183154  -0.40881026]\n",
      " [ 0.49398002 -0.5285635 ]\n",
      " [ 0.9304679   0.66664237]\n",
      " [-0.20682344 -0.48185602]\n",
      " [ 0.70735914 -0.31582937]\n",
      " [ 0.9164499  -0.9501736 ]\n",
      " [-0.94885784 -0.8906929 ]\n",
      " [ 0.73662615  0.9777991 ]\n",
      " [ 0.5803576  -0.63176036]\n",
      " [ 0.9514153  -0.8290565 ]\n",
      " [ 0.54655164  0.23800457]\n",
      " [-0.9158725  -0.9784604 ]\n",
      " [ 0.33981344 -0.08172633]\n",
      " [-0.06305481  0.64341986]\n",
      " [-0.32101396  0.27813965]\n",
      " [-0.13797458 -0.23239365]\n",
      " [ 0.44212785  0.06223541]\n",
      " [ 0.23424058  0.00937209]\n",
      " [-0.6011658  -0.3768468 ]\n",
      " [ 0.8860048  -0.7222197 ]\n",
      " [ 0.6353234  -0.40270272]\n",
      " [-0.09429372  0.7455835 ]\n",
      " [-0.02828088  0.5662775 ]\n",
      " [ 0.64668864  0.46134612]\n",
      " [-0.8700417   0.81172967]\n",
      " [-0.16732499  0.8445217 ]\n",
      " [-0.9658822   0.6096458 ]\n",
      " [ 0.9973358   0.47518462]\n",
      " [ 0.64067507  0.6820745 ]\n",
      " [ 0.33013982  0.9327782 ]\n",
      " [-0.9645907  -0.40966493]\n",
      " [ 0.84068215  0.30085096]\n",
      " [-0.09394408 -0.24374591]\n",
      " [ 0.42404014 -0.5442505 ]\n",
      " [ 0.64037746  0.6993621 ]\n",
      " [-0.79693544 -0.68398005]\n",
      " [ 0.94803274  0.32489395]\n",
      " [-0.8186662   0.5783853 ]\n",
      " [ 0.8592712  -0.6802991 ]\n",
      " [ 0.45837522 -0.80361855]\n",
      " [ 0.4691929  -0.49393553]\n",
      " [ 0.43856663  0.47680748]\n",
      " [ 0.8651078  -0.98777485]\n",
      " [-0.00969067  0.01467982]\n",
      " [-0.46966943  0.4432146 ]\n",
      " [-0.40746006  0.7352919 ]\n",
      " [ 0.05255629 -0.81799203]\n",
      " [ 0.71818817 -0.00812043]\n",
      " [-0.22295353 -0.0922718 ]\n",
      " [-0.9990787  -0.14614102]\n",
      " [ 0.06129639 -0.75712055]\n",
      " [-0.03369476  0.36619154]\n",
      " [ 0.574769   -0.67108893]\n",
      " [-0.19041838 -0.8712095 ]\n",
      " [-0.59818    -0.46482736]\n",
      " [ 0.94434834 -0.6388526 ]\n",
      " [ 0.37681     0.09649086]\n",
      " [ 0.64934874 -0.16928177]\n",
      " [ 0.14639315 -0.81408024]\n",
      " [-0.6930524   0.2877465 ]\n",
      " [-0.10859764  0.21957976]\n",
      " [-0.10192563 -0.13162945]\n",
      " [-0.76420575  0.29961893]\n",
      " [ 0.9941652  -0.7912171 ]\n",
      " [-0.4362704   0.16534744]\n",
      " [ 0.19232555  0.552834  ]\n",
      " [ 0.20114726  0.08955165]\n",
      " [-0.81044215 -0.48163226]\n",
      " [-0.52792436  0.7813003 ]\n",
      " [-0.02398855  0.7058153 ]\n",
      " [ 0.7985706  -0.05651692]\n",
      " [ 0.4379429   0.8146383 ]\n",
      " [-0.21831086  0.05049375]\n",
      " [-0.9474454   0.07993717]\n",
      " [-0.44157678  0.18105762]\n",
      " [ 0.45814958  0.730327  ]\n",
      " [ 0.9721144  -0.28198075]\n",
      " [ 0.6044416   0.88242507]\n",
      " [ 0.51038265  0.57908005]\n",
      " [-0.33097    -0.6141667 ]\n",
      " [ 0.64312464 -0.5011871 ]\n",
      " [-0.91420144  0.15355071]\n",
      " [-0.05956629 -0.19790162]\n",
      " [ 0.7510692   0.32432   ]\n",
      " [-0.5062897   0.45480037]\n",
      " [ 0.153207    0.15012877]\n",
      " [ 0.02765136  0.21583064]\n",
      " [-0.28367198 -0.640187  ]\n",
      " [-0.20904845  0.8235315 ]\n",
      " [ 0.8676763  -0.7758231 ]\n",
      " [ 0.7274359   0.00514231]\n",
      " [-0.7557873   0.7287488 ]\n",
      " [ 0.36035985  0.8102106 ]\n",
      " [-0.6160723   0.46602598]\n",
      " [ 0.74346256 -0.14550969]\n",
      " [ 0.9215711   0.5160274 ]\n",
      " [-0.6476077   0.01287029]\n",
      " [-0.1491687  -0.25841978]\n",
      " [ 0.5127861  -0.8436056 ]\n",
      " [ 0.40770814  0.6650719 ]\n",
      " [ 0.13943782  0.6800347 ]\n",
      " [-0.98856395 -0.14715715]\n",
      " [-0.14373596 -0.958275  ]\n",
      " [ 0.63227594  0.15519632]\n",
      " [ 0.30405438  0.49170804]\n",
      " [ 0.5406371   0.8294499 ]\n",
      " [-0.3737913   0.8630636 ]\n",
      " [ 0.4210913   0.40485317]\n",
      " [-0.58826566  0.33787125]\n",
      " [ 0.98438704  0.68999445]\n",
      " [ 0.03497742  0.51818097]\n",
      " [ 0.17079389  0.8166131 ]\n",
      " [ 0.7454872   0.44959852]\n",
      " [-0.9352349  -0.1422896 ]\n",
      " [ 0.36504155 -0.2801735 ]\n",
      " [-0.91660213  0.9029521 ]\n",
      " [ 0.08227249  0.58974653]\n",
      " [-0.1976255  -0.23432088]\n",
      " [ 0.2558507  -0.5432318 ]\n",
      " [-0.40510803  0.6495281 ]\n",
      " [ 0.8915335   0.3757783 ]\n",
      " [-0.01273621  0.90880543]\n",
      " [-0.44273242 -0.6529966 ]\n",
      " [-0.07884057 -0.01162636]\n",
      " [ 0.50272626  0.94960594]\n",
      " [ 0.19481236 -0.46294615]\n",
      " [ 0.53677684  0.41551435]\n",
      " [ 0.91363657 -0.86490476]\n",
      " [-0.02218258  0.01760263]\n",
      " [ 0.95168877  0.51771176]\n",
      " [ 0.7044667   0.2730228 ]\n",
      " [-0.41201273 -0.11951765]\n",
      " [ 0.273022    0.97018796]\n",
      " [ 0.7677808  -0.38839322]\n",
      " [-0.9418691   0.25429162]\n",
      " [-0.9909338   0.0260827 ]\n",
      " [ 0.33711797 -0.13658462]\n",
      " [-0.8522124  -0.29441637]\n",
      " [ 0.76681525  0.58494645]\n",
      " [-0.781343   -0.10669415]\n",
      " [-0.25812808 -0.2474309 ]\n",
      " [-0.05299706  0.97420406]\n",
      " [-0.4306529   0.44276592]\n",
      " [ 0.8962232   0.39126042]\n",
      " [ 0.8805048  -0.9274827 ]\n",
      " [ 0.2581838   0.85586894]\n",
      " [ 0.8958034   0.4902678 ]\n",
      " [ 0.8754843   0.11575084]\n",
      " [ 0.30457178  0.54007155]\n",
      " [-0.08664556 -0.05803679]\n",
      " [-0.92873    -0.2610504 ]\n",
      " [ 0.576686    0.22694668]\n",
      " [ 0.7064283   0.06603124]\n",
      " [-0.88553464  0.14980185]\n",
      " [ 0.7291173  -0.06137228]\n",
      " [ 0.2797979  -0.47273692]\n",
      " [-0.06521975  0.72717124]\n",
      " [ 0.00878517  0.86707324]\n",
      " [-0.998386    0.4134993 ]\n",
      " [ 0.8495209   0.22849418]\n",
      " [-0.3011352   0.57139087]\n",
      " [-0.72267926  0.6795192 ]\n",
      " [ 0.7437996   0.661448  ]\n",
      " [ 0.8051307  -0.5824191 ]\n",
      " [ 0.1184848  -0.29355282]\n",
      " [-0.08132026 -0.37638947]\n",
      " [-0.04342788  0.20660451]\n",
      " [-0.5512851  -0.93233216]\n",
      " [ 0.91903883 -0.56741565]\n",
      " [-0.7923685   0.39126578]\n",
      " [ 0.83475065  0.9265438 ]\n",
      " [-0.49373528  0.01882369]\n",
      " [ 0.77642655 -0.98425084]\n",
      " [-0.08324021  0.06099087]\n",
      " [ 0.44684896  0.54413676]\n",
      " [-0.50100744 -0.76948863]\n",
      " [-0.7137113   0.41823587]\n",
      " [-0.9199531  -0.10130265]\n",
      " [ 0.09079569  0.33308458]\n",
      " [ 0.58491045 -0.63086295]\n",
      " [-0.37800512 -0.67997015]\n",
      " [-0.6862626  -0.53528327]\n",
      " [-0.6468602  -0.17350276]\n",
      " [-0.28888974  0.7750815 ]\n",
      " [ 0.00641829  0.6797225 ]\n",
      " [ 0.20353022  0.794181  ]\n",
      " [ 0.3066372  -0.19524652]\n",
      " [ 0.4325824   0.6172571 ]\n",
      " [-0.3066031  -0.8125703 ]\n",
      " [ 0.17552876  0.20531525]\n",
      " [ 0.46036276 -0.9824355 ]\n",
      " [ 0.7840633  -0.36151376]\n",
      " [-0.9769557  -0.5014232 ]\n",
      " [ 0.0421957  -0.9580529 ]\n",
      " [ 0.7947024  -0.83843553]\n",
      " [-0.12932773  0.23554125]\n",
      " [ 0.87562245  0.61975557]\n",
      " [ 0.40600955  0.3899816 ]\n",
      " [ 0.46748978  0.01722096]\n",
      " [-0.76243323 -0.5959809 ]\n",
      " [ 0.344559   -0.40898314]\n",
      " [ 0.20394814 -0.13207474]\n",
      " [-0.30470318 -0.17232549]\n",
      " [-0.25508827 -0.9067778 ]\n",
      " [ 0.12928618 -0.06528208]\n",
      " [-0.8718086   0.692577  ]\n",
      " [ 0.20895721  0.8350543 ]\n",
      " [-0.59421384 -0.37906262]\n",
      " [-0.9872785   0.24843574]\n",
      " [-0.95844686 -0.25100577]\n",
      " [ 0.7675444   0.12017481]\n",
      " [ 0.02202701  0.27473736]\n",
      " [ 0.76561576 -0.5609353 ]\n",
      " [ 0.6880044  -0.39859936]\n",
      " [-0.5060409  -0.61713696]\n",
      " [ 0.09621151 -0.61984664]\n",
      " [-0.48034918  0.0223651 ]\n",
      " [ 0.47096765  0.15818906]\n",
      " [-0.73843604 -0.82052755]\n",
      " [ 0.75795144 -0.14768179]\n",
      " [-0.3543221   0.85121286]\n",
      " [-0.11896499 -0.12087198]\n",
      " [ 0.430492   -0.8098561 ]\n",
      " [ 0.4494729  -0.8978741 ]\n",
      " [ 0.3787712   0.16369843]\n",
      " [-0.15475355  0.03371148]\n",
      " [-0.8796995   0.39932606]\n",
      " [-0.94736445 -0.22914737]\n",
      " [-0.35620052  0.9185817 ]\n",
      " [-0.27058294 -0.84762704]\n",
      " [ 0.6929848  -0.523789  ]\n",
      " [ 0.66670686 -0.7478261 ]\n",
      " [-0.8642427   0.41674653]\n",
      " [-0.2846697  -0.48174948]\n",
      " [ 0.43134108 -0.74874246]\n",
      " [ 0.42068666 -0.33716407]\n",
      " [-0.6865377  -0.9619516 ]\n",
      " [-0.46916774  0.6992187 ]\n",
      " [-0.25028697 -0.49135303]\n",
      " [ 0.8341406  -0.6590634 ]\n",
      " [ 0.2760078   0.8464601 ]\n",
      " [-0.48991215 -0.72483104]\n",
      " [ 0.99822295 -0.5734534 ]\n",
      " [ 0.04537713 -0.92879516]\n",
      " [ 0.5119865  -0.107526  ]\n",
      " [ 0.8035961   0.8636979 ]\n",
      " [-0.15636018  0.57750183]\n",
      " [ 0.16985519  0.4817477 ]\n",
      " [-0.36742973 -0.66878045]\n",
      " [-0.5656885   0.01235439]\n",
      " [-0.76511437 -0.20158157]\n",
      " [-0.5720074   0.42065355]\n",
      " [ 0.34186456  0.8894067 ]\n",
      " [-0.29020873  0.12761733]\n",
      " [ 0.20575857  0.43169606]\n",
      " [ 0.540188    0.5065747 ]\n",
      " [ 0.0470756  -0.9222062 ]\n",
      " [-0.81490564 -0.7440521 ]\n",
      " [ 0.36442485 -0.49791998]\n",
      " [-0.24188797 -0.6302165 ]\n",
      " [-0.48839092 -0.32993954]\n",
      " [ 0.7715855  -0.758715  ]\n",
      " [-0.52977026  0.05056761]\n",
      " [-0.9838134  -0.28677455]\n",
      " [ 0.01753882 -0.7982767 ]\n",
      " [-0.49251238 -0.20817466]\n",
      " [-0.6872525   0.2090179 ]\n",
      " [-0.13911931 -0.9187584 ]\n",
      " [ 0.9037015  -0.18702564]\n",
      " [-0.80683434  0.02210946]\n",
      " [ 0.6883231  -0.7840747 ]\n",
      " [ 0.7287115  -0.16326103]\n",
      " [ 0.8389232  -0.81420285]\n",
      " [-0.15086211  0.73775476]\n",
      " [ 0.54430544  0.7660459 ]\n",
      " [ 0.02515759 -0.7655198 ]\n",
      " [ 0.01349902  0.5270359 ]\n",
      " [ 0.8552949   0.2019457 ]\n",
      " [ 0.8262202   0.5200854 ]\n",
      " [-0.44357666  0.21553408]\n",
      " [-0.85225284 -0.3097569 ]\n",
      " [-0.75898284 -0.9254102 ]\n",
      " [-0.64952254  0.65001756]\n",
      " [-0.29102147 -0.2240152 ]\n",
      " [ 0.12403972  0.48329082]\n",
      " [ 0.06511962 -0.8993853 ]\n",
      " [ 0.45745417  0.06387457]\n",
      " [ 0.06533268 -0.69945204]\n",
      " [ 0.6109334   0.21313405]\n",
      " [ 0.8981682  -0.9750519 ]\n",
      " [ 0.4831804   0.59327537]\n",
      " [ 0.7535473  -0.0170558 ]\n",
      " [-0.6827179   0.9263948 ]\n",
      " [-0.15985593 -0.70422834]\n",
      " [ 0.34339014  0.3797234 ]\n",
      " [ 0.764584   -0.37034678]\n",
      " [-0.38566682  0.7855867 ]\n",
      " [-0.92270076  0.10130167]\n",
      " [-0.7807263  -0.9983152 ]\n",
      " [-0.560135    0.761079  ]\n",
      " [-0.23793943 -0.24125856]\n",
      " [ 0.62439346 -0.30422744]\n",
      " [-0.5085401  -0.67820376]\n",
      " [-0.67239124  0.83270663]\n",
      " [ 0.5781684   0.6486762 ]\n",
      " [ 0.7522898   0.7851505 ]\n",
      " [ 0.7603357  -0.8470728 ]]\n",
      "[ 1.  1.  1. -1. -1. -1.  1. -1.  1.  1. -1.  1. -1. -1.  1.  1.  1. -1.\n",
      "  1.  1.  1.  1.  1.  1. -1.  1.  1.  1.  1. -1.  1.  1. -1. -1. -1. -1.\n",
      " -1.  1.  1.  1.  1.  1. -1. -1.  1. -1.  1. -1.  1.  1. -1. -1.  1. -1.\n",
      " -1.  1. -1.  1.  1.  1. -1. -1.  1.  1.  1. -1. -1. -1.  1. -1.  1.  1.\n",
      "  1.  1. -1. -1. -1.  1.  1. -1.  1.  1.  1.  1.  1. -1. -1. -1. -1. -1.\n",
      " -1. -1. -1.  1.  1.  1. -1.  1. -1. -1.  1. -1. -1.  1. -1. -1.  1.  1.\n",
      "  1.  1.  1.  1.  1. -1.  1. -1.  1.  1.  1.  1. -1. -1. -1.  1.  1.  1.\n",
      " -1.  1.  1.  1.  1. -1.  1. -1. -1.  1. -1. -1. -1. -1. -1. -1. -1.  1.\n",
      " -1. -1. -1.  1. -1.  1.  1.  1. -1. -1. -1.  1.  1.  1.  1. -1. -1.  1.\n",
      "  1. -1.  1.  1. -1.  1.  1.  1.  1.  1. -1.  1. -1.  1.  1. -1. -1. -1.\n",
      " -1.  1. -1.  1. -1. -1.  1.  1.  1.  1. -1. -1.  1. -1. -1. -1.  1. -1.\n",
      " -1. -1. -1. -1. -1.  1. -1.  1.  1.  1.  1.  1.  1. -1. -1. -1.  1.  1.\n",
      " -1. -1.  1. -1. -1. -1. -1. -1. -1.  1. -1. -1. -1. -1. -1. -1. -1. -1.\n",
      " -1. -1.  1. -1. -1.  1.  1.  1.  1.  1.  1. -1.  1. -1. -1.  1.  1.  1.\n",
      "  1.  1.  1.  1. -1.  1.  1.  1. -1. -1.  1.  1. -1.  1.  1.  1. -1.  1.\n",
      " -1. -1. -1. -1.  1.  1. -1. -1.  1.  1.  1.  1. -1.  1. -1. -1. -1.  1.\n",
      " -1.  1.  1. -1. -1.  1.  1.  1.  1. -1. -1. -1. -1. -1. -1.  1.  1. -1.\n",
      "  1.  1. -1.  1.  1.  1. -1. -1.  1. -1.  1. -1.  1. -1. -1.  1. -1.  1.\n",
      "  1.  1. -1.  1.  1.  1.  1. -1.  1.  1.  1. -1. -1. -1.  1. -1.  1. -1.\n",
      "  1.  1.  1.  1.  1.  1.  1.  1.  1. -1.  1. -1. -1. -1. -1.  1.  1.  1.\n",
      " -1. -1. -1. -1.  1. -1.  1. -1. -1. -1.  1.  1. -1. -1. -1.  1.  1.  1.\n",
      "  1.  1. -1. -1.  1. -1. -1. -1.  1. -1.  1. -1. -1.  1. -1. -1.  1.  1.\n",
      "  1.  1. -1.  1. -1.  1.  1.  1.  1. -1. -1. -1.  1.  1.  1. -1.  1. -1.\n",
      "  1. -1. -1.  1.  1. -1.  1. -1.  1. -1. -1. -1.  1. -1. -1. -1. -1.  1.\n",
      " -1.  1. -1. -1.  1.  1. -1.  1.  1. -1.  1.  1. -1. -1.  1.  1. -1.  1.\n",
      " -1. -1.  1. -1. -1.  1.  1.  1.  1.  1.  1.  1.  1. -1.  1. -1.  1. -1.\n",
      "  1.  1.  1. -1.  1. -1. -1. -1.  1.  1.  1.  1.  1.  1. -1. -1.  1. -1.\n",
      "  1. -1. -1. -1.  1. -1. -1.  1. -1. -1. -1. -1. -1. -1.]\n"
     ]
    }
   ],
   "source": [
    "print(X)\n",
    "print(Y)"
   ],
   "metadata": {
    "collapsed": false
   }
  },
  {
   "cell_type": "code",
   "execution_count": 57,
   "outputs": [],
   "source": [
    "arr_size = len(X)\n",
    "dimension = len(X[0])\n",
    "learning_rate = ctypes.c_float(0.001)\n",
    "epoch = 1000000\n",
    "X_flat = X.flatten()"
   ],
   "metadata": {
    "collapsed": false
   }
  },
  {
   "cell_type": "code",
   "execution_count": 58,
   "outputs": [],
   "source": [
    "LP_c_float = ctypes.POINTER(ctypes.c_float)\n",
    "x_to_predict = (ctypes.c_float * len(X_flat))(*X_flat)\n",
    "x_to_predict_ptr = ctypes.cast(x_to_predict, LP_c_float)"
   ],
   "metadata": {
    "collapsed": false
   }
  },
  {
   "cell_type": "code",
   "execution_count": 59,
   "outputs": [],
   "source": [
    "LP_c_float = ctypes.POINTER(ctypes.c_float)\n",
    "y_to_predict = (ctypes.c_float * len(Y))(*Y)\n",
    "y_to_predict_ptr = ctypes.cast(y_to_predict, LP_c_float)"
   ],
   "metadata": {
    "collapsed": false
   }
  },
  {
   "cell_type": "code",
   "execution_count": 60,
   "outputs": [],
   "source": [
    "my_lib.linear_model_training.argtypes = [\n",
    "    ctypes.POINTER(ctypes.c_float),\n",
    "    ctypes.POINTER(ctypes.c_float),\n",
    "    ctypes.POINTER(ctypes.c_float),\n",
    "    ctypes.c_int32,\n",
    "    ctypes.c_int32,\n",
    "    ctypes.c_float,\n",
    "    ctypes.c_int32,\n",
    "]\n",
    "my_lib.linear_model_training.restype = ctypes.POINTER(ctypes.c_float)"
   ],
   "metadata": {
    "collapsed": false
   }
  },
  {
   "cell_type": "code",
   "execution_count": 61,
   "outputs": [
    {
     "name": "stdout",
     "output_type": "stream",
     "text": [
      "[-19.16163  -19.905575   9.329877]\n",
      "<class 'ctypes.wintypes.LP_c_float'>\n"
     ]
    }
   ],
   "source": [
    "linear_model_training_ptr = my_lib.linear_model_training(\n",
    "    w_array_ptr,  # pointeur vers le résultat du vecteur W random\n",
    "    y_to_predict_ptr,  # pointeur vers les résultats labellisés pour entrainer le modele\n",
    "    x_to_predict_ptr,  # points qui ont permis de labeliser le vecteur d'au dessus\n",
    "    arr_size,  # array size\n",
    "    dimension,  # dimension de chaque vecteur\n",
    "    learning_rate,  # learning rate\n",
    "    epoch,  # nombre de fois où l'on passe sur le data set\n",
    ")\n",
    "trained_linear_model = np.ctypeslib.as_array(\n",
    "    linear_model_training_ptr, ((dimension + 1),)\n",
    ")\n",
    "print(trained_linear_model)\n",
    "print(type(linear_model_training_ptr))"
   ],
   "metadata": {
    "collapsed": false
   }
  },
  {
   "cell_type": "code",
   "execution_count": 62,
   "outputs": [],
   "source": [
    "my_lib.predict_linear_model.argtypes = [\n",
    "    ctypes.POINTER(ctypes.c_float),\n",
    "    ctypes.POINTER(ctypes.c_float),\n",
    "    ctypes.c_int32,\n",
    "    ctypes.c_int32,\n",
    "]\n",
    "my_lib.predict_linear_model.restype = ctypes.POINTER(ctypes.c_float)"
   ],
   "metadata": {
    "collapsed": false
   }
  },
  {
   "cell_type": "code",
   "execution_count": 63,
   "outputs": [],
   "source": [
    "predicted_labels = []\n",
    "predicted_x1 = []\n",
    "predicted_x2 = []\n",
    "for x1 in range(-100 , 100) :\n",
    "  for x2 in range(-100 , 100) :\n",
    "    predicted_x1.append(x1/100)\n",
    "    predicted_x2.append(x2/100)\n",
    "    predicted_labels.append('pink' if x1/100 * trained_linear_model[1] + x2/100 * trained_linear_model[2] + trained_linear_model[0] >= 0 else 'lightskyblue')"
   ],
   "metadata": {
    "collapsed": false
   }
  },
  {
   "cell_type": "code",
   "metadata": {
    "id": "zVBAE2fY2MpO",
    "colab": {
     "base_uri": "https://localhost:8080/",
     "height": 287
    },
    "outputId": "46b434a6-2fd8-492e-c080-14b0d0028968"
   },
   "source": [
    "plt.scatter(predicted_x1, predicted_x2, c=predicted_labels)\n",
    "plt.scatter(np.array(list(map(lambda elt : elt[1], filter(lambda c: Y[c[0]] == 1, enumerate(X)))))[:,0], np.array(list(map(lambda elt : elt[1], filter(lambda c: Y[c[0]] == 1, enumerate(X)))))[:,1], color='blue')\n",
    "plt.scatter(np.array(list(map(lambda elt : elt[1], filter(lambda c: Y[c[0]] == -1, enumerate(X)))))[:,0], np.array(list(map(lambda elt : elt[1], filter(lambda c: Y[c[0]] == -1, enumerate(X)))))[:,1], color='red')\n",
    "plt.show()\n",
    "plt.clf()"
   ],
   "execution_count": 64,
   "outputs": [
    {
     "data": {
      "text/plain": "<Figure size 640x480 with 1 Axes>",
      "image/png": "[encoded data removed]"
     },
     "metadata": {},
     "output_type": "display_data"
    },
    {
     "data": {
      "text/plain": "<Figure size 640x480 with 0 Axes>"
     },
     "metadata": {},
     "output_type": "display_data"
    }
   ]
  },
  {
   "cell_type": "code",
   "execution_count": 65,
   "outputs": [],
   "source": [
    "my_lib.delete_float_array(linear_model_training_ptr, (dimension + 1))\n",
    "del linear_model_training_ptr"
   ],
   "metadata": {
    "collapsed": false
   }
  },
  {
   "cell_type": "markdown",
   "metadata": {
    "id": "v4hhnYge928d"
   },
   "source": [
    "### Multi Linear 3 classes :\n",
    "        Linear Model x3 : OK\n",
    "        MLP (2, 3)      : OK"
   ]
  },
  {
   "cell_type": "code",
   "execution_count": 66,
   "outputs": [
    {
     "name": "stdout",
     "output_type": "stream",
     "text": [
      "[0.83138835 0.7541803  0.13224995]\n"
     ]
    }
   ],
   "source": [
    "my_lib = ctypes.CDLL(r\"..\\rust_lib\\target\\debug\\rust_lib.dll\")\n",
    "\n",
    "my_lib.delete_float_array.argtypes = [\n",
    "    ctypes.POINTER(ctypes.c_float),\n",
    "    ctypes.c_int32,\n",
    "]\n",
    "\n",
    "my_lib.generate_random_w.argtypes = [ctypes.c_int32]\n",
    "my_lib.generate_random_w.restype = ctypes.POINTER(ctypes.c_float)\n",
    "\n",
    "my_lib.delete_float_array.restype = None\n",
    "\n",
    "dimension = 2\n",
    "\n",
    "w_array_ptr = my_lib.generate_random_w(dimension)\n",
    "\n",
    "w_array = np.ctypeslib.as_array(w_array_ptr, ((dimension + 1),))\n",
    "\n",
    "print(w_array)"
   ],
   "metadata": {
    "collapsed": false
   }
  },
  {
   "cell_type": "code",
   "metadata": {
    "id": "IvhvqkDw928q",
    "colab": {
     "base_uri": "https://localhost:8080/"
    },
    "outputId": "be06d0ab-dfcb-4469-f009-7cad5672caab"
   },
   "source": [
    "X = np.random.random((500, 2)) * 2.0 - 1.0\n",
    "Y = np.array([[1, 0, 0] if -p[0] - p[1] - 0.5 > 0 and p[1] < 0 and p[0] - p[1] - 0.5 < 0 else\n",
    "              [0, 1, 0] if -p[0] - p[1] - 0.5 < 0 and p[1] > 0 and p[0] - p[1] - 0.5 < 0 else\n",
    "              [0, 0, 1] if -p[0] - p[1] - 0.5 < 0 and p[1] < 0 and p[0] - p[1] - 0.5 > 0 else\n",
    "              [0, 0, 0]for p in X])\n",
    "\n",
    "X = X[[not np.all(arr == [0, 0, 0]) for arr in Y]]\n",
    "Y = Y[[not np.all(arr == [0, 0, 0]) for arr in Y]]\n",
    "\n",
    "Y_1 = [x[0] for x in Y]\n",
    "Y_2 = [x[1] for x in Y]\n",
    "Y_3 = [x[2] for x in Y]\n",
    "\n",
    "\n",
    "X = np.array(X, dtype=ctypes.c_float)\n",
    "Y = np.array(Y, dtype=ctypes.c_float)\n",
    "Y_1 = np.array(Y_1, dtype=ctypes.c_float)\n",
    "Y_2 = np.array(Y_2, dtype=ctypes.c_float)\n",
    "Y_3 = np.array(Y_3, dtype=ctypes.c_float)\n",
    "\n",
    "X_plot = np.random.random((500, 2)) * 2.0 - 1.0\n",
    "Y_plot = np.array([[1, 0, 0] if -p[0] - p[1] - 0.5 > 0 and p[1] < 0 and p[0] - p[1] - 0.5 < 0 else\n",
    "              [0, 1, 0] if -p[0] - p[1] - 0.5 < 0 and p[1] > 0 and p[0] - p[1] - 0.5 < 0 else\n",
    "              [0, 0, 1] if -p[0] - p[1] - 0.5 < 0 and p[1] < 0 and p[0] - p[1] - 0.5 > 0 else\n",
    "              [0, 0, 0]for p in X_plot])\n",
    "\n",
    "X_plot = X_plot[[not np.all(arr == [0, 0, 0]) for arr in Y_plot]]\n",
    "Y_plot = Y_plot[[not np.all(arr == [0, 0, 0]) for arr in Y_plot]]"
   ],
   "execution_count": 67,
   "outputs": []
  },
  {
   "cell_type": "code",
   "execution_count": 68,
   "outputs": [
    {
     "name": "stdout",
     "output_type": "stream",
     "text": [
      "[0. 0. 0. 0. 0. 0. 0. 1. 0. 0. 0. 0. 0. 0. 0. 0. 1. 0. 0. 0. 0. 0. 1. 0.\n",
      " 1. 1. 0. 0. 1. 0. 0. 0. 0. 0. 0. 0. 0. 0. 0. 0. 1. 0. 0. 0. 0. 0. 0. 1.\n",
      " 0. 0. 0. 1. 0. 0. 0. 0. 0. 1. 1. 1. 0. 0. 0. 0. 0. 0. 0. 0. 0. 1. 0. 0.\n",
      " 0. 0. 0. 1. 0. 0. 0. 0. 1. 0. 0. 0. 0. 1. 0. 0. 0. 1. 0. 0. 0. 0. 0. 0.\n",
      " 0. 0. 0. 0. 0. 1. 0. 1. 0. 1. 0. 0. 0. 0. 1. 1. 1. 0. 1. 0. 1. 1. 1. 0.\n",
      " 0. 0. 0. 0. 0. 0. 0. 0. 0. 0. 0. 0. 0. 0. 0. 0. 0. 0. 0. 1. 1. 0. 0. 0.\n",
      " 1. 0. 1. 0. 0. 0. 0. 0. 0. 1. 0. 0. 1. 0. 0. 0. 0. 0. 1. 0. 0. 0. 0. 0.\n",
      " 0. 1. 0. 1. 0. 0. 0. 0. 1. 0. 0. 1. 1. 0. 0. 0. 1. 0. 1. 0. 0. 0. 0. 0.\n",
      " 0. 0. 0. 1. 1. 0. 0. 0. 1. 0. 0. 0. 0. 0. 0. 0. 0. 0. 0. 0. 0. 0. 0. 0.\n",
      " 0. 0. 0. 0. 0. 1. 0. 0. 0. 0. 0. 1. 0. 0. 0. 1. 0. 0. 1. 1. 0. 0. 0. 0.\n",
      " 0. 1. 1. 0. 0. 0. 0. 0. 0. 0. 0. 0. 0. 1. 0. 0. 0. 1. 0. 1. 0. 0. 1. 0.\n",
      " 0. 0. 0. 0. 0. 0. 0. 0. 0. 0. 0. 0. 0. 1. 0. 0. 0. 0. 0. 0. 1. 0. 0. 1.\n",
      " 0. 0. 0. 0. 0. 0. 0. 0. 1. 0. 1. 0. 0. 0. 0. 0. 1. 1. 1. 0. 0. 0. 0. 1.\n",
      " 1. 0. 0. 0. 0. 1. 0. 0. 0. 0. 0. 1. 0. 0. 0. 0. 0. 0. 1. 0. 1. 1. 0. 0.\n",
      " 0. 1. 0. 0. 0. 0. 1. 1. 0. 0. 0. 0. 0. 0. 1. 0. 0. 0. 0. 0. 0. 0. 0. 1.\n",
      " 0. 1. 1. 0. 0. 0. 0. 1. 1. 0. 0. 1. 0. 0. 0. 0. 0. 1. 1. 0. 0. 0. 0. 0.\n",
      " 0. 0. 1. 0. 0. 0. 0. 0. 0. 1. 0. 0. 0. 1. 1. 1. 0. 0. 0. 0. 0. 0. 0. 0.\n",
      " 1. 0.]\n"
     ]
    }
   ],
   "source": [
    "print(Y_1)"
   ],
   "metadata": {
    "collapsed": false
   }
  },
  {
   "cell_type": "code",
   "execution_count": 69,
   "outputs": [
    {
     "name": "stdout",
     "output_type": "stream",
     "text": [
      "[1. 0. 1. 1. 1. 1. 1. 0. 1. 0. 1. 1. 1. 1. 1. 1. 0. 1. 1. 1. 0. 1. 0. 0.\n",
      " 0. 0. 1. 1. 0. 1. 1. 1. 1. 0. 0. 0. 1. 1. 1. 0. 0. 1. 1. 0. 1. 0. 1. 0.\n",
      " 1. 1. 0. 0. 0. 1. 1. 1. 1. 0. 0. 0. 1. 0. 1. 1. 1. 1. 1. 0. 1. 0. 1. 1.\n",
      " 1. 0. 0. 0. 1. 0. 1. 1. 0. 0. 1. 1. 1. 0. 1. 1. 1. 0. 1. 0. 1. 0. 0. 1.\n",
      " 1. 1. 1. 1. 0. 0. 1. 0. 1. 0. 1. 0. 0. 1. 0. 0. 0. 1. 0. 1. 0. 0. 0. 1.\n",
      " 1. 1. 0. 1. 1. 0. 1. 1. 0. 1. 1. 1. 1. 0. 1. 0. 1. 1. 1. 0. 0. 0. 0. 1.\n",
      " 0. 1. 0. 0. 1. 1. 1. 0. 1. 0. 0. 1. 0. 1. 1. 0. 1. 0. 0. 1. 0. 1. 1. 0.\n",
      " 1. 0. 1. 0. 1. 0. 0. 1. 0. 0. 1. 0. 0. 1. 0. 1. 0. 1. 0. 1. 1. 1. 1. 1.\n",
      " 1. 0. 1. 0. 0. 0. 0. 0. 0. 0. 1. 0. 1. 1. 1. 0. 0. 0. 1. 1. 1. 1. 1. 1.\n",
      " 1. 1. 0. 1. 0. 0. 1. 1. 0. 1. 1. 0. 1. 1. 1. 0. 0. 0. 0. 0. 0. 1. 1. 1.\n",
      " 0. 0. 0. 1. 0. 1. 1. 1. 1. 1. 0. 1. 1. 0. 1. 1. 1. 0. 1. 0. 0. 1. 0. 1.\n",
      " 1. 1. 1. 1. 1. 1. 1. 1. 0. 1. 1. 0. 1. 0. 1. 1. 1. 1. 1. 1. 0. 1. 0. 0.\n",
      " 1. 1. 1. 1. 1. 1. 0. 0. 0. 0. 0. 1. 1. 1. 0. 0. 0. 0. 0. 1. 0. 1. 1. 0.\n",
      " 0. 1. 1. 1. 0. 0. 0. 0. 1. 1. 1. 0. 0. 1. 0. 0. 1. 1. 0. 0. 0. 0. 1. 0.\n",
      " 1. 0. 0. 1. 1. 0. 0. 0. 1. 1. 1. 1. 1. 1. 0. 1. 0. 1. 1. 0. 1. 1. 0. 0.\n",
      " 0. 0. 0. 0. 0. 0. 1. 0. 0. 1. 1. 0. 0. 1. 0. 1. 0. 0. 0. 1. 1. 0. 0. 1.\n",
      " 1. 1. 0. 1. 1. 1. 1. 1. 0. 0. 1. 1. 0. 0. 0. 0. 0. 0. 1. 1. 1. 0. 1. 1.\n",
      " 0. 1.]\n"
     ]
    }
   ],
   "source": [
    "print(Y_2)"
   ],
   "metadata": {
    "collapsed": false
   }
  },
  {
   "cell_type": "code",
   "execution_count": 70,
   "outputs": [
    {
     "name": "stdout",
     "output_type": "stream",
     "text": [
      "[[ 1.82343483e-01  4.80847329e-01]\n",
      " [ 4.88890529e-01 -4.59039629e-01]\n",
      " [-5.44795275e-01  8.91931877e-02]\n",
      " [ 1.02410071e-01  6.15771472e-01]\n",
      " [ 3.63667190e-01  9.50972199e-01]\n",
      " [-8.40410829e-01  7.14218736e-01]\n",
      " [ 1.66724265e-01  2.23569676e-01]\n",
      " [-2.71146983e-01 -2.78495491e-01]\n",
      " [ 1.91976011e-01  2.51567632e-01]\n",
      " [ 3.86502475e-01 -4.97750491e-01]\n",
      " [-8.16509128e-01  5.48035979e-01]\n",
      " [ 2.22886607e-01  7.53757298e-01]\n",
      " [ 9.40043628e-01  6.61249697e-01]\n",
      " [ 5.71199656e-01  6.25364721e-01]\n",
      " [ 8.59199762e-01  9.45371568e-01]\n",
      " [-3.91207308e-01  2.88976252e-01]\n",
      " [-7.97587574e-01 -4.67127562e-01]\n",
      " [ 5.99841356e-01  9.14568424e-01]\n",
      " [ 1.96428895e-02  4.37732726e-01]\n",
      " [-5.41355252e-01  8.39003444e-01]\n",
      " [ 9.54808950e-01 -9.25350547e-01]\n",
      " [ 3.50702107e-01  3.05350751e-01]\n",
      " [-6.67143404e-01 -9.92348313e-01]\n",
      " [ 2.71052450e-01 -6.15161955e-01]\n",
      " [-6.72492683e-01 -8.77743125e-01]\n",
      " [-6.83741748e-01 -4.10132617e-01]\n",
      " [ 7.57109165e-01  3.92805219e-01]\n",
      " [ 3.95191073e-01  1.36497945e-01]\n",
      " [-9.15666640e-01 -5.72229981e-01]\n",
      " [-2.48684928e-01  5.52282751e-01]\n",
      " [-2.28191987e-01  8.62052962e-02]\n",
      " [ 6.78690672e-02  9.24567580e-01]\n",
      " [ 8.03948581e-01  6.97998643e-01]\n",
      " [ 9.25449193e-01 -4.88380641e-02]\n",
      " [ 9.84476745e-01 -4.85767931e-01]\n",
      " [ 6.72661066e-01 -3.28971088e-01]\n",
      " [ 4.75697964e-01  3.68293002e-02]\n",
      " [ 3.04313481e-01  3.18582654e-01]\n",
      " [ 5.97901106e-01  8.88280272e-01]\n",
      " [ 8.47005129e-01 -3.68911743e-01]\n",
      " [-3.60609144e-01 -6.83429897e-01]\n",
      " [ 7.67370224e-01  3.07638705e-01]\n",
      " [-1.89921647e-01  4.85341579e-01]\n",
      " [ 7.94665933e-01 -6.83250487e-01]\n",
      " [ 7.49385655e-01  6.49772108e-01]\n",
      " [ 1.04318276e-01 -5.60201347e-01]\n",
      " [-4.66115512e-02  5.63620210e-01]\n",
      " [-7.91824877e-01 -9.65601683e-01]\n",
      " [-4.40407276e-01  1.78585559e-01]\n",
      " [-2.96022654e-01  9.57159460e-01]\n",
      " [ 5.67615390e-01 -8.49274218e-01]\n",
      " [-7.78942525e-01 -2.09589273e-01]\n",
      " [ 4.22106743e-01 -8.02235484e-01]\n",
      " [-1.94025502e-01  2.40857705e-01]\n",
      " [ 3.79693329e-01  9.76108462e-02]\n",
      " [ 1.45282716e-01  1.21096419e-02]\n",
      " [ 1.48004711e-01  2.57755257e-02]\n",
      " [-5.69222689e-01 -2.34118357e-01]\n",
      " [-7.07061172e-01 -7.06691027e-01]\n",
      " [-7.63139486e-01 -8.80057275e-01]\n",
      " [ 3.02140284e-02  8.32877696e-01]\n",
      " [ 7.33196557e-01 -6.67439401e-02]\n",
      " [ 2.50970781e-01  9.20890927e-01]\n",
      " [-6.53220594e-01  1.56321883e-01]\n",
      " [-2.16420904e-01  5.53765714e-01]\n",
      " [ 4.24489826e-01  4.68624175e-01]\n",
      " [-7.13720381e-01  5.75181603e-01]\n",
      " [ 5.66834748e-01 -4.35295254e-01]\n",
      " [-6.10465892e-02  4.87616837e-01]\n",
      " [-7.61725381e-02 -4.67606187e-01]\n",
      " [-1.85276881e-01  2.60103315e-01]\n",
      " [-6.83803797e-01  8.14242899e-01]\n",
      " [-1.48011103e-01  5.07268488e-01]\n",
      " [ 9.40519691e-01 -3.74019653e-01]\n",
      " [ 5.93137145e-01 -4.31962224e-04]\n",
      " [-8.46123397e-01 -1.45749271e-01]\n",
      " [-5.31277120e-01  1.48525193e-01]\n",
      " [ 9.94637132e-01 -5.71740270e-01]\n",
      " [-4.19760821e-03  9.10524964e-01]\n",
      " [ 1.96648598e-01  8.91012967e-01]\n",
      " [-3.81660610e-01 -6.59243047e-01]\n",
      " [ 6.51138783e-01 -7.04673767e-01]\n",
      " [-4.89499897e-01  2.77597576e-01]\n",
      " [-8.84004653e-01  9.06294644e-01]\n",
      " [ 4.49204773e-01  9.44077969e-01]\n",
      " [-4.87683564e-01 -7.95638382e-01]\n",
      " [-7.08326995e-01  8.99942398e-01]\n",
      " [ 9.65258598e-01  5.77910423e-01]\n",
      " [ 6.25864267e-01  8.32737088e-01]\n",
      " [-8.52588415e-01 -8.74178588e-01]\n",
      " [ 1.62508771e-01  3.50391477e-01]\n",
      " [ 8.90480161e-01 -6.02144182e-01]\n",
      " [-3.88223410e-01  9.23997581e-01]\n",
      " [ 9.45759177e-01 -8.80299091e-01]\n",
      " [ 4.24645990e-01 -3.01463634e-01]\n",
      " [ 2.34456837e-01  3.83614659e-01]\n",
      " [ 8.26043606e-01  8.80346954e-01]\n",
      " [ 7.54489839e-01  8.25288296e-01]\n",
      " [ 4.31949139e-01  2.96163615e-02]\n",
      " [-8.87767017e-01  4.24293727e-01]\n",
      " [ 9.34649348e-01 -3.38571548e-01]\n",
      " [-9.95224357e-01 -5.69850087e-01]\n",
      " [ 8.99538305e-03  3.21519703e-01]\n",
      " [-4.52583462e-01 -5.54141045e-01]\n",
      " [ 1.75433338e-01  8.80773306e-01]\n",
      " [-6.42291248e-01 -7.60307848e-01]\n",
      " [ 6.64949894e-01  9.46750700e-01]\n",
      " [ 8.50460827e-01 -3.79738986e-01]\n",
      " [ 6.13761127e-01 -1.37840450e-01]\n",
      " [ 3.45269561e-01  1.44899637e-01]\n",
      " [-6.93462312e-01 -4.83894348e-01]\n",
      " [-5.19200802e-01 -4.52402115e-01]\n",
      " [-4.37518328e-01 -3.60993057e-01]\n",
      " [-1.17460489e-01  8.15975368e-01]\n",
      " [-6.92311883e-01 -2.03113526e-01]\n",
      " [-7.89264619e-01  4.37230736e-01]\n",
      " [-2.43008375e-01 -4.84512419e-01]\n",
      " [-1.38654843e-01 -4.54099894e-01]\n",
      " [-9.97562110e-01 -6.24905646e-01]\n",
      " [ 2.46186078e-01  6.55624628e-01]\n",
      " [ 7.02654362e-01  6.44562066e-01]\n",
      " [-8.06505755e-02  9.27686036e-01]\n",
      " [ 4.78657484e-01 -9.47693646e-01]\n",
      " [-6.72502160e-01  8.31621349e-01]\n",
      " [-3.91329169e-01  5.75503826e-01]\n",
      " [ 7.16364622e-01 -3.31435174e-01]\n",
      " [ 7.34787822e-01  3.18934858e-01]\n",
      " [-2.29628623e-01  3.39876264e-01]\n",
      " [ 5.34115195e-01 -5.12286695e-03]\n",
      " [ 3.05184722e-01  3.20332021e-01]\n",
      " [ 1.99497640e-01  3.79223257e-01]\n",
      " [-5.61049759e-01  1.06315129e-01]\n",
      " [-2.15777189e-01  3.16989310e-02]\n",
      " [ 9.86799836e-01 -3.01871728e-02]\n",
      " [ 8.00288916e-01  6.30046725e-01]\n",
      " [ 7.06244290e-01 -6.91807223e-03]\n",
      " [-1.39726982e-01  5.81913292e-01]\n",
      " [-7.59160876e-01  5.84483564e-01]\n",
      " [-9.11494941e-02  9.13614392e-01]\n",
      " [-7.91976690e-01 -8.31306338e-01]\n",
      " [-6.14475489e-01 -6.22447968e-01]\n",
      " [ 8.53392303e-01 -1.71637103e-01]\n",
      " [ 4.27941263e-01 -8.28443348e-01]\n",
      " [-6.82335019e-01  7.86668360e-01]\n",
      " [-5.20767510e-01 -8.74384403e-01]\n",
      " [ 8.72923672e-01  9.69128013e-01]\n",
      " [-8.55551183e-01 -8.33640173e-02]\n",
      " [ 6.10898793e-01 -7.82165766e-01]\n",
      " [-1.15625253e-02  6.06745422e-01]\n",
      " [ 5.53193927e-01  8.19584489e-01]\n",
      " [ 8.88055742e-01  9.66916263e-01]\n",
      " [ 6.95670187e-01 -7.22271428e-02]\n",
      " [ 5.16103089e-01  5.27307868e-01]\n",
      " [-4.24388856e-01 -1.09069847e-01]\n",
      " [ 3.48356187e-01 -5.93915105e-01]\n",
      " [ 5.01793802e-01  6.02342904e-01]\n",
      " [-6.60235524e-01 -7.38664389e-01]\n",
      " [ 3.01199973e-01  6.74079001e-01]\n",
      " [-7.81645894e-01  6.88227177e-01]\n",
      " [ 9.58587766e-01 -8.97979617e-01]\n",
      " [-1.89750239e-01  7.81763017e-01]\n",
      " [ 2.55348533e-01 -6.61173582e-01]\n",
      " [-8.29471171e-01 -4.76098925e-01]\n",
      " [-2.38697931e-01  6.52451694e-01]\n",
      " [ 4.28748369e-01 -4.22204822e-01]\n",
      " [ 8.80222201e-01  7.18774974e-01]\n",
      " [ 1.37409151e-01  4.02767122e-01]\n",
      " [ 9.90974367e-01 -2.59914577e-01]\n",
      " [ 4.80827957e-01  2.11000592e-01]\n",
      " [-9.32367563e-01 -4.26174343e-01]\n",
      " [ 2.06306458e-01  2.31528327e-01]\n",
      " [-6.26444340e-01 -3.56973745e-02]\n",
      " [ 4.22322243e-01  2.66485959e-01]\n",
      " [ 6.12743497e-01 -2.08964646e-01]\n",
      " [ 6.84341788e-01 -5.53380907e-01]\n",
      " [ 7.60153115e-01  5.02089918e-01]\n",
      " [-1.90585852e-01 -6.03107512e-01]\n",
      " [ 7.00856209e-01 -1.98760912e-01]\n",
      " [-1.86736975e-02  7.77728379e-01]\n",
      " [-9.94724691e-01 -9.87518847e-01]\n",
      " [-4.59683657e-01 -7.19097853e-01]\n",
      " [ 7.01647162e-01  5.32793999e-01]\n",
      " [ 5.27486980e-01 -8.25408101e-01]\n",
      " [-9.53150392e-01  7.00127482e-01]\n",
      " [-4.41627979e-01 -5.01310408e-01]\n",
      " [-8.12140226e-01  8.37693870e-01]\n",
      " [-8.27809453e-01 -5.45890570e-01]\n",
      " [ 1.19647816e-01  1.23460121e-01]\n",
      " [ 2.17675604e-02  7.95701206e-01]\n",
      " [-6.24554574e-01  8.21442604e-01]\n",
      " [-4.77117240e-01  8.06688368e-01]\n",
      " [ 6.20752692e-01  6.77454531e-01]\n",
      " [ 5.49974851e-02  7.67376423e-01]\n",
      " [ 6.54710233e-01 -2.69654632e-01]\n",
      " [-3.29430372e-01  5.80543220e-01]\n",
      " [-2.13930011e-01 -5.09651840e-01]\n",
      " [-9.84247684e-01 -8.69090021e-01]\n",
      " [ 8.85255262e-02 -4.78874296e-01]\n",
      " [ 9.08236802e-01 -9.97990668e-01]\n",
      " [ 4.91964966e-01 -1.40420720e-01]\n",
      " [-8.69845450e-01 -9.32097018e-01]\n",
      " [ 7.72831380e-01 -2.39667162e-01]\n",
      " [ 9.12387550e-01  9.14968848e-01]\n",
      " [ 7.21330404e-01 -9.32828963e-01]\n",
      " [-6.78450093e-02  6.98295295e-01]\n",
      " [-9.07939494e-01  8.99074614e-01]\n",
      " [ 1.81077957e-01  3.94059151e-01]\n",
      " [ 9.83798563e-01 -3.42546135e-01]\n",
      " [ 8.50510478e-01 -7.57356286e-01]\n",
      " [ 8.74355674e-01 -6.81648171e-03]\n",
      " [-7.91188627e-02  8.16589773e-01]\n",
      " [ 3.17742258e-01  6.90973341e-01]\n",
      " [-1.09558262e-01  2.66878903e-01]\n",
      " [-7.88518507e-03  7.31357336e-01]\n",
      " [ 2.38007560e-01  7.55508125e-01]\n",
      " [ 2.64508948e-02  4.20100987e-01]\n",
      " [ 2.01697990e-01  8.88315976e-01]\n",
      " [-6.65229678e-01  3.12600881e-01]\n",
      " [ 6.23858452e-01 -9.90914762e-01]\n",
      " [-9.52085674e-01  4.69985157e-01]\n",
      " [ 8.83791983e-01 -6.63591385e-01]\n",
      " [-7.08439529e-01 -1.35936990e-01]\n",
      " [-5.16872644e-01  6.76029980e-01]\n",
      " [ 3.97511363e-01  3.71080786e-01]\n",
      " [ 8.02898705e-01 -4.25258219e-01]\n",
      " [-7.11095154e-01  3.55150104e-01]\n",
      " [ 6.80193126e-01  9.07418966e-01]\n",
      " [-4.25668538e-01 -5.56488574e-01]\n",
      " [ 2.03948557e-01  3.16209644e-01]\n",
      " [-6.06455542e-02  7.51490414e-01]\n",
      " [ 9.13482189e-01  5.01567662e-01]\n",
      " [-1.20140523e-01 -5.46193838e-01]\n",
      " [ 2.30638996e-01 -3.15032035e-01]\n",
      " [ 6.21451914e-01 -7.49339998e-01]\n",
      " [-6.72527671e-01 -1.31492704e-01]\n",
      " [-3.14947188e-01 -2.71592170e-01]\n",
      " [ 9.43611681e-01 -8.92139855e-04]\n",
      " [-6.35847330e-01  3.74264568e-01]\n",
      " [ 3.57537329e-01  7.43342519e-01]\n",
      " [ 3.09880823e-01  1.01406105e-01]\n",
      " [ 7.94933259e-01 -9.12206352e-01]\n",
      " [-5.29951572e-01 -3.87932360e-01]\n",
      " [-1.55100226e-01 -5.96992016e-01]\n",
      " [ 7.90695623e-02  9.39164162e-01]\n",
      " [ 8.29713464e-01 -1.58938900e-01]\n",
      " [-5.88627756e-01  9.44125175e-01]\n",
      " [-4.79695886e-01  8.39383423e-01]\n",
      " [ 8.83981943e-01  4.13708121e-01]\n",
      " [-6.33416653e-01  6.94744587e-01]\n",
      " [ 4.51957762e-01  5.51824868e-01]\n",
      " [ 9.92047310e-01 -7.73673356e-01]\n",
      " [ 6.46235943e-01  6.38486147e-01]\n",
      " [ 8.94424319e-01  8.88552606e-01]\n",
      " [-6.91466630e-01 -9.71883416e-01]\n",
      " [-1.42564967e-01  9.37279105e-01]\n",
      " [-6.39816821e-01  4.96004641e-01]\n",
      " [-5.20256996e-01  5.35801113e-01]\n",
      " [-5.21260083e-01 -2.96145618e-01]\n",
      " [ 8.01877439e-01  5.68715572e-01]\n",
      " [-4.12868589e-01 -7.68415093e-01]\n",
      " [ 8.83845389e-01 -4.25442681e-02]\n",
      " [-6.91262782e-01  2.25593045e-01]\n",
      " [-3.24994117e-01 -6.14103198e-01]\n",
      " [ 4.65432229e-03  4.58842725e-01]\n",
      " [-3.56060624e-01  4.47848707e-01]\n",
      " [ 6.89171195e-01  9.98967707e-01]\n",
      " [-4.57027316e-01  4.74114418e-01]\n",
      " [-6.96089149e-01  3.12012881e-01]\n",
      " [ 7.00923383e-01  9.94203985e-01]\n",
      " [-9.03833449e-01  7.51953006e-01]\n",
      " [ 5.71750328e-02  9.38337326e-01]\n",
      " [ 3.37981313e-01  2.91979671e-01]\n",
      " [ 6.61919117e-01 -7.26081610e-01]\n",
      " [ 4.19784784e-01  5.45590878e-01]\n",
      " [ 5.38457297e-02  5.24761021e-01]\n",
      " [ 7.97689438e-01 -4.71519560e-01]\n",
      " [ 1.15094498e-01  2.38440394e-01]\n",
      " [-8.38579416e-01 -8.79099250e-01]\n",
      " [ 7.26669848e-01  3.00961256e-01]\n",
      " [-7.95510352e-01  6.76296890e-01]\n",
      " [ 4.74636480e-02  6.94576576e-02]\n",
      " [-7.80780792e-01  4.72663075e-01]\n",
      " [-5.02663136e-01  7.53788710e-01]\n",
      " [ 5.10629900e-02  1.57746792e-01]\n",
      " [-8.76608670e-01 -3.25786084e-01]\n",
      " [ 2.89124072e-01  4.56512123e-01]\n",
      " [ 5.07677197e-01 -6.98669612e-01]\n",
      " [-3.22796494e-01 -2.46676952e-01]\n",
      " [-8.13052535e-01  4.79839593e-01]\n",
      " [ 7.53379464e-01  5.11586726e-01]\n",
      " [ 5.07428944e-01  2.52657205e-01]\n",
      " [ 2.73651063e-01  8.10690343e-01]\n",
      " [ 1.28201634e-01  5.65268815e-01]\n",
      " [ 7.25017905e-01  5.75114429e-01]\n",
      " [ 9.32854116e-01 -9.23355281e-01]\n",
      " [ 5.45820832e-01 -2.83129960e-01]\n",
      " [-3.08138520e-01 -3.89248163e-01]\n",
      " [ 6.05870605e-01 -4.30571973e-01]\n",
      " [-9.89155769e-01 -2.93603927e-01]\n",
      " [-9.14146677e-02  7.88587630e-01]\n",
      " [-1.20551847e-01  5.80837786e-01]\n",
      " [-2.50476390e-01  3.74967963e-01]\n",
      " [ 2.79345155e-01 -7.50864029e-01]\n",
      " [ 6.81759357e-01 -9.10969794e-01]\n",
      " [-5.48890233e-01 -7.95855343e-01]\n",
      " [-6.29674196e-01 -4.82850552e-01]\n",
      " [-6.26228511e-01 -1.46725863e-01]\n",
      " [-3.71883601e-01  2.61576146e-01]\n",
      " [ 8.34800899e-01 -6.99278593e-01]\n",
      " [ 5.93872547e-01  3.20178032e-01]\n",
      " [ 9.13397014e-01  8.39552522e-01]\n",
      " [-6.96043015e-01 -4.45843458e-01]\n",
      " [-3.43845278e-01 -3.97783190e-01]\n",
      " [ 7.46341646e-01  5.62241673e-01]\n",
      " [ 3.67827564e-02  5.75263262e-01]\n",
      " [-2.99017757e-01  6.12186193e-01]\n",
      " [ 5.99770308e-01 -6.69080734e-01]\n",
      " [-5.66589236e-01 -5.47621489e-01]\n",
      " [ 1.36214405e-01 -5.22593439e-01]\n",
      " [ 8.45999360e-01 -2.28780329e-01]\n",
      " [ 6.94568813e-01  2.74536043e-01]\n",
      " [-8.03710401e-01  4.68420655e-01]\n",
      " [ 2.38327309e-01  6.50656164e-01]\n",
      " [-9.05134082e-01 -9.68061090e-01]\n",
      " [ 7.72328258e-01 -8.53694141e-01]\n",
      " [-1.40685499e-01  4.15313601e-01]\n",
      " [ 7.98520625e-01 -7.51197338e-01]\n",
      " [ 8.77596200e-01 -1.90341339e-01]\n",
      " [ 5.85147701e-02  6.22214913e-01]\n",
      " [ 2.90923238e-01  1.39020950e-01]\n",
      " [-8.78351152e-01 -2.43400633e-01]\n",
      " [ 1.18095122e-01 -4.84893233e-01]\n",
      " [-3.50655198e-01 -3.54585797e-01]\n",
      " [-7.08373129e-01 -3.48445058e-01]\n",
      " [-6.12936199e-01  7.28479028e-01]\n",
      " [ 3.41319054e-01 -5.40190339e-01]\n",
      " [-3.83724719e-01  5.32164760e-02]\n",
      " [-1.31058291e-01 -5.98013461e-01]\n",
      " [ 8.71205628e-01 -5.09438574e-01]\n",
      " [ 7.54540086e-01  7.77113974e-01]\n",
      " [-7.74537623e-01  4.99708772e-01]\n",
      " [ 4.94399250e-01 -4.93735783e-02]\n",
      " [-6.31199300e-01 -2.91749269e-01]\n",
      " [-6.17052138e-01 -2.04706982e-01]\n",
      " [-8.14362228e-01  8.15664470e-01]\n",
      " [ 6.42307520e-01  9.88926232e-01]\n",
      " [-1.66044429e-01  8.76584888e-01]\n",
      " [ 3.48169535e-01  9.36797261e-01]\n",
      " [ 5.14543205e-02  8.50801528e-01]\n",
      " [ 1.94732621e-01  4.29158598e-01]\n",
      " [-3.13609838e-01 -5.35417259e-01]\n",
      " [-1.73860323e-02  4.65510599e-02]\n",
      " [ 5.49093544e-01 -9.60950792e-01]\n",
      " [-5.54760754e-01  8.98562670e-01]\n",
      " [-4.64155436e-01  7.54921436e-01]\n",
      " [ 5.24468124e-01 -2.29679137e-01]\n",
      " [ 3.77973884e-01  8.11555445e-01]\n",
      " [ 6.43798113e-01  6.13381505e-01]\n",
      " [ 5.17670989e-01 -1.84425667e-01]\n",
      " [-4.70556170e-02 -5.45954943e-01]\n",
      " [ 9.20638561e-01 -3.79550606e-01]\n",
      " [-5.54410040e-01 -3.40585560e-01]\n",
      " [-1.47794172e-01 -5.15503287e-01]\n",
      " [ 7.79390156e-01 -7.73164451e-01]\n",
      " [ 2.72130638e-01 -5.05270779e-01]\n",
      " [ 4.65843558e-01 -2.35810354e-01]\n",
      " [ 8.48671794e-01  6.56677842e-01]\n",
      " [-9.68609512e-01 -1.37374297e-01]\n",
      " [-5.24480402e-01 -6.47359610e-01]\n",
      " [ 7.68157065e-01  6.71385527e-01]\n",
      " [-4.08799946e-01  1.45898173e-02]\n",
      " [-3.56855243e-01 -1.90872192e-01]\n",
      " [ 9.36076760e-01 -4.55218881e-01]\n",
      " [ 5.56056082e-01  5.85796952e-01]\n",
      " [ 9.59270358e-01 -3.42845559e-01]\n",
      " [-7.99511433e-01  4.33222443e-01]\n",
      " [ 7.71399260e-01 -7.40110934e-01]\n",
      " [-6.35155618e-01 -3.72147083e-01]\n",
      " [-3.51926088e-01 -4.24314559e-01]\n",
      " [ 8.38501453e-01  8.67807448e-01]\n",
      " [-3.52474660e-01  3.02244574e-01]\n",
      " [ 9.95538831e-01 -8.24809313e-01]\n",
      " [ 5.88603556e-01 -2.48649389e-01]\n",
      " [ 1.54716633e-02  8.98450315e-01]\n",
      " [-4.13658440e-01  5.40689230e-01]\n",
      " [ 3.04608554e-01  5.87218702e-01]\n",
      " [-3.59092832e-01 -4.71427917e-01]\n",
      " [ 3.43410969e-01  2.31002018e-01]\n",
      " [ 6.51816487e-01  2.89165258e-01]\n",
      " [-6.75335348e-01  6.07351601e-01]\n",
      " [ 3.59133273e-01  7.93819010e-01]\n",
      " [-1.45059139e-01  7.38623083e-01]\n",
      " [ 3.91177535e-01 -2.52173007e-01]\n",
      " [-7.90137410e-01 -3.58577251e-01]\n",
      " [-3.90590608e-01  3.67648453e-01]\n",
      " [-5.74487388e-01  5.32778561e-01]\n",
      " [ 3.74046147e-01 -3.87216985e-01]\n",
      " [-7.51142144e-01 -4.24336381e-02]\n",
      " [-3.09151083e-01 -2.85642773e-01]\n",
      " [-9.97520030e-01 -6.24193072e-01]\n",
      " [ 6.22294903e-01 -8.88362586e-01]\n",
      " [ 2.81635135e-01 -2.67069101e-01]\n",
      " [-4.49449986e-01  3.74059342e-02]\n",
      " [-4.23148990e-01  9.16002035e-01]\n",
      " [ 3.93843383e-01  7.07796395e-01]\n",
      " [ 8.48309577e-01 -7.77374506e-02]\n",
      " [-5.58617711e-01  5.70411503e-01]\n",
      " [-1.59278288e-01  8.52159798e-01]\n",
      " [-6.02455378e-01 -8.25464189e-01]\n",
      " [-7.68277287e-01  4.09846067e-01]]\n",
      "<class 'numpy.ndarray'>\n"
     ]
    }
   ],
   "source": [
    "print(X)\n",
    "print(type(X))"
   ],
   "metadata": {
    "collapsed": false
   }
  },
  {
   "cell_type": "code",
   "execution_count": 71,
   "outputs": [],
   "source": [
    "arr_size = len(X)\n",
    "dimension = len(X[0])\n",
    "learning_rate = ctypes.c_float(0.01)\n",
    "epoch = 10000000\n",
    "X_flat = X.flatten()"
   ],
   "metadata": {
    "collapsed": false
   }
  },
  {
   "cell_type": "code",
   "execution_count": 72,
   "outputs": [
    {
     "name": "stdout",
     "output_type": "stream",
     "text": [
      "410\n",
      "2\n",
      "c_float(0.009999999776482582)\n",
      "10000000\n"
     ]
    }
   ],
   "source": [
    "print(len(X))\n",
    "print(dimension)\n",
    "print(learning_rate)\n",
    "print(epoch)\n",
    "#print(X_flat)"
   ],
   "metadata": {
    "collapsed": false
   }
  },
  {
   "cell_type": "code",
   "execution_count": 73,
   "outputs": [],
   "source": [
    "LP_c_float = ctypes.POINTER(ctypes.c_float)\n",
    "x_to_predict = (ctypes.c_float * len(X_flat))(*X_flat)\n",
    "x_to_predict_ptr = ctypes.cast(x_to_predict, LP_c_float)"
   ],
   "metadata": {
    "collapsed": false
   }
  },
  {
   "cell_type": "code",
   "execution_count": 74,
   "outputs": [],
   "source": [
    "LP_c_float = ctypes.POINTER(ctypes.c_float)\n",
    "y_1_to_predict = (ctypes.c_float * len(Y_1))(*Y_1)\n",
    "y_1_to_predict_ptr = ctypes.cast(y_1_to_predict, LP_c_float)"
   ],
   "metadata": {
    "collapsed": false
   }
  },
  {
   "cell_type": "code",
   "execution_count": 75,
   "outputs": [],
   "source": [
    "LP_c_float = ctypes.POINTER(ctypes.c_float)\n",
    "y_2_to_predict = (ctypes.c_float * len(Y_2))(*Y_2)\n",
    "y_2_to_predict_ptr = ctypes.cast(y_2_to_predict, LP_c_float)"
   ],
   "metadata": {
    "collapsed": false
   }
  },
  {
   "cell_type": "code",
   "execution_count": 76,
   "outputs": [],
   "source": [
    "LP_c_float = ctypes.POINTER(ctypes.c_float)\n",
    "y_3_to_predict = (ctypes.c_float * len(Y_3))(*Y_3)\n",
    "y_3_to_predict_ptr = ctypes.cast(y_3_to_predict, LP_c_float)"
   ],
   "metadata": {
    "collapsed": false
   }
  },
  {
   "cell_type": "code",
   "execution_count": 77,
   "outputs": [],
   "source": [
    "my_lib.linear_model_training.argtypes = [\n",
    "    ctypes.POINTER(ctypes.c_float),\n",
    "    ctypes.POINTER(ctypes.c_float),\n",
    "    ctypes.POINTER(ctypes.c_float),\n",
    "    ctypes.c_int32,\n",
    "    ctypes.c_int32,\n",
    "    ctypes.c_float,\n",
    "    ctypes.c_int32,\n",
    "]\n",
    "\n",
    "my_lib.linear_model_training.restype = ctypes.POINTER(ctypes.c_float)"
   ],
   "metadata": {
    "collapsed": false
   }
  },
  {
   "cell_type": "code",
   "execution_count": 78,
   "outputs": [
    {
     "name": "stdout",
     "output_type": "stream",
     "text": [
      "<class 'ctypes.wintypes.LP_c_float'>\n",
      "<class 'ctypes.wintypes.LP_c_float'>\n",
      "<class 'ctypes.wintypes.LP_c_float'>\n",
      "<class 'int'>\n",
      "<class 'int'>\n",
      "<class 'ctypes.c_float'>\n",
      "<class 'int'>\n"
     ]
    }
   ],
   "source": [
    "print(type(w_array_ptr))\n",
    "print(type(y_1_to_predict_ptr))\n",
    "print(type(x_to_predict_ptr))\n",
    "print(type(arr_size))\n",
    "print(type(dimension))\n",
    "print(type(learning_rate))\n",
    "print(type(epoch))"
   ],
   "metadata": {
    "collapsed": false
   }
  },
  {
   "cell_type": "code",
   "execution_count": 79,
   "outputs": [
    {
     "name": "stdout",
     "output_type": "stream",
     "text": [
      "[-0.05861113 -0.11044662 -0.11092111]\n",
      "<class 'ctypes.wintypes.LP_c_float'>\n"
     ]
    }
   ],
   "source": [
    "linear_model_training_ptr_1 = my_lib.linear_model_training(\n",
    "    w_array_ptr,  # pointeur vers le résultat du vecteur W random\n",
    "    y_1_to_predict_ptr,  # pointeur vers les résultats labellisés pour entrainer le modele\n",
    "    x_to_predict_ptr,  # points qui ont permis de labeliser le vecteur d'au dessus\n",
    "    arr_size,  # array size\n",
    "    dimension,  # dimension de chaque vecteur\n",
    "    learning_rate,  # learning rate\n",
    "    epoch,  # nombre de fois où l'on passe sur le data set\n",
    ")\n",
    "trained_linear_model_1 = np.ctypeslib.as_array(\n",
    "    linear_model_training_ptr_1, ((dimension + 1),)\n",
    ")\n",
    "print(trained_linear_model_1)\n",
    "print(type(linear_model_training_ptr_1))"
   ],
   "metadata": {
    "collapsed": false
   }
  },
  {
   "cell_type": "code",
   "execution_count": 80,
   "outputs": [
    {
     "name": "stdout",
     "output_type": "stream",
     "text": [
      "<class 'ctypes.wintypes.LP_c_float'>\n",
      "<class 'ctypes.wintypes.LP_c_float'>\n",
      "<class 'ctypes.wintypes.LP_c_float'>\n",
      "<class 'int'>\n",
      "<class 'int'>\n",
      "<class 'ctypes.c_float'>\n",
      "<class 'int'>\n"
     ]
    }
   ],
   "source": [
    "print(type(w_array_ptr))\n",
    "print(type(y_1_to_predict_ptr))\n",
    "print(type(x_to_predict_ptr))\n",
    "print(type(arr_size))\n",
    "print(type(dimension))\n",
    "print(type(learning_rate))\n",
    "print(type(epoch))"
   ],
   "metadata": {
    "collapsed": false
   }
  },
  {
   "cell_type": "code",
   "execution_count": 81,
   "outputs": [
    {
     "name": "stdout",
     "output_type": "stream",
     "text": [
      "[-0.0061087  0.0023798  1.1451648]\n",
      "<class 'ctypes.wintypes.LP_c_float'>\n"
     ]
    }
   ],
   "source": [
    "w_array_ptr = my_lib.generate_random_w(dimension)\n",
    "w_array = np.ctypeslib.as_array(w_array_ptr, ((dimension + 1),))\n",
    "linear_model_training_ptr_2 = my_lib.linear_model_training(\n",
    "    w_array_ptr,  # pointeur vers le résultat du vecteur W random\n",
    "    y_2_to_predict,  # pointeur vers les résultats labellisés pour entrainer le modele\n",
    "    x_to_predict_ptr,  # points qui ont permis de labeliser le vecteur d'au dessus\n",
    "    arr_size,  # array size\n",
    "    dimension,  # dimension de chaque vecteur\n",
    "    learning_rate,  # learning rate\n",
    "    epoch,  # nombre de fois où l'on passe sur le data set\n",
    ")\n",
    "trained_linear_model_2 = np.ctypeslib.as_array(\n",
    "    linear_model_training_ptr_2, ((dimension + 1),)\n",
    ")\n",
    "print(trained_linear_model_2)\n",
    "print(type(linear_model_training_ptr_2))"
   ],
   "metadata": {
    "collapsed": false
   }
  },
  {
   "cell_type": "code",
   "execution_count": 82,
   "outputs": [
    {
     "name": "stdout",
     "output_type": "stream",
     "text": [
      "[-0.00617664 -0.00530706  1.0588397 ]\n",
      "<class 'ctypes.wintypes.LP_c_float'>\n"
     ]
    }
   ],
   "source": [
    "w_array_ptr = my_lib.generate_random_w(dimension)\n",
    "w_array = np.ctypeslib.as_array(w_array_ptr, ((dimension + 1),))\n",
    "linear_model_training_ptr_3 = my_lib.linear_model_training(\n",
    "    w_array_ptr,  # pointeur vers le résultat du vecteur W random\n",
    "    y_2_to_predict,  # pointeur vers les résultats labellisés pour entrainer le modele\n",
    "    x_to_predict_ptr,  # points qui ont permis de labeliser le vecteur d'au dessus\n",
    "    arr_size,  # array size\n",
    "    dimension,  # dimension de chaque vecteur\n",
    "    learning_rate,  # learning rate\n",
    "    epoch,  # nombre de fois où l'on passe sur le data set\n",
    ")\n",
    "trained_linear_model_3 = np.ctypeslib.as_array(\n",
    "    linear_model_training_ptr_3, ((dimension + 1),)\n",
    ")\n",
    "print(trained_linear_model_3)\n",
    "print(type(linear_model_training_ptr_3))"
   ],
   "metadata": {
    "collapsed": false
   }
  },
  {
   "cell_type": "code",
   "execution_count": 83,
   "outputs": [],
   "source": [
    "my_lib.predict_linear_model.argtypes = [\n",
    "    ctypes.POINTER(ctypes.c_float),\n",
    "    ctypes.POINTER(ctypes.c_float),\n",
    "    ctypes.c_int32,\n",
    "    ctypes.c_int32,\n",
    "]\n",
    "my_lib.predict_linear_model.restype = ctypes.POINTER(ctypes.c_float)"
   ],
   "metadata": {
    "collapsed": false
   }
  },
  {
   "cell_type": "code",
   "execution_count": 84,
   "outputs": [],
   "source": [
    "predicted_labels_1 = []\n",
    "predicted_x1_1 = []\n",
    "predicted_x2_1 = []\n",
    "for x1 in range(-100 , 100) :\n",
    "  for x2 in range(-100 , 100) :\n",
    "    predicted_x1_1.append(x1/100)\n",
    "    predicted_x2_1.append(x2/100)\n",
    "    if x1/100 * trained_linear_model_1[1] + x2/100 * trained_linear_model_1[2] + trained_linear_model_1[0] >= 0:\n",
    "        predicted_labels_1.append('pink')\n",
    "    else : predicted_labels_1.append('white')\n",
    "\n",
    "predicted_labels_2 = []\n",
    "predicted_x1_2 = []\n",
    "predicted_x2_2 = []\n",
    "for x1 in range(-100 , 100) :\n",
    "  for x2 in range(-100 , 100) :\n",
    "    predicted_x1_2.append(x1/100)\n",
    "    predicted_x2_2.append(x2/100)\n",
    "    if x1/100 * trained_linear_model_2[1] + x2/100 * trained_linear_model_2[2] + trained_linear_model_2[0] >= 0:\n",
    "        predicted_labels_2.append('green')\n",
    "    else : predicted_labels_2.append('white')\n",
    "\n",
    "predicted_labels_3 = []\n",
    "predicted_x1_3 = []\n",
    "predicted_x2_3 = []\n",
    "for x1 in range(-100 , 100) :\n",
    "  for x2 in range(-100 , 100) :\n",
    "    predicted_x1_3.append(x1/100)\n",
    "    predicted_x2_3.append(x2/100)\n",
    "    if x1/100 * trained_linear_model_3[1] + x2/100 * trained_linear_model_3[2] + trained_linear_model_3[0] >= 0:\n",
    "        predicted_labels_3.append('blue')\n",
    "    else : predicted_labels_3.append('white')"
   ],
   "metadata": {
    "collapsed": false
   }
  },
  {
   "cell_type": "code",
   "execution_count": 85,
   "outputs": [],
   "source": [
    "# predicted_labs = []\n",
    "# predicted_x1 = []\n",
    "# predicted_x2 = []\n",
    "# for x1 in range(-100 , 100) :\n",
    "#   for x2 in range(-100 , 100) :\n",
    "#     predicted_x1.append(x1/100)\n",
    "#     predicted_x2.append(x2/100)\n",
    "#     if (x1/100 * trained_linear_model_1[1] + x2/100 * trained_linear_model_1[2] + trained_linear_model_1[0] >= 0)\\\n",
    "#             and (x1/100 * trained_linear_model_2[1] + x2/100 * trained_linear_model_2[2] + trained_linear_model_2[0] < 0)\\\n",
    "#             and (x1/100 * trained_linear_model_3[1] + x2/100 * trained_linear_model_3[2] + trained_linear_model_3[0] < 0):\n",
    "#         predicted_labs.append('aqua')\n",
    "#     elif (x1/100 * trained_linear_model_2[1] + x2/100 * trained_linear_model_2[2] + trained_linear_model_2[0] >= 0)\\\n",
    "#             and (x1/100 * trained_linear_model_1[1] + x2/100 * trained_linear_model_1[2] + trained_linear_model_1[0] < 0)\\\n",
    "#             and (x1/100 * trained_linear_model_3[1] + x2/100 * trained_linear_model_3[2] + trained_linear_model_3[0] < 0):\n",
    "#         predicted_labs.append('lightcoral')\n",
    "#     elif (x1/100 * trained_linear_model_3[1] + x2/100 * trained_linear_model_3[2] + trained_linear_model_3[0] >= 0)\\\n",
    "#             and (x1/100 * trained_linear_model_1[1] + x2/100 * trained_linear_model_1[2] + trained_linear_model_1[0] < 0)\\\n",
    "#             and (x1/100 * trained_linear_model_2[1] + x2/100 * trained_linear_model_2[2] + trained_linear_model_2[0] < 0):\n",
    "#         predicted_labs.append('chocolate')\n",
    "#     else :\n",
    "#         predicted_labs.append('limegreen')\n",
    "\n",
    "predicted_labs = []\n",
    "predicted_x1 = []\n",
    "predicted_x2 = []\n",
    "for x1 in range(-100 , 100) :\n",
    "  for x2 in range(-100 , 100) :\n",
    "    predicted_x1.append(x1/100)\n",
    "    predicted_x2.append(x2/100)\n",
    "    if (x1/100 * trained_linear_model_1[1] + x2/100 * trained_linear_model_1[2] + trained_linear_model_1[0] >= 0) :\n",
    "        predicted_labs.append('aqua')\n",
    "    elif (x1/100 * trained_linear_model_2[1] + x2/100 * trained_linear_model_2[2] + trained_linear_model_2[0] >= 0) :\n",
    "        predicted_labs.append('yellow')\n",
    "    elif (x1/100 * trained_linear_model_3[1] + x2/100 * trained_linear_model_3[2] + trained_linear_model_3[0] <= 0) :\n",
    "        predicted_labs.append('red')\n",
    "    else :\n",
    "        predicted_labs.append('magenta')"
   ],
   "metadata": {
    "collapsed": false
   }
  },
  {
   "cell_type": "code",
   "execution_count": 86,
   "outputs": [],
   "source": [
    "vec_to_predict = []\n",
    "for x1 in range(-100 , 100) :\n",
    "  for x2 in range(-100 , 100) :\n",
    "      vec_to_predict.append([x1, x2])\n",
    "vec_to_predict = np.array(vec_to_predict)"
   ],
   "metadata": {
    "collapsed": false
   }
  },
  {
   "cell_type": "code",
   "metadata": {
    "id": "4aqzcUlJ928s",
    "colab": {
     "base_uri": "https://localhost:8080/",
     "height": 287
    },
    "outputId": "71df307b-e9c9-4a2d-a942-b75e3a141e46"
   },
   "source": [
    "plt.scatter(predicted_x1, predicted_x2, c=predicted_labs)\n",
    "#plt.scatter((predicted_x1_1, predicted_x2_1),(predicted_x1_2, predicted_x2_2), (predicted_x1_3, predicted_x2_3), c=(predicted_labels_1,predicted_labels_2,predicted_labels_3))\n",
    "plt.scatter(np.array(list(map(lambda elt : elt[1], filter(lambda c: Y[c[0]][0] == 1, enumerate(X)))))[:,0], np.array(list(map(lambda elt : elt[1], filter(lambda c: Y[c[0]][0] == 1, enumerate(X)))))[:,1], color='blue')\n",
    "plt.scatter(np.array(list(map(lambda elt : elt[1], filter(lambda c: Y[c[0]][1] == 1, enumerate(X)))))[:,0], np.array(list(map(lambda elt : elt[1], filter(lambda c: Y[c[0]][1] == 1, enumerate(X)))))[:,1], color='red')\n",
    "plt.scatter(np.array(list(map(lambda elt : elt[1], filter(lambda c: Y[c[0]][2] == 1, enumerate(X)))))[:,0], np.array(list(map(lambda elt : elt[1], filter(lambda c: Y[c[0]][2] == 1, enumerate(X)))))[:,1], color='green')\n",
    "plt.show()\n",
    "plt.clf()"
   ],
   "execution_count": 87,
   "outputs": [
    {
     "data": {
      "text/plain": "<Figure size 640x480 with 1 Axes>",
      "image/png": "[encoded data removed]"
     },
     "metadata": {},
     "output_type": "display_data"
    },
    {
     "data": {
      "text/plain": "<Figure size 640x480 with 0 Axes>"
     },
     "metadata": {},
     "output_type": "display_data"
    }
   ]
  },
  {
   "cell_type": "code",
   "execution_count": 88,
   "outputs": [],
   "source": [
    "my_lib.delete_float_array(linear_model_training_ptr_1, (dimension + 1))\n",
    "my_lib.delete_float_array(linear_model_training_ptr_2, (dimension + 1))\n",
    "my_lib.delete_float_array(linear_model_training_ptr_3, (dimension + 1))\n",
    "del linear_model_training_ptr_1\n",
    "del linear_model_training_ptr_2\n",
    "del linear_model_training_ptr_3"
   ],
   "metadata": {
    "collapsed": false
   }
  },
  {
   "cell_type": "markdown",
   "metadata": {
    "id": "uKFBx2m066i2"
   },
   "source": [
    "### Multi Cross :\n",
    "        Linear Model x3 : KO\n",
    "        MLP (2, ?, ?, 3): OK"
   ]
  },
  {
   "cell_type": "code",
   "execution_count": 89,
   "outputs": [
    {
     "name": "stdout",
     "output_type": "stream",
     "text": [
      "[0.10313499 0.365232   0.61405003]\n"
     ]
    }
   ],
   "source": [
    "my_lib = ctypes.CDLL(r\"..\\rust_lib\\target\\debug\\rust_lib.dll\")\n",
    "\n",
    "my_lib.delete_float_array.argtypes = [\n",
    "    ctypes.POINTER(ctypes.c_float),\n",
    "    ctypes.c_int32,\n",
    "]\n",
    "\n",
    "my_lib.generate_random_w.argtypes = [ctypes.c_int32]\n",
    "my_lib.generate_random_w.restype = ctypes.POINTER(ctypes.c_float)\n",
    "\n",
    "my_lib.delete_float_array.restype = None\n",
    "\n",
    "dimension = 2\n",
    "\n",
    "w_array_ptr = my_lib.generate_random_w(dimension)\n",
    "\n",
    "w_array = np.ctypeslib.as_array(w_array_ptr, ((dimension + 1),))\n",
    "\n",
    "print(w_array)"
   ],
   "metadata": {
    "collapsed": false
   }
  },
  {
   "cell_type": "code",
   "metadata": {
    "id": "0ZE8OW-K66i5"
   },
   "source": [
    "X = np.random.random((1000, 2)) * 2.0 - 1.0\n",
    "Y = np.array([[1, 0, 0] if abs(p[0] % 0.5) <= 0.25 and abs(p[1] % 0.5) > 0.25 else [0, 1, 0] if abs(p[0] % 0.5) > 0.25 and abs(p[1] % 0.5) <= 0.25 else [0, 0, 1] for p in X])\n",
    "\n",
    "Y_1 = [x[0] for x in Y]\n",
    "Y_2 = [x[1] for x in Y]\n",
    "Y_3 = [x[2] for x in Y]\n",
    "\n",
    "X = np.array(X, dtype=ctypes.c_float)\n",
    "Y = np.array(Y, dtype=ctypes.c_float)\n",
    "Y_1 = np.array(Y_1, dtype=ctypes.c_float)\n",
    "Y_2 = np.array(Y_2, dtype=ctypes.c_float)\n",
    "Y_3 = np.array(Y_3, dtype=ctypes.c_float)\n",
    "\n",
    "X_plot = np.random.random((1000, 2)) * 2.0 - 1.0\n",
    "Y_plot = np.array([[1, 0, 0] if abs(p[0] % 0.5) <= 0.25 and abs(p[1] % 0.5) > 0.25 else [0, 1, 0] if abs(p[0] % 0.5) > 0.25 and abs(p[1] % 0.5) <= 0.25 else [0, 0, 1] for p in X])"
   ],
   "execution_count": 90,
   "outputs": []
  },
  {
   "cell_type": "code",
   "execution_count": 91,
   "outputs": [],
   "source": [
    "arr_size = len(X)\n",
    "dimension = len(X[0])\n",
    "learning_rate = ctypes.c_float(0.01)\n",
    "epoch = 10000000\n",
    "X_flat = X.flatten()"
   ],
   "metadata": {
    "collapsed": false
   }
  },
  {
   "cell_type": "code",
   "execution_count": 92,
   "outputs": [],
   "source": [
    "LP_c_float = ctypes.POINTER(ctypes.c_float)\n",
    "x_to_predict = (ctypes.c_float * len(X_flat))(*X_flat)\n",
    "x_to_predict_ptr = ctypes.cast(x_to_predict, LP_c_float)\n",
    "LP_c_float = ctypes.POINTER(ctypes.c_float)\n",
    "y_1_to_predict = (ctypes.c_float * len(Y_1))(*Y_1)\n",
    "y_1_to_predict_ptr = ctypes.cast(y_1_to_predict, LP_c_float)\n",
    "LP_c_float = ctypes.POINTER(ctypes.c_float)\n",
    "y_2_to_predict = (ctypes.c_float * len(Y_2))(*Y_2)\n",
    "y_2_to_predict_ptr = ctypes.cast(y_2_to_predict, LP_c_float)\n",
    "LP_c_float = ctypes.POINTER(ctypes.c_float)\n",
    "y_3_to_predict = (ctypes.c_float * len(Y_3))(*Y_3)\n",
    "y_3_to_predict_ptr = ctypes.cast(y_3_to_predict, LP_c_float)"
   ],
   "metadata": {
    "collapsed": false
   }
  },
  {
   "cell_type": "code",
   "execution_count": 93,
   "outputs": [],
   "source": [
    "my_lib.linear_model_training.argtypes = [\n",
    "    ctypes.POINTER(ctypes.c_float),\n",
    "    ctypes.POINTER(ctypes.c_float),\n",
    "    ctypes.POINTER(ctypes.c_float),\n",
    "    ctypes.c_int32,\n",
    "    ctypes.c_int32,\n",
    "    ctypes.c_float,\n",
    "    ctypes.c_int32,\n",
    "]\n",
    "\n",
    "my_lib.linear_model_training.restype = ctypes.POINTER(ctypes.c_float)"
   ],
   "metadata": {
    "collapsed": false
   }
  },
  {
   "cell_type": "code",
   "execution_count": 94,
   "outputs": [
    {
     "name": "stdout",
     "output_type": "stream",
     "text": [
      "[-0.006865   -0.00243688 -0.00159314]\n",
      "<class 'ctypes.wintypes.LP_c_float'>\n"
     ]
    }
   ],
   "source": [
    "linear_model_training_ptr_1 = my_lib.linear_model_training(\n",
    "    w_array_ptr,  # pointeur vers le résultat du vecteur W random\n",
    "    y_1_to_predict_ptr,  # pointeur vers les résultats labellisés pour entrainer le modele\n",
    "    x_to_predict_ptr,  # points qui ont permis de labeliser le vecteur d'au dessus\n",
    "    arr_size,  # array size\n",
    "    dimension,  # dimension de chaque vecteur\n",
    "    learning_rate,  # learning rate\n",
    "    epoch,  # nombre de fois où l'on passe sur le data set\n",
    ")\n",
    "trained_linear_model_1 = np.ctypeslib.as_array(\n",
    "    linear_model_training_ptr_1, ((dimension + 1),)\n",
    ")\n",
    "print(trained_linear_model_1)\n",
    "print(type(linear_model_training_ptr_1))"
   ],
   "metadata": {
    "collapsed": false
   }
  },
  {
   "cell_type": "code",
   "execution_count": 95,
   "outputs": [
    {
     "name": "stdout",
     "output_type": "stream",
     "text": [
      "[-0.00120789  0.00314028 -0.00481038]\n",
      "<class 'ctypes.wintypes.LP_c_float'>\n"
     ]
    }
   ],
   "source": [
    "w_array_ptr = my_lib.generate_random_w(dimension)\n",
    "w_array = np.ctypeslib.as_array(w_array_ptr, ((dimension + 1),))\n",
    "linear_model_training_ptr_2 = my_lib.linear_model_training(\n",
    "    w_array_ptr,  # pointeur vers le résultat du vecteur W random\n",
    "    y_2_to_predict,  # pointeur vers les résultats labellisés pour entrainer le modele\n",
    "    x_to_predict_ptr,  # points qui ont permis de labeliser le vecteur d'au dessus\n",
    "    arr_size,  # array size\n",
    "    dimension,  # dimension de chaque vecteur\n",
    "    learning_rate,  # learning rate\n",
    "    epoch,  # nombre de fois où l'on passe sur le data set\n",
    ")\n",
    "trained_linear_model_2 = np.ctypeslib.as_array(\n",
    "    linear_model_training_ptr_2, ((dimension + 1),)\n",
    ")\n",
    "print(trained_linear_model_2)\n",
    "print(type(linear_model_training_ptr_2))"
   ],
   "metadata": {
    "collapsed": false
   }
  },
  {
   "cell_type": "code",
   "execution_count": 96,
   "outputs": [
    {
     "name": "stdout",
     "output_type": "stream",
     "text": [
      "[-0.00660532 -0.00156209  0.00940701]\n",
      "<class 'ctypes.wintypes.LP_c_float'>\n"
     ]
    }
   ],
   "source": [
    "w_array_ptr = my_lib.generate_random_w(dimension)\n",
    "w_array = np.ctypeslib.as_array(w_array_ptr, ((dimension + 1),))\n",
    "linear_model_training_ptr_3 = my_lib.linear_model_training(\n",
    "    w_array_ptr,  # pointeur vers le résultat du vecteur W random\n",
    "    y_2_to_predict,  # pointeur vers les résultats labellisés pour entrainer le modele\n",
    "    x_to_predict_ptr,  # points qui ont permis de labeliser le vecteur d'au dessus\n",
    "    arr_size,  # array size\n",
    "    dimension,  # dimension de chaque vecteur\n",
    "    learning_rate,  # learning rate\n",
    "    epoch,  # nombre de fois où l'on passe sur le data set\n",
    ")\n",
    "trained_linear_model_3 = np.ctypeslib.as_array(\n",
    "    linear_model_training_ptr_3, ((dimension + 1),)\n",
    ")\n",
    "print(trained_linear_model_3)\n",
    "print(type(linear_model_training_ptr_3))"
   ],
   "metadata": {
    "collapsed": false
   }
  },
  {
   "cell_type": "code",
   "execution_count": 97,
   "outputs": [],
   "source": [
    "my_lib.predict_linear_model.argtypes = [\n",
    "    ctypes.POINTER(ctypes.c_float),\n",
    "    ctypes.POINTER(ctypes.c_float),\n",
    "    ctypes.c_int32,\n",
    "    ctypes.c_int32,\n",
    "]\n",
    "my_lib.predict_linear_model.restype = ctypes.POINTER(ctypes.c_float)"
   ],
   "metadata": {
    "collapsed": false
   }
  },
  {
   "cell_type": "code",
   "execution_count": 98,
   "outputs": [],
   "source": [
    "predicted_labs = []\n",
    "predicted_x1 = []\n",
    "predicted_x2 = []\n",
    "for x1 in range(-100 , 100) :\n",
    "  for x2 in range(-100 , 100) :\n",
    "    predicted_x1.append(x1/100)\n",
    "    predicted_x2.append(x2/100)\n",
    "    if (x1/100 * trained_linear_model_1[1] + x2/100 * trained_linear_model_1[2] + trained_linear_model_1[0] >= 0) :\n",
    "        predicted_labs.append('aqua')\n",
    "    elif (x1/100 * trained_linear_model_2[1] + x2/100 * trained_linear_model_2[2] + trained_linear_model_2[0] >= 0) :\n",
    "        predicted_labs.append('yellow')\n",
    "    elif (x1/100 * trained_linear_model_3[1] + x2/100 * trained_linear_model_3[2] + trained_linear_model_3[0] <= 0) :\n",
    "        predicted_labs.append('red')\n",
    "    else :\n",
    "        predicted_labs.append('magenta')"
   ],
   "metadata": {
    "collapsed": false
   }
  },
  {
   "cell_type": "code",
   "metadata": {
    "id": "55U95UMS66i6",
    "colab": {
     "base_uri": "https://localhost:8080/",
     "height": 287
    },
    "outputId": "f14df72f-c2c1-4498-9668-f91f29594b06"
   },
   "source": [
    "plt.scatter(predicted_x1, predicted_x2, c=predicted_labs)\n",
    "plt.scatter(np.array(list(map(lambda elt : elt[1], filter(lambda c: Y[c[0]][0] == 1, enumerate(X)))))[:,0], np.array(list(map(lambda elt : elt[1], filter(lambda c: Y[c[0]][0] == 1, enumerate(X)))))[:,1], color='blue')\n",
    "plt.scatter(np.array(list(map(lambda elt : elt[1], filter(lambda c: Y[c[0]][1] == 1, enumerate(X)))))[:,0], np.array(list(map(lambda elt : elt[1], filter(lambda c: Y[c[0]][1] == 1, enumerate(X)))))[:,1], color='red')\n",
    "plt.scatter(np.array(list(map(lambda elt : elt[1], filter(lambda c: Y[c[0]][2] == 1, enumerate(X)))))[:,0], np.array(list(map(lambda elt : elt[1], filter(lambda c: Y[c[0]][2] == 1, enumerate(X)))))[:,1], color='green')\n",
    "plt.show()\n",
    "plt.clf()"
   ],
   "execution_count": 99,
   "outputs": [
    {
     "data": {
      "text/plain": "<Figure size 640x480 with 1 Axes>",
      "image/png": "[encoded data removed]"
     },
     "metadata": {},
     "output_type": "display_data"
    },
    {
     "data": {
      "text/plain": "<Figure size 640x480 with 0 Axes>"
     },
     "metadata": {},
     "output_type": "display_data"
    }
   ]
  },
  {
   "cell_type": "code",
   "execution_count": null,
   "outputs": [],
   "source": [],
   "metadata": {
    "collapsed": false
   }
  }
 ]
}
