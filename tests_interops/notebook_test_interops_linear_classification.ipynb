{
 "nbformat": 4,
 "nbformat_minor": 0,
 "metadata": {
  "colab": {
   "provenance": []
  },
  "kernelspec": {
   "name": "python3",
   "display_name": "Python 3"
  }
 },
 "cells": [
  {
   "cell_type": "markdown",
   "metadata": {
    "id": "12URBFa0yULK"
   },
   "source": [
    "# Imports"
   ]
  },
  {
   "cell_type": "code",
   "metadata": {
    "id": "sXU99qaCyT8S"
   },
   "source": [
    "import matplotlib.pyplot as plt\n",
    "import numpy as np\n",
    "import ctypes\n",
    "import random"
   ],
   "execution_count": 1,
   "outputs": []
  },
  {
   "cell_type": "markdown",
   "metadata": {
    "id": "MlaksdgDxaA6"
   },
   "source": [
    "# Cas de tests, Modele linéaire"
   ]
  },
  {
   "cell_type": "markdown",
   "source": [
    "## Classification"
   ],
   "metadata": {
    "collapsed": false
   }
  },
  {
   "cell_type": "markdown",
   "metadata": {
    "id": "-d0zULTsyFhh"
   },
   "source": [
    "### Linear Simple :\n",
    "        Linear Model : OK\n",
    "        MLP (2, 1)   : OK"
   ]
  },
  {
   "cell_type": "code",
   "execution_count": 6,
   "outputs": [
    {
     "name": "stdout",
     "output_type": "stream",
     "text": [
      "[0.17088759 0.79051924 0.97548485]\n"
     ]
    }
   ],
   "source": [
    "my_lib = ctypes.CDLL(r\"..\\rust_lib\\target\\debug\\rust_lib.dll\")\n",
    "\n",
    "my_lib.delete_float_array.argtypes = [\n",
    "    ctypes.POINTER(ctypes.c_float),\n",
    "    ctypes.c_int32,\n",
    "]\n",
    "\n",
    "my_lib.generate_random_w.argtypes = [ctypes.c_int32]\n",
    "my_lib.generate_random_w.restype = ctypes.POINTER(ctypes.c_float)\n",
    "\n",
    "my_lib.delete_float_array.restype = None\n",
    "\n",
    "dimension = 2\n",
    "\n",
    "w_array_ptr = my_lib.generate_random_w(dimension)\n",
    "\n",
    "w_array = np.ctypeslib.as_array(w_array_ptr, ((dimension + 1),))\n",
    "\n",
    "print(w_array)"
   ],
   "metadata": {
    "collapsed": false
   }
  },
  {
   "cell_type": "code",
   "metadata": {
    "id": "EktwRhEMxV2A"
   },
   "source": [
    "X = np.array([\n",
    "      [1, 1],\n",
    "      [2, 3],\n",
    "      [3, 3]\n",
    "], dtype=ctypes.c_float)\n",
    "Y = np.array([\n",
    "      1,\n",
    "      -1,\n",
    "      -1\n",
    "], dtype=ctypes.c_float)\n",
    "\n",
    "print(type(X))\n",
    "print(Y)"
   ],
   "execution_count": 3,
   "outputs": [
    {
     "name": "stdout",
     "output_type": "stream",
     "text": [
      "<class 'numpy.ndarray'>\n",
      "[ 1. -1. -1.]\n"
     ]
    }
   ]
  },
  {
   "cell_type": "code",
   "execution_count": 4,
   "outputs": [],
   "source": [
    "X_plot = np.array([\n",
    "      [1, 1],\n",
    "      [2, 3],\n",
    "      [3, 3]\n",
    "])\n",
    "Y_plot = np.array([\n",
    "      1,\n",
    "      -1,\n",
    "      -1\n",
    "])"
   ],
   "metadata": {
    "collapsed": false
   }
  },
  {
   "cell_type": "code",
   "execution_count": 5,
   "outputs": [],
   "source": [
    "arr_size = len(X)"
   ],
   "metadata": {
    "collapsed": false
   }
  },
  {
   "cell_type": "code",
   "execution_count": 6,
   "outputs": [],
   "source": [
    "dimension = len(X[0])"
   ],
   "metadata": {
    "collapsed": false
   }
  },
  {
   "cell_type": "code",
   "execution_count": 7,
   "outputs": [],
   "source": [
    "learning_rate = ctypes.c_float(0.001)"
   ],
   "metadata": {
    "collapsed": false
   }
  },
  {
   "cell_type": "code",
   "execution_count": 8,
   "outputs": [],
   "source": [
    "epoch = 1000000"
   ],
   "metadata": {
    "collapsed": false
   }
  },
  {
   "cell_type": "code",
   "execution_count": 9,
   "outputs": [],
   "source": [
    "X_flat = X.flatten()"
   ],
   "metadata": {
    "collapsed": false
   }
  },
  {
   "cell_type": "code",
   "execution_count": 10,
   "outputs": [],
   "source": [
    "LP_c_float = ctypes.POINTER(ctypes.c_float)\n",
    "x_to_predict = (ctypes.c_float * len(X_flat))(*X_flat)\n",
    "x_to_predict_ptr = ctypes.cast(x_to_predict, LP_c_float)"
   ],
   "metadata": {
    "collapsed": false
   }
  },
  {
   "cell_type": "code",
   "execution_count": 11,
   "outputs": [],
   "source": [
    "LP_c_float = ctypes.POINTER(ctypes.c_float)\n",
    "y_to_predict = (ctypes.c_float * len(Y))(*Y)\n",
    "y_to_predict_ptr = ctypes.cast(y_to_predict, LP_c_float)"
   ],
   "metadata": {
    "collapsed": false
   }
  },
  {
   "cell_type": "code",
   "execution_count": 12,
   "outputs": [],
   "source": [
    "my_lib.linear_model_training.argtypes = [\n",
    "    ctypes.POINTER(ctypes.c_float),\n",
    "    ctypes.POINTER(ctypes.c_float),\n",
    "    ctypes.POINTER(ctypes.c_float),\n",
    "    ctypes.c_int32,\n",
    "    ctypes.c_int32,\n",
    "    ctypes.c_float,\n",
    "    ctypes.c_int32,\n",
    "]\n",
    "my_lib.linear_model_training.restype = ctypes.POINTER(ctypes.c_float)"
   ],
   "metadata": {
    "collapsed": false
   }
  },
  {
   "cell_type": "code",
   "execution_count": 13,
   "outputs": [
    {
     "name": "stdout",
     "output_type": "stream",
     "text": [
      "[ -335.32278 -1340.1364  -1682.8896 ]\n",
      "<class 'ctypes.wintypes.LP_c_float'>\n"
     ]
    }
   ],
   "source": [
    "linear_model_training_ptr = my_lib.linear_model_training(\n",
    "    w_array_ptr,  # pointeur vers le résultat du vecteur W random\n",
    "    y_to_predict_ptr,  # pointeur vers les résultats labellisés pour entrainer le modele\n",
    "    x_to_predict_ptr,  # points qui ont permis de labeliser le vecteur d'au dessus\n",
    "    arr_size,  # array size\n",
    "    dimension,  # dimension de chaque vecteur\n",
    "    learning_rate,  # learning rate\n",
    "    epoch,  # nombre de fois où l'on passe sur le data set\n",
    ")\n",
    "trained_linear_model = np.ctypeslib.as_array(\n",
    "    linear_model_training_ptr, ((dimension + 1),)\n",
    ")\n",
    "print(trained_linear_model)\n",
    "print(type(linear_model_training_ptr))"
   ],
   "metadata": {
    "collapsed": false
   }
  },
  {
   "cell_type": "code",
   "execution_count": 29,
   "outputs": [],
   "source": [
    "my_lib.predict_linear_model.argtypes = [\n",
    "    ctypes.POINTER(ctypes.c_float),\n",
    "    ctypes.POINTER(ctypes.c_float),\n",
    "    ctypes.c_int32,\n",
    "    ctypes.c_int32,\n",
    "]\n",
    "my_lib.predict_linear_model.restype = ctypes.POINTER(ctypes.c_float)"
   ],
   "metadata": {
    "collapsed": false
   }
  },
  {
   "cell_type": "code",
   "execution_count": 30,
   "outputs": [],
   "source": [
    "predicted_labels = []\n",
    "predicted_x1 = []\n",
    "predicted_x2 = []\n",
    "for x1 in range(100* min(X_plot[:, 0]),100* max(X_plot[:, 0])) :\n",
    "  for x2 in range(100*min(X_plot[:, 1]), 100*max(X_plot[:, 1])) :\n",
    "    predicted_x1.append(x1/100)\n",
    "    predicted_x2.append(x2/100)\n",
    "    predicted_labels.append('pink' if x1/100 * trained_linear_model[1] + x2/100 * trained_linear_model[2] + trained_linear_model[0] >= 0 else 'lightskyblue')"
   ],
   "metadata": {
    "collapsed": false
   }
  },
  {
   "cell_type": "code",
   "metadata": {
    "id": "OpWOCJ5ZyDMY",
    "colab": {
     "base_uri": "https://localhost:8080/",
     "height": 287
    },
    "outputId": "25884536-e733-4cee-b175-79c147b7c927"
   },
   "source": [
    "plt.scatter(predicted_x1, predicted_x2, c=predicted_labels)\n",
    "plt.scatter(X[0, 0], X[0, 1], color='blue')\n",
    "plt.scatter(X[1:3,0], X[1:3,1], color='red')\n",
    "plt.show()\n",
    "plt.clf()"
   ],
   "execution_count": 31,
   "outputs": [
    {
     "data": {
      "text/plain": "<Figure size 640x480 with 1 Axes>",
      "image/png": "[encoded data removed]"
     },
     "metadata": {},
     "output_type": "display_data"
    },
    {
     "data": {
      "text/plain": "<Figure size 640x480 with 0 Axes>"
     },
     "metadata": {},
     "output_type": "display_data"
    }
   ]
  },
  {
   "cell_type": "code",
   "execution_count": 17,
   "outputs": [],
   "source": [
    "my_lib.delete_float_array(linear_model_training_ptr, (dimension + 1))\n",
    "del linear_model_training_ptr"
   ],
   "metadata": {
    "collapsed": false
   }
  },
  {
   "cell_type": "markdown",
   "metadata": {
    "id": "7v8KFue-zmCv"
   },
   "source": [
    "### Linear Multiple :\n",
    "        Linear Model : OK\n",
    "        MLP (2, 1)   : OK"
   ]
  },
  {
   "cell_type": "code",
   "execution_count": 18,
   "outputs": [
    {
     "name": "stdout",
     "output_type": "stream",
     "text": [
      "[0.45347118 0.2046771  0.1388284 ]\n"
     ]
    }
   ],
   "source": [
    "my_lib = ctypes.CDLL(r\"..\\rust_lib\\target\\debug\\rust_lib.dll\")\n",
    "\n",
    "my_lib.delete_float_array.argtypes = [\n",
    "    ctypes.POINTER(ctypes.c_float),\n",
    "    ctypes.c_int32,\n",
    "]\n",
    "\n",
    "my_lib.generate_random_w.argtypes = [ctypes.c_int32]\n",
    "my_lib.generate_random_w.restype = ctypes.POINTER(ctypes.c_float)\n",
    "\n",
    "my_lib.delete_float_array.restype = None\n",
    "\n",
    "dimension = 2\n",
    "\n",
    "w_array_ptr = my_lib.generate_random_w(dimension)\n",
    "\n",
    "w_array = np.ctypeslib.as_array(w_array_ptr, ((dimension + 1),))\n",
    "\n",
    "print(w_array)"
   ],
   "metadata": {
    "collapsed": false
   }
  },
  {
   "cell_type": "code",
   "metadata": {
    "id": "hZlnpb-qzmCw"
   },
   "source": [
    "X = np.concatenate([np.random.random((50,2)) * 0.9 + np.array([1, 1]), np.random.random((50,2)) * 0.9 + np.array([2, 2])], dtype=ctypes.c_float)\n",
    "Y = np.concatenate([np.ones((50, 1)), np.ones((50, 1)) * -1.0], dtype=ctypes.c_float)\n",
    "\n",
    "X_plot = np.concatenate([np.random.random((50,2)) * 0.9 + np.array([1, 1]), np.random.random((50,2)) * 0.9 + np.array([2, 2])])\n",
    "Y_plot = np.concatenate([np.ones((50, 1)), np.ones((50, 1)) * -1.0])"
   ],
   "execution_count": 19,
   "outputs": []
  },
  {
   "cell_type": "code",
   "execution_count": 20,
   "outputs": [],
   "source": [
    "arr_size = len(X)\n",
    "dimension = len(X[0])\n",
    "learning_rate = ctypes.c_float(0.001)\n",
    "epoch = 1000000\n",
    "X_flat = X.flatten()"
   ],
   "metadata": {
    "collapsed": false
   }
  },
  {
   "cell_type": "code",
   "execution_count": 21,
   "outputs": [],
   "source": [
    "LP_c_float = ctypes.POINTER(ctypes.c_float)\n",
    "x_to_predict = (ctypes.c_float * len(X_flat))(*X_flat)\n",
    "x_to_predict_ptr = ctypes.cast(x_to_predict, LP_c_float)"
   ],
   "metadata": {
    "collapsed": false
   }
  },
  {
   "cell_type": "code",
   "execution_count": 22,
   "outputs": [],
   "source": [
    "LP_c_float = ctypes.POINTER(ctypes.c_float)\n",
    "y_to_predict = (ctypes.c_float * len(Y))(*Y)\n",
    "y_to_predict_ptr = ctypes.cast(y_to_predict, LP_c_float)"
   ],
   "metadata": {
    "collapsed": false
   }
  },
  {
   "cell_type": "code",
   "execution_count": 23,
   "outputs": [],
   "source": [
    "my_lib.linear_model_training.argtypes = [\n",
    "    ctypes.POINTER(ctypes.c_float),\n",
    "    ctypes.POINTER(ctypes.c_float),\n",
    "    ctypes.POINTER(ctypes.c_float),\n",
    "    ctypes.c_int32,\n",
    "    ctypes.c_int32,\n",
    "    ctypes.c_float,\n",
    "    ctypes.c_int32,\n",
    "]\n",
    "my_lib.linear_model_training.restype = ctypes.POINTER(ctypes.c_float)"
   ],
   "metadata": {
    "collapsed": false
   }
  },
  {
   "cell_type": "code",
   "execution_count": 24,
   "outputs": [
    {
     "name": "stdout",
     "output_type": "stream",
     "text": [
      "[ 0.34747097 -0.06333676 -0.11083758]\n",
      "<class 'ctypes.wintypes.LP_c_float'>\n"
     ]
    }
   ],
   "source": [
    "linear_model_training_ptr = my_lib.linear_model_training(\n",
    "    w_array_ptr,  # pointeur vers le résultat du vecteur W random\n",
    "    y_to_predict_ptr,  # pointeur vers les résultats labellisés pour entrainer le modele\n",
    "    x_to_predict_ptr,  # points qui ont permis de labeliser le vecteur d'au dessus\n",
    "    arr_size,  # array size\n",
    "    dimension,  # dimension de chaque vecteur\n",
    "    learning_rate,  # learning rate\n",
    "    epoch,  # nombre de fois où l'on passe sur le data set\n",
    ")\n",
    "trained_linear_model = np.ctypeslib.as_array(\n",
    "    linear_model_training_ptr, ((dimension + 1),)\n",
    ")\n",
    "print(trained_linear_model)\n",
    "print(type(linear_model_training_ptr))"
   ],
   "metadata": {
    "collapsed": false
   }
  },
  {
   "cell_type": "code",
   "execution_count": 25,
   "outputs": [],
   "source": [
    "my_lib.predict_linear_model.argtypes = [\n",
    "    ctypes.POINTER(ctypes.c_float),\n",
    "    ctypes.POINTER(ctypes.c_float),\n",
    "    ctypes.c_int32,\n",
    "    ctypes.c_int32,\n",
    "]\n",
    "my_lib.predict_linear_model.restype = ctypes.POINTER(ctypes.c_float)"
   ],
   "metadata": {
    "collapsed": false
   }
  },
  {
   "cell_type": "code",
   "execution_count": 26,
   "outputs": [],
   "source": [
    "predicted_labels = []\n",
    "predicted_x1 = []\n",
    "predicted_x2 = []\n",
    "for x1 in range(100 , 300) :\n",
    "  for x2 in range(100 , 300) :\n",
    "    predicted_x1.append(x1/100)\n",
    "    predicted_x2.append(x2/100)\n",
    "    predicted_labels.append('pink' if x1/100 * trained_linear_model[1] + x2/100 * trained_linear_model[2] + trained_linear_model[0] >= 0 else 'lightskyblue')"
   ],
   "metadata": {
    "collapsed": false
   }
  },
  {
   "cell_type": "code",
   "metadata": {
    "id": "a6e8GdL_zmCx",
    "colab": {
     "base_uri": "https://localhost:8080/",
     "height": 282
    },
    "outputId": "10b1a13c-51b3-4b33-930b-541bb01f159f"
   },
   "source": [
    "plt.scatter(predicted_x1, predicted_x2, c=predicted_labels)\n",
    "plt.scatter(X[0:50, 0], X[0:50, 1], color='blue')\n",
    "plt.scatter(X[50:100,0], X[50:100,1], color='red')\n",
    "plt.show()\n",
    "plt.clf()"
   ],
   "execution_count": 27,
   "outputs": [
    {
     "data": {
      "text/plain": "<Figure size 640x480 with 1 Axes>",
      "image/png": "[encoded data removed]"
     },
     "metadata": {},
     "output_type": "display_data"
    },
    {
     "data": {
      "text/plain": "<Figure size 640x480 with 0 Axes>"
     },
     "metadata": {},
     "output_type": "display_data"
    }
   ]
  },
  {
   "cell_type": "code",
   "execution_count": 28,
   "outputs": [],
   "source": [
    "my_lib.delete_float_array(linear_model_training_ptr, (dimension + 1))\n",
    "del linear_model_training_ptr"
   ],
   "metadata": {
    "collapsed": false
   }
  },
  {
   "cell_type": "markdown",
   "metadata": {
    "id": "gZlONmsp1T_W"
   },
   "source": [
    "### XOR :\n",
    "        Linear Model    : KO\n",
    "        MLP (2, 2, 1)   : OK"
   ]
  },
  {
   "cell_type": "code",
   "execution_count": 29,
   "outputs": [
    {
     "name": "stdout",
     "output_type": "stream",
     "text": [
      "[0.27822053 0.12390649 0.6218244 ]\n"
     ]
    }
   ],
   "source": [
    "my_lib = ctypes.CDLL(r\"..\\rust_lib\\target\\debug\\rust_lib.dll\")\n",
    "\n",
    "my_lib.delete_float_array.argtypes = [\n",
    "    ctypes.POINTER(ctypes.c_float),\n",
    "    ctypes.c_int32,\n",
    "]\n",
    "\n",
    "my_lib.generate_random_w.argtypes = [ctypes.c_int32]\n",
    "my_lib.generate_random_w.restype = ctypes.POINTER(ctypes.c_float)\n",
    "\n",
    "my_lib.delete_float_array.restype = None\n",
    "\n",
    "dimension = 2\n",
    "\n",
    "w_array_ptr = my_lib.generate_random_w(dimension)\n",
    "\n",
    "w_array = np.ctypeslib.as_array(w_array_ptr, ((dimension + 1),))\n",
    "\n",
    "print(w_array)"
   ],
   "metadata": {
    "collapsed": false
   }
  },
  {
   "cell_type": "code",
   "metadata": {
    "id": "673wfC9U1T_W"
   },
   "source": [
    "X = np.array([[1, 0], [0, 1], [0, 0], [1, 1]], dtype= ctypes.c_float)\n",
    "Y = np.array([1, 1, -1, -1], dtype= ctypes.c_float)\n",
    "\n",
    "X_plot = np.array([[1, 0], [0, 1], [0, 0], [1, 1]])\n",
    "Y_plot = np.array([1, 1, -1, -1])"
   ],
   "execution_count": 30,
   "outputs": []
  },
  {
   "cell_type": "code",
   "execution_count": 31,
   "outputs": [],
   "source": [
    "arr_size = len(X)\n",
    "dimension = len(X[0])\n",
    "learning_rate = ctypes.c_float(0.001)\n",
    "epoch = 1000000\n",
    "X_flat = X.flatten()"
   ],
   "metadata": {
    "collapsed": false
   }
  },
  {
   "cell_type": "code",
   "execution_count": 32,
   "outputs": [],
   "source": [
    "LP_c_float = ctypes.POINTER(ctypes.c_float)\n",
    "x_to_predict = (ctypes.c_float * len(X_flat))(*X_flat)\n",
    "x_to_predict_ptr = ctypes.cast(x_to_predict, LP_c_float)"
   ],
   "metadata": {
    "collapsed": false
   }
  },
  {
   "cell_type": "code",
   "execution_count": 33,
   "outputs": [],
   "source": [
    "LP_c_float = ctypes.POINTER(ctypes.c_float)\n",
    "y_to_predict = (ctypes.c_float * len(Y))(*Y)\n",
    "y_to_predict_ptr = ctypes.cast(y_to_predict, LP_c_float)"
   ],
   "metadata": {
    "collapsed": false
   }
  },
  {
   "cell_type": "code",
   "execution_count": 34,
   "outputs": [],
   "source": [
    "my_lib.linear_model_training.argtypes = [\n",
    "    ctypes.POINTER(ctypes.c_float),\n",
    "    ctypes.POINTER(ctypes.c_float),\n",
    "    ctypes.POINTER(ctypes.c_float),\n",
    "    ctypes.c_int32,\n",
    "    ctypes.c_int32,\n",
    "    ctypes.c_float,\n",
    "    ctypes.c_int32,\n",
    "]\n",
    "my_lib.linear_model_training.restype = ctypes.POINTER(ctypes.c_float)"
   ],
   "metadata": {
    "collapsed": false
   }
  },
  {
   "cell_type": "code",
   "execution_count": 35,
   "outputs": [
    {
     "name": "stdout",
     "output_type": "stream",
     "text": [
      "[-1.7796759e-03 -9.3413983e-05  1.8252623e-03]\n",
      "<class 'ctypes.wintypes.LP_c_float'>\n"
     ]
    }
   ],
   "source": [
    "linear_model_training_ptr = my_lib.linear_model_training(\n",
    "    w_array_ptr,  # pointeur vers le résultat du vecteur W random\n",
    "    y_to_predict_ptr,  # pointeur vers les résultats labellisés pour entrainer le modele\n",
    "    x_to_predict_ptr,  # points qui ont permis de labeliser le vecteur d'au dessus\n",
    "    arr_size,  # array size\n",
    "    dimension,  # dimension de chaque vecteur\n",
    "    learning_rate,  # learning rate\n",
    "    epoch,  # nombre de fois où l'on passe sur le data set\n",
    ")\n",
    "trained_linear_model = np.ctypeslib.as_array(\n",
    "    linear_model_training_ptr, ((dimension + 1),)\n",
    ")\n",
    "print(trained_linear_model)\n",
    "print(type(linear_model_training_ptr))"
   ],
   "metadata": {
    "collapsed": false
   }
  },
  {
   "cell_type": "code",
   "execution_count": 36,
   "outputs": [],
   "source": [
    "my_lib.predict_linear_model.argtypes = [\n",
    "    ctypes.POINTER(ctypes.c_float),\n",
    "    ctypes.POINTER(ctypes.c_float),\n",
    "    ctypes.c_int32,\n",
    "    ctypes.c_int32,\n",
    "]\n",
    "my_lib.predict_linear_model.restype = ctypes.POINTER(ctypes.c_float)"
   ],
   "metadata": {
    "collapsed": false
   }
  },
  {
   "cell_type": "code",
   "execution_count": 37,
   "outputs": [],
   "source": [
    "predicted_labels = []\n",
    "predicted_x1 = []\n",
    "predicted_x2 = []\n",
    "for x1 in range(0 , 100) :\n",
    "  for x2 in range(0 , 100) :\n",
    "    predicted_x1.append(x1/100)\n",
    "    predicted_x2.append(x2/100)\n",
    "    predicted_labels.append('pink' if x1/100 * trained_linear_model[1] + x2/100 * trained_linear_model[2] + trained_linear_model[0] >= 0 else 'lightskyblue')"
   ],
   "metadata": {
    "collapsed": false
   }
  },
  {
   "cell_type": "code",
   "metadata": {
    "id": "uA3E-h801T_Y",
    "colab": {
     "base_uri": "https://localhost:8080/",
     "height": 283
    },
    "outputId": "9fc31c6d-e44c-447b-a7c0-a3fa7b0d778e"
   },
   "source": [
    "plt.scatter(predicted_x1, predicted_x2, c=predicted_labels)\n",
    "plt.scatter(X[0:2, 0], X[0:2, 1], color='blue')\n",
    "plt.scatter(X[2:4,0], X[2:4,1], color='red')\n",
    "plt.show()\n",
    "plt.clf()"
   ],
   "execution_count": 38,
   "outputs": [
    {
     "data": {
      "text/plain": "<Figure size 640x480 with 1 Axes>",
      "image/png": "[encoded data removed]"
     },
     "metadata": {},
     "output_type": "display_data"
    },
    {
     "data": {
      "text/plain": "<Figure size 640x480 with 0 Axes>"
     },
     "metadata": {},
     "output_type": "display_data"
    }
   ]
  },
  {
   "cell_type": "code",
   "execution_count": 39,
   "outputs": [],
   "source": [
    "my_lib.delete_float_array(linear_model_training_ptr, (dimension + 1))\n",
    "del linear_model_training_ptr"
   ],
   "metadata": {
    "collapsed": false
   }
  },
  {
   "cell_type": "markdown",
   "metadata": {
    "id": "5qxkXVo02MpM"
   },
   "source": [
    "### Cross :\n",
    "        Linear Model    : KO\n",
    "        MLP (2, 4, 1)   : OK"
   ]
  },
  {
   "cell_type": "code",
   "execution_count": 42,
   "outputs": [
    {
     "name": "stdout",
     "output_type": "stream",
     "text": [
      "[0.26201582 0.97746575 0.21271718]\n"
     ]
    }
   ],
   "source": [
    "my_lib = ctypes.CDLL(r\"..\\rust_lib\\target\\debug\\rust_lib.dll\")\n",
    "\n",
    "my_lib.delete_float_array.argtypes = [\n",
    "    ctypes.POINTER(ctypes.c_float),\n",
    "    ctypes.c_int32,\n",
    "]\n",
    "\n",
    "my_lib.generate_random_w.argtypes = [ctypes.c_int32]\n",
    "my_lib.generate_random_w.restype = ctypes.POINTER(ctypes.c_float)\n",
    "\n",
    "my_lib.delete_float_array.restype = None\n",
    "\n",
    "dimension = 2\n",
    "\n",
    "w_array_ptr = my_lib.generate_random_w(dimension)\n",
    "\n",
    "w_array = np.ctypeslib.as_array(w_array_ptr, ((dimension + 1),))\n",
    "\n",
    "print(w_array)"
   ],
   "metadata": {
    "collapsed": false
   }
  },
  {
   "cell_type": "code",
   "metadata": {
    "id": "7kkrrfnX2MpM"
   },
   "source": [
    "X = np.random.random((500, 2)) * 2.0 - 1.0\n",
    "X = np.array(X, dtype= ctypes.c_float)\n",
    "Y = np.array([1 if abs(p[0]) <= 0.3 or abs(p[1]) <= 0.3 else -1 for p in X])\n",
    "Y = np.array(Y, dtype= ctypes.c_float)\n",
    "\n",
    "X_plot = np.random.random((500, 2)) * 2.0 - 1.0\n",
    "Y_plot = np.array([1 if abs(p[0]) <= 0.3 or abs(p[1]) <= 0.3 else -1 for p in X])"
   ],
   "execution_count": 43,
   "outputs": []
  },
  {
   "cell_type": "code",
   "execution_count": 44,
   "outputs": [
    {
     "name": "stdout",
     "output_type": "stream",
     "text": [
      "[[-6.01479150e-02 -7.09398746e-01]\n",
      " [ 2.44862378e-01 -9.06936824e-01]\n",
      " [-9.20402944e-01  7.32062995e-01]\n",
      " [ 6.73015118e-01 -6.67256340e-02]\n",
      " [ 1.28763132e-02 -1.39608517e-01]\n",
      " [ 9.17923689e-01  2.26761818e-01]\n",
      " [ 7.73199201e-01  7.08513558e-01]\n",
      " [-5.07814229e-01 -5.44248462e-01]\n",
      " [ 5.85042059e-01 -6.15078330e-01]\n",
      " [ 5.71958125e-01  2.28274316e-01]\n",
      " [-6.16022885e-01 -1.24893546e-01]\n",
      " [-4.44558002e-02 -7.12048709e-01]\n",
      " [-9.46323395e-01  6.07471347e-01]\n",
      " [ 1.15674205e-01  3.57831210e-01]\n",
      " [-3.51287127e-01 -9.30560946e-01]\n",
      " [-3.49191576e-01  2.34853357e-01]\n",
      " [-2.58451290e-02 -5.03467083e-01]\n",
      " [ 4.15851802e-01 -7.15536177e-01]\n",
      " [-8.15911591e-01 -1.75821647e-01]\n",
      " [ 1.47472262e-01  5.63617706e-01]\n",
      " [ 9.65678394e-01 -6.12592459e-01]\n",
      " [ 5.03765225e-01  6.58343613e-01]\n",
      " [ 8.19894493e-01 -9.17662442e-01]\n",
      " [ 8.88466358e-01 -8.35200369e-01]\n",
      " [-8.85392129e-01 -5.70093930e-01]\n",
      " [-4.73777026e-01  1.54248491e-01]\n",
      " [-2.35686988e-01  1.55109286e-01]\n",
      " [ 4.96338755e-01  8.62761319e-01]\n",
      " [-3.77478004e-02 -5.48160493e-01]\n",
      " [ 6.04136944e-01 -9.74662840e-01]\n",
      " [-5.27678728e-01  1.98639393e-01]\n",
      " [ 8.70711565e-01  1.68271258e-01]\n",
      " [-2.36792505e-01 -3.92390400e-01]\n",
      " [ 1.57107010e-01  4.59909171e-01]\n",
      " [ 8.01857173e-01 -6.43477201e-01]\n",
      " [-7.66250432e-01  8.62010494e-02]\n",
      " [-4.89673465e-01  6.07151166e-02]\n",
      " [-6.27260655e-02 -6.63134873e-01]\n",
      " [ 6.95926011e-01  4.09460694e-01]\n",
      " [-6.57658935e-01  4.51186776e-01]\n",
      " [ 2.90135562e-01  6.23527527e-01]\n",
      " [-3.78321767e-01  4.32820886e-01]\n",
      " [-9.50273931e-01 -6.86181486e-01]\n",
      " [-5.24031043e-01 -9.54258859e-01]\n",
      " [-3.35197717e-01  9.31347966e-01]\n",
      " [-1.40971154e-01  3.85662228e-01]\n",
      " [ 7.61185467e-01  3.02390397e-01]\n",
      " [ 2.39738733e-01 -2.89899051e-01]\n",
      " [ 3.57507110e-01  4.25458968e-01]\n",
      " [ 3.89842123e-01 -5.71402371e-01]\n",
      " [ 7.02362418e-01 -4.69632328e-01]\n",
      " [ 8.98117423e-01 -3.66580009e-01]\n",
      " [ 8.73096764e-01 -3.16243693e-02]\n",
      " [ 3.42846602e-01 -9.51601088e-01]\n",
      " [ 8.15791965e-01  2.40019143e-01]\n",
      " [-8.33662987e-01 -5.77921450e-01]\n",
      " [-9.30301785e-01  8.73806298e-01]\n",
      " [ 8.97088289e-01  6.57929957e-01]\n",
      " [-6.97672009e-01 -1.68771714e-01]\n",
      " [ 9.08687651e-01  8.18615913e-01]\n",
      " [ 9.27877367e-01 -9.86133575e-01]\n",
      " [ 2.86068052e-01  2.68299758e-01]\n",
      " [-3.82355779e-01 -6.22045517e-01]\n",
      " [-3.05252582e-01 -5.41338623e-01]\n",
      " [ 8.87991667e-01  4.77791011e-01]\n",
      " [ 1.79505512e-01  4.49393958e-01]\n",
      " [ 5.33760428e-01  9.41054821e-01]\n",
      " [ 4.76676941e-01 -9.71414089e-01]\n",
      " [ 7.92507172e-01 -8.11944246e-01]\n",
      " [-1.40826866e-01  2.57939219e-01]\n",
      " [ 1.67831257e-01 -9.45436716e-01]\n",
      " [-2.39664525e-01 -3.77237052e-02]\n",
      " [ 3.61954033e-01  5.05191267e-01]\n",
      " [-1.57008961e-01 -7.92529583e-01]\n",
      " [ 2.76479900e-01  5.86168110e-01]\n",
      " [-7.85092544e-03 -8.62866402e-01]\n",
      " [ 9.81150717e-02  3.47452499e-02]\n",
      " [-8.60268548e-02 -9.70603824e-01]\n",
      " [ 2.94843376e-01 -8.78668725e-01]\n",
      " [ 4.08411622e-01  5.28046370e-01]\n",
      " [-5.13190508e-01 -1.03487194e-01]\n",
      " [-3.54244739e-01 -5.39028585e-01]\n",
      " [-7.27937579e-01  8.41104269e-01]\n",
      " [-6.62923157e-02  6.74479783e-01]\n",
      " [ 3.93548191e-01  9.53437388e-01]\n",
      " [-2.40552381e-01  3.30495864e-01]\n",
      " [-5.53944767e-01  6.35716543e-02]\n",
      " [ 5.63321292e-01 -6.03161991e-01]\n",
      " [ 4.47281629e-01  2.55270541e-01]\n",
      " [-1.66409448e-01  7.50996649e-01]\n",
      " [-9.67994392e-01  1.09353937e-01]\n",
      " [ 9.88581702e-02  8.66319060e-01]\n",
      " [ 4.34944510e-01 -4.37139839e-01]\n",
      " [-5.53422034e-01  4.79934931e-01]\n",
      " [-1.38151094e-01  5.60595870e-01]\n",
      " [-7.52408683e-01 -5.56525469e-01]\n",
      " [ 1.33488066e-02  8.49000633e-01]\n",
      " [-6.81397840e-02 -1.48251712e-01]\n",
      " [-3.30886036e-01 -9.35929298e-01]\n",
      " [ 7.93918550e-01  4.50463086e-01]\n",
      " [ 6.54096246e-01  9.68395114e-01]\n",
      " [ 1.77472621e-01 -7.89762199e-01]\n",
      " [ 8.20901036e-01  2.29747698e-01]\n",
      " [ 8.91961455e-01 -9.02600765e-01]\n",
      " [ 6.29928410e-01 -6.66952953e-02]\n",
      " [-9.36847925e-01 -9.84594047e-01]\n",
      " [-5.59034765e-01  4.72552888e-02]\n",
      " [ 5.28557003e-01  2.22613111e-01]\n",
      " [ 7.34593511e-01 -5.59215963e-01]\n",
      " [ 3.62342149e-01 -4.27666873e-01]\n",
      " [ 8.08337703e-02  7.35827506e-01]\n",
      " [-7.76536047e-01 -8.61782670e-01]\n",
      " [ 1.65459588e-01  6.39119446e-01]\n",
      " [ 4.75985110e-01  6.51545167e-01]\n",
      " [ 5.38490295e-01 -9.30605531e-01]\n",
      " [-6.25671029e-01 -3.77991140e-01]\n",
      " [ 2.10646197e-01 -2.90405065e-01]\n",
      " [-2.53295470e-02  9.39009726e-01]\n",
      " [-5.54803312e-01 -2.04054266e-01]\n",
      " [ 4.83471245e-01 -7.57025540e-01]\n",
      " [ 9.92799819e-01 -6.92760944e-01]\n",
      " [ 9.20964777e-01 -7.83214390e-01]\n",
      " [ 4.78618085e-01 -5.10237403e-02]\n",
      " [-3.41771007e-01  9.23934653e-02]\n",
      " [-6.41437829e-01  2.67151684e-01]\n",
      " [-9.71563086e-02 -6.97903395e-01]\n",
      " [ 2.32827514e-01  8.18576336e-01]\n",
      " [-8.69182348e-01  4.83723313e-01]\n",
      " [ 2.90982336e-01  7.70320415e-01]\n",
      " [ 4.42465901e-01 -2.12600484e-01]\n",
      " [-1.45047486e-01 -4.87671867e-02]\n",
      " [ 2.82550126e-01  4.17643934e-01]\n",
      " [ 3.82337660e-01  3.65489900e-01]\n",
      " [-6.17492259e-01  4.12711591e-01]\n",
      " [-3.80258530e-01 -2.81738669e-01]\n",
      " [ 6.28437638e-01  7.07959473e-01]\n",
      " [ 7.54504859e-01  4.00312215e-01]\n",
      " [ 6.02080762e-01 -1.39181599e-01]\n",
      " [-4.06792730e-01  3.20147872e-01]\n",
      " [-6.01912081e-01 -8.54734629e-02]\n",
      " [ 2.11985961e-01  2.53376991e-01]\n",
      " [-3.66682895e-02  5.67273974e-01]\n",
      " [-3.78670961e-01  6.43919945e-01]\n",
      " [-8.97888303e-01 -2.58779824e-01]\n",
      " [ 7.46517241e-01 -5.89760602e-01]\n",
      " [ 9.39385831e-01 -9.78532374e-01]\n",
      " [ 1.94819346e-01 -2.84705102e-01]\n",
      " [-5.23249328e-01  2.32942015e-01]\n",
      " [-2.05097660e-01 -4.19812590e-01]\n",
      " [ 2.15003833e-01  6.00809157e-01]\n",
      " [ 8.01942527e-01 -7.19626367e-01]\n",
      " [-4.59425181e-01  2.83220887e-01]\n",
      " [-1.43808313e-02  9.27532017e-01]\n",
      " [-5.18748820e-01  8.65973532e-01]\n",
      " [ 9.70893502e-01  7.07286477e-01]\n",
      " [ 7.43263289e-02 -9.22469258e-01]\n",
      " [ 6.66194320e-01 -5.30552626e-01]\n",
      " [-5.98857343e-01  3.66780870e-02]\n",
      " [-1.96984693e-01 -3.31020355e-02]\n",
      " [-1.32486254e-01 -8.19998384e-01]\n",
      " [ 7.26844728e-01 -2.60035843e-01]\n",
      " [ 2.22439334e-01 -5.77080011e-01]\n",
      " [-7.05042303e-01 -4.02685672e-01]\n",
      " [ 3.53177160e-01  3.28471303e-01]\n",
      " [-5.60574710e-01  6.74192190e-01]\n",
      " [-4.59821254e-01  4.91597682e-01]\n",
      " [ 6.00736082e-01 -4.89190698e-01]\n",
      " [-8.49962771e-01  1.54815540e-01]\n",
      " [ 9.52454880e-02 -1.56433836e-01]\n",
      " [ 9.84804809e-01 -2.40027472e-01]\n",
      " [-5.89510798e-01  3.32026690e-01]\n",
      " [-3.52040440e-01  4.29543674e-01]\n",
      " [ 1.67447478e-01  7.55571127e-02]\n",
      " [ 6.79364979e-01  4.54314232e-01]\n",
      " [ 5.35122693e-01  5.92043325e-02]\n",
      " [ 3.69485855e-01 -6.75109148e-01]\n",
      " [-4.15407360e-01  6.41606152e-01]\n",
      " [ 1.94470152e-01  8.01322758e-01]\n",
      " [-6.50449157e-01 -3.99912089e-01]\n",
      " [ 8.44240487e-01  3.90031308e-01]\n",
      " [-9.02881801e-01 -1.12910666e-01]\n",
      " [ 5.53351223e-01 -3.33457798e-01]\n",
      " [-6.36310041e-01  2.46732041e-01]\n",
      " [ 9.22874093e-01  4.40127283e-01]\n",
      " [ 5.10257483e-01 -1.93115816e-01]\n",
      " [-7.68492669e-02  9.89747167e-01]\n",
      " [ 6.56902671e-01  6.46209717e-01]\n",
      " [-2.77283788e-01  2.35210404e-01]\n",
      " [-9.65690851e-01  7.48758972e-01]\n",
      " [ 8.68719578e-01  1.86884105e-01]\n",
      " [ 6.45910621e-01 -6.83435678e-01]\n",
      " [-7.46455193e-02  9.64216590e-01]\n",
      " [ 8.28289866e-01  7.52730191e-01]\n",
      " [ 3.34237963e-01 -9.29706097e-01]\n",
      " [-1.44330919e-01  2.21846387e-01]\n",
      " [ 7.16395825e-02  3.50922346e-01]\n",
      " [-9.87667441e-01 -7.84965903e-02]\n",
      " [ 9.54280272e-02 -4.81123865e-01]\n",
      " [-9.90074396e-01 -9.86807466e-01]\n",
      " [-6.62366509e-01  9.25807834e-01]\n",
      " [-3.71463209e-01  5.48382998e-01]\n",
      " [-7.61341155e-01 -4.79087949e-01]\n",
      " [-1.62896931e-01 -4.05202955e-01]\n",
      " [-2.02984408e-01 -4.66441035e-01]\n",
      " [ 7.61396438e-02  4.25142318e-01]\n",
      " [-4.19934094e-01  1.03714205e-02]\n",
      " [-6.49740756e-01  8.04503202e-01]\n",
      " [ 9.69806671e-01  5.94021738e-01]\n",
      " [-4.16290849e-01 -3.78785849e-01]\n",
      " [ 5.36714315e-01  3.84773701e-01]\n",
      " [-4.88901228e-01 -2.32661888e-01]\n",
      " [ 4.73939747e-01  4.89185929e-01]\n",
      " [ 3.17144245e-01 -2.59764999e-01]\n",
      " [-4.31342721e-01  7.70298064e-01]\n",
      " [ 3.39135826e-01  4.74999323e-02]\n",
      " [ 2.81338960e-01  8.98138762e-01]\n",
      " [ 1.75642282e-01  9.86133441e-02]\n",
      " [ 5.87742925e-01  1.98646232e-01]\n",
      " [ 4.92985189e-01  7.41807222e-01]\n",
      " [-4.75206703e-01 -6.05357945e-01]\n",
      " [-1.97142467e-01 -2.67020136e-01]\n",
      " [-1.43336147e-01 -5.48647583e-01]\n",
      " [ 5.41243404e-02 -1.45507917e-01]\n",
      " [-4.72422749e-01  2.58322716e-01]\n",
      " [ 9.08842802e-01  3.75021994e-02]\n",
      " [ 1.14328302e-01 -7.09045708e-01]\n",
      " [ 6.60717845e-01  3.17667753e-01]\n",
      " [ 1.99207142e-01 -4.89960134e-01]\n",
      " [-4.04816344e-02 -6.24894679e-01]\n",
      " [-8.25715780e-01 -7.64384747e-01]\n",
      " [ 1.70109615e-01 -2.41075918e-01]\n",
      " [-8.18359315e-01  7.29077458e-01]\n",
      " [-3.45014364e-01  5.72337568e-01]\n",
      " [ 2.65591919e-01  3.36956918e-01]\n",
      " [ 6.92406237e-01 -1.20676100e-01]\n",
      " [ 4.13910955e-01 -2.22763076e-01]\n",
      " [ 5.42957664e-01  3.52268279e-01]\n",
      " [ 8.29574943e-01  9.85193074e-01]\n",
      " [ 2.42016032e-01 -8.50172341e-02]\n",
      " [ 9.84425187e-01  1.42546874e-02]\n",
      " [-2.27619246e-01  8.29126418e-01]\n",
      " [ 1.78434908e-01  6.59153879e-01]\n",
      " [-6.52622938e-01  3.97436947e-01]\n",
      " [ 2.26472825e-01 -8.83182943e-01]\n",
      " [-1.97820857e-01  5.43069899e-01]\n",
      " [-6.86920643e-01 -2.73288280e-01]\n",
      " [ 4.76954281e-01 -8.34517062e-01]\n",
      " [ 4.28512543e-02 -4.62352306e-01]\n",
      " [-4.45863694e-01  8.49464238e-01]\n",
      " [ 1.72484994e-01 -5.70619762e-01]\n",
      " [ 5.79313099e-01  4.91808504e-01]\n",
      " [ 5.79111040e-01  2.92366203e-02]\n",
      " [ 7.71830320e-01  8.02762747e-01]\n",
      " [-6.01510517e-03 -9.29785490e-01]\n",
      " [-2.59144396e-01  1.02708548e-01]\n",
      " [ 8.04877460e-01 -3.07919800e-01]\n",
      " [-5.39114594e-01 -8.32376122e-01]\n",
      " [ 2.45659009e-01 -1.88437149e-01]\n",
      " [-7.41340995e-01  5.97569823e-01]\n",
      " [-8.75973403e-01 -7.75283039e-01]\n",
      " [-3.21489871e-01  7.87169755e-01]\n",
      " [-1.17784411e-01 -8.50360572e-01]\n",
      " [ 9.84788775e-01 -8.70408714e-01]\n",
      " [-6.85647666e-01  2.69317329e-01]\n",
      " [ 2.58542001e-01  9.67079401e-01]\n",
      " [-4.89545316e-01 -2.17980877e-01]\n",
      " [-6.04497313e-01 -2.67738372e-01]\n",
      " [ 7.30582178e-01 -5.63398182e-01]\n",
      " [ 5.46494424e-01 -1.37263909e-01]\n",
      " [-4.09110993e-01 -2.76804745e-01]\n",
      " [-6.12443686e-01  4.85067725e-01]\n",
      " [-3.30086797e-01  5.68018138e-01]\n",
      " [ 3.36084813e-01 -7.11475492e-01]\n",
      " [-9.74308491e-01  9.55168664e-01]\n",
      " [ 2.49398008e-01 -8.90929401e-01]\n",
      " [ 3.85491580e-01 -2.23242193e-01]\n",
      " [-3.72453392e-01  7.60389149e-01]\n",
      " [-1.76258281e-01 -5.12253940e-01]\n",
      " [ 4.37179059e-01 -1.75076783e-01]\n",
      " [ 6.07398570e-01 -8.99899155e-02]\n",
      " [ 2.09643558e-01 -6.81488276e-01]\n",
      " [-1.85107410e-01  4.87568915e-01]\n",
      " [-1.68612257e-01  3.66014570e-01]\n",
      " [ 4.39956397e-01 -6.08472563e-02]\n",
      " [ 8.75517130e-01 -7.45019317e-01]\n",
      " [ 5.80473781e-01 -6.15101308e-02]\n",
      " [ 9.14592445e-01 -7.69920647e-01]\n",
      " [ 6.97309196e-01 -1.85775429e-01]\n",
      " [-8.64616573e-01  8.25285316e-01]\n",
      " [-8.53756070e-01 -4.08419460e-01]\n",
      " [ 5.70261836e-01 -3.70980918e-01]\n",
      " [ 5.33622742e-01  2.82124221e-01]\n",
      " [ 1.26500189e-01 -7.13065386e-01]\n",
      " [-8.46134126e-01 -3.40272933e-01]\n",
      " [-4.76686478e-01 -9.09911275e-01]\n",
      " [-8.11970949e-01  8.03497970e-01]\n",
      " [-4.49388959e-02  6.91413224e-01]\n",
      " [-5.04642904e-01  5.79469383e-01]\n",
      " [-1.99545830e-01 -2.13781893e-01]\n",
      " [ 4.38237578e-01 -2.72527009e-01]\n",
      " [ 2.38557935e-01  2.23138541e-01]\n",
      " [ 3.16407681e-01  5.09423316e-01]\n",
      " [ 6.36875391e-01 -1.26301438e-01]\n",
      " [-3.99806947e-01 -9.82353449e-01]\n",
      " [-9.68711257e-01 -7.97278821e-01]\n",
      " [-4.90410686e-01 -6.36357486e-01]\n",
      " [-1.43488407e-01 -8.86497080e-01]\n",
      " [-4.43356574e-01  7.61266291e-01]\n",
      " [ 6.31210864e-01  2.73942411e-01]\n",
      " [-1.51591510e-01  1.55446725e-02]\n",
      " [ 9.35414851e-01  5.19676566e-01]\n",
      " [ 7.80287921e-01  4.86542821e-01]\n",
      " [-5.38333893e-01  1.16839871e-01]\n",
      " [-2.06958041e-01  3.81493926e-01]\n",
      " [ 5.55356145e-01 -3.39958161e-01]\n",
      " [ 1.28797144e-01 -9.20445383e-01]\n",
      " [-2.57338937e-02 -1.25812218e-01]\n",
      " [ 7.80469418e-01 -6.30581617e-01]\n",
      " [-6.12263739e-01  7.20780969e-01]\n",
      " [ 4.79081362e-01 -2.82679230e-01]\n",
      " [-4.08240974e-01  5.24222329e-02]\n",
      " [-6.92951609e-04  7.39351094e-01]\n",
      " [ 4.99544859e-01 -4.72590953e-01]\n",
      " [-7.84070417e-02  5.81875145e-01]\n",
      " [ 2.60420948e-01 -5.26132286e-01]\n",
      " [ 7.60487020e-01 -6.58291101e-01]\n",
      " [ 3.70535731e-01  2.82732129e-01]\n",
      " [ 5.43893158e-01 -4.78029400e-01]\n",
      " [ 9.89026189e-01  8.57797384e-01]\n",
      " [-3.49333167e-01 -8.97094667e-01]\n",
      " [-9.73820210e-01 -1.37885377e-01]\n",
      " [ 2.71316767e-01 -6.29535735e-01]\n",
      " [-9.19477701e-01  1.21692546e-01]\n",
      " [ 1.23824596e-01  2.91807562e-01]\n",
      " [-6.54324293e-01 -7.92197324e-03]\n",
      " [-6.54092431e-01  9.95880961e-02]\n",
      " [ 1.82358518e-01  6.14830911e-01]\n",
      " [ 5.14533758e-01  9.74315703e-02]\n",
      " [ 3.56023431e-01 -5.96472248e-02]\n",
      " [-9.23622400e-03  6.90114379e-01]\n",
      " [ 2.14377180e-01  6.62356257e-01]\n",
      " [ 8.18987668e-01 -1.03767641e-01]\n",
      " [-4.79983389e-01  5.16473472e-01]\n",
      " [ 5.67473173e-01  7.78993547e-01]\n",
      " [-8.28074694e-01  1.37174472e-01]\n",
      " [-3.00306231e-01 -8.16028833e-01]\n",
      " [-4.09210026e-01 -5.30788302e-01]\n",
      " [-5.85355423e-02 -9.02077496e-01]\n",
      " [ 3.68804663e-01 -2.95763053e-02]\n",
      " [-2.60973752e-01  3.03314149e-01]\n",
      " [ 9.01989877e-01 -6.70066178e-01]\n",
      " [-7.49261320e-01  2.42412671e-01]\n",
      " [ 6.77420080e-01  4.25747007e-01]\n",
      " [ 2.16307794e-03  2.30864868e-01]\n",
      " [ 5.69887102e-01  3.16246271e-01]\n",
      " [ 1.96741104e-01 -1.82912886e-01]\n",
      " [ 5.15836716e-01  9.39632475e-01]\n",
      " [ 9.80893135e-01  8.34155440e-01]\n",
      " [ 4.94412512e-01 -3.48385185e-01]\n",
      " [ 1.89536601e-01 -9.93001401e-01]\n",
      " [-3.10073376e-01 -8.00971329e-01]\n",
      " [-7.44759023e-01  4.75456560e-04]\n",
      " [-2.48608097e-01  5.45380294e-01]\n",
      " [ 6.49052322e-01 -8.26037347e-01]\n",
      " [ 4.88669962e-01 -9.36616421e-01]\n",
      " [-9.02222395e-02  1.47155449e-01]\n",
      " [-3.92769009e-01  9.74492654e-02]\n",
      " [ 4.68912780e-01 -4.91068780e-01]\n",
      " [ 3.99586111e-01 -5.01510680e-01]\n",
      " [ 7.04876125e-01 -2.64391214e-01]\n",
      " [ 2.42903948e-01  4.07956243e-01]\n",
      " [-7.31818914e-01  7.73785532e-01]\n",
      " [-3.57075810e-01  4.84012544e-01]\n",
      " [ 2.44797677e-01  2.23739013e-01]\n",
      " [ 9.31597829e-01 -4.51851070e-01]\n",
      " [ 7.97587872e-01  5.80721162e-02]\n",
      " [ 4.23053056e-01 -4.68621582e-01]\n",
      " [-1.33280888e-01 -7.47503281e-01]\n",
      " [-6.56478941e-01 -1.11986466e-01]\n",
      " [-4.27724898e-01  7.84540653e-01]\n",
      " [ 5.17932236e-01 -7.16627181e-01]\n",
      " [-1.30767137e-01  8.50915849e-01]\n",
      " [-1.97720930e-01  3.92688453e-01]\n",
      " [-4.27579463e-01  4.77390707e-01]\n",
      " [-8.33571851e-01 -6.16700530e-01]\n",
      " [ 8.63136470e-01 -5.51075220e-01]\n",
      " [ 9.45039213e-01 -5.69537699e-01]\n",
      " [-2.31462911e-01  8.84690940e-01]\n",
      " [-5.41259535e-02 -8.11533213e-01]\n",
      " [-2.44993895e-01  5.08142971e-02]\n",
      " [-3.95473450e-01  7.19072938e-01]\n",
      " [-8.50006342e-01 -8.02086592e-01]\n",
      " [ 8.61359537e-01  5.19326739e-02]\n",
      " [-7.61011600e-01 -7.45329797e-01]\n",
      " [-1.26054496e-01  6.23907387e-01]\n",
      " [-9.71776783e-01 -9.57983911e-01]\n",
      " [-1.96335852e-01  4.32267070e-01]\n",
      " [-6.89506233e-01 -5.68736494e-02]\n",
      " [-7.60797918e-01 -3.48701775e-01]\n",
      " [-1.69425845e-01 -4.72363085e-01]\n",
      " [-4.43748325e-01  7.19388902e-01]\n",
      " [-2.16057286e-01 -4.62163031e-01]\n",
      " [ 1.14407100e-01  6.36250436e-01]\n",
      " [ 6.60880327e-01 -7.46369720e-01]\n",
      " [ 7.65744209e-01  8.26401055e-01]\n",
      " [-3.03126182e-02  1.36793494e-01]\n",
      " [ 8.40890169e-01  1.45088717e-01]\n",
      " [-6.70406878e-01 -5.97810686e-01]\n",
      " [ 1.43630236e-01 -8.38871121e-01]\n",
      " [-4.30124342e-01 -9.27227318e-01]\n",
      " [ 7.65341103e-01 -2.02015981e-01]\n",
      " [-5.33438981e-01  6.87902510e-01]\n",
      " [-9.72866476e-01  6.85569167e-01]\n",
      " [ 3.39361876e-01 -1.83063015e-01]\n",
      " [-1.02633223e-01 -2.13706553e-01]\n",
      " [-6.85209394e-01  9.78374541e-01]\n",
      " [-9.85454023e-01 -7.09326491e-02]\n",
      " [-4.04713511e-01  6.13734663e-01]\n",
      " [-5.43179870e-01 -3.20509046e-01]\n",
      " [ 8.11159313e-01 -5.73441088e-01]\n",
      " [-4.41048354e-01  1.90650463e-01]\n",
      " [ 2.55451500e-01 -8.49201918e-01]\n",
      " [ 6.65577888e-01  1.13032080e-01]\n",
      " [-7.68159449e-01 -1.23474911e-01]\n",
      " [ 6.74861968e-01  7.86649644e-01]\n",
      " [-8.26374769e-01  2.24166781e-01]\n",
      " [-6.44002557e-01  7.83860445e-01]\n",
      " [-5.43638803e-02 -4.24620181e-01]\n",
      " [ 1.83437616e-01 -4.82207745e-01]\n",
      " [-7.52331913e-01  2.62412518e-01]\n",
      " [-9.71518636e-01  5.95159829e-01]\n",
      " [ 7.06537962e-01 -6.60840333e-01]\n",
      " [ 8.43510211e-01  4.03907835e-01]\n",
      " [ 4.78353381e-01 -2.66681192e-03]\n",
      " [-3.40386242e-01 -4.05785501e-01]\n",
      " [ 4.36497420e-01  9.95331645e-01]\n",
      " [ 1.42504156e-01 -6.24778330e-01]\n",
      " [-1.27621800e-01  5.23162305e-01]\n",
      " [-5.07927477e-01  7.47173011e-01]\n",
      " [-6.00916147e-01 -3.54264587e-01]\n",
      " [-4.15456355e-01 -9.41039264e-01]\n",
      " [ 5.39908946e-01 -7.42838085e-02]\n",
      " [-1.13799542e-01 -7.52717733e-01]\n",
      " [ 3.79094094e-01  7.98305988e-01]\n",
      " [ 5.18142343e-01  5.12047172e-01]\n",
      " [ 4.59673405e-01  4.84856963e-01]\n",
      " [ 4.20377016e-01 -8.16363037e-01]\n",
      " [ 6.45262480e-01 -8.11471939e-01]\n",
      " [-4.70917583e-01 -4.91405994e-01]\n",
      " [-9.11724031e-01 -9.58460450e-01]\n",
      " [-6.93670750e-01  7.48545825e-01]\n",
      " [ 8.50874245e-01 -6.78859830e-01]\n",
      " [ 8.98367524e-01  4.71460214e-03]\n",
      " [ 8.78165007e-01 -3.51428628e-01]\n",
      " [-3.52057099e-01 -4.82221901e-01]\n",
      " [-9.38785136e-01  2.81690687e-01]\n",
      " [-1.25357375e-01 -7.02690184e-01]\n",
      " [-7.54726291e-01 -9.27245438e-01]\n",
      " [ 6.23018265e-01 -7.30030239e-01]\n",
      " [ 3.87983441e-01 -8.39886218e-02]\n",
      " [-8.19516957e-01 -4.21405464e-01]\n",
      " [ 3.24623793e-01 -7.28644133e-01]\n",
      " [ 7.63742328e-02 -5.65029919e-01]\n",
      " [ 5.86496770e-01 -6.43557906e-01]\n",
      " [ 2.79112190e-01 -3.59273285e-01]\n",
      " [ 8.11634779e-01 -7.71550000e-01]\n",
      " [ 8.93498361e-01  2.20589012e-01]\n",
      " [ 7.17150152e-01 -1.30902538e-02]\n",
      " [-3.10315639e-01  6.71299279e-01]\n",
      " [-2.46631011e-01 -1.51023075e-01]\n",
      " [ 6.02521062e-01  4.49878395e-01]\n",
      " [-4.86534573e-02  3.13833147e-01]\n",
      " [ 2.95040607e-01  6.62021279e-01]\n",
      " [-3.70283216e-01  5.85723102e-01]\n",
      " [ 4.69581991e-01  2.61465639e-01]\n",
      " [ 8.37000012e-01  4.95540917e-01]\n",
      " [-1.60557821e-01 -4.93569791e-01]\n",
      " [ 4.30487335e-01 -6.27235323e-02]\n",
      " [ 7.27174282e-01 -3.64414573e-01]\n",
      " [ 7.33439803e-01 -4.36867923e-01]\n",
      " [ 1.42471835e-01  8.02964628e-01]\n",
      " [-9.42738235e-01 -7.75368094e-01]\n",
      " [-2.41851732e-01  1.58291310e-01]\n",
      " [ 1.78101674e-01  5.53711772e-01]\n",
      " [ 2.31859490e-01  3.61525714e-01]\n",
      " [-8.46131146e-01 -2.06604972e-01]\n",
      " [ 7.86469504e-02  7.34591961e-01]\n",
      " [-6.95534144e-03  7.28969574e-01]\n",
      " [ 7.50438571e-01 -9.88382459e-01]\n",
      " [ 1.54068395e-01  7.35023171e-02]\n",
      " [ 3.68117511e-01 -1.97472885e-01]\n",
      " [ 4.46121514e-01 -5.17617404e-01]\n",
      " [ 6.40566170e-01  5.06774008e-01]\n",
      " [-3.71094830e-02 -3.76975201e-02]\n",
      " [ 4.45819229e-01  8.49519908e-01]\n",
      " [ 2.24487796e-01  5.47583997e-01]\n",
      " [ 4.37132493e-02  2.52136946e-01]\n",
      " [ 7.62679517e-01 -9.86106515e-01]\n",
      " [-6.80974245e-01  9.79290545e-01]\n",
      " [-2.25155383e-01  2.18379162e-02]]\n",
      "[ 1.  1. -1.  1.  1.  1. -1. -1. -1.  1.  1.  1. -1.  1. -1.  1.  1. -1.\n",
      "  1.  1. -1. -1. -1. -1. -1.  1.  1. -1.  1. -1.  1.  1.  1.  1. -1.  1.\n",
      "  1.  1. -1. -1.  1. -1. -1. -1. -1.  1. -1.  1. -1. -1. -1. -1.  1. -1.\n",
      "  1. -1. -1. -1.  1. -1. -1.  1. -1. -1. -1.  1. -1. -1. -1.  1.  1.  1.\n",
      " -1.  1.  1.  1.  1.  1.  1. -1.  1. -1. -1.  1. -1.  1.  1. -1.  1.  1.\n",
      "  1.  1. -1. -1.  1. -1.  1.  1. -1. -1. -1.  1.  1. -1.  1. -1.  1.  1.\n",
      " -1. -1.  1. -1.  1. -1. -1. -1.  1.  1.  1. -1. -1. -1.  1.  1.  1.  1.\n",
      "  1. -1.  1.  1.  1.  1. -1. -1.  1. -1. -1.  1. -1.  1.  1.  1. -1.  1.\n",
      " -1. -1.  1.  1.  1.  1. -1.  1.  1. -1. -1.  1. -1.  1.  1.  1.  1.  1.\n",
      " -1. -1. -1. -1. -1.  1.  1.  1. -1. -1.  1. -1.  1. -1. -1.  1. -1. -1.\n",
      "  1. -1.  1. -1.  1.  1. -1.  1. -1.  1. -1.  1. -1. -1.  1.  1.  1.  1.\n",
      " -1. -1. -1. -1.  1.  1.  1.  1. -1. -1. -1. -1.  1. -1.  1. -1.  1.  1.\n",
      "  1.  1. -1. -1.  1.  1.  1.  1.  1.  1. -1.  1.  1. -1.  1. -1. -1.  1.\n",
      "  1.  1. -1. -1.  1.  1.  1.  1. -1.  1.  1.  1. -1.  1. -1.  1. -1.  1.\n",
      " -1.  1.  1. -1. -1.  1. -1. -1. -1.  1. -1.  1.  1.  1.  1. -1.  1.  1.\n",
      " -1. -1. -1. -1.  1.  1. -1.  1.  1.  1.  1.  1.  1.  1. -1.  1. -1.  1.\n",
      " -1. -1. -1.  1.  1. -1. -1. -1.  1. -1.  1.  1.  1. -1.  1. -1. -1. -1.\n",
      "  1. -1.  1.  1. -1. -1.  1.  1. -1.  1.  1. -1. -1.  1.  1.  1. -1.  1.\n",
      "  1. -1.  1. -1. -1. -1.  1.  1.  1.  1.  1.  1.  1.  1.  1.  1.  1.  1.\n",
      " -1. -1.  1. -1. -1.  1.  1.  1. -1.  1. -1.  1. -1.  1. -1. -1. -1.  1.\n",
      " -1.  1.  1. -1. -1.  1.  1. -1. -1.  1.  1. -1. -1.  1. -1.  1. -1.  1.\n",
      "  1. -1. -1.  1.  1. -1. -1. -1. -1.  1.  1.  1. -1. -1.  1. -1.  1. -1.\n",
      "  1.  1. -1.  1. -1.  1.  1. -1. -1.  1.  1. -1.  1. -1.  1. -1. -1.  1.\n",
      "  1. -1.  1. -1. -1. -1.  1.  1.  1.  1. -1.  1. -1.  1.  1.  1. -1. -1.\n",
      " -1.  1. -1. -1.  1.  1. -1. -1. -1.  1.  1. -1. -1. -1. -1. -1. -1. -1.\n",
      " -1. -1.  1. -1. -1.  1.  1. -1. -1.  1. -1. -1.  1. -1.  1. -1.  1.  1.\n",
      " -1.  1. -1.  1.  1. -1.  1. -1.  1.  1. -1. -1.  1. -1.  1.  1.  1.  1.\n",
      "  1.  1. -1.  1.  1. -1. -1.  1. -1.  1.  1. -1. -1.  1.]\n"
     ]
    }
   ],
   "source": [
    "print(X)\n",
    "print(Y)"
   ],
   "metadata": {
    "collapsed": false
   }
  },
  {
   "cell_type": "code",
   "execution_count": 45,
   "outputs": [],
   "source": [
    "arr_size = len(X)\n",
    "dimension = len(X[0])\n",
    "learning_rate = ctypes.c_float(0.001)\n",
    "epoch = 1000000\n",
    "X_flat = X.flatten()"
   ],
   "metadata": {
    "collapsed": false
   }
  },
  {
   "cell_type": "code",
   "execution_count": 46,
   "outputs": [],
   "source": [
    "LP_c_float = ctypes.POINTER(ctypes.c_float)\n",
    "x_to_predict = (ctypes.c_float * len(X_flat))(*X_flat)\n",
    "x_to_predict_ptr = ctypes.cast(x_to_predict, LP_c_float)"
   ],
   "metadata": {
    "collapsed": false
   }
  },
  {
   "cell_type": "code",
   "execution_count": 47,
   "outputs": [],
   "source": [
    "LP_c_float = ctypes.POINTER(ctypes.c_float)\n",
    "y_to_predict = (ctypes.c_float * len(Y))(*Y)\n",
    "y_to_predict_ptr = ctypes.cast(y_to_predict, LP_c_float)"
   ],
   "metadata": {
    "collapsed": false
   }
  },
  {
   "cell_type": "code",
   "execution_count": 48,
   "outputs": [],
   "source": [
    "my_lib.linear_model_training.argtypes = [\n",
    "    ctypes.POINTER(ctypes.c_float),\n",
    "    ctypes.POINTER(ctypes.c_float),\n",
    "    ctypes.POINTER(ctypes.c_float),\n",
    "    ctypes.c_int32,\n",
    "    ctypes.c_int32,\n",
    "    ctypes.c_float,\n",
    "    ctypes.c_int32,\n",
    "]\n",
    "my_lib.linear_model_training.restype = ctypes.POINTER(ctypes.c_float)"
   ],
   "metadata": {
    "collapsed": false
   }
  },
  {
   "cell_type": "code",
   "execution_count": 49,
   "outputs": [
    {
     "name": "stdout",
     "output_type": "stream",
     "text": [
      "[ 0.00201564 -0.00330864 -0.00077998]\n",
      "<class 'ctypes.wintypes.LP_c_float'>\n"
     ]
    }
   ],
   "source": [
    "linear_model_training_ptr = my_lib.linear_model_training(\n",
    "    w_array_ptr,  # pointeur vers le résultat du vecteur W random\n",
    "    y_to_predict_ptr,  # pointeur vers les résultats labellisés pour entrainer le modele\n",
    "    x_to_predict_ptr,  # points qui ont permis de labeliser le vecteur d'au dessus\n",
    "    arr_size,  # array size\n",
    "    dimension,  # dimension de chaque vecteur\n",
    "    learning_rate,  # learning rate\n",
    "    epoch,  # nombre de fois où l'on passe sur le data set\n",
    ")\n",
    "trained_linear_model = np.ctypeslib.as_array(\n",
    "    linear_model_training_ptr, ((dimension + 1),)\n",
    ")\n",
    "print(trained_linear_model)\n",
    "print(type(linear_model_training_ptr))"
   ],
   "metadata": {
    "collapsed": false
   }
  },
  {
   "cell_type": "code",
   "execution_count": 50,
   "outputs": [],
   "source": [
    "my_lib.predict_linear_model.argtypes = [\n",
    "    ctypes.POINTER(ctypes.c_float),\n",
    "    ctypes.POINTER(ctypes.c_float),\n",
    "    ctypes.c_int32,\n",
    "    ctypes.c_int32,\n",
    "]\n",
    "my_lib.predict_linear_model.restype = ctypes.POINTER(ctypes.c_float)"
   ],
   "metadata": {
    "collapsed": false
   }
  },
  {
   "cell_type": "code",
   "execution_count": 51,
   "outputs": [],
   "source": [
    "predicted_labels = []\n",
    "predicted_x1 = []\n",
    "predicted_x2 = []\n",
    "for x1 in range(-100 , 100) :\n",
    "  for x2 in range(-100 , 100) :\n",
    "    predicted_x1.append(x1/100)\n",
    "    predicted_x2.append(x2/100)\n",
    "    predicted_labels.append('pink' if x1/100 * trained_linear_model[1] + x2/100 * trained_linear_model[2] + trained_linear_model[0] >= 0 else 'lightskyblue')"
   ],
   "metadata": {
    "collapsed": false
   }
  },
  {
   "cell_type": "code",
   "metadata": {
    "id": "zVBAE2fY2MpO",
    "colab": {
     "base_uri": "https://localhost:8080/",
     "height": 287
    },
    "outputId": "46b434a6-2fd8-492e-c080-14b0d0028968"
   },
   "source": [
    "plt.scatter(predicted_x1, predicted_x2, c=predicted_labels)\n",
    "plt.scatter(np.array(list(map(lambda elt : elt[1], filter(lambda c: Y[c[0]] == 1, enumerate(X)))))[:,0], np.array(list(map(lambda elt : elt[1], filter(lambda c: Y[c[0]] == 1, enumerate(X)))))[:,1], color='blue')\n",
    "plt.scatter(np.array(list(map(lambda elt : elt[1], filter(lambda c: Y[c[0]] == -1, enumerate(X)))))[:,0], np.array(list(map(lambda elt : elt[1], filter(lambda c: Y[c[0]] == -1, enumerate(X)))))[:,1], color='red')\n",
    "plt.show()\n",
    "plt.clf()"
   ],
   "execution_count": 52,
   "outputs": [
    {
     "data": {
      "text/plain": "<Figure size 640x480 with 1 Axes>",
      "image/png": "[encoded data removed]"
     },
     "metadata": {},
     "output_type": "display_data"
    },
    {
     "data": {
      "text/plain": "<Figure size 640x480 with 0 Axes>"
     },
     "metadata": {},
     "output_type": "display_data"
    }
   ]
  },
  {
   "cell_type": "code",
   "execution_count": 19,
   "outputs": [
    {
     "ename": "ArgumentError",
     "evalue": "argument 1: <class 'TypeError'>: expected LP_c_float instance instead of int",
     "output_type": "error",
     "traceback": [
      "\u001B[1;31m---------------------------------------------------------------------------\u001B[0m",
      "\u001B[1;31mArgumentError\u001B[0m                             Traceback (most recent call last)",
      "Cell \u001B[1;32mIn[19], line 1\u001B[0m\n\u001B[1;32m----> 1\u001B[0m \u001B[43mmy_lib\u001B[49m\u001B[38;5;241;43m.\u001B[39;49m\u001B[43mdelete_float_array\u001B[49m\u001B[43m(\u001B[49m\u001B[43mlinear_model_training_ptr\u001B[49m\u001B[43m,\u001B[49m\u001B[43m \u001B[49m\u001B[43m(\u001B[49m\u001B[43mdimension\u001B[49m\u001B[43m \u001B[49m\u001B[38;5;241;43m+\u001B[39;49m\u001B[43m \u001B[49m\u001B[38;5;241;43m1\u001B[39;49m\u001B[43m)\u001B[49m\u001B[43m)\u001B[49m\n\u001B[0;32m      2\u001B[0m \u001B[38;5;28;01mdel\u001B[39;00m linear_model_training_ptr\n",
      "\u001B[1;31mArgumentError\u001B[0m: argument 1: <class 'TypeError'>: expected LP_c_float instance instead of int"
     ]
    }
   ],
   "source": [
    "my_lib.delete_float_array(linear_model_training_ptr, (dimension + 1))\n",
    "del linear_model_training_ptr"
   ],
   "metadata": {
    "collapsed": false
   }
  },
  {
   "cell_type": "markdown",
   "metadata": {
    "id": "v4hhnYge928d"
   },
   "source": [
    "### Multi Linear 3 classes :\n",
    "        Linear Model x3 : OK\n",
    "        MLP (2, 3)      : OK"
   ]
  },
  {
   "cell_type": "code",
   "execution_count": 107,
   "outputs": [
    {
     "name": "stdout",
     "output_type": "stream",
     "text": [
      "[0.45202422 0.35707748 0.00672579]\n"
     ]
    }
   ],
   "source": [
    "my_lib = ctypes.CDLL(r\"..\\rust_lib\\target\\debug\\rust_lib.dll\")\n",
    "\n",
    "my_lib.delete_float_array.argtypes = [\n",
    "    ctypes.POINTER(ctypes.c_float),\n",
    "    ctypes.c_int32,\n",
    "]\n",
    "\n",
    "my_lib.generate_random_w.argtypes = [ctypes.c_int32]\n",
    "my_lib.generate_random_w.restype = ctypes.POINTER(ctypes.c_float)\n",
    "\n",
    "my_lib.delete_float_array.restype = None\n",
    "\n",
    "dimension = 2\n",
    "\n",
    "w_array_ptr = my_lib.generate_random_w(dimension)\n",
    "\n",
    "w_array = np.ctypeslib.as_array(w_array_ptr, ((dimension + 1),))\n",
    "\n",
    "print(w_array)"
   ],
   "metadata": {
    "collapsed": false
   }
  },
  {
   "cell_type": "code",
   "metadata": {
    "id": "IvhvqkDw928q",
    "colab": {
     "base_uri": "https://localhost:8080/"
    },
    "outputId": "be06d0ab-dfcb-4469-f009-7cad5672caab"
   },
   "source": [
    "X = np.random.random((500, 2)) * 2.0 - 1.0\n",
    "Y = np.array([[1, 0, 0] if -p[0] - p[1] - 0.5 > 0 and p[1] < 0 and p[0] - p[1] - 0.5 < 0 else\n",
    "              [0, 1, 0] if -p[0] - p[1] - 0.5 < 0 and p[1] > 0 and p[0] - p[1] - 0.5 < 0 else\n",
    "              [0, 0, 1] if -p[0] - p[1] - 0.5 < 0 and p[1] < 0 and p[0] - p[1] - 0.5 > 0 else\n",
    "              [0, 0, 0]for p in X])\n",
    "\n",
    "X = X[[not np.all(arr == [0, 0, 0]) for arr in Y]]\n",
    "Y = Y[[not np.all(arr == [0, 0, 0]) for arr in Y]]\n",
    "\n",
    "Y_1 = [x[0] for x in Y]\n",
    "Y_2 = [x[1] for x in Y]\n",
    "Y_3 = [x[2] for x in Y]\n",
    "\n",
    "\n",
    "X = np.array(X, dtype=ctypes.c_float)\n",
    "Y = np.array(Y, dtype=ctypes.c_float)\n",
    "Y_1 = np.array(Y_1, dtype=ctypes.c_float)\n",
    "Y_2 = np.array(Y_2, dtype=ctypes.c_float)\n",
    "Y_3 = np.array(Y_3, dtype=ctypes.c_float)\n",
    "\n",
    "X_plot = np.random.random((500, 2)) * 2.0 - 1.0\n",
    "Y_plot = np.array([[1, 0, 0] if -p[0] - p[1] - 0.5 > 0 and p[1] < 0 and p[0] - p[1] - 0.5 < 0 else\n",
    "              [0, 1, 0] if -p[0] - p[1] - 0.5 < 0 and p[1] > 0 and p[0] - p[1] - 0.5 < 0 else\n",
    "              [0, 0, 1] if -p[0] - p[1] - 0.5 < 0 and p[1] < 0 and p[0] - p[1] - 0.5 > 0 else\n",
    "              [0, 0, 0]for p in X_plot])\n",
    "\n",
    "X_plot = X_plot[[not np.all(arr == [0, 0, 0]) for arr in Y_plot]]\n",
    "Y_plot = Y_plot[[not np.all(arr == [0, 0, 0]) for arr in Y_plot]]"
   ],
   "execution_count": 108,
   "outputs": []
  },
  {
   "cell_type": "code",
   "execution_count": 109,
   "outputs": [
    {
     "name": "stdout",
     "output_type": "stream",
     "text": [
      "[1. 1. 0. 0. 0. 0. 1. 0. 0. 0. 0. 1. 0. 0. 0. 0. 1. 0. 0. 0. 0. 0. 0. 1.\n",
      " 0. 0. 0. 0. 1. 0. 0. 0. 1. 0. 0. 0. 0. 0. 0. 0. 0. 0. 0. 1. 0. 0. 0. 0.\n",
      " 1. 0. 0. 0. 0. 0. 0. 0. 0. 0. 0. 0. 1. 1. 0. 0. 0. 0. 1. 0. 0. 0. 1. 1.\n",
      " 1. 0. 0. 0. 0. 0. 0. 0. 0. 0. 0. 0. 0. 0. 0. 0. 0. 0. 0. 0. 0. 0. 1. 0.\n",
      " 0. 1. 0. 0. 1. 0. 0. 0. 1. 1. 0. 1. 1. 1. 0. 1. 0. 0. 1. 0. 0. 0. 0. 0.\n",
      " 0. 0. 0. 0. 0. 0. 0. 1. 1. 1. 0. 0. 1. 0. 0. 0. 0. 0. 0. 0. 0. 0. 0. 0.\n",
      " 0. 0. 0. 0. 0. 0. 1. 1. 0. 1. 0. 0. 1. 0. 0. 1. 0. 0. 0. 1. 1. 0. 0. 1.\n",
      " 0. 0. 0. 0. 0. 0. 0. 0. 1. 0. 0. 0. 0. 1. 0. 0. 0. 0. 0. 0. 0. 0. 1. 1.\n",
      " 0. 0. 0. 0. 0. 0. 0. 0. 1. 0. 1. 0. 0. 1. 0. 0. 0. 1. 0. 1. 0. 0. 0. 0.\n",
      " 0. 0. 0. 0. 0. 0. 0. 1. 1. 0. 1. 0. 1. 1. 0. 0. 1. 0. 0. 1. 0. 0. 0. 0.\n",
      " 0. 1. 0. 0. 0. 0. 0. 1. 0. 0. 0. 0. 0. 1. 0. 0. 0. 0. 1. 0. 0. 0. 1. 0.\n",
      " 0. 0. 1. 0. 0. 0. 0. 0. 0. 1. 0. 0. 0. 1. 1. 0. 0. 1. 1. 0. 0. 1. 0. 0.\n",
      " 1. 0. 0. 0. 0. 0. 0. 1. 1. 0. 0. 0. 0. 0. 0. 0. 0. 1. 0. 1. 0. 0. 0. 0.\n",
      " 1. 0. 0. 0. 0. 1. 0. 1. 0. 0. 0. 1. 0. 1. 0. 0. 0. 0. 0. 0. 0. 0. 1. 0.\n",
      " 1. 0. 0. 0. 0. 0. 0. 0. 0. 0. 0. 0. 0. 0. 1. 0. 0. 0. 1. 0. 0. 0. 0. 0.\n",
      " 0. 1. 0. 1. 0. 0. 0. 1. 0. 0. 0. 0. 0. 0. 1. 0. 0. 0. 0. 1. 0. 1. 0. 1.\n",
      " 1. 0. 0. 1. 0. 1. 0. 0. 1. 1. 0. 0. 0. 1. 0. 0. 0. 0. 0. 0. 0. 0. 1.]\n"
     ]
    }
   ],
   "source": [
    "print(Y_1)"
   ],
   "metadata": {
    "collapsed": false
   }
  },
  {
   "cell_type": "code",
   "execution_count": 110,
   "outputs": [
    {
     "name": "stdout",
     "output_type": "stream",
     "text": [
      "[0. 0. 1. 1. 0. 0. 0. 1. 0. 1. 1. 0. 0. 1. 1. 1. 0. 1. 0. 0. 0. 1. 0. 0.\n",
      " 1. 1. 1. 1. 0. 1. 1. 1. 0. 1. 1. 1. 1. 0. 1. 1. 1. 1. 0. 0. 1. 1. 1. 1.\n",
      " 0. 1. 1. 1. 1. 1. 1. 1. 0. 1. 0. 1. 0. 0. 0. 1. 1. 0. 0. 0. 1. 1. 0. 0.\n",
      " 0. 0. 1. 1. 1. 0. 1. 1. 1. 0. 1. 1. 1. 1. 1. 1. 1. 1. 1. 1. 0. 1. 0. 1.\n",
      " 0. 0. 1. 1. 0. 1. 0. 1. 0. 0. 1. 0. 0. 0. 1. 0. 0. 0. 0. 1. 1. 1. 1. 1.\n",
      " 0. 1. 1. 1. 1. 1. 1. 0. 0. 0. 1. 0. 0. 1. 1. 1. 0. 1. 0. 1. 1. 1. 1. 0.\n",
      " 0. 1. 1. 1. 0. 1. 0. 0. 1. 0. 1. 0. 0. 1. 0. 0. 1. 1. 1. 0. 0. 1. 1. 0.\n",
      " 1. 1. 1. 0. 1. 0. 0. 1. 0. 1. 1. 0. 1. 0. 0. 1. 0. 0. 1. 1. 1. 1. 0. 0.\n",
      " 1. 1. 1. 1. 0. 1. 0. 1. 0. 0. 0. 0. 1. 0. 0. 1. 1. 0. 1. 0. 1. 0. 1. 0.\n",
      " 1. 1. 0. 1. 1. 0. 0. 0. 0. 1. 0. 1. 0. 0. 1. 1. 0. 1. 1. 0. 0. 0. 1. 1.\n",
      " 1. 0. 1. 1. 0. 1. 1. 0. 1. 0. 1. 0. 0. 0. 0. 1. 1. 0. 0. 1. 1. 1. 0. 1.\n",
      " 1. 1. 0. 1. 1. 1. 0. 1. 1. 0. 1. 0. 1. 0. 0. 1. 1. 0. 0. 1. 1. 0. 1. 0.\n",
      " 0. 1. 1. 0. 1. 0. 1. 0. 0. 1. 1. 1. 1. 1. 1. 1. 1. 0. 0. 0. 1. 0. 1. 1.\n",
      " 0. 1. 1. 1. 1. 0. 1. 0. 1. 0. 1. 0. 1. 0. 0. 0. 1. 1. 0. 0. 1. 1. 0. 1.\n",
      " 0. 1. 1. 1. 1. 1. 1. 0. 1. 1. 1. 1. 0. 0. 0. 1. 1. 1. 0. 0. 0. 1. 1. 1.\n",
      " 0. 0. 0. 0. 1. 1. 1. 0. 0. 1. 1. 1. 1. 1. 0. 0. 1. 0. 1. 0. 0. 0. 1. 0.\n",
      " 0. 1. 0. 0. 0. 0. 0. 0. 0. 0. 1. 1. 1. 0. 0. 1. 0. 1. 1. 1. 1. 1. 0.]\n"
     ]
    }
   ],
   "source": [
    "print(Y_2)"
   ],
   "metadata": {
    "collapsed": false
   }
  },
  {
   "cell_type": "code",
   "execution_count": 111,
   "outputs": [
    {
     "name": "stdout",
     "output_type": "stream",
     "text": [
      "[[-0.63467836 -0.1765466 ]\n",
      " [-0.24491446 -0.4763459 ]\n",
      " [ 0.96050173  0.5337127 ]\n",
      " [-0.52350336  0.7132396 ]\n",
      " [ 0.48904276 -0.13808036]\n",
      " [ 0.38833037 -0.1979294 ]\n",
      " [-0.3285079  -0.5925517 ]\n",
      " [-0.2839175   0.83447933]\n",
      " [ 0.33085445 -0.2545944 ]\n",
      " [-0.33229312  0.9370516 ]\n",
      " [-0.64369047  0.51757956]\n",
      " [-0.46260625 -0.8967595 ]\n",
      " [ 0.87476116 -0.8550024 ]\n",
      " [ 0.5907107   0.5126648 ]\n",
      " [ 0.8150813   0.4202513 ]\n",
      " [ 0.6851969   0.4764887 ]\n",
      " [-0.9849897  -0.40226603]\n",
      " [ 0.55312425  0.36049938]\n",
      " [ 0.5280936  -0.18521568]\n",
      " [ 0.7135166  -0.39568156]\n",
      " [ 0.9978831  -0.43558568]\n",
      " [ 0.50548905  0.27991346]\n",
      " [ 0.76939875 -0.19093536]\n",
      " [-0.6265425  -0.73931897]\n",
      " [ 0.5775603   0.9122478 ]\n",
      " [-0.20993344  0.3081051 ]\n",
      " [-0.4967964   0.37125194]\n",
      " [-0.49307477  0.4857981 ]\n",
      " [-0.55883497 -0.8681953 ]\n",
      " [ 0.33683243  0.05768922]\n",
      " [ 0.51458514  0.25512606]\n",
      " [ 0.22785887  0.6226474 ]\n",
      " [-0.65542793 -0.697592  ]\n",
      " [-0.9829181   0.9719717 ]\n",
      " [ 0.22074114  0.7530191 ]\n",
      " [ 0.43148395  0.01604961]\n",
      " [ 0.3429929   0.9034576 ]\n",
      " [ 0.5513144  -0.20987888]\n",
      " [-0.3819029   0.305935  ]\n",
      " [-0.88474095  0.4801438 ]\n",
      " [ 0.6739478   0.5451966 ]\n",
      " [-0.76571584  0.79420483]\n",
      " [ 0.69194084 -0.126783  ]\n",
      " [-0.93766814 -0.02272663]\n",
      " [ 0.72569084  0.23768266]\n",
      " [-0.25993508  0.34081188]\n",
      " [ 0.16092563  0.95830387]\n",
      " [-0.61349326  0.7333128 ]\n",
      " [-0.1937973  -0.5702419 ]\n",
      " [ 0.35728434  0.16804636]\n",
      " [ 0.6504845   0.7582322 ]\n",
      " [-0.5088801   0.14057122]\n",
      " [ 0.78451437  0.3248997 ]\n",
      " [ 0.32551107  0.3833116 ]\n",
      " [-0.09088884  0.45813704]\n",
      " [-0.08086333  0.5713712 ]\n",
      " [ 0.4131292  -0.8201646 ]\n",
      " [ 0.8988311   0.55866855]\n",
      " [ 0.6156977  -0.72640467]\n",
      " [-0.6580104   0.48201033]\n",
      " [-0.9104593  -0.44162625]\n",
      " [-0.6409449  -0.63095206]\n",
      " [ 0.4191897  -0.18905617]\n",
      " [ 0.12402251  0.08491717]\n",
      " [-0.4368641   0.4933428 ]\n",
      " [ 0.43678534 -0.3827397 ]\n",
      " [-0.17369296 -0.5515021 ]\n",
      " [ 0.6622393  -0.81997925]\n",
      " [ 0.14125365  0.16919915]\n",
      " [ 0.31140524  0.7529765 ]\n",
      " [-0.7349729  -0.6301227 ]\n",
      " [-0.7909612  -0.28263065]\n",
      " [-0.6307759  -0.2860747 ]\n",
      " [ 0.74506384 -0.67609435]\n",
      " [-0.0615626   0.911737  ]\n",
      " [-0.05665812  0.18615793]\n",
      " [-0.33483565  0.10460646]\n",
      " [ 0.33813742 -0.51647896]\n",
      " [ 0.8947008   0.9299881 ]\n",
      " [ 0.808689    0.8069113 ]\n",
      " [ 0.68944716  0.8151249 ]\n",
      " [ 0.91785157 -0.8334238 ]\n",
      " [ 0.43151617  0.45791146]\n",
      " [ 0.4862228   0.5483472 ]\n",
      " [ 0.8240027   0.8760012 ]\n",
      " [ 0.27297094  0.18903954]\n",
      " [-0.5562769   0.09024402]\n",
      " [-0.83868974  0.60361975]\n",
      " [-0.99719197  0.8306101 ]\n",
      " [-0.35406682  0.9157062 ]\n",
      " [ 0.21898949  0.21452767]\n",
      " [ 0.14640933  0.9389843 ]\n",
      " [ 0.7665053  -0.7228102 ]\n",
      " [-0.53131825  0.8647656 ]\n",
      " [-0.6795767  -0.6560003 ]\n",
      " [-0.39557946  0.26500183]\n",
      " [ 0.72252643 -0.41873333]\n",
      " [-0.49364063 -0.4381554 ]\n",
      " [-0.6122494   0.8740811 ]\n",
      " [-0.14600414  0.5631552 ]\n",
      " [-0.8133853  -0.9747346 ]\n",
      " [-0.1692262   0.9631772 ]\n",
      " [ 0.3477689  -0.29048923]\n",
      " [-0.7685738   0.9612704 ]\n",
      " [-0.5920803  -0.14369224]\n",
      " [-0.34553537 -0.77807075]\n",
      " [-0.7642109   0.86853   ]\n",
      " [-0.44920737 -0.61257774]\n",
      " [-0.6865513  -0.910982  ]\n",
      " [-0.27172974 -0.26582658]\n",
      " [-0.19107437  0.8690836 ]\n",
      " [-0.06939799 -0.48401356]\n",
      " [ 0.8402737  -0.47192398]\n",
      " [ 0.19453692 -0.46525252]\n",
      " [-0.47224447 -0.955389  ]\n",
      " [-0.02658044  0.67876023]\n",
      " [-0.5866472   0.37792987]\n",
      " [ 0.009802    0.15919611]\n",
      " [ 0.6619279   0.5424249 ]\n",
      " [-0.2999204   0.45734745]\n",
      " [ 0.54772955 -0.77823794]\n",
      " [-0.27268532  0.2849772 ]\n",
      " [-0.5556409   0.61239445]\n",
      " [ 0.9612115   0.5605989 ]\n",
      " [-0.7018525   0.93098557]\n",
      " [-0.8376859   0.96552193]\n",
      " [-0.575772    0.27269587]\n",
      " [-0.46045637 -0.74250555]\n",
      " [-0.8557427  -0.9056502 ]\n",
      " [-0.08317836 -0.5048498 ]\n",
      " [ 0.4040432   0.29108107]\n",
      " [ 0.53506047 -0.6999844 ]\n",
      " [-0.97465676 -0.28420457]\n",
      " [ 0.1417134   0.5439634 ]\n",
      " [ 0.40758538  0.9475366 ]\n",
      " [ 0.46733525  0.6434682 ]\n",
      " [ 0.65115887 -0.27478242]\n",
      " [-0.53247374  0.9857245 ]\n",
      " [ 0.9504283  -0.80744135]\n",
      " [ 0.10656346  0.15009655]\n",
      " [ 0.58445334  0.28376165]\n",
      " [-0.16908367  0.8379559 ]\n",
      " [ 0.5384139   0.04606017]\n",
      " [ 0.61327165 -0.9747931 ]\n",
      " [ 0.5275356  -0.98480546]\n",
      " [-0.24010906  0.7303393 ]\n",
      " [ 0.17571451  0.03915671]\n",
      " [-0.2658857   0.90753853]\n",
      " [ 0.5427394  -0.44855487]\n",
      " [ 0.1390656   0.12911358]\n",
      " [-0.99534184 -0.1113276 ]\n",
      " [-0.7637177  -0.530985  ]\n",
      " [-0.47362947  0.64837164]\n",
      " [-0.49910358 -0.15478268]\n",
      " [-0.5626577   0.14328577]\n",
      " [ 0.8308078  -0.75225186]\n",
      " [-0.19201711 -0.4230741 ]\n",
      " [ 0.14319777  0.20629714]\n",
      " [ 0.59894776 -0.1198293 ]\n",
      " [-0.9153905  -0.07251114]\n",
      " [-0.56059176  0.47371477]\n",
      " [ 0.7095778   0.43497175]\n",
      " [-0.46074978  0.0734809 ]\n",
      " [-0.71088064 -0.86587876]\n",
      " [-0.52122355 -0.8319979 ]\n",
      " [ 0.17524967  0.78680456]\n",
      " [-0.1536509   0.8557712 ]\n",
      " [-0.8219074  -0.44803047]\n",
      " [-0.81709874  0.7588231 ]\n",
      " [-0.7094962   0.6421192 ]\n",
      " [ 0.11438052  0.66723067]\n",
      " [ 0.42193657 -0.2966285 ]\n",
      " [ 0.8821368   0.94347316]\n",
      " [ 0.96673936 -0.02181681]\n",
      " [ 0.4237273  -0.66012746]\n",
      " [-0.1626163   0.9335265 ]\n",
      " [-0.3866     -0.46582234]\n",
      " [ 0.24938045  0.81784254]\n",
      " [-0.45340443  0.0040933 ]\n",
      " [ 0.6234699  -0.69366354]\n",
      " [-0.74468136  0.94865924]\n",
      " [-0.8113683  -0.24388705]\n",
      " [ 0.41762775 -0.72818476]\n",
      " [ 0.3582137   0.38641712]\n",
      " [ 0.9483855  -0.5802995 ]\n",
      " [ 0.40907994 -0.47312096]\n",
      " [-0.919137    0.94488466]\n",
      " [ 0.60982376  0.5891401 ]\n",
      " [-0.45329148  0.80172765]\n",
      " [-0.6775775   0.5979766 ]\n",
      " [-0.7921415  -0.8139654 ]\n",
      " [-0.2986922  -0.76005113]\n",
      " [ 0.6478579   0.19039486]\n",
      " [-0.01334584  0.9249281 ]\n",
      " [ 0.81530917  0.8669183 ]\n",
      " [ 0.58519363  0.45091155]\n",
      " [ 0.67627597 -0.07101995]\n",
      " [ 0.6404499   0.58470803]\n",
      " [ 0.9786474  -0.16406848]\n",
      " [ 0.16626556  0.6990324 ]\n",
      " [-0.49404547 -0.0983799 ]\n",
      " [ 0.8775449  -0.40097052]\n",
      " [-0.5151868  -0.06627958]\n",
      " [ 0.65153253 -0.7740394 ]\n",
      " [ 0.7852044   0.36567044]\n",
      " [-0.9416583  -0.3016892 ]\n",
      " [ 0.39180946 -0.12734316]\n",
      " [ 0.7135953   0.82885283]\n",
      " [ 0.26278368  0.16537507]\n",
      " [-0.24579789 -0.53545463]\n",
      " [-0.1958594   0.608303  ]\n",
      " [-0.98250556 -0.25689092]\n",
      " [-0.7735645   0.5478166 ]\n",
      " [ 0.7732404  -0.28763995]\n",
      " [-0.09249796  0.7565234 ]\n",
      " [ 0.62093496 -0.36203107]\n",
      " [-0.8397716   0.65724653]\n",
      " [-0.58690333  0.39489743]\n",
      " [ 0.31553134 -0.3468974 ]\n",
      " [-0.35760486  0.6464631 ]\n",
      " [ 0.6747653   0.41729006]\n",
      " [ 0.979798   -0.7290106 ]\n",
      " [ 0.5523926  -0.2452642 ]\n",
      " [-0.688033   -0.09635574]\n",
      " [-0.5356896  -0.72051805]\n",
      " [-0.3273874   0.21992712]\n",
      " [-0.69624275 -0.4785269 ]\n",
      " [-0.01603309  0.8640185 ]\n",
      " [-0.95479333 -0.64467597]\n",
      " [-0.5470204  -0.87228924]\n",
      " [-0.09878594  0.7575277 ]\n",
      " [-0.64414656  0.7233944 ]\n",
      " [-0.4292697  -0.59824556]\n",
      " [-0.20676066  0.7082066 ]\n",
      " [ 0.60104257  0.25769645]\n",
      " [-0.32975462 -0.31896338]\n",
      " [ 0.8745015  -0.07750128]\n",
      " [ 0.7037708  -0.5281586 ]\n",
      " [ 0.29431877  0.95182616]\n",
      " [-0.34222236  0.7225819 ]\n",
      " [ 0.80585563  0.6270546 ]\n",
      " [-0.6291631  -0.7410303 ]\n",
      " [-0.6164576   0.13552879]\n",
      " [-0.00860274  0.12295593]\n",
      " [ 0.98252714 -0.7208809 ]\n",
      " [-0.11830553  0.14957546]\n",
      " [ 0.05965258  0.5899942 ]\n",
      " [-0.05875001 -0.4440446 ]\n",
      " [ 0.10195053  0.4897506 ]\n",
      " [ 0.97919214 -0.4253512 ]\n",
      " [ 0.2495453   0.0478546 ]\n",
      " [ 0.32911348 -0.1973539 ]\n",
      " [ 0.55007297 -0.43789798]\n",
      " [-0.57428336 -0.9760103 ]\n",
      " [ 0.7483854  -0.18121505]\n",
      " [ 0.28712398  0.22485079]\n",
      " [-0.6245568   0.25681165]\n",
      " [ 0.9064812  -0.5757415 ]\n",
      " [-0.88877225 -0.548752  ]\n",
      " [ 0.6694668   0.8161845 ]\n",
      " [ 0.9231288   0.61755514]\n",
      " [ 0.39030594  0.47357917]\n",
      " [-0.29878923 -0.46046108]\n",
      " [ 0.09531429  0.5889737 ]\n",
      " [ 0.09843688  0.90729874]\n",
      " [ 0.07565252  0.6527391 ]\n",
      " [-0.5011442  -0.7857387 ]\n",
      " [-0.94438165  0.62421876]\n",
      " [ 0.2399367   0.65998274]\n",
      " [ 0.00183293  0.64405704]\n",
      " [ 0.5522383  -0.03340119]\n",
      " [ 0.12470971  0.11260761]\n",
      " [ 0.96442634  0.91757566]\n",
      " [-0.20964356 -0.45477962]\n",
      " [-0.5533626   0.55255824]\n",
      " [ 0.43833402 -0.75752103]\n",
      " [-0.1845323   0.85093594]\n",
      " [-0.43118742 -0.11509989]\n",
      " [-0.5081519  -0.25088426]\n",
      " [-0.77334654  0.816395  ]\n",
      " [-0.33537954  0.8595931 ]\n",
      " [-0.90250987 -0.48191062]\n",
      " [-0.7504156  -0.6794862 ]\n",
      " [-0.04410453  0.5945039 ]\n",
      " [-0.1548314   0.36721173]\n",
      " [-0.86345565 -0.34785378]\n",
      " [-0.5043333   0.63665223]\n",
      " [ 0.77417576 -0.09133714]\n",
      " [-0.25353268 -0.7007709 ]\n",
      " [-0.10083943  0.6208213 ]\n",
      " [-0.58671606  0.8152246 ]\n",
      " [ 0.1254591  -0.49670795]\n",
      " [ 0.93331456  0.5295794 ]\n",
      " [ 0.71837336 -0.09008937]\n",
      " [-0.19606818  0.05394159]\n",
      " [-0.6774397  -0.70020825]\n",
      " [-0.73317564 -0.73421353]\n",
      " [-0.34529954  0.8115877 ]\n",
      " [ 0.61241424  0.7060798 ]\n",
      " [ 0.5719041   0.4272235 ]\n",
      " [ 0.7072641   0.44289386]\n",
      " [ 0.61308354  0.6805764 ]\n",
      " [-0.3416621   0.8459601 ]\n",
      " [-0.06388457  0.5842562 ]\n",
      " [-0.07799259  0.16880445]\n",
      " [-0.50961137 -0.8712906 ]\n",
      " [ 0.91873294 -0.94693434]\n",
      " [-0.47933587 -0.21910796]\n",
      " [-0.22248094  0.06454463]\n",
      " [ 0.887442   -0.13248828]\n",
      " [ 0.159846    0.69677657]\n",
      " [-0.1758067   0.5659663 ]\n",
      " [-0.5194618  -0.61378086]\n",
      " [ 0.6145662   0.7280759 ]\n",
      " [-0.25245395  0.79665613]\n",
      " [ 0.5743289   0.3552244 ]\n",
      " [ 0.10299877  0.2733373 ]\n",
      " [-0.1564922  -0.5780043 ]\n",
      " [ 0.3950779   0.20731948]\n",
      " [-0.41279796 -0.91192174]\n",
      " [ 0.15766804  0.8007971 ]\n",
      " [ 0.616724   -0.6578982 ]\n",
      " [-0.9117812   0.97642815]\n",
      " [-0.34497344 -0.44411197]\n",
      " [ 0.46603042  0.6040075 ]\n",
      " [-0.72617096 -0.06286108]\n",
      " [ 0.3585919  -0.47193745]\n",
      " [ 0.4704205  -0.07435758]\n",
      " [-0.5735529   0.214747  ]\n",
      " [-0.34956396  0.39148164]\n",
      " [ 0.51065063 -0.33537468]\n",
      " [ 0.77250487 -0.7717659 ]\n",
      " [ 0.6254131   0.7128941 ]\n",
      " [-0.56946176  0.6294367 ]\n",
      " [-0.54510236 -0.12420437]\n",
      " [ 0.57931304  0.5591659 ]\n",
      " [-0.4892884  -0.74270004]\n",
      " [ 0.7511324   0.860357  ]\n",
      " [-0.1313338   0.7734001 ]\n",
      " [ 0.24348307  0.9008291 ]\n",
      " [-0.00105965  0.4668832 ]\n",
      " [ 0.19846085  0.77772766]\n",
      " [-0.2046054   0.46617177]\n",
      " [ 0.53416204 -0.56034833]\n",
      " [-0.64288074  0.18270978]\n",
      " [ 0.09583525  0.49163797]\n",
      " [-0.7889578   0.29007646]\n",
      " [ 0.8584972   0.7743624 ]\n",
      " [ 0.34437647 -0.57257545]\n",
      " [ 0.5414568  -0.40282843]\n",
      " [-0.8506278  -0.30130726]\n",
      " [ 0.01195408  0.02810449]\n",
      " [-0.20201284  0.9495533 ]\n",
      " [ 0.13544017  0.9139499 ]\n",
      " [-0.7768511  -0.6928722 ]\n",
      " [ 0.8915434  -0.24456006]\n",
      " [ 0.9416933  -0.61097974]\n",
      " [ 0.7244454   0.5418573 ]\n",
      " [-0.919245    0.6775667 ]\n",
      " [-0.13535993  0.18225865]\n",
      " [ 0.9463754  -0.17850463]\n",
      " [-0.3907563  -0.7729738 ]\n",
      " [ 0.8501439  -0.61434245]\n",
      " [-0.33134386 -0.472378  ]\n",
      " [ 0.79844975  0.31055146]\n",
      " [ 0.09724284  0.7867161 ]\n",
      " [ 0.15517375  0.84963685]\n",
      " [-0.5335482  -0.41664872]\n",
      " [ 0.8654318  -0.24046099]\n",
      " [-0.27939343  0.3679262 ]\n",
      " [-0.7178736   0.44623196]\n",
      " [ 0.9696016   0.81600875]\n",
      " [ 0.68327427  0.40818217]\n",
      " [-0.21664806  0.30874303]\n",
      " [-0.41807276 -0.15829414]\n",
      " [ 0.81460845 -0.7507836 ]\n",
      " [-0.88067764  0.8750187 ]\n",
      " [ 0.90442413 -0.5481094 ]\n",
      " [ 0.64380676  0.6659549 ]\n",
      " [-0.65260637 -0.30384088]\n",
      " [ 0.6733928  -0.89731824]\n",
      " [-0.5684267  -0.6714878 ]\n",
      " [ 0.55442023  0.4844079 ]\n",
      " [-0.8659453  -0.80493575]\n",
      " [-0.99870294 -0.1559421 ]\n",
      " [-0.8039466   0.4116644 ]\n",
      " [ 0.9010318  -0.09011056]\n",
      " [-0.41380137 -0.2195646 ]\n",
      " [ 0.9342696  -0.66247034]\n",
      " [-0.6428655  -0.41795665]\n",
      " [ 0.57456416 -0.8764889 ]\n",
      " [ 0.33987615 -0.4358816 ]\n",
      " [-0.4458825  -0.79159456]\n",
      " [-0.549556   -0.80213255]\n",
      " [-0.8262513   0.52157867]\n",
      " [-0.49687347  0.3588374 ]\n",
      " [ 0.41265008  0.48479614]\n",
      " [-0.21240221 -0.565273  ]\n",
      " [ 0.2980622  -0.5479664 ]\n",
      " [ 0.7101398   0.9185327 ]\n",
      " [ 0.01564548 -0.49072802]\n",
      " [ 0.37324265  0.83272374]\n",
      " [-0.8933085   0.82430315]\n",
      " [-0.2593915   0.86829156]\n",
      " [ 0.92840457  0.7860258 ]\n",
      " [ 0.6823002   0.98421544]\n",
      " [-0.49836332 -0.59892553]]\n",
      "<class 'numpy.ndarray'>\n"
     ]
    }
   ],
   "source": [
    "print(X)\n",
    "print(type(X))"
   ],
   "metadata": {
    "collapsed": false
   }
  },
  {
   "cell_type": "code",
   "execution_count": 112,
   "outputs": [],
   "source": [
    "arr_size = len(X)\n",
    "dimension = len(X[0])\n",
    "learning_rate = ctypes.c_float(0.01)\n",
    "epoch = 10000000\n",
    "X_flat = X.flatten()"
   ],
   "metadata": {
    "collapsed": false
   }
  },
  {
   "cell_type": "code",
   "execution_count": 113,
   "outputs": [
    {
     "name": "stdout",
     "output_type": "stream",
     "text": [
      "407\n",
      "2\n",
      "c_float(0.009999999776482582)\n",
      "10000000\n"
     ]
    }
   ],
   "source": [
    "print(len(X))\n",
    "print(dimension)\n",
    "print(learning_rate)\n",
    "print(epoch)\n",
    "#print(X_flat)"
   ],
   "metadata": {
    "collapsed": false
   }
  },
  {
   "cell_type": "code",
   "execution_count": 114,
   "outputs": [],
   "source": [
    "LP_c_float = ctypes.POINTER(ctypes.c_float)\n",
    "x_to_predict = (ctypes.c_float * len(X_flat))(*X_flat)\n",
    "x_to_predict_ptr = ctypes.cast(x_to_predict, LP_c_float)"
   ],
   "metadata": {
    "collapsed": false
   }
  },
  {
   "cell_type": "code",
   "execution_count": 115,
   "outputs": [],
   "source": [
    "LP_c_float = ctypes.POINTER(ctypes.c_float)\n",
    "y_1_to_predict = (ctypes.c_float * len(Y_1))(*Y_1)\n",
    "y_1_to_predict_ptr = ctypes.cast(y_1_to_predict, LP_c_float)"
   ],
   "metadata": {
    "collapsed": false
   }
  },
  {
   "cell_type": "code",
   "execution_count": 116,
   "outputs": [],
   "source": [
    "LP_c_float = ctypes.POINTER(ctypes.c_float)\n",
    "y_2_to_predict = (ctypes.c_float * len(Y_2))(*Y_2)\n",
    "y_2_to_predict_ptr = ctypes.cast(y_2_to_predict, LP_c_float)"
   ],
   "metadata": {
    "collapsed": false
   }
  },
  {
   "cell_type": "code",
   "execution_count": 117,
   "outputs": [],
   "source": [
    "LP_c_float = ctypes.POINTER(ctypes.c_float)\n",
    "y_3_to_predict = (ctypes.c_float * len(Y_3))(*Y_3)\n",
    "y_3_to_predict_ptr = ctypes.cast(y_3_to_predict, LP_c_float)"
   ],
   "metadata": {
    "collapsed": false
   }
  },
  {
   "cell_type": "code",
   "execution_count": 118,
   "outputs": [],
   "source": [
    "my_lib.linear_model_training.argtypes = [\n",
    "    ctypes.POINTER(ctypes.c_float),\n",
    "    ctypes.POINTER(ctypes.c_float),\n",
    "    ctypes.POINTER(ctypes.c_float),\n",
    "    ctypes.c_int32,\n",
    "    ctypes.c_int32,\n",
    "    ctypes.c_float,\n",
    "    ctypes.c_int32,\n",
    "]\n",
    "\n",
    "my_lib.linear_model_training.restype = ctypes.POINTER(ctypes.c_float)"
   ],
   "metadata": {
    "collapsed": false
   }
  },
  {
   "cell_type": "code",
   "execution_count": 119,
   "outputs": [
    {
     "name": "stdout",
     "output_type": "stream",
     "text": [
      "<class 'ctypes.wintypes.LP_c_float'>\n",
      "<class 'ctypes.wintypes.LP_c_float'>\n",
      "<class 'ctypes.wintypes.LP_c_float'>\n",
      "<class 'int'>\n",
      "<class 'int'>\n",
      "<class 'ctypes.c_float'>\n",
      "<class 'int'>\n"
     ]
    }
   ],
   "source": [
    "print(type(w_array_ptr))\n",
    "print(type(y_1_to_predict_ptr))\n",
    "print(type(x_to_predict_ptr))\n",
    "print(type(arr_size))\n",
    "print(type(dimension))\n",
    "print(type(learning_rate))\n",
    "print(type(epoch))"
   ],
   "metadata": {
    "collapsed": false
   }
  },
  {
   "cell_type": "code",
   "execution_count": 120,
   "outputs": [
    {
     "name": "stdout",
     "output_type": "stream",
     "text": [
      "[-0.03797563 -0.07570478 -0.07814718]\n",
      "<class 'ctypes.wintypes.LP_c_float'>\n"
     ]
    }
   ],
   "source": [
    "linear_model_training_ptr_1 = my_lib.linear_model_training(\n",
    "    w_array_ptr,  # pointeur vers le résultat du vecteur W random\n",
    "    y_1_to_predict_ptr,  # pointeur vers les résultats labellisés pour entrainer le modele\n",
    "    x_to_predict_ptr,  # points qui ont permis de labeliser le vecteur d'au dessus\n",
    "    arr_size,  # array size\n",
    "    dimension,  # dimension de chaque vecteur\n",
    "    learning_rate,  # learning rate\n",
    "    epoch,  # nombre de fois où l'on passe sur le data set\n",
    ")\n",
    "trained_linear_model_1 = np.ctypeslib.as_array(\n",
    "    linear_model_training_ptr_1, ((dimension + 1),)\n",
    ")\n",
    "print(trained_linear_model_1)\n",
    "print(type(linear_model_training_ptr_1))"
   ],
   "metadata": {
    "collapsed": false
   }
  },
  {
   "cell_type": "code",
   "execution_count": 121,
   "outputs": [
    {
     "name": "stdout",
     "output_type": "stream",
     "text": [
      "<class 'ctypes.wintypes.LP_c_float'>\n",
      "<class 'ctypes.wintypes.LP_c_float'>\n",
      "<class 'ctypes.wintypes.LP_c_float'>\n",
      "<class 'int'>\n",
      "<class 'int'>\n",
      "<class 'ctypes.c_float'>\n",
      "<class 'int'>\n"
     ]
    }
   ],
   "source": [
    "print(type(w_array_ptr))\n",
    "print(type(y_1_to_predict_ptr))\n",
    "print(type(x_to_predict_ptr))\n",
    "print(type(arr_size))\n",
    "print(type(dimension))\n",
    "print(type(learning_rate))\n",
    "print(type(epoch))"
   ],
   "metadata": {
    "collapsed": false
   }
  },
  {
   "cell_type": "code",
   "execution_count": 122,
   "outputs": [
    {
     "name": "stdout",
     "output_type": "stream",
     "text": [
      "[0.00284238 0.00582135 0.6408431 ]\n",
      "<class 'ctypes.wintypes.LP_c_float'>\n"
     ]
    }
   ],
   "source": [
    "w_array_ptr = my_lib.generate_random_w(dimension)\n",
    "w_array = np.ctypeslib.as_array(w_array_ptr, ((dimension + 1),))\n",
    "linear_model_training_ptr_2 = my_lib.linear_model_training(\n",
    "    w_array_ptr,  # pointeur vers le résultat du vecteur W random\n",
    "    y_2_to_predict,  # pointeur vers les résultats labellisés pour entrainer le modele\n",
    "    x_to_predict_ptr,  # points qui ont permis de labeliser le vecteur d'au dessus\n",
    "    arr_size,  # array size\n",
    "    dimension,  # dimension de chaque vecteur\n",
    "    learning_rate,  # learning rate\n",
    "    epoch,  # nombre de fois où l'on passe sur le data set\n",
    ")\n",
    "trained_linear_model_2 = np.ctypeslib.as_array(\n",
    "    linear_model_training_ptr_2, ((dimension + 1),)\n",
    ")\n",
    "print(trained_linear_model_2)\n",
    "print(type(linear_model_training_ptr_2))"
   ],
   "metadata": {
    "collapsed": false
   }
  },
  {
   "cell_type": "code",
   "execution_count": 123,
   "outputs": [
    {
     "name": "stdout",
     "output_type": "stream",
     "text": [
      "[0.00195312 0.00559957 0.50891066]\n",
      "<class 'ctypes.wintypes.LP_c_float'>\n"
     ]
    }
   ],
   "source": [
    "w_array_ptr = my_lib.generate_random_w(dimension)\n",
    "w_array = np.ctypeslib.as_array(w_array_ptr, ((dimension + 1),))\n",
    "linear_model_training_ptr_3 = my_lib.linear_model_training(\n",
    "    w_array_ptr,  # pointeur vers le résultat du vecteur W random\n",
    "    y_2_to_predict,  # pointeur vers les résultats labellisés pour entrainer le modele\n",
    "    x_to_predict_ptr,  # points qui ont permis de labeliser le vecteur d'au dessus\n",
    "    arr_size,  # array size\n",
    "    dimension,  # dimension de chaque vecteur\n",
    "    learning_rate,  # learning rate\n",
    "    epoch,  # nombre de fois où l'on passe sur le data set\n",
    ")\n",
    "trained_linear_model_3 = np.ctypeslib.as_array(\n",
    "    linear_model_training_ptr_3, ((dimension + 1),)\n",
    ")\n",
    "print(trained_linear_model_3)\n",
    "print(type(linear_model_training_ptr_3))"
   ],
   "metadata": {
    "collapsed": false
   }
  },
  {
   "cell_type": "code",
   "execution_count": 124,
   "outputs": [],
   "source": [
    "my_lib.predict_linear_model.argtypes = [\n",
    "    ctypes.POINTER(ctypes.c_float),\n",
    "    ctypes.POINTER(ctypes.c_float),\n",
    "    ctypes.c_int32,\n",
    "    ctypes.c_int32,\n",
    "]\n",
    "my_lib.predict_linear_model.restype = ctypes.POINTER(ctypes.c_float)"
   ],
   "metadata": {
    "collapsed": false
   }
  },
  {
   "cell_type": "code",
   "execution_count": 125,
   "outputs": [],
   "source": [
    "predicted_labels_1 = []\n",
    "predicted_x1_1 = []\n",
    "predicted_x2_1 = []\n",
    "for x1 in range(-100 , 100) :\n",
    "  for x2 in range(-100 , 100) :\n",
    "    predicted_x1_1.append(x1/100)\n",
    "    predicted_x2_1.append(x2/100)\n",
    "    if x1/100 * trained_linear_model_1[1] + x2/100 * trained_linear_model_1[2] + trained_linear_model_1[0] >= 0:\n",
    "        predicted_labels_1.append('pink')\n",
    "    else : predicted_labels_1.append('white')\n",
    "\n",
    "predicted_labels_2 = []\n",
    "predicted_x1_2 = []\n",
    "predicted_x2_2 = []\n",
    "for x1 in range(-100 , 100) :\n",
    "  for x2 in range(-100 , 100) :\n",
    "    predicted_x1_2.append(x1/100)\n",
    "    predicted_x2_2.append(x2/100)\n",
    "    if x1/100 * trained_linear_model_2[1] + x2/100 * trained_linear_model_2[2] + trained_linear_model_2[0] >= 0:\n",
    "        predicted_labels_2.append('green')\n",
    "    else : predicted_labels_2.append('white')\n",
    "\n",
    "predicted_labels_3 = []\n",
    "predicted_x1_3 = []\n",
    "predicted_x2_3 = []\n",
    "for x1 in range(-100 , 100) :\n",
    "  for x2 in range(-100 , 100) :\n",
    "    predicted_x1_3.append(x1/100)\n",
    "    predicted_x2_3.append(x2/100)\n",
    "    if x1/100 * trained_linear_model_3[1] + x2/100 * trained_linear_model_3[2] + trained_linear_model_3[0] >= 0:\n",
    "        predicted_labels_3.append('blue')\n",
    "    else : predicted_labels_3.append('white')"
   ],
   "metadata": {
    "collapsed": false
   }
  },
  {
   "cell_type": "code",
   "execution_count": 126,
   "outputs": [],
   "source": [
    "# predicted_labs = []\n",
    "# predicted_x1 = []\n",
    "# predicted_x2 = []\n",
    "# for x1 in range(-100 , 100) :\n",
    "#   for x2 in range(-100 , 100) :\n",
    "#     predicted_x1.append(x1/100)\n",
    "#     predicted_x2.append(x2/100)\n",
    "#     if (x1/100 * trained_linear_model_1[1] + x2/100 * trained_linear_model_1[2] + trained_linear_model_1[0] >= 0)\\\n",
    "#             and (x1/100 * trained_linear_model_2[1] + x2/100 * trained_linear_model_2[2] + trained_linear_model_2[0] < 0)\\\n",
    "#             and (x1/100 * trained_linear_model_3[1] + x2/100 * trained_linear_model_3[2] + trained_linear_model_3[0] < 0):\n",
    "#         predicted_labs.append('aqua')\n",
    "#     elif (x1/100 * trained_linear_model_2[1] + x2/100 * trained_linear_model_2[2] + trained_linear_model_2[0] >= 0)\\\n",
    "#             and (x1/100 * trained_linear_model_1[1] + x2/100 * trained_linear_model_1[2] + trained_linear_model_1[0] < 0)\\\n",
    "#             and (x1/100 * trained_linear_model_3[1] + x2/100 * trained_linear_model_3[2] + trained_linear_model_3[0] < 0):\n",
    "#         predicted_labs.append('lightcoral')\n",
    "#     elif (x1/100 * trained_linear_model_3[1] + x2/100 * trained_linear_model_3[2] + trained_linear_model_3[0] >= 0)\\\n",
    "#             and (x1/100 * trained_linear_model_1[1] + x2/100 * trained_linear_model_1[2] + trained_linear_model_1[0] < 0)\\\n",
    "#             and (x1/100 * trained_linear_model_2[1] + x2/100 * trained_linear_model_2[2] + trained_linear_model_2[0] < 0):\n",
    "#         predicted_labs.append('chocolate')\n",
    "#     else :\n",
    "#         predicted_labs.append('limegreen')\n",
    "\n",
    "predicted_labs = []\n",
    "predicted_x1 = []\n",
    "predicted_x2 = []\n",
    "for x1 in range(-100 , 100) :\n",
    "  for x2 in range(-100 , 100) :\n",
    "    predicted_x1.append(x1/100)\n",
    "    predicted_x2.append(x2/100)\n",
    "    if (x1/100 * trained_linear_model_1[1] + x2/100 * trained_linear_model_1[2] + trained_linear_model_1[0] >= 0) :\n",
    "        predicted_labs.append('aqua')\n",
    "    elif (x1/100 * trained_linear_model_2[1] + x2/100 * trained_linear_model_2[2] + trained_linear_model_2[0] >= 0) :\n",
    "        predicted_labs.append('yellow')\n",
    "    elif (x1/100 * trained_linear_model_3[1] + x2/100 * trained_linear_model_3[2] + trained_linear_model_3[0] <= 0) :\n",
    "        predicted_labs.append('red')\n",
    "    else :\n",
    "        predicted_labs.append('magenta')"
   ],
   "metadata": {
    "collapsed": false
   }
  },
  {
   "cell_type": "code",
   "execution_count": 88,
   "outputs": [],
   "source": [
    "vec_to_predict = []\n",
    "for x1 in range(-100 , 100) :\n",
    "  for x2 in range(-100 , 100) :\n",
    "      vec_to_predict.append([x1, x2])\n",
    "vec_to_predict = np.array(vec_to_predict)"
   ],
   "metadata": {
    "collapsed": false
   }
  },
  {
   "cell_type": "code",
   "metadata": {
    "id": "4aqzcUlJ928s",
    "colab": {
     "base_uri": "https://localhost:8080/",
     "height": 287
    },
    "outputId": "71df307b-e9c9-4a2d-a942-b75e3a141e46"
   },
   "source": [
    "plt.scatter(predicted_x1, predicted_x2, c=predicted_labs)\n",
    "#plt.scatter((predicted_x1_1, predicted_x2_1),(predicted_x1_2, predicted_x2_2), (predicted_x1_3, predicted_x2_3), c=(predicted_labels_1,predicted_labels_2,predicted_labels_3))\n",
    "plt.scatter(np.array(list(map(lambda elt : elt[1], filter(lambda c: Y[c[0]][0] == 1, enumerate(X)))))[:,0], np.array(list(map(lambda elt : elt[1], filter(lambda c: Y[c[0]][0] == 1, enumerate(X)))))[:,1], color='blue')\n",
    "plt.scatter(np.array(list(map(lambda elt : elt[1], filter(lambda c: Y[c[0]][1] == 1, enumerate(X)))))[:,0], np.array(list(map(lambda elt : elt[1], filter(lambda c: Y[c[0]][1] == 1, enumerate(X)))))[:,1], color='red')\n",
    "plt.scatter(np.array(list(map(lambda elt : elt[1], filter(lambda c: Y[c[0]][2] == 1, enumerate(X)))))[:,0], np.array(list(map(lambda elt : elt[1], filter(lambda c: Y[c[0]][2] == 1, enumerate(X)))))[:,1], color='green')\n",
    "plt.show()\n",
    "plt.clf()"
   ],
   "execution_count": 127,
   "outputs": [
    {
     "data": {
      "text/plain": "<Figure size 640x480 with 1 Axes>",
      "image/png": "[encoded data removed]"
     },
     "metadata": {},
     "output_type": "display_data"
    },
    {
     "data": {
      "text/plain": "<Figure size 640x480 with 0 Axes>"
     },
     "metadata": {},
     "output_type": "display_data"
    }
   ]
  },
  {
   "cell_type": "code",
   "execution_count": 129,
   "outputs": [
    {
     "ename": "NameError",
     "evalue": "name 'linear_model_training_ptr_1' is not defined",
     "output_type": "error",
     "traceback": [
      "\u001B[1;31m---------------------------------------------------------------------------\u001B[0m",
      "\u001B[1;31mNameError\u001B[0m                                 Traceback (most recent call last)",
      "Cell \u001B[1;32mIn[129], line 1\u001B[0m\n\u001B[1;32m----> 1\u001B[0m my_lib\u001B[38;5;241m.\u001B[39mdelete_float_array(\u001B[43mlinear_model_training_ptr_1\u001B[49m, (dimension \u001B[38;5;241m+\u001B[39m \u001B[38;5;241m1\u001B[39m))\n\u001B[0;32m      2\u001B[0m my_lib\u001B[38;5;241m.\u001B[39mdelete_float_array(linear_model_training_ptr_2, (dimension \u001B[38;5;241m+\u001B[39m \u001B[38;5;241m1\u001B[39m))\n\u001B[0;32m      3\u001B[0m my_lib\u001B[38;5;241m.\u001B[39mdelete_float_array(linear_model_training_ptr_3, (dimension \u001B[38;5;241m+\u001B[39m \u001B[38;5;241m1\u001B[39m))\n",
      "\u001B[1;31mNameError\u001B[0m: name 'linear_model_training_ptr_1' is not defined"
     ]
    }
   ],
   "source": [
    "my_lib.delete_float_array(linear_model_training_ptr_1, (dimension + 1))\n",
    "my_lib.delete_float_array(linear_model_training_ptr_2, (dimension + 1))\n",
    "my_lib.delete_float_array(linear_model_training_ptr_3, (dimension + 1))\n",
    "del linear_model_training_ptr_1\n",
    "del linear_model_training_ptr_2\n",
    "del linear_model_training_ptr_3"
   ],
   "metadata": {
    "collapsed": false
   }
  },
  {
   "cell_type": "markdown",
   "metadata": {
    "id": "uKFBx2m066i2"
   },
   "source": [
    "### Multi Cross :\n",
    "        Linear Model x3 : KO\n",
    "        MLP (2, ?, ?, 3): OK"
   ]
  },
  {
   "cell_type": "code",
   "execution_count": 130,
   "outputs": [
    {
     "name": "stdout",
     "output_type": "stream",
     "text": [
      "[0.33626616 0.8286294  0.55455124]\n"
     ]
    }
   ],
   "source": [
    "my_lib = ctypes.CDLL(r\"..\\rust_lib\\target\\debug\\rust_lib.dll\")\n",
    "\n",
    "my_lib.delete_float_array.argtypes = [\n",
    "    ctypes.POINTER(ctypes.c_float),\n",
    "    ctypes.c_int32,\n",
    "]\n",
    "\n",
    "my_lib.generate_random_w.argtypes = [ctypes.c_int32]\n",
    "my_lib.generate_random_w.restype = ctypes.POINTER(ctypes.c_float)\n",
    "\n",
    "my_lib.delete_float_array.restype = None\n",
    "\n",
    "dimension = 2\n",
    "\n",
    "w_array_ptr = my_lib.generate_random_w(dimension)\n",
    "\n",
    "w_array = np.ctypeslib.as_array(w_array_ptr, ((dimension + 1),))\n",
    "\n",
    "print(w_array)"
   ],
   "metadata": {
    "collapsed": false
   }
  },
  {
   "cell_type": "code",
   "metadata": {
    "id": "0ZE8OW-K66i5"
   },
   "source": [
    "X = np.random.random((1000, 2)) * 2.0 - 1.0\n",
    "Y = np.array([[1, 0, 0] if abs(p[0] % 0.5) <= 0.25 and abs(p[1] % 0.5) > 0.25 else [0, 1, 0] if abs(p[0] % 0.5) > 0.25 and abs(p[1] % 0.5) <= 0.25 else [0, 0, 1] for p in X])\n",
    "\n",
    "Y_1 = [x[0] for x in Y]\n",
    "Y_2 = [x[1] for x in Y]\n",
    "Y_3 = [x[2] for x in Y]\n",
    "\n",
    "X = np.array(X, dtype=ctypes.c_float)\n",
    "Y = np.array(Y, dtype=ctypes.c_float)\n",
    "Y_1 = np.array(Y_1, dtype=ctypes.c_float)\n",
    "Y_2 = np.array(Y_2, dtype=ctypes.c_float)\n",
    "Y_3 = np.array(Y_3, dtype=ctypes.c_float)\n",
    "\n",
    "X_plot = np.random.random((1000, 2)) * 2.0 - 1.0\n",
    "Y_plot = np.array([[1, 0, 0] if abs(p[0] % 0.5) <= 0.25 and abs(p[1] % 0.5) > 0.25 else [0, 1, 0] if abs(p[0] % 0.5) > 0.25 and abs(p[1] % 0.5) <= 0.25 else [0, 0, 1] for p in X])"
   ],
   "execution_count": 131,
   "outputs": []
  },
  {
   "cell_type": "code",
   "execution_count": 132,
   "outputs": [],
   "source": [
    "arr_size = len(X)\n",
    "dimension = len(X[0])\n",
    "learning_rate = ctypes.c_float(0.01)\n",
    "epoch = 10000000\n",
    "X_flat = X.flatten()"
   ],
   "metadata": {
    "collapsed": false
   }
  },
  {
   "cell_type": "code",
   "execution_count": 133,
   "outputs": [],
   "source": [
    "LP_c_float = ctypes.POINTER(ctypes.c_float)\n",
    "x_to_predict = (ctypes.c_float * len(X_flat))(*X_flat)\n",
    "x_to_predict_ptr = ctypes.cast(x_to_predict, LP_c_float)\n",
    "LP_c_float = ctypes.POINTER(ctypes.c_float)\n",
    "y_1_to_predict = (ctypes.c_float * len(Y_1))(*Y_1)\n",
    "y_1_to_predict_ptr = ctypes.cast(y_1_to_predict, LP_c_float)\n",
    "LP_c_float = ctypes.POINTER(ctypes.c_float)\n",
    "y_2_to_predict = (ctypes.c_float * len(Y_2))(*Y_2)\n",
    "y_2_to_predict_ptr = ctypes.cast(y_2_to_predict, LP_c_float)\n",
    "LP_c_float = ctypes.POINTER(ctypes.c_float)\n",
    "y_3_to_predict = (ctypes.c_float * len(Y_3))(*Y_3)\n",
    "y_3_to_predict_ptr = ctypes.cast(y_3_to_predict, LP_c_float)"
   ],
   "metadata": {
    "collapsed": false
   }
  },
  {
   "cell_type": "code",
   "execution_count": 134,
   "outputs": [],
   "source": [
    "my_lib.linear_model_training.argtypes = [\n",
    "    ctypes.POINTER(ctypes.c_float),\n",
    "    ctypes.POINTER(ctypes.c_float),\n",
    "    ctypes.POINTER(ctypes.c_float),\n",
    "    ctypes.c_int32,\n",
    "    ctypes.c_int32,\n",
    "    ctypes.c_float,\n",
    "    ctypes.c_int32,\n",
    "]\n",
    "\n",
    "my_lib.linear_model_training.restype = ctypes.POINTER(ctypes.c_float)"
   ],
   "metadata": {
    "collapsed": false
   }
  },
  {
   "cell_type": "code",
   "execution_count": 135,
   "outputs": [
    {
     "name": "stdout",
     "output_type": "stream",
     "text": [
      "[-0.00373382  0.00887338  0.01993415]\n",
      "<class 'ctypes.wintypes.LP_c_float'>\n"
     ]
    }
   ],
   "source": [
    "linear_model_training_ptr_1 = my_lib.linear_model_training(\n",
    "    w_array_ptr,  # pointeur vers le résultat du vecteur W random\n",
    "    y_1_to_predict_ptr,  # pointeur vers les résultats labellisés pour entrainer le modele\n",
    "    x_to_predict_ptr,  # points qui ont permis de labeliser le vecteur d'au dessus\n",
    "    arr_size,  # array size\n",
    "    dimension,  # dimension de chaque vecteur\n",
    "    learning_rate,  # learning rate\n",
    "    epoch,  # nombre de fois où l'on passe sur le data set\n",
    ")\n",
    "trained_linear_model_1 = np.ctypeslib.as_array(\n",
    "    linear_model_training_ptr_1, ((dimension + 1),)\n",
    ")\n",
    "print(trained_linear_model_1)\n",
    "print(type(linear_model_training_ptr_1))"
   ],
   "metadata": {
    "collapsed": false
   }
  },
  {
   "cell_type": "code",
   "execution_count": 136,
   "outputs": [
    {
     "name": "stdout",
     "output_type": "stream",
     "text": [
      "[-0.01144559 -0.00167534 -0.01140036]\n",
      "<class 'ctypes.wintypes.LP_c_float'>\n"
     ]
    }
   ],
   "source": [
    "w_array_ptr = my_lib.generate_random_w(dimension)\n",
    "w_array = np.ctypeslib.as_array(w_array_ptr, ((dimension + 1),))\n",
    "linear_model_training_ptr_2 = my_lib.linear_model_training(\n",
    "    w_array_ptr,  # pointeur vers le résultat du vecteur W random\n",
    "    y_2_to_predict,  # pointeur vers les résultats labellisés pour entrainer le modele\n",
    "    x_to_predict_ptr,  # points qui ont permis de labeliser le vecteur d'au dessus\n",
    "    arr_size,  # array size\n",
    "    dimension,  # dimension de chaque vecteur\n",
    "    learning_rate,  # learning rate\n",
    "    epoch,  # nombre de fois où l'on passe sur le data set\n",
    ")\n",
    "trained_linear_model_2 = np.ctypeslib.as_array(\n",
    "    linear_model_training_ptr_2, ((dimension + 1),)\n",
    ")\n",
    "print(trained_linear_model_2)\n",
    "print(type(linear_model_training_ptr_2))"
   ],
   "metadata": {
    "collapsed": false
   }
  },
  {
   "cell_type": "code",
   "execution_count": 137,
   "outputs": [
    {
     "name": "stdout",
     "output_type": "stream",
     "text": [
      "[-0.00026947  0.01385532  0.00530849]\n",
      "<class 'ctypes.wintypes.LP_c_float'>\n"
     ]
    }
   ],
   "source": [
    "w_array_ptr = my_lib.generate_random_w(dimension)\n",
    "w_array = np.ctypeslib.as_array(w_array_ptr, ((dimension + 1),))\n",
    "linear_model_training_ptr_3 = my_lib.linear_model_training(\n",
    "    w_array_ptr,  # pointeur vers le résultat du vecteur W random\n",
    "    y_2_to_predict,  # pointeur vers les résultats labellisés pour entrainer le modele\n",
    "    x_to_predict_ptr,  # points qui ont permis de labeliser le vecteur d'au dessus\n",
    "    arr_size,  # array size\n",
    "    dimension,  # dimension de chaque vecteur\n",
    "    learning_rate,  # learning rate\n",
    "    epoch,  # nombre de fois où l'on passe sur le data set\n",
    ")\n",
    "trained_linear_model_3 = np.ctypeslib.as_array(\n",
    "    linear_model_training_ptr_3, ((dimension + 1),)\n",
    ")\n",
    "print(trained_linear_model_3)\n",
    "print(type(linear_model_training_ptr_3))"
   ],
   "metadata": {
    "collapsed": false
   }
  },
  {
   "cell_type": "code",
   "execution_count": 138,
   "outputs": [],
   "source": [
    "my_lib.predict_linear_model.argtypes = [\n",
    "    ctypes.POINTER(ctypes.c_float),\n",
    "    ctypes.POINTER(ctypes.c_float),\n",
    "    ctypes.c_int32,\n",
    "    ctypes.c_int32,\n",
    "]\n",
    "my_lib.predict_linear_model.restype = ctypes.POINTER(ctypes.c_float)"
   ],
   "metadata": {
    "collapsed": false
   }
  },
  {
   "cell_type": "code",
   "execution_count": 139,
   "outputs": [],
   "source": [
    "predicted_labs = []\n",
    "predicted_x1 = []\n",
    "predicted_x2 = []\n",
    "for x1 in range(-100 , 100) :\n",
    "  for x2 in range(-100 , 100) :\n",
    "    predicted_x1.append(x1/100)\n",
    "    predicted_x2.append(x2/100)\n",
    "    if (x1/100 * trained_linear_model_1[1] + x2/100 * trained_linear_model_1[2] + trained_linear_model_1[0] >= 0) :\n",
    "        predicted_labs.append('aqua')\n",
    "    elif (x1/100 * trained_linear_model_2[1] + x2/100 * trained_linear_model_2[2] + trained_linear_model_2[0] >= 0) :\n",
    "        predicted_labs.append('yellow')\n",
    "    elif (x1/100 * trained_linear_model_3[1] + x2/100 * trained_linear_model_3[2] + trained_linear_model_3[0] <= 0) :\n",
    "        predicted_labs.append('red')\n",
    "    else :\n",
    "        predicted_labs.append('magenta')"
   ],
   "metadata": {
    "collapsed": false
   }
  },
  {
   "cell_type": "code",
   "metadata": {
    "id": "55U95UMS66i6",
    "colab": {
     "base_uri": "https://localhost:8080/",
     "height": 287
    },
    "outputId": "f14df72f-c2c1-4498-9668-f91f29594b06"
   },
   "source": [
    "plt.scatter(predicted_x1, predicted_x2, c=predicted_labs)\n",
    "plt.scatter(np.array(list(map(lambda elt : elt[1], filter(lambda c: Y[c[0]][0] == 1, enumerate(X)))))[:,0], np.array(list(map(lambda elt : elt[1], filter(lambda c: Y[c[0]][0] == 1, enumerate(X)))))[:,1], color='blue')\n",
    "plt.scatter(np.array(list(map(lambda elt : elt[1], filter(lambda c: Y[c[0]][1] == 1, enumerate(X)))))[:,0], np.array(list(map(lambda elt : elt[1], filter(lambda c: Y[c[0]][1] == 1, enumerate(X)))))[:,1], color='red')\n",
    "plt.scatter(np.array(list(map(lambda elt : elt[1], filter(lambda c: Y[c[0]][2] == 1, enumerate(X)))))[:,0], np.array(list(map(lambda elt : elt[1], filter(lambda c: Y[c[0]][2] == 1, enumerate(X)))))[:,1], color='green')\n",
    "plt.show()\n",
    "plt.clf()"
   ],
   "execution_count": 140,
   "outputs": [
    {
     "data": {
      "text/plain": "<Figure size 640x480 with 1 Axes>",
      "image/png": "[encoded data removed]"
     },
     "metadata": {},
     "output_type": "display_data"
    },
    {
     "data": {
      "text/plain": "<Figure size 640x480 with 0 Axes>"
     },
     "metadata": {},
     "output_type": "display_data"
    }
   ]
  },
  {
   "cell_type": "markdown",
   "metadata": {
    "id": "zyrivJMK_WOQ"
   },
   "source": [
    "## Régression"
   ]
  },
  {
   "cell_type": "markdown",
   "metadata": {
    "id": "p4EB787A_WOR"
   },
   "source": [
    "### Linear Simple 2D :\n",
    "        Linear Model : OK\n",
    "        MLP (1, 1)   : OK"
   ]
  },
  {
   "cell_type": "code",
   "execution_count": 14,
   "outputs": [],
   "source": [
    "exit()"
   ],
   "metadata": {
    "collapsed": false
   }
  },
  {
   "cell_type": "code",
   "execution_count": 1,
   "outputs": [],
   "source": [
    "import matplotlib.pyplot as plt\n",
    "import numpy as np\n",
    "import ctypes\n",
    "import random"
   ],
   "metadata": {
    "collapsed": false
   }
  },
  {
   "cell_type": "code",
   "execution_count": 2,
   "outputs": [],
   "source": [
    "my_lib = ctypes.CDLL(r\"..\\rust_lib\\target\\debug\\rust_lib.dll\")"
   ],
   "metadata": {
    "collapsed": false
   }
  },
  {
   "cell_type": "code",
   "metadata": {
    "id": "dan93I7A_WOR"
   },
   "source": [
    "X = np.array([\n",
    "      [1],\n",
    "      [2.5]\n",
    "])\n",
    "Y = np.array([\n",
    "      [1],\n",
    "      [3]\n",
    "])\n",
    "\n",
    "X = np.array(X, dtype=ctypes.c_float)\n",
    "Y = np.array(Y, dtype=ctypes.c_float)\n",
    "\n",
    "print(X)\n",
    "print(Y)"
   ],
   "execution_count": 33,
   "outputs": [
    {
     "name": "stdout",
     "output_type": "stream",
     "text": [
      "[[1. ]\n",
      " [2.5]]\n",
      "[[1.]\n",
      " [3.]]\n"
     ]
    }
   ]
  },
  {
   "cell_type": "code",
   "execution_count": 34,
   "outputs": [],
   "source": [
    "dimension = 1\n",
    "nombre_colonnes_x = 1\n",
    "nombre_lignex_x = 2\n",
    "nombre_colonnes_y = 1\n",
    "nombre_lignes_y = 2\n",
    "X_flat = X.flatten()\n",
    "Y_flat = Y.flatten()"
   ],
   "metadata": {
    "collapsed": false
   }
  },
  {
   "cell_type": "code",
   "execution_count": 35,
   "outputs": [],
   "source": [
    "LP_c_float = ctypes.POINTER(ctypes.c_float)\n",
    "x_to_predict = (ctypes.c_float * len(X_flat))(*X_flat)\n",
    "x_to_predict_ptr = ctypes.cast(x_to_predict, LP_c_float)\n",
    "LP_c_float = ctypes.POINTER(ctypes.c_float)\n",
    "y_to_predict = (ctypes.c_float * len(Y_flat))(*Y_flat)\n",
    "y_to_predict_ptr = ctypes.cast(y_to_predict, LP_c_float)"
   ],
   "metadata": {
    "collapsed": false
   }
  },
  {
   "cell_type": "code",
   "execution_count": 36,
   "outputs": [],
   "source": [
    "my_lib.x_transpose_times_x.argtypes = [\n",
    "    ctypes.POINTER(ctypes.c_float),\n",
    "    ctypes.c_int32,\n",
    "    ctypes.c_int32,\n",
    "]\n",
    "\n",
    "my_lib.x_transpose_times_x.restype = ctypes.POINTER(ctypes.c_float)"
   ],
   "metadata": {
    "collapsed": false
   }
  },
  {
   "cell_type": "code",
   "execution_count": 37,
   "outputs": [
    {
     "name": "stdout",
     "output_type": "stream",
     "text": [
      "[1.  2.5]\n",
      "[1.  2.5]\n"
     ]
    }
   ],
   "source": [
    "print(X.flatten())\n",
    "print(X.transpose().flatten())"
   ],
   "metadata": {
    "collapsed": false
   }
  },
  {
   "cell_type": "code",
   "execution_count": 38,
   "outputs": [
    {
     "name": "stdout",
     "output_type": "stream",
     "text": [
      "[7.25]\n"
     ]
    }
   ],
   "source": [
    "x_transpose_times_x_ptr = my_lib.x_transpose_times_x(x_to_predict_ptr, nombre_lignex_x, nombre_colonnes_x)\n",
    "\n",
    "x_transpose_times_x = np.ctypeslib.as_array(x_transpose_times_x_ptr, (nombre_colonnes_x * nombre_colonnes_x,))\n",
    "\n",
    "print(x_transpose_times_x)"
   ],
   "metadata": {
    "collapsed": false
   }
  },
  {
   "cell_type": "code",
   "execution_count": 39,
   "outputs": [],
   "source": [
    "my_lib.find_w_linear_regression.argtypes = [\n",
    "    ctypes.POINTER(ctypes.c_float),\n",
    "    ctypes.POINTER(ctypes.c_float),\n",
    "    ctypes.c_int32,\n",
    "    ctypes.c_int32,\n",
    "    ctypes.c_int32,\n",
    "]\n",
    "my_lib.find_w_linear_regression.restype = ctypes.POINTER(ctypes.c_float)"
   ],
   "metadata": {
    "collapsed": false
   }
  },
  {
   "cell_type": "code",
   "execution_count": 40,
   "outputs": [
    {
     "name": "stdout",
     "output_type": "stream",
     "text": [
      "[1.1724137]\n",
      "<class 'ctypes.wintypes.LP_c_float'>\n"
     ]
    }
   ],
   "source": [
    "find_w_linear_regression_ptr = my_lib.find_w_linear_regression(\n",
    "    x_to_predict_ptr,\n",
    "    y_to_predict_ptr,\n",
    "    nombre_lignex_x,\n",
    "    nombre_colonnes_x,\n",
    "    nombre_lignes_y,\n",
    "    nombre_colonnes_y,\n",
    ")\n",
    "find_w_linear_regression = np.ctypeslib.as_array(\n",
    "    find_w_linear_regression_ptr, ((nombre_colonnes_x*nombre_colonnes_y),)\n",
    ")\n",
    "print(find_w_linear_regression)\n",
    "print(type(find_w_linear_regression_ptr))"
   ],
   "metadata": {
    "collapsed": false
   }
  },
  {
   "cell_type": "code",
   "metadata": {
    "id": "6vHbCksm_sQU",
    "colab": {
     "base_uri": "https://localhost:8080/",
     "height": 287
    },
    "outputId": "1e476e34-d3ef-456a-c46e-62de28756946"
   },
   "source": [
    "x = np.linspace(0, 3, 100)\n",
    "\n",
    "y = find_w_linear_regression[0] * x\n",
    "\n",
    "plt.plot(x, y)\n",
    "plt.scatter(X,Y)\n",
    "plt.show()\n",
    "plt.clf()"
   ],
   "execution_count": 42,
   "outputs": [
    {
     "data": {
      "text/plain": "<Figure size 640x480 with 1 Axes>",
      "image/png": "[encoded data removed]"
     },
     "metadata": {},
     "output_type": "display_data"
    },
    {
     "data": {
      "text/plain": "<Figure size 640x480 with 0 Axes>"
     },
     "metadata": {},
     "output_type": "display_data"
    }
   ]
  },
  {
   "cell_type": "markdown",
   "metadata": {
    "id": "CkFb79fq_6ci"
   },
   "source": [
    "### Non Linear Simple 2D :\n",
    "        Linear Model    : OK\n",
    "        MLP (1, ?, 1)   : OK"
   ]
  },
  {
   "cell_type": "code",
   "metadata": {
    "id": "sZqi1Yy3_6cj"
   },
   "source": [
    "X = np.array([\n",
    "      [1],\n",
    "      [2],\n",
    "      [3]\n",
    "])\n",
    "Y = np.array([\n",
    "      [2],\n",
    "      [3],\n",
    "      [4]\n",
    "])\n",
    "\n",
    "X = np.array(X, dtype=ctypes.c_float)\n",
    "Y = np.array(Y, dtype=ctypes.c_float)"
   ],
   "execution_count": 6,
   "outputs": []
  },
  {
   "cell_type": "code",
   "execution_count": 7,
   "outputs": [
    {
     "name": "stdout",
     "output_type": "stream",
     "text": [
      "[1. 2. 3.]\n",
      "[1. 2. 3.]\n",
      "[14.]\n",
      "[1.4285715]\n",
      "<class 'ctypes.wintypes.LP_c_float'>\n"
     ]
    }
   ],
   "source": [
    "nombre_colonnes_x = 1\n",
    "nombre_lignex_x = 3\n",
    "nombre_colonnes_y = 1\n",
    "nombre_lignes_y = 3\n",
    "X_flat = X.flatten()\n",
    "Y_flat = Y.flatten()\n",
    "LP_c_float = ctypes.POINTER(ctypes.c_float)\n",
    "x_to_predict = (ctypes.c_float * len(X_flat))(*X_flat)\n",
    "x_to_predict_ptr = ctypes.cast(x_to_predict, LP_c_float)\n",
    "LP_c_float = ctypes.POINTER(ctypes.c_float)\n",
    "y_to_predict = (ctypes.c_float * len(Y_flat))(*Y_flat)\n",
    "y_to_predict_ptr = ctypes.cast(y_to_predict, LP_c_float)\n",
    "my_lib.x_transpose_times_x.argtypes = [\n",
    "    ctypes.POINTER(ctypes.c_float),\n",
    "    ctypes.c_int32,\n",
    "    ctypes.c_int32,\n",
    "]\n",
    "\n",
    "my_lib.x_transpose_times_x.restype = ctypes.POINTER(ctypes.c_float)\n",
    "print(X.flatten())\n",
    "print(X.transpose().flatten())\n",
    "x_transpose_times_x_ptr = my_lib.x_transpose_times_x(x_to_predict_ptr, nombre_lignex_x, nombre_colonnes_x)\n",
    "\n",
    "x_transpose_times_x = np.ctypeslib.as_array(x_transpose_times_x_ptr, (nombre_colonnes_x * nombre_colonnes_x,))\n",
    "\n",
    "print(x_transpose_times_x)\n",
    "my_lib.find_w_linear_regression.argtypes = [\n",
    "    ctypes.POINTER(ctypes.c_float),\n",
    "    ctypes.POINTER(ctypes.c_float),\n",
    "    ctypes.c_int32,\n",
    "    ctypes.c_int32,\n",
    "    ctypes.c_int32,\n",
    "]\n",
    "my_lib.find_w_linear_regression.restype = ctypes.POINTER(ctypes.c_float)\n",
    "find_w_linear_regression_ptr = my_lib.find_w_linear_regression(\n",
    "    x_to_predict_ptr,\n",
    "    y_to_predict_ptr,\n",
    "    nombre_lignex_x,\n",
    "    nombre_colonnes_x,\n",
    "    nombre_lignes_y,\n",
    "    nombre_colonnes_y,\n",
    ")\n",
    "find_w_linear_regression = np.ctypeslib.as_array(\n",
    "    find_w_linear_regression_ptr, ((nombre_colonnes_x * nombre_colonnes_y),)\n",
    ")\n",
    "print(find_w_linear_regression)\n",
    "print(type(find_w_linear_regression_ptr))"
   ],
   "metadata": {
    "collapsed": false
   }
  },
  {
   "cell_type": "code",
   "metadata": {
    "id": "NSqXDh6c_6ck",
    "colab": {
     "base_uri": "https://localhost:8080/",
     "height": 287
    },
    "outputId": "5e07562b-4b2f-4dc9-b4bd-263ac1b778fd"
   },
   "source": [
    "x = np.linspace(0, 3, 100)\n",
    "\n",
    "y = find_w_linear_regression[0] * x\n",
    "\n",
    "plt.plot(x, y)\n",
    "plt.scatter(X,Y)\n",
    "plt.show()\n",
    "plt.clf()"
   ],
   "execution_count": 8,
   "outputs": [
    {
     "data": {
      "text/plain": "<Figure size 640x480 with 1 Axes>",
      "image/png": "[encoded data removed]"
     },
     "metadata": {},
     "output_type": "display_data"
    },
    {
     "data": {
      "text/plain": "<Figure size 640x480 with 0 Axes>"
     },
     "metadata": {},
     "output_type": "display_data"
    }
   ]
  },
  {
   "cell_type": "markdown",
   "metadata": {
    "id": "WT1s5lZxAJuL"
   },
   "source": [
    "### Linear Simple 3D :\n",
    "        Linear Model    : OK\n",
    "        MLP (2, 1)      : OK"
   ]
  },
  {
   "cell_type": "code",
   "metadata": {
    "id": "KL_IanGMAJuM"
   },
   "source": [
    "X = np.array([\n",
    "      [1, 1],\n",
    "      [2, 2],\n",
    "      [3, 1]\n",
    "])\n",
    "Y = np.array([\n",
    "      [2],\n",
    "      [3],\n",
    "      [2.5]\n",
    "])\n",
    "\n",
    "Y_line = np.array([2, 3, 2.5])\n",
    "\n",
    "X = np.array(X, dtype=ctypes.c_float)\n",
    "Y = np.array(Y, dtype=ctypes.c_float)\n",
    "print(X)\n",
    "print(X.transpose())\n",
    "\n",
    "print(Y)\n",
    "\n",
    "print(X.flatten())\n",
    "print(X.transpose().flatten())\n",
    "\n",
    "print(np.matmul(X.transpose(),X))"
   ],
   "execution_count": 9,
   "outputs": [
    {
     "name": "stdout",
     "output_type": "stream",
     "text": [
      "[[1. 1.]\n",
      " [2. 2.]\n",
      " [3. 1.]]\n",
      "[[1. 2. 3.]\n",
      " [1. 2. 1.]]\n",
      "[[2. ]\n",
      " [3. ]\n",
      " [2.5]]\n",
      "[1. 1. 2. 2. 3. 1.]\n",
      "[1. 2. 3. 1. 2. 1.]\n",
      "[[14.  8.]\n",
      " [ 8.  6.]]\n"
     ]
    }
   ]
  },
  {
   "cell_type": "code",
   "execution_count": 10,
   "outputs": [
    {
     "name": "stdout",
     "output_type": "stream",
     "text": [
      "[1. 1. 2. 2. 3. 1.]\n",
      "[1. 2. 3. 1. 2. 1.]\n",
      "[14.  8.  8.  6.]\n",
      "[0.45000005 1.1499997 ]\n",
      "<class 'ctypes.wintypes.LP_c_float'>\n"
     ]
    }
   ],
   "source": [
    "nombre_colonnes_x = 2\n",
    "nombre_lignex_x = 3\n",
    "nombre_colonnes_y = 1\n",
    "nombre_lignes_y = 3\n",
    "X_flat = X.flatten()\n",
    "Y_flat = Y.flatten()\n",
    "LP_c_float = ctypes.POINTER(ctypes.c_float)\n",
    "x_to_predict = (ctypes.c_float * len(X_flat))(*X_flat)\n",
    "x_to_predict_ptr = ctypes.cast(x_to_predict, LP_c_float)\n",
    "LP_c_float = ctypes.POINTER(ctypes.c_float)\n",
    "y_to_predict = (ctypes.c_float * len(Y_flat))(*Y_flat)\n",
    "y_to_predict_ptr = ctypes.cast(y_to_predict, LP_c_float)\n",
    "my_lib.x_transpose_times_x.argtypes = [\n",
    "    ctypes.POINTER(ctypes.c_float),\n",
    "    ctypes.c_int32,\n",
    "    ctypes.c_int32,\n",
    "]\n",
    "\n",
    "my_lib.x_transpose_times_x.restype = ctypes.POINTER(ctypes.c_float)\n",
    "print(X.flatten())\n",
    "print(X.transpose().flatten())\n",
    "x_transpose_times_x_ptr = my_lib.x_transpose_times_x(x_to_predict_ptr, nombre_lignex_x, nombre_colonnes_x)\n",
    "\n",
    "x_transpose_times_x = np.ctypeslib.as_array(x_transpose_times_x_ptr, (nombre_colonnes_x * nombre_colonnes_x,))\n",
    "\n",
    "print(x_transpose_times_x)\n",
    "my_lib.find_w_linear_regression.argtypes = [\n",
    "    ctypes.POINTER(ctypes.c_float),\n",
    "    ctypes.POINTER(ctypes.c_float),\n",
    "    ctypes.c_int32,\n",
    "    ctypes.c_int32,\n",
    "    ctypes.c_int32,\n",
    "]\n",
    "my_lib.find_w_linear_regression.restype = ctypes.POINTER(ctypes.c_float)\n",
    "find_w_linear_regression_ptr = my_lib.find_w_linear_regression(\n",
    "    x_to_predict_ptr,\n",
    "    y_to_predict_ptr,\n",
    "    nombre_lignex_x,\n",
    "    nombre_colonnes_x,\n",
    "    nombre_lignes_y,\n",
    "    nombre_colonnes_y,\n",
    ")\n",
    "find_w_linear_regression = np.ctypeslib.as_array(\n",
    "    find_w_linear_regression_ptr, ((nombre_colonnes_x * nombre_colonnes_y),)\n",
    ")\n",
    "print(find_w_linear_regression)\n",
    "print(type(find_w_linear_regression_ptr))"
   ],
   "metadata": {
    "collapsed": false
   }
  },
  {
   "cell_type": "code",
   "metadata": {
    "id": "91dQpMIzAJuO",
    "colab": {
     "base_uri": "https://localhost:8080/",
     "height": 337
    },
    "outputId": "c1681d4c-3b99-429c-fa3f-6b8ef879e0de"
   },
   "source": [
    "from mpl_toolkits.mplot3d import Axes3D\n",
    "fig = plt.figure()\n",
    "# ax = Axes3D(fig)\n",
    "ax = fig.add_subplot(111, projection='3d')\n",
    "\n",
    "x_1 = np.linspace(0, 2, 100)\n",
    "x_2 = np.linspace(0, 2, 100)\n",
    "\n",
    "y = find_w_linear_regression[0] * x_1 + find_w_linear_regression[1] * x_2\n",
    "\n",
    "plt.plot(x_1, x_2, y)\n",
    "ax.scatter(X[:,0],X[:,1],Y_line)\n",
    "plt.show()\n",
    "plt.clf()"
   ],
   "execution_count": 23,
   "outputs": [
    {
     "data": {
      "text/plain": "<Figure size 640x480 with 1 Axes>",
      "image/png": "[encoded data removed]"
     },
     "metadata": {},
     "output_type": "display_data"
    },
    {
     "data": {
      "text/plain": "<Figure size 640x480 with 0 Axes>"
     },
     "metadata": {},
     "output_type": "display_data"
    }
   ]
  },
  {
   "cell_type": "markdown",
   "metadata": {
    "id": "kO361TllBqbm"
   },
   "source": [
    "### Linear Tricky 3D :\n",
    "        Linear Model    : OK\n",
    "        MLP (2, 1)      : OK"
   ]
  },
  {
   "cell_type": "code",
   "metadata": {
    "id": "nR_i7qLxBqbm"
   },
   "source": [
    "X = np.array([\n",
    "      [1, 1],\n",
    "      [2, 2],\n",
    "      [3, 3]\n",
    "])\n",
    "Y = np.array([\n",
    "      1,\n",
    "      2,\n",
    "      3\n",
    "])"
   ],
   "execution_count": 12,
   "outputs": []
  },
  {
   "cell_type": "code",
   "execution_count": 12,
   "outputs": [
    {
     "name": "stdout",
     "output_type": "stream",
     "text": [
      "[[1 1]\n",
      " [2 2]\n",
      " [3 3]]\n",
      "[[1 2 3]\n",
      " [1 2 3]]\n",
      "[[14 14]\n",
      " [14 14]]\n"
     ]
    },
    {
     "ename": "LinAlgError",
     "evalue": "Singular matrix",
     "output_type": "error",
     "traceback": [
      "\u001B[1;31m---------------------------------------------------------------------------\u001B[0m",
      "\u001B[1;31mLinAlgError\u001B[0m                               Traceback (most recent call last)",
      "Cell \u001B[1;32mIn[12], line 8\u001B[0m\n\u001B[0;32m      5\u001B[0m X_T_X \u001B[38;5;241m=\u001B[39m np\u001B[38;5;241m.\u001B[39mmatmul(X_T,X)\n\u001B[0;32m      6\u001B[0m \u001B[38;5;28mprint\u001B[39m(X_T_X)\n\u001B[1;32m----> 8\u001B[0m X_T_X_inv \u001B[38;5;241m=\u001B[39m \u001B[43mnp\u001B[49m\u001B[38;5;241;43m.\u001B[39;49m\u001B[43mlinalg\u001B[49m\u001B[38;5;241;43m.\u001B[39;49m\u001B[43minv\u001B[49m\u001B[43m(\u001B[49m\u001B[43mX_T_X\u001B[49m\u001B[43m)\u001B[49m\n\u001B[0;32m      9\u001B[0m \u001B[38;5;28mprint\u001B[39m(X_T_X_inv)\n",
      "File \u001B[1;32m<__array_function__ internals>:200\u001B[0m, in \u001B[0;36minv\u001B[1;34m(*args, **kwargs)\u001B[0m\n",
      "File \u001B[1;32m~\\Desktop\\ESGI\\Bachelor\\Projet annuel\\3IABD2---Projet-annuel\\venv\\lib\\site-packages\\numpy\\linalg\\linalg.py:538\u001B[0m, in \u001B[0;36minv\u001B[1;34m(a)\u001B[0m\n\u001B[0;32m    536\u001B[0m signature \u001B[38;5;241m=\u001B[39m \u001B[38;5;124m'\u001B[39m\u001B[38;5;124mD->D\u001B[39m\u001B[38;5;124m'\u001B[39m \u001B[38;5;28;01mif\u001B[39;00m isComplexType(t) \u001B[38;5;28;01melse\u001B[39;00m \u001B[38;5;124m'\u001B[39m\u001B[38;5;124md->d\u001B[39m\u001B[38;5;124m'\u001B[39m\n\u001B[0;32m    537\u001B[0m extobj \u001B[38;5;241m=\u001B[39m get_linalg_error_extobj(_raise_linalgerror_singular)\n\u001B[1;32m--> 538\u001B[0m ainv \u001B[38;5;241m=\u001B[39m \u001B[43m_umath_linalg\u001B[49m\u001B[38;5;241;43m.\u001B[39;49m\u001B[43minv\u001B[49m\u001B[43m(\u001B[49m\u001B[43ma\u001B[49m\u001B[43m,\u001B[49m\u001B[43m \u001B[49m\u001B[43msignature\u001B[49m\u001B[38;5;241;43m=\u001B[39;49m\u001B[43msignature\u001B[49m\u001B[43m,\u001B[49m\u001B[43m \u001B[49m\u001B[43mextobj\u001B[49m\u001B[38;5;241;43m=\u001B[39;49m\u001B[43mextobj\u001B[49m\u001B[43m)\u001B[49m\n\u001B[0;32m    539\u001B[0m \u001B[38;5;28;01mreturn\u001B[39;00m wrap(ainv\u001B[38;5;241m.\u001B[39mastype(result_t, copy\u001B[38;5;241m=\u001B[39m\u001B[38;5;28;01mFalse\u001B[39;00m))\n",
      "File \u001B[1;32m~\\Desktop\\ESGI\\Bachelor\\Projet annuel\\3IABD2---Projet-annuel\\venv\\lib\\site-packages\\numpy\\linalg\\linalg.py:89\u001B[0m, in \u001B[0;36m_raise_linalgerror_singular\u001B[1;34m(err, flag)\u001B[0m\n\u001B[0;32m     88\u001B[0m \u001B[38;5;28;01mdef\u001B[39;00m \u001B[38;5;21m_raise_linalgerror_singular\u001B[39m(err, flag):\n\u001B[1;32m---> 89\u001B[0m     \u001B[38;5;28;01mraise\u001B[39;00m LinAlgError(\u001B[38;5;124m\"\u001B[39m\u001B[38;5;124mSingular matrix\u001B[39m\u001B[38;5;124m\"\u001B[39m)\n",
      "\u001B[1;31mLinAlgError\u001B[0m: Singular matrix"
     ]
    }
   ],
   "source": [
    "print(X)\n",
    "X_T = np.transpose(X)\n",
    "print(X_T)\n",
    "\n",
    "X_T_X = np.matmul(X_T,X)\n",
    "print(X_T_X)\n",
    "\n",
    "X_T_X_inv = np.linalg.inv(X_T_X)\n",
    "print(X_T_X_inv)"
   ],
   "metadata": {
    "collapsed": false
   }
  },
  {
   "cell_type": "code",
   "metadata": {
    "id": "dHriVYrKBqbo",
    "colab": {
     "base_uri": "https://localhost:8080/",
     "height": 337
    },
    "outputId": "681a33c5-8ad5-427a-beea-eaf2a4e268ac"
   },
   "source": [
    "from mpl_toolkits.mplot3d import Axes3D\n",
    "fig = plt.figure()\n",
    "ax = Axes3D(fig)\n",
    "ax.scatter(X[:,0],X[:,1],Y)\n",
    "plt.show()\n",
    "plt.clf()"
   ],
   "execution_count": 6,
   "outputs": [
    {
     "data": {
      "text/plain": "<Figure size 640x480 with 0 Axes>"
     },
     "metadata": {},
     "output_type": "display_data"
    },
    {
     "data": {
      "text/plain": "<Figure size 640x480 with 0 Axes>"
     },
     "metadata": {},
     "output_type": "display_data"
    }
   ]
  },
  {
   "cell_type": "markdown",
   "metadata": {
    "id": "H_h0_vtCBEzk"
   },
   "source": [
    "### Non Linear Simple 3D :\n",
    "        Linear Model       : KO\n",
    "        MLP (2, 2, 1)      : OK"
   ]
  },
  {
   "cell_type": "code",
   "metadata": {
    "id": "ij70I1H9BEzk"
   },
   "source": [
    "X = np.array([\n",
    "      [1, 0],\n",
    "      [0, 1],\n",
    "      [1, 1],\n",
    "      [0, 0],\n",
    "])\n",
    "Y = np.array([\n",
    "      [2],\n",
    "      [1],\n",
    "      [-2],\n",
    "      [-1]\n",
    "])\n",
    "\n",
    "# Y_line = np.array([2, 3, 2.5])\n",
    "\n",
    "X = np.array(X, dtype=ctypes.c_float)\n",
    "Y = np.array(Y, dtype=ctypes.c_float)\n"
   ],
   "execution_count": 24,
   "outputs": []
  },
  {
   "cell_type": "code",
   "execution_count": 25,
   "outputs": [
    {
     "name": "stdout",
     "output_type": "stream",
     "text": [
      "[1. 0. 0. 1. 1. 1. 0. 0.]\n",
      "[1. 0. 1. 0. 0. 1. 1. 0.]\n",
      "[2. 1. 1. 2.]\n",
      "[ 0.3333333 -0.6666667]\n",
      "<class 'ctypes.wintypes.LP_c_float'>\n"
     ]
    }
   ],
   "source": [
    "nombre_colonnes_x = 2\n",
    "nombre_lignex_x = 4\n",
    "nombre_colonnes_y = 1\n",
    "nombre_lignes_y = 4\n",
    "X_flat = X.flatten()\n",
    "Y_flat = Y.flatten()\n",
    "LP_c_float = ctypes.POINTER(ctypes.c_float)\n",
    "x_to_predict = (ctypes.c_float * len(X_flat))(*X_flat)\n",
    "x_to_predict_ptr = ctypes.cast(x_to_predict, LP_c_float)\n",
    "LP_c_float = ctypes.POINTER(ctypes.c_float)\n",
    "y_to_predict = (ctypes.c_float * len(Y_flat))(*Y_flat)\n",
    "y_to_predict_ptr = ctypes.cast(y_to_predict, LP_c_float)\n",
    "my_lib.x_transpose_times_x.argtypes = [\n",
    "    ctypes.POINTER(ctypes.c_float),\n",
    "    ctypes.c_int32,\n",
    "    ctypes.c_int32,\n",
    "]\n",
    "\n",
    "my_lib.x_transpose_times_x.restype = ctypes.POINTER(ctypes.c_float)\n",
    "print(X.flatten())\n",
    "print(X.transpose().flatten())\n",
    "x_transpose_times_x_ptr = my_lib.x_transpose_times_x(x_to_predict_ptr, nombre_lignex_x, nombre_colonnes_x)\n",
    "\n",
    "x_transpose_times_x = np.ctypeslib.as_array(x_transpose_times_x_ptr, (nombre_colonnes_x * nombre_colonnes_x,))\n",
    "\n",
    "print(x_transpose_times_x)\n",
    "my_lib.find_w_linear_regression.argtypes = [\n",
    "    ctypes.POINTER(ctypes.c_float),\n",
    "    ctypes.POINTER(ctypes.c_float),\n",
    "    ctypes.c_int32,\n",
    "    ctypes.c_int32,\n",
    "    ctypes.c_int32,\n",
    "]\n",
    "my_lib.find_w_linear_regression.restype = ctypes.POINTER(ctypes.c_float)\n",
    "find_w_linear_regression_ptr = my_lib.find_w_linear_regression(\n",
    "    x_to_predict_ptr,\n",
    "    y_to_predict_ptr,\n",
    "    nombre_lignex_x,\n",
    "    nombre_colonnes_x,\n",
    "    nombre_lignes_y,\n",
    "    nombre_colonnes_y,\n",
    ")\n",
    "find_w_linear_regression = np.ctypeslib.as_array(\n",
    "    find_w_linear_regression_ptr, ((nombre_colonnes_x * nombre_colonnes_y),)\n",
    ")\n",
    "print(find_w_linear_regression)\n",
    "print(type(find_w_linear_regression_ptr))"
   ],
   "metadata": {
    "collapsed": false
   }
  },
  {
   "cell_type": "code",
   "metadata": {
    "id": "N3VDOby8BEzn",
    "colab": {
     "base_uri": "https://localhost:8080/",
     "height": 337
    },
    "outputId": "ef903fb3-08ed-4afd-f1e0-bcaed828b118"
   },
   "source": [
    "# from mpl_toolkits.mplot3d import Axes3D\n",
    "# fig = plt.figure()\n",
    "# ax = Axes3D(fig)\n",
    "# ax.scatter(X[:,0],X[:,1],Y)\n",
    "# plt.show()\n",
    "# plt.clf()\n",
    "\n",
    "\n",
    "from mpl_toolkits.mplot3d import Axes3D\n",
    "fig = plt.figure()\n",
    "# ax = Axes3D(fig)\n",
    "ax = fig.add_subplot(111, projection='3d')\n",
    "\n",
    "x_1 = np.linspace(0, 2, 100)\n",
    "x_2 = np.linspace(0, 2, 100)\n",
    "\n",
    "y = find_w_linear_regression[0] * x_1 + find_w_linear_regression[1] * x_2\n",
    "\n",
    "plt.plot(x_1, x_2, y)\n",
    "ax.scatter(X[:,0],X[:,1],Y)\n",
    "plt.show()\n",
    "plt.clf()"
   ],
   "execution_count": 27,
   "outputs": [
    {
     "data": {
      "text/plain": "<Figure size 640x480 with 1 Axes>",
      "image/png": "[encoded data removed]"
     },
     "metadata": {},
     "output_type": "display_data"
    },
    {
     "data": {
      "text/plain": "<Figure size 640x480 with 0 Axes>"
     },
     "metadata": {},
     "output_type": "display_data"
    }
   ]
  }
 ]
}
