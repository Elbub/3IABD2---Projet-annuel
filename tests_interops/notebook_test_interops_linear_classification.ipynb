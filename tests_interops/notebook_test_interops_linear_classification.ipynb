{
 "nbformat": 4,
 "nbformat_minor": 0,
 "metadata": {
  "colab": {
   "provenance": []
  },
  "kernelspec": {
   "name": "python3",
   "display_name": "Python 3"
  }
 },
 "cells": [
  {
   "cell_type": "markdown",
   "metadata": {
    "id": "12URBFa0yULK"
   },
   "source": [
    "# Imports"
   ]
  },
  {
   "cell_type": "code",
   "metadata": {
    "id": "sXU99qaCyT8S"
   },
   "source": [
    "import matplotlib.pyplot as plt\n",
    "import numpy as np\n",
    "import ctypes\n",
    "import random"
   ],
   "execution_count": 4,
   "outputs": []
  },
  {
   "cell_type": "markdown",
   "metadata": {
    "id": "MlaksdgDxaA6"
   },
   "source": [
    "# Cas de tests, Modele linéaire"
   ]
  },
  {
   "cell_type": "markdown",
   "source": [
    "## Classification"
   ],
   "metadata": {
    "collapsed": false
   }
  },
  {
   "cell_type": "markdown",
   "metadata": {
    "id": "-d0zULTsyFhh"
   },
   "source": [
    "### Linear Simple :\n",
    "        Linear Model : OK\n",
    "        MLP (2, 1)   : OK"
   ]
  },
  {
   "cell_type": "code",
   "execution_count": 5,
   "outputs": [
    {
     "name": "stdout",
     "output_type": "stream",
     "text": [
      "[0.5436332  0.43382406 0.85155976]\n"
     ]
    }
   ],
   "source": [
    "my_lib = ctypes.CDLL(r\"..\\rust_lib\\target\\debug\\rust_lib.dll\")\n",
    "\n",
    "my_lib.delete_float_array.argtypes = [\n",
    "    ctypes.POINTER(ctypes.c_float),\n",
    "    ctypes.c_int32,\n",
    "]\n",
    "\n",
    "my_lib.generate_random_w.argtypes = [ctypes.c_int32]\n",
    "my_lib.generate_random_w.restype = ctypes.POINTER(ctypes.c_float)\n",
    "\n",
    "my_lib.delete_float_array.restype = None\n",
    "\n",
    "dimension = 2\n",
    "\n",
    "w_array_ptr = my_lib.generate_random_w(dimension)\n",
    "\n",
    "w_array = np.ctypeslib.as_array(w_array_ptr, ((dimension + 1),))\n",
    "\n",
    "print(w_array)"
   ],
   "metadata": {
    "collapsed": false
   }
  },
  {
   "cell_type": "code",
   "metadata": {
    "id": "EktwRhEMxV2A"
   },
   "source": [
    "X = np.array([\n",
    "      [1, 1],\n",
    "      [2, 3],\n",
    "      [3, 3]\n",
    "], dtype=ctypes.c_float)\n",
    "Y = np.array([\n",
    "      1,\n",
    "      -1,\n",
    "      -1\n",
    "], dtype=ctypes.c_float)\n",
    "\n",
    "print(type(X))\n",
    "print(Y)"
   ],
   "execution_count": 6,
   "outputs": [
    {
     "name": "stdout",
     "output_type": "stream",
     "text": [
      "<class 'numpy.ndarray'>\n",
      "[ 1. -1. -1.]\n"
     ]
    }
   ]
  },
  {
   "cell_type": "code",
   "execution_count": 7,
   "outputs": [],
   "source": [
    "X_plot = np.array([\n",
    "      [1, 1],\n",
    "      [2, 3],\n",
    "      [3, 3]\n",
    "])\n",
    "Y_plot = np.array([\n",
    "      1,\n",
    "      -1,\n",
    "      -1\n",
    "])"
   ],
   "metadata": {
    "collapsed": false
   }
  },
  {
   "cell_type": "code",
   "execution_count": 8,
   "outputs": [],
   "source": [
    "arr_size = len(X)"
   ],
   "metadata": {
    "collapsed": false
   }
  },
  {
   "cell_type": "code",
   "execution_count": 9,
   "outputs": [],
   "source": [
    "dimension = len(X[0])"
   ],
   "metadata": {
    "collapsed": false
   }
  },
  {
   "cell_type": "code",
   "execution_count": 10,
   "outputs": [],
   "source": [
    "learning_rate = ctypes.c_float(0.001)"
   ],
   "metadata": {
    "collapsed": false
   }
  },
  {
   "cell_type": "code",
   "execution_count": 11,
   "outputs": [],
   "source": [
    "epoch = 1000000"
   ],
   "metadata": {
    "collapsed": false
   }
  },
  {
   "cell_type": "code",
   "execution_count": 12,
   "outputs": [],
   "source": [
    "X_flat = X.flatten()"
   ],
   "metadata": {
    "collapsed": false
   }
  },
  {
   "cell_type": "code",
   "execution_count": 13,
   "outputs": [],
   "source": [
    "LP_c_float = ctypes.POINTER(ctypes.c_float)\n",
    "x_to_predict = (ctypes.c_float * len(X_flat))(*X_flat)\n",
    "x_to_predict_ptr = ctypes.cast(x_to_predict, LP_c_float)"
   ],
   "metadata": {
    "collapsed": false
   }
  },
  {
   "cell_type": "code",
   "execution_count": 14,
   "outputs": [],
   "source": [
    "LP_c_float = ctypes.POINTER(ctypes.c_float)\n",
    "y_to_predict = (ctypes.c_float * len(Y))(*Y)\n",
    "y_to_predict_ptr = ctypes.cast(y_to_predict, LP_c_float)"
   ],
   "metadata": {
    "collapsed": false
   }
  },
  {
   "cell_type": "code",
   "execution_count": 15,
   "outputs": [],
   "source": [
    "my_lib.linear_model_training.argtypes = [\n",
    "    ctypes.POINTER(ctypes.c_float),\n",
    "    ctypes.POINTER(ctypes.c_float),\n",
    "    ctypes.POINTER(ctypes.c_float),\n",
    "    ctypes.c_int32,\n",
    "    ctypes.c_int32,\n",
    "    ctypes.c_float,\n",
    "    ctypes.c_int32,\n",
    "]\n",
    "my_lib.linear_model_training.restype = ctypes.POINTER(ctypes.c_float)"
   ],
   "metadata": {
    "collapsed": false
   }
  },
  {
   "cell_type": "code",
   "execution_count": 16,
   "outputs": [
    {
     "name": "stdout",
     "output_type": "stream",
     "text": [
      "[ 0.2776333  -0.22217606  0.05356035]\n",
      "<class 'ctypes.wintypes.LP_c_float'>\n"
     ]
    }
   ],
   "source": [
    "linear_model_training_ptr = my_lib.linear_model_training(\n",
    "    w_array_ptr,  # pointeur vers le résultat du vecteur W random\n",
    "    y_to_predict_ptr,  # pointeur vers les résultats labellisés pour entrainer le modele\n",
    "    x_to_predict_ptr,  # points qui ont permis de labeliser le vecteur d'au dessus\n",
    "    arr_size,  # array size\n",
    "    dimension,  # dimension de chaque vecteur\n",
    "    learning_rate,  # learning rate\n",
    "    epoch,  # nombre de fois où l'on passe sur le data set\n",
    ")\n",
    "trained_linear_model = np.ctypeslib.as_array(\n",
    "    linear_model_training_ptr, ((dimension + 1),)\n",
    ")\n",
    "print(trained_linear_model)\n",
    "print(type(linear_model_training_ptr))"
   ],
   "metadata": {
    "collapsed": false
   }
  },
  {
   "cell_type": "code",
   "execution_count": 17,
   "outputs": [],
   "source": [
    "my_lib.predict_linear_model.argtypes = [\n",
    "    ctypes.POINTER(ctypes.c_float),\n",
    "    ctypes.POINTER(ctypes.c_float),\n",
    "    ctypes.c_int32,\n",
    "    ctypes.c_int32,\n",
    "]\n",
    "my_lib.predict_linear_model.restype = ctypes.POINTER(ctypes.c_float)"
   ],
   "metadata": {
    "collapsed": false
   }
  },
  {
   "cell_type": "code",
   "execution_count": 18,
   "outputs": [],
   "source": [
    "predicted_labels = []\n",
    "predicted_x1 = []\n",
    "predicted_x2 = []\n",
    "for x1 in range(100* min(X_plot[:, 0]),100* max(X_plot[:, 0])) :\n",
    "  for x2 in range(100*min(X_plot[:, 1]), 100*max(X_plot[:, 1])) :\n",
    "    predicted_x1.append(x1/100)\n",
    "    predicted_x2.append(x2/100)\n",
    "    predicted_labels.append('pink' if x1/100 * trained_linear_model[1] + x2/100 * trained_linear_model[2] + trained_linear_model[0] >= 0 else 'lightskyblue')"
   ],
   "metadata": {
    "collapsed": false
   }
  },
  {
   "cell_type": "code",
   "metadata": {
    "id": "OpWOCJ5ZyDMY",
    "colab": {
     "base_uri": "https://localhost:8080/",
     "height": 287
    },
    "outputId": "25884536-e733-4cee-b175-79c147b7c927"
   },
   "source": [
    "plt.scatter(predicted_x1, predicted_x2, c=predicted_labels)\n",
    "plt.scatter(X[0, 0], X[0, 1], color='blue')\n",
    "plt.scatter(X[1:3,0], X[1:3,1], color='red')\n",
    "plt.show()\n",
    "plt.clf()"
   ],
   "execution_count": 19,
   "outputs": [
    {
     "data": {
      "text/plain": "<Figure size 640x480 with 1 Axes>",
      "image/png": "[encoded data removed]"
     },
     "metadata": {},
     "output_type": "display_data"
    },
    {
     "data": {
      "text/plain": "<Figure size 640x480 with 0 Axes>"
     },
     "metadata": {},
     "output_type": "display_data"
    }
   ]
  },
  {
   "cell_type": "code",
   "execution_count": 20,
   "outputs": [],
   "source": [
    "my_lib.delete_float_array(linear_model_training_ptr, (dimension + 1))\n",
    "del linear_model_training_ptr"
   ],
   "metadata": {
    "collapsed": false
   }
  },
  {
   "cell_type": "markdown",
   "metadata": {
    "id": "7v8KFue-zmCv"
   },
   "source": [
    "### Linear Multiple :\n",
    "        Linear Model : OK\n",
    "        MLP (2, 1)   : OK"
   ]
  },
  {
   "cell_type": "code",
   "execution_count": 21,
   "outputs": [
    {
     "name": "stdout",
     "output_type": "stream",
     "text": [
      "[0.53846025 0.50304055 0.9873594 ]\n"
     ]
    }
   ],
   "source": [
    "my_lib = ctypes.CDLL(r\"..\\rust_lib\\target\\debug\\rust_lib.dll\")\n",
    "\n",
    "my_lib.delete_float_array.argtypes = [\n",
    "    ctypes.POINTER(ctypes.c_float),\n",
    "    ctypes.c_int32,\n",
    "]\n",
    "\n",
    "my_lib.generate_random_w.argtypes = [ctypes.c_int32]\n",
    "my_lib.generate_random_w.restype = ctypes.POINTER(ctypes.c_float)\n",
    "\n",
    "my_lib.delete_float_array.restype = None\n",
    "\n",
    "dimension = 2\n",
    "\n",
    "w_array_ptr = my_lib.generate_random_w(dimension)\n",
    "\n",
    "w_array = np.ctypeslib.as_array(w_array_ptr, ((dimension + 1),))\n",
    "\n",
    "print(w_array)"
   ],
   "metadata": {
    "collapsed": false
   }
  },
  {
   "cell_type": "code",
   "metadata": {
    "id": "hZlnpb-qzmCw"
   },
   "source": [
    "X = np.concatenate([np.random.random((50,2)) * 0.9 + np.array([1, 1]), np.random.random((50,2)) * 0.9 + np.array([2, 2])], dtype=ctypes.c_float)\n",
    "Y = np.concatenate([np.ones((50, 1)), np.ones((50, 1)) * -1.0], dtype=ctypes.c_float)\n",
    "\n",
    "X_plot = np.concatenate([np.random.random((50,2)) * 0.9 + np.array([1, 1]), np.random.random((50,2)) * 0.9 + np.array([2, 2])])\n",
    "Y_plot = np.concatenate([np.ones((50, 1)), np.ones((50, 1)) * -1.0])"
   ],
   "execution_count": 22,
   "outputs": []
  },
  {
   "cell_type": "code",
   "execution_count": 23,
   "outputs": [],
   "source": [
    "arr_size = len(X)\n",
    "dimension = len(X[0])\n",
    "learning_rate = ctypes.c_float(0.001)\n",
    "epoch = 1000000\n",
    "X_flat = X.flatten()"
   ],
   "metadata": {
    "collapsed": false
   }
  },
  {
   "cell_type": "code",
   "execution_count": 24,
   "outputs": [],
   "source": [
    "LP_c_float = ctypes.POINTER(ctypes.c_float)\n",
    "x_to_predict = (ctypes.c_float * len(X_flat))(*X_flat)\n",
    "x_to_predict_ptr = ctypes.cast(x_to_predict, LP_c_float)"
   ],
   "metadata": {
    "collapsed": false
   }
  },
  {
   "cell_type": "code",
   "execution_count": 25,
   "outputs": [],
   "source": [
    "LP_c_float = ctypes.POINTER(ctypes.c_float)\n",
    "y_to_predict = (ctypes.c_float * len(Y))(*Y)\n",
    "y_to_predict_ptr = ctypes.cast(y_to_predict, LP_c_float)"
   ],
   "metadata": {
    "collapsed": false
   }
  },
  {
   "cell_type": "code",
   "execution_count": 26,
   "outputs": [],
   "source": [
    "my_lib.linear_model_training.argtypes = [\n",
    "    ctypes.POINTER(ctypes.c_float),\n",
    "    ctypes.POINTER(ctypes.c_float),\n",
    "    ctypes.POINTER(ctypes.c_float),\n",
    "    ctypes.c_int32,\n",
    "    ctypes.c_int32,\n",
    "    ctypes.c_float,\n",
    "    ctypes.c_int32,\n",
    "]\n",
    "my_lib.linear_model_training.restype = ctypes.POINTER(ctypes.c_float)"
   ],
   "metadata": {
    "collapsed": false
   }
  },
  {
   "cell_type": "code",
   "execution_count": 27,
   "outputs": [
    {
     "name": "stdout",
     "output_type": "stream",
     "text": [
      "[ 0.33846042 -0.18780328  0.01817677]\n",
      "<class 'ctypes.wintypes.LP_c_float'>\n"
     ]
    }
   ],
   "source": [
    "linear_model_training_ptr = my_lib.linear_model_training(\n",
    "    w_array_ptr,  # pointeur vers le résultat du vecteur W random\n",
    "    y_to_predict_ptr,  # pointeur vers les résultats labellisés pour entrainer le modele\n",
    "    x_to_predict_ptr,  # points qui ont permis de labeliser le vecteur d'au dessus\n",
    "    arr_size,  # array size\n",
    "    dimension,  # dimension de chaque vecteur\n",
    "    learning_rate,  # learning rate\n",
    "    epoch,  # nombre de fois où l'on passe sur le data set\n",
    ")\n",
    "trained_linear_model = np.ctypeslib.as_array(\n",
    "    linear_model_training_ptr, ((dimension + 1),)\n",
    ")\n",
    "print(trained_linear_model)\n",
    "print(type(linear_model_training_ptr))"
   ],
   "metadata": {
    "collapsed": false
   }
  },
  {
   "cell_type": "code",
   "execution_count": 28,
   "outputs": [],
   "source": [
    "my_lib.predict_linear_model.argtypes = [\n",
    "    ctypes.POINTER(ctypes.c_float),\n",
    "    ctypes.POINTER(ctypes.c_float),\n",
    "    ctypes.c_int32,\n",
    "    ctypes.c_int32,\n",
    "]\n",
    "my_lib.predict_linear_model.restype = ctypes.POINTER(ctypes.c_float)"
   ],
   "metadata": {
    "collapsed": false
   }
  },
  {
   "cell_type": "code",
   "execution_count": 29,
   "outputs": [],
   "source": [
    "predicted_labels = []\n",
    "predicted_x1 = []\n",
    "predicted_x2 = []\n",
    "for x1 in range(100 , 300) :\n",
    "  for x2 in range(100 , 300) :\n",
    "    predicted_x1.append(x1/100)\n",
    "    predicted_x2.append(x2/100)\n",
    "    predicted_labels.append('pink' if x1/100 * trained_linear_model[1] + x2/100 * trained_linear_model[2] + trained_linear_model[0] >= 0 else 'lightskyblue')"
   ],
   "metadata": {
    "collapsed": false
   }
  },
  {
   "cell_type": "code",
   "metadata": {
    "id": "a6e8GdL_zmCx",
    "colab": {
     "base_uri": "https://localhost:8080/",
     "height": 282
    },
    "outputId": "10b1a13c-51b3-4b33-930b-541bb01f159f"
   },
   "source": [
    "plt.scatter(predicted_x1, predicted_x2, c=predicted_labels)\n",
    "plt.scatter(X[0:50, 0], X[0:50, 1], color='blue')\n",
    "plt.scatter(X[50:100,0], X[50:100,1], color='red')\n",
    "plt.show()\n",
    "plt.clf()"
   ],
   "execution_count": 30,
   "outputs": [
    {
     "data": {
      "text/plain": "<Figure size 640x480 with 1 Axes>",
      "image/png": "[encoded data removed]"
     },
     "metadata": {},
     "output_type": "display_data"
    },
    {
     "data": {
      "text/plain": "<Figure size 640x480 with 0 Axes>"
     },
     "metadata": {},
     "output_type": "display_data"
    }
   ]
  },
  {
   "cell_type": "code",
   "execution_count": 31,
   "outputs": [],
   "source": [
    "my_lib.delete_float_array(linear_model_training_ptr, (dimension + 1))\n",
    "del linear_model_training_ptr"
   ],
   "metadata": {
    "collapsed": false
   }
  },
  {
   "cell_type": "markdown",
   "metadata": {
    "id": "gZlONmsp1T_W"
   },
   "source": [
    "### XOR :\n",
    "        Linear Model    : KO\n",
    "        MLP (2, 2, 1)   : OK"
   ]
  },
  {
   "cell_type": "code",
   "execution_count": 32,
   "outputs": [
    {
     "name": "stdout",
     "output_type": "stream",
     "text": [
      "[0.19500172 0.7732514  0.72224975]\n"
     ]
    }
   ],
   "source": [
    "my_lib = ctypes.CDLL(r\"..\\rust_lib\\target\\debug\\rust_lib.dll\")\n",
    "\n",
    "my_lib.delete_float_array.argtypes = [\n",
    "    ctypes.POINTER(ctypes.c_float),\n",
    "    ctypes.c_int32,\n",
    "]\n",
    "\n",
    "my_lib.generate_random_w.argtypes = [ctypes.c_int32]\n",
    "my_lib.generate_random_w.restype = ctypes.POINTER(ctypes.c_float)\n",
    "\n",
    "my_lib.delete_float_array.restype = None\n",
    "\n",
    "dimension = 2\n",
    "\n",
    "w_array_ptr = my_lib.generate_random_w(dimension)\n",
    "\n",
    "w_array = np.ctypeslib.as_array(w_array_ptr, ((dimension + 1),))\n",
    "\n",
    "print(w_array)"
   ],
   "metadata": {
    "collapsed": false
   }
  },
  {
   "cell_type": "code",
   "metadata": {
    "id": "673wfC9U1T_W"
   },
   "source": [
    "X = np.array([[1, 0], [0, 1], [0, 0], [1, 1]], dtype= ctypes.c_float)\n",
    "Y = np.array([1, 1, -1, -1], dtype= ctypes.c_float)\n",
    "\n",
    "X_plot = np.array([[1, 0], [0, 1], [0, 0], [1, 1]])\n",
    "Y_plot = np.array([1, 1, -1, -1])"
   ],
   "execution_count": 33,
   "outputs": []
  },
  {
   "cell_type": "code",
   "execution_count": 34,
   "outputs": [],
   "source": [
    "arr_size = len(X)\n",
    "dimension = len(X[0])\n",
    "learning_rate = ctypes.c_float(0.001)\n",
    "epoch = 1000000\n",
    "X_flat = X.flatten()"
   ],
   "metadata": {
    "collapsed": false
   }
  },
  {
   "cell_type": "code",
   "execution_count": 35,
   "outputs": [],
   "source": [
    "LP_c_float = ctypes.POINTER(ctypes.c_float)\n",
    "x_to_predict = (ctypes.c_float * len(X_flat))(*X_flat)\n",
    "x_to_predict_ptr = ctypes.cast(x_to_predict, LP_c_float)"
   ],
   "metadata": {
    "collapsed": false
   }
  },
  {
   "cell_type": "code",
   "execution_count": 36,
   "outputs": [],
   "source": [
    "LP_c_float = ctypes.POINTER(ctypes.c_float)\n",
    "y_to_predict = (ctypes.c_float * len(Y))(*Y)\n",
    "y_to_predict_ptr = ctypes.cast(y_to_predict, LP_c_float)"
   ],
   "metadata": {
    "collapsed": false
   }
  },
  {
   "cell_type": "code",
   "execution_count": 37,
   "outputs": [],
   "source": [
    "my_lib.linear_model_training.argtypes = [\n",
    "    ctypes.POINTER(ctypes.c_float),\n",
    "    ctypes.POINTER(ctypes.c_float),\n",
    "    ctypes.POINTER(ctypes.c_float),\n",
    "    ctypes.c_int32,\n",
    "    ctypes.c_int32,\n",
    "    ctypes.c_float,\n",
    "    ctypes.c_int32,\n",
    "]\n",
    "my_lib.linear_model_training.restype = ctypes.POINTER(ctypes.c_float)"
   ],
   "metadata": {
    "collapsed": false
   }
  },
  {
   "cell_type": "code",
   "execution_count": 38,
   "outputs": [
    {
     "name": "stdout",
     "output_type": "stream",
     "text": [
      "[-0.00099831 -0.00074575  0.00025194]\n",
      "<class 'ctypes.wintypes.LP_c_float'>\n"
     ]
    }
   ],
   "source": [
    "linear_model_training_ptr = my_lib.linear_model_training(\n",
    "    w_array_ptr,  # pointeur vers le résultat du vecteur W random\n",
    "    y_to_predict_ptr,  # pointeur vers les résultats labellisés pour entrainer le modele\n",
    "    x_to_predict_ptr,  # points qui ont permis de labeliser le vecteur d'au dessus\n",
    "    arr_size,  # array size\n",
    "    dimension,  # dimension de chaque vecteur\n",
    "    learning_rate,  # learning rate\n",
    "    epoch,  # nombre de fois où l'on passe sur le data set\n",
    ")\n",
    "trained_linear_model = np.ctypeslib.as_array(\n",
    "    linear_model_training_ptr, ((dimension + 1),)\n",
    ")\n",
    "print(trained_linear_model)\n",
    "print(type(linear_model_training_ptr))"
   ],
   "metadata": {
    "collapsed": false
   }
  },
  {
   "cell_type": "code",
   "execution_count": 39,
   "outputs": [],
   "source": [
    "my_lib.predict_linear_model.argtypes = [\n",
    "    ctypes.POINTER(ctypes.c_float),\n",
    "    ctypes.POINTER(ctypes.c_float),\n",
    "    ctypes.c_int32,\n",
    "    ctypes.c_int32,\n",
    "]\n",
    "my_lib.predict_linear_model.restype = ctypes.POINTER(ctypes.c_float)"
   ],
   "metadata": {
    "collapsed": false
   }
  },
  {
   "cell_type": "code",
   "execution_count": 40,
   "outputs": [],
   "source": [
    "predicted_labels = []\n",
    "predicted_x1 = []\n",
    "predicted_x2 = []\n",
    "for x1 in range(0 , 100) :\n",
    "  for x2 in range(0 , 100) :\n",
    "    predicted_x1.append(x1/100)\n",
    "    predicted_x2.append(x2/100)\n",
    "    predicted_labels.append('pink' if x1/100 * trained_linear_model[1] + x2/100 * trained_linear_model[2] + trained_linear_model[0] >= 0 else 'lightskyblue')"
   ],
   "metadata": {
    "collapsed": false
   }
  },
  {
   "cell_type": "code",
   "metadata": {
    "id": "uA3E-h801T_Y",
    "colab": {
     "base_uri": "https://localhost:8080/",
     "height": 283
    },
    "outputId": "9fc31c6d-e44c-447b-a7c0-a3fa7b0d778e"
   },
   "source": [
    "plt.scatter(predicted_x1, predicted_x2, c=predicted_labels)\n",
    "plt.scatter(X[0:2, 0], X[0:2, 1], color='blue')\n",
    "plt.scatter(X[2:4,0], X[2:4,1], color='red')\n",
    "plt.show()\n",
    "plt.clf()"
   ],
   "execution_count": 41,
   "outputs": [
    {
     "data": {
      "text/plain": "<Figure size 640x480 with 1 Axes>",
      "image/png": "[encoded data removed]"
     },
     "metadata": {},
     "output_type": "display_data"
    },
    {
     "data": {
      "text/plain": "<Figure size 640x480 with 0 Axes>"
     },
     "metadata": {},
     "output_type": "display_data"
    }
   ]
  },
  {
   "cell_type": "code",
   "execution_count": 42,
   "outputs": [],
   "source": [
    "my_lib.delete_float_array(linear_model_training_ptr, (dimension + 1))\n",
    "del linear_model_training_ptr"
   ],
   "metadata": {
    "collapsed": false
   }
  },
  {
   "cell_type": "markdown",
   "metadata": {
    "id": "5qxkXVo02MpM"
   },
   "source": [
    "### Cross :\n",
    "        Linear Model    : KO\n",
    "        MLP (2, 4, 1)   : OK"
   ]
  },
  {
   "cell_type": "code",
   "execution_count": 43,
   "outputs": [
    {
     "name": "stdout",
     "output_type": "stream",
     "text": [
      "[0.40428054 0.42568576 0.7465776 ]\n"
     ]
    }
   ],
   "source": [
    "my_lib = ctypes.CDLL(r\"..\\rust_lib\\target\\debug\\rust_lib.dll\")\n",
    "\n",
    "my_lib.delete_float_array.argtypes = [\n",
    "    ctypes.POINTER(ctypes.c_float),\n",
    "    ctypes.c_int32,\n",
    "]\n",
    "\n",
    "my_lib.generate_random_w.argtypes = [ctypes.c_int32]\n",
    "my_lib.generate_random_w.restype = ctypes.POINTER(ctypes.c_float)\n",
    "\n",
    "my_lib.delete_float_array.restype = None\n",
    "\n",
    "dimension = 2\n",
    "\n",
    "w_array_ptr = my_lib.generate_random_w(dimension)\n",
    "\n",
    "w_array = np.ctypeslib.as_array(w_array_ptr, ((dimension + 1),))\n",
    "\n",
    "print(w_array)"
   ],
   "metadata": {
    "collapsed": false
   }
  },
  {
   "cell_type": "code",
   "metadata": {
    "id": "7kkrrfnX2MpM"
   },
   "source": [
    "X = np.random.random((500, 2)) * 2.0 - 1.0\n",
    "X = np.array(X, dtype= ctypes.c_float)\n",
    "Y = np.array([1 if abs(p[0]) <= 0.3 or abs(p[1]) <= 0.3 else -1 for p in X])\n",
    "Y = np.array(Y, dtype= ctypes.c_float)\n",
    "\n",
    "X_plot = np.random.random((500, 2)) * 2.0 - 1.0\n",
    "Y_plot = np.array([1 if abs(p[0]) <= 0.3 or abs(p[1]) <= 0.3 else -1 for p in X])"
   ],
   "execution_count": 44,
   "outputs": []
  },
  {
   "cell_type": "code",
   "execution_count": 45,
   "outputs": [
    {
     "name": "stdout",
     "output_type": "stream",
     "text": [
      "[[ 5.74352324e-01  2.62533158e-01]\n",
      " [ 6.86488450e-01  6.47569075e-02]\n",
      " [ 3.74567002e-01 -9.52433944e-02]\n",
      " [-2.81791061e-01 -1.69870779e-01]\n",
      " [ 5.72630882e-01  1.16239019e-01]\n",
      " [ 2.14263067e-01  2.60118674e-02]\n",
      " [ 9.81235564e-01  8.94175828e-01]\n",
      " [ 4.41912204e-01 -8.83265078e-01]\n",
      " [ 9.32047367e-02 -5.91173351e-01]\n",
      " [ 4.50968921e-01 -4.50139195e-02]\n",
      " [ 8.53874326e-01  8.46473932e-01]\n",
      " [-1.93798959e-01 -1.24618284e-01]\n",
      " [ 7.56484210e-01  6.57833338e-01]\n",
      " [ 7.28249609e-01  6.11714363e-01]\n",
      " [-5.40129662e-01  9.25964952e-01]\n",
      " [-6.13277614e-01  6.90192699e-01]\n",
      " [ 1.35734573e-01 -1.53118402e-01]\n",
      " [-5.16363941e-02 -7.69958735e-01]\n",
      " [ 5.88508785e-01 -5.09415925e-01]\n",
      " [-3.36908877e-01  8.35823417e-01]\n",
      " [-7.07216978e-01  5.21526039e-01]\n",
      " [ 5.34821630e-01  8.77148330e-01]\n",
      " [-6.53244138e-01 -2.05516517e-01]\n",
      " [ 3.01584542e-01 -7.33314514e-01]\n",
      " [ 2.41237178e-01 -1.19790830e-01]\n",
      " [-5.32517970e-01 -4.40217137e-01]\n",
      " [-5.61462402e-01  7.66528249e-02]\n",
      " [ 4.15383101e-01  6.47019506e-01]\n",
      " [-4.90240991e-01 -9.50524986e-01]\n",
      " [-8.69733810e-01  1.70180470e-01]\n",
      " [ 8.66261959e-01 -8.59661222e-01]\n",
      " [ 3.56036454e-01 -4.14088219e-01]\n",
      " [-8.77280831e-01 -6.89132929e-01]\n",
      " [ 9.53959703e-01 -5.23067713e-01]\n",
      " [ 2.84505993e-01 -8.30221713e-01]\n",
      " [ 2.97512114e-01 -6.90739214e-01]\n",
      " [-3.06874216e-01  4.06633705e-01]\n",
      " [-5.24811327e-01  8.11444640e-01]\n",
      " [-1.13739468e-01 -6.64375246e-01]\n",
      " [ 3.42686698e-02 -7.64330506e-01]\n",
      " [ 6.59439504e-01  7.70702362e-01]\n",
      " [-4.37316000e-01  8.29180241e-01]\n",
      " [ 5.78083575e-01  4.33944732e-01]\n",
      " [ 1.54534668e-01 -8.99870396e-01]\n",
      " [ 4.29560274e-01  1.11395523e-01]\n",
      " [ 2.13578239e-01  1.83784857e-01]\n",
      " [ 6.32395089e-01  1.92895532e-01]\n",
      " [-5.89345992e-01 -2.20646769e-01]\n",
      " [-1.36020407e-01 -8.25854182e-01]\n",
      " [ 2.65943974e-01 -6.12394549e-02]\n",
      " [-6.30817190e-02 -3.01098943e-01]\n",
      " [ 6.26724362e-01 -9.17918384e-01]\n",
      " [-4.49875891e-01  6.24998391e-01]\n",
      " [ 6.56840444e-01  2.73579091e-01]\n",
      " [ 5.90243638e-01  1.56514719e-01]\n",
      " [ 9.45796907e-01  5.52433431e-01]\n",
      " [ 3.87508571e-01  3.19396287e-01]\n",
      " [-6.38260603e-01  2.63279174e-02]\n",
      " [-3.07645112e-01  1.15748204e-01]\n",
      " [ 2.96411455e-01 -9.75576460e-01]\n",
      " [ 3.32097441e-01  8.91142488e-02]\n",
      " [ 1.57097086e-01  2.84705937e-01]\n",
      " [ 4.87213403e-01  4.68664318e-01]\n",
      " [-6.63806200e-01  5.72461307e-01]\n",
      " [ 2.80972838e-01 -5.51672243e-02]\n",
      " [ 7.38494471e-02 -9.09841180e-01]\n",
      " [-2.01265514e-01 -2.60703564e-01]\n",
      " [-7.92366266e-01  9.28701282e-01]\n",
      " [-3.64733696e-01 -4.24907744e-01]\n",
      " [ 2.42527619e-01 -6.21094167e-01]\n",
      " [ 4.39465744e-03  3.48774046e-01]\n",
      " [-8.00903082e-01  1.84049327e-02]\n",
      " [ 2.80153096e-01 -3.29177618e-01]\n",
      " [-5.71151674e-01 -5.37278414e-01]\n",
      " [ 8.34506512e-01  6.81327283e-01]\n",
      " [-7.86563218e-01 -4.30904210e-01]\n",
      " [ 6.43196285e-01 -7.93143734e-02]\n",
      " [ 5.24324894e-01  9.73545983e-02]\n",
      " [-9.56906378e-01  9.54176416e-04]\n",
      " [ 4.14713144e-01 -6.91882074e-01]\n",
      " [ 3.92396241e-01 -7.63772428e-02]\n",
      " [-5.58410764e-01  5.94587289e-02]\n",
      " [ 5.23972571e-01  6.98616207e-01]\n",
      " [ 9.44830924e-02  4.41503972e-01]\n",
      " [ 7.78752029e-01  2.99171358e-01]\n",
      " [-7.74995804e-01 -5.30978203e-01]\n",
      " [-5.08264542e-01 -2.13280782e-01]\n",
      " [-4.07819271e-01 -6.74580395e-01]\n",
      " [-7.77308285e-01 -7.13063061e-01]\n",
      " [-3.33080411e-01  8.81370246e-01]\n",
      " [-8.50633800e-01  4.80479300e-02]\n",
      " [-1.66581661e-01  4.78782564e-01]\n",
      " [ 7.12530553e-01  6.77100599e-01]\n",
      " [ 9.41737711e-01 -4.64382321e-01]\n",
      " [ 6.70835674e-01 -3.88388515e-01]\n",
      " [-6.69887006e-01  2.13192120e-01]\n",
      " [-4.34106916e-01  7.17375517e-01]\n",
      " [ 4.61947501e-01 -7.98281357e-02]\n",
      " [-8.82179856e-01 -3.56486470e-01]\n",
      " [ 5.18182456e-01 -1.57231957e-01]\n",
      " [-7.74461687e-01 -9.15683508e-01]\n",
      " [-8.81602049e-01 -5.78936160e-01]\n",
      " [-2.98590571e-01  9.10304964e-01]\n",
      " [-8.38851631e-01  4.85069484e-01]\n",
      " [ 5.84912121e-01  2.36453399e-01]\n",
      " [ 1.28984168e-01  6.68672800e-01]\n",
      " [-5.06249845e-01  7.56826326e-02]\n",
      " [-6.96670771e-01 -4.12773848e-01]\n",
      " [ 9.65406835e-01 -7.27674246e-01]\n",
      " [-8.79769027e-01 -3.37856680e-01]\n",
      " [ 4.67228323e-01 -8.72123182e-01]\n",
      " [ 7.85228550e-01 -7.49088585e-01]\n",
      " [-2.14656144e-02  5.06412208e-01]\n",
      " [-3.69585454e-01 -8.34961981e-02]\n",
      " [-3.41322333e-01 -5.05247235e-01]\n",
      " [-9.26687121e-01 -4.53197986e-01]\n",
      " [ 7.22153723e-01  7.44865894e-01]\n",
      " [-6.90583825e-01 -7.01030552e-01]\n",
      " [ 9.49490786e-01 -1.21896444e-02]\n",
      " [ 9.32427645e-01  3.36315960e-01]\n",
      " [ 6.83093607e-01  1.61310405e-01]\n",
      " [-3.65838856e-01  4.15100396e-01]\n",
      " [ 4.00417835e-01 -6.80076107e-02]\n",
      " [ 3.49965751e-01 -7.81494439e-01]\n",
      " [-3.45038384e-01  1.31921485e-01]\n",
      " [ 3.08119446e-01  7.44790256e-01]\n",
      " [-6.67431056e-01 -9.21484649e-01]\n",
      " [-2.44640678e-01  3.14317763e-01]\n",
      " [-7.59117067e-01  8.83277297e-01]\n",
      " [ 4.89173174e-01  4.18330997e-01]\n",
      " [-4.69421268e-01  3.00788164e-01]\n",
      " [ 3.28226248e-04  2.99870908e-01]\n",
      " [ 7.62611985e-01  3.56890529e-01]\n",
      " [-7.04434931e-01  5.50002575e-01]\n",
      " [ 3.41624737e-01  6.49968237e-02]\n",
      " [-1.72519594e-01 -1.35796547e-01]\n",
      " [ 4.54419553e-01 -4.38856855e-02]\n",
      " [ 5.03154695e-01 -8.17649782e-01]\n",
      " [ 7.66512096e-01  4.50229973e-01]\n",
      " [ 8.78721952e-01 -5.42527378e-01]\n",
      " [-2.40245223e-01  2.32740775e-01]\n",
      " [-3.20687711e-01  2.59106159e-01]\n",
      " [ 3.36968452e-01  6.37003958e-01]\n",
      " [-9.83105600e-02 -3.93607080e-01]\n",
      " [ 3.89792949e-01 -7.86547184e-01]\n",
      " [-8.50255251e-01  1.07232623e-01]\n",
      " [ 6.83060169e-01 -8.87896791e-02]\n",
      " [ 2.37344448e-02  8.71559799e-01]\n",
      " [-5.31019688e-01 -8.61567795e-01]\n",
      " [ 7.36021876e-01  5.64260721e-01]\n",
      " [ 7.92024255e-01  1.19817786e-01]\n",
      " [-6.01767838e-01 -5.31919122e-01]\n",
      " [-3.17940980e-01 -8.86208892e-01]\n",
      " [ 5.65010428e-01 -9.68672335e-01]\n",
      " [-5.39043367e-01 -2.97452211e-01]\n",
      " [ 5.76208532e-01  1.42650172e-01]\n",
      " [ 5.48484445e-01  9.16390896e-01]\n",
      " [ 1.59527063e-01  8.17763507e-01]\n",
      " [-3.29556912e-01  4.24784601e-01]\n",
      " [ 1.90537110e-01 -8.01319838e-01]\n",
      " [-8.12736213e-01 -7.33912826e-01]\n",
      " [-1.79779828e-01  6.98303521e-01]\n",
      " [-1.38481129e-02 -6.31554067e-01]\n",
      " [-1.57238588e-01  1.80902869e-01]\n",
      " [-9.11433280e-01 -6.78819120e-01]\n",
      " [ 6.03698054e-03 -8.36944163e-01]\n",
      " [ 8.64840686e-01 -9.11800086e-01]\n",
      " [ 2.12260842e-01  4.03719276e-01]\n",
      " [ 7.13036805e-02  2.05031961e-01]\n",
      " [ 7.45136678e-01 -8.02450538e-01]\n",
      " [-7.00805366e-01  7.07183063e-01]\n",
      " [ 8.56643558e-01  4.93573174e-02]\n",
      " [-9.25836265e-01  3.90266865e-01]\n",
      " [ 9.89481270e-01  3.61047685e-01]\n",
      " [ 2.16905132e-01  6.78395808e-01]\n",
      " [-9.44018543e-01 -7.75254011e-01]\n",
      " [ 5.47746904e-02 -7.96693087e-01]\n",
      " [ 8.63243878e-01  6.98800087e-01]\n",
      " [-6.98159873e-01 -2.88072526e-02]\n",
      " [ 8.83443832e-01 -5.93991280e-01]\n",
      " [-9.88298893e-01  9.74903941e-01]\n",
      " [ 5.13887703e-01 -3.42827320e-01]\n",
      " [ 2.23183725e-02 -5.11143982e-01]\n",
      " [-3.61776017e-02  9.78720784e-01]\n",
      " [-8.01492110e-02 -8.73148143e-01]\n",
      " [-3.63966703e-01 -2.20104884e-02]\n",
      " [-9.29926336e-01 -8.50533843e-01]\n",
      " [ 4.41264242e-01 -5.29809482e-02]\n",
      " [-4.64998782e-02  4.20336932e-01]\n",
      " [ 8.09398741e-02  5.88261038e-02]\n",
      " [-5.02273321e-01 -6.87570050e-02]\n",
      " [-6.81997538e-02 -1.28181621e-01]\n",
      " [ 5.22536278e-01 -8.71610880e-01]\n",
      " [-5.74358821e-01  1.41896024e-01]\n",
      " [ 2.79454470e-01 -4.26996589e-01]\n",
      " [ 2.87843257e-01 -2.39319980e-01]\n",
      " [-1.87712796e-02 -4.09837693e-01]\n",
      " [ 8.92104879e-02 -8.98157120e-01]\n",
      " [-2.54987508e-01 -9.75313425e-01]\n",
      " [ 1.71972618e-01 -3.44000608e-01]\n",
      " [ 7.62582898e-01 -3.61599445e-01]\n",
      " [ 3.24447036e-01  2.49145534e-02]\n",
      " [ 2.83574820e-01 -6.47788346e-02]\n",
      " [-1.90507159e-01  8.67261887e-01]\n",
      " [ 2.81183720e-01 -9.64861959e-02]\n",
      " [ 3.83579671e-01  5.58236539e-01]\n",
      " [ 3.11775327e-01 -7.27142692e-01]\n",
      " [-8.88894498e-01 -6.33791745e-01]\n",
      " [ 8.44987452e-01 -1.47514194e-01]\n",
      " [ 2.23116040e-01  2.70258188e-01]\n",
      " [-8.25525165e-01 -8.57145861e-02]\n",
      " [-8.24646771e-01 -8.82807016e-01]\n",
      " [-7.55663693e-01 -8.66364837e-01]\n",
      " [-7.53308460e-02 -2.29125038e-01]\n",
      " [ 4.90230173e-01 -3.01066846e-01]\n",
      " [ 3.34494770e-01 -1.38457090e-01]\n",
      " [-1.94212440e-02 -1.78160980e-01]\n",
      " [ 2.66909003e-01  4.50516701e-01]\n",
      " [ 8.67514849e-01 -9.82788861e-01]\n",
      " [ 5.64412177e-01  5.67095399e-01]\n",
      " [-9.72301066e-02  6.91871941e-01]\n",
      " [-9.42974612e-02  3.77540067e-02]\n",
      " [-7.98820481e-02  8.68267179e-01]\n",
      " [-3.75665575e-01 -1.32135851e-02]\n",
      " [-7.27535784e-01 -7.78294683e-01]\n",
      " [-8.89633298e-01 -3.07846040e-01]\n",
      " [-9.31479871e-01 -7.66329408e-01]\n",
      " [-7.26081133e-01  7.40631998e-01]\n",
      " [-9.78688419e-01  5.75090647e-01]\n",
      " [ 5.66540122e-01 -1.60109714e-01]\n",
      " [ 8.99973512e-01  8.40016186e-01]\n",
      " [-5.69455385e-01 -9.31476891e-01]\n",
      " [ 9.40070808e-01 -9.80426192e-01]\n",
      " [ 6.74525976e-01 -3.36740226e-01]\n",
      " [ 2.78444320e-01  9.47119892e-01]\n",
      " [-3.75840664e-01 -4.08786505e-01]\n",
      " [-5.66318154e-01 -4.97212172e-01]\n",
      " [ 7.33574212e-01 -2.33539805e-01]\n",
      " [ 6.64772928e-01  7.06795275e-01]\n",
      " [-9.11138535e-01 -6.52736127e-01]\n",
      " [ 5.13395131e-01 -9.03105915e-01]\n",
      " [-9.19660777e-02 -1.74319550e-01]\n",
      " [-3.82116884e-01 -6.25317812e-01]\n",
      " [-8.33820462e-01 -3.46566528e-01]\n",
      " [ 5.55115879e-01 -2.54396111e-01]\n",
      " [-4.42698509e-01  5.15119992e-02]\n",
      " [ 4.63278174e-01 -1.36239499e-01]\n",
      " [ 5.93088746e-01  5.43245256e-01]\n",
      " [-4.15785313e-01  5.57453692e-01]\n",
      " [-1.34142742e-01  1.84595257e-01]\n",
      " [-9.92678106e-01 -3.48727673e-01]\n",
      " [-1.54922500e-01 -1.67815775e-01]\n",
      " [ 5.19274712e-01 -2.24046484e-01]\n",
      " [-3.08216751e-01 -5.95978141e-01]\n",
      " [ 6.42791569e-01 -8.61742556e-01]\n",
      " [ 2.36234620e-01  1.67814698e-02]\n",
      " [ 3.27453047e-01 -2.83779681e-01]\n",
      " [-1.04799680e-01  4.29339230e-01]\n",
      " [ 3.41004699e-01  7.24373043e-01]\n",
      " [-2.28521675e-01  2.97053337e-01]\n",
      " [ 4.23308104e-01  9.17721629e-01]\n",
      " [ 7.25740075e-01  3.30124557e-01]\n",
      " [-5.75610995e-01  9.43930328e-01]\n",
      " [ 3.82114470e-01  7.86238015e-01]\n",
      " [-3.43546242e-01  5.81959426e-01]\n",
      " [-7.74197698e-01 -4.17005777e-01]\n",
      " [ 2.01569363e-01  3.41393836e-02]\n",
      " [-5.79005480e-01 -9.95814264e-01]\n",
      " [-4.80445057e-01  7.53490269e-01]\n",
      " [ 1.40095487e-01 -3.85869443e-01]\n",
      " [ 9.25900042e-01  8.04016113e-01]\n",
      " [-1.46424398e-01  3.11178286e-02]\n",
      " [-8.44490290e-01  7.25482285e-01]\n",
      " [-8.82173121e-01  8.61730799e-03]\n",
      " [ 6.40966892e-01  6.73512757e-01]\n",
      " [-1.92076966e-01  4.56718981e-01]\n",
      " [ 7.34879375e-01 -3.67198169e-01]\n",
      " [ 5.07770181e-02 -6.99021518e-01]\n",
      " [ 1.91758946e-01 -4.59772408e-01]\n",
      " [ 5.47774017e-01 -5.87379336e-01]\n",
      " [-4.37317371e-01 -5.36092281e-01]\n",
      " [-6.80674851e-01  6.15123570e-01]\n",
      " [-6.71617508e-01  8.80057693e-01]\n",
      " [ 9.45134521e-01 -6.02563798e-01]\n",
      " [-1.17123269e-01  8.33683368e-03]\n",
      " [-2.92113602e-01 -1.31749302e-01]\n",
      " [-4.37599391e-01 -4.40498739e-01]\n",
      " [ 4.41019088e-01  9.20425653e-01]\n",
      " [ 1.18799351e-01 -6.70219362e-01]\n",
      " [ 7.04434216e-01  6.31101072e-01]\n",
      " [-3.75140578e-01 -4.38024580e-01]\n",
      " [ 1.85263798e-01 -2.13234767e-01]\n",
      " [-8.41991305e-01 -5.79492748e-01]\n",
      " [-1.07222594e-01  2.65214145e-01]\n",
      " [ 5.19278534e-02 -8.27566087e-01]\n",
      " [ 2.06985906e-01 -9.21764016e-01]\n",
      " [ 2.98933387e-01 -5.45060635e-01]\n",
      " [-3.79018813e-01 -1.54449940e-01]\n",
      " [-9.22759175e-01  8.00459385e-01]\n",
      " [-5.64263523e-01  7.67735362e-01]\n",
      " [-3.40075850e-01 -3.78124155e-02]\n",
      " [-5.72213233e-01 -5.97649395e-01]\n",
      " [ 6.36069477e-01  2.51993500e-02]\n",
      " [ 8.23264048e-02 -2.02967376e-01]\n",
      " [ 4.96177375e-01  1.78956300e-01]\n",
      " [ 8.82836580e-01  7.62792304e-02]\n",
      " [-3.08172941e-01 -9.33322608e-01]\n",
      " [ 8.15857708e-01 -6.29574001e-01]\n",
      " [-8.53921115e-01 -8.74064505e-01]\n",
      " [-9.68694508e-01 -5.04565388e-02]\n",
      " [ 2.29040384e-01 -2.25705251e-01]\n",
      " [ 4.78804111e-01  5.77363297e-02]\n",
      " [ 5.90078533e-01  9.48000431e-01]\n",
      " [-8.53648722e-01 -2.37982377e-01]\n",
      " [ 1.57285258e-01 -2.57489711e-01]\n",
      " [-5.05862176e-01  1.42603263e-01]\n",
      " [-7.00549901e-01  9.43363845e-01]\n",
      " [-1.94724992e-01 -2.44799450e-01]\n",
      " [ 5.09739161e-01 -4.77374256e-01]\n",
      " [-3.19801390e-01  1.50421232e-01]\n",
      " [-5.30266702e-01  3.69156361e-01]\n",
      " [ 6.36269003e-02  9.25855398e-01]\n",
      " [ 8.17761242e-01  5.22834539e-01]\n",
      " [-8.77387404e-01 -3.27876478e-01]\n",
      " [-8.09537154e-03 -2.59393871e-01]\n",
      " [-5.35941064e-01 -1.93039984e-01]\n",
      " [ 3.62238914e-01 -9.78262126e-01]\n",
      " [-5.42448699e-01  3.75036597e-02]\n",
      " [-5.74474514e-01 -7.15167642e-01]\n",
      " [ 2.11976305e-01 -3.90487045e-01]\n",
      " [ 7.73498788e-03  1.67087182e-01]\n",
      " [-5.27649038e-02 -6.01237833e-01]\n",
      " [ 7.41334558e-01 -4.05515432e-01]\n",
      " [ 8.48657072e-01 -8.25226009e-01]\n",
      " [ 7.51082182e-01 -5.81158400e-01]\n",
      " [-8.48396063e-01 -6.05663136e-02]\n",
      " [-1.22791044e-01  7.02983737e-01]\n",
      " [-2.59369910e-01 -1.02554150e-01]\n",
      " [-1.47242919e-01  4.29078192e-01]\n",
      " [-2.99121678e-01  6.65002286e-01]\n",
      " [ 4.43428278e-01 -4.71314192e-01]\n",
      " [ 7.28984475e-01  4.24989820e-01]\n",
      " [-3.28665763e-01  3.65183890e-01]\n",
      " [ 8.72396588e-01 -8.69532526e-01]\n",
      " [ 5.11863649e-01  5.28387308e-01]\n",
      " [-1.00241795e-01  9.01911378e-01]\n",
      " [ 3.87832940e-01  9.83975232e-01]\n",
      " [ 4.32194650e-01  1.61186412e-01]\n",
      " [ 9.41782832e-01 -2.30017960e-01]\n",
      " [ 4.76213902e-01  9.12695453e-02]\n",
      " [-9.62601364e-01  8.87335956e-01]\n",
      " [ 9.32226777e-01 -7.71061659e-01]\n",
      " [ 5.03893912e-01  3.93628746e-01]\n",
      " [-3.66535395e-01  2.25693628e-01]\n",
      " [-6.16088994e-02  4.84360233e-02]\n",
      " [-5.23379266e-01 -5.28010249e-01]\n",
      " [ 3.59029800e-01 -7.06925213e-01]\n",
      " [-1.10071823e-01 -4.33299653e-02]\n",
      " [-4.09756929e-01 -5.87503076e-01]\n",
      " [-3.97532761e-01 -3.94700542e-02]\n",
      " [-8.87377203e-01  6.79967105e-02]\n",
      " [ 9.94470358e-01  5.58431149e-02]\n",
      " [ 2.85829008e-01  4.73599553e-01]\n",
      " [ 7.96880186e-01  6.11200333e-01]\n",
      " [ 7.44458914e-01 -3.05191159e-01]\n",
      " [-2.27405220e-01 -2.09259868e-01]\n",
      " [-4.20605451e-01  4.83323783e-01]\n",
      " [-9.45351422e-01  6.05554581e-01]\n",
      " [ 9.00871158e-01  1.88862860e-01]\n",
      " [ 5.58422320e-02 -1.60857216e-01]\n",
      " [-8.29453111e-01 -5.17722249e-01]\n",
      " [-8.68195355e-01  6.07340097e-01]\n",
      " [ 5.12853684e-03  2.01630950e-01]\n",
      " [-7.26602256e-01 -1.11500345e-01]\n",
      " [ 7.77563214e-01  4.48130846e-01]\n",
      " [-8.24473381e-01  6.63563848e-01]\n",
      " [ 5.04621267e-01  8.19873631e-01]\n",
      " [ 1.47716895e-01  3.38210046e-01]\n",
      " [ 4.14197862e-01  1.78636327e-01]\n",
      " [-8.12410787e-02 -9.64953125e-01]\n",
      " [-2.44569853e-01  2.84211695e-01]\n",
      " [-9.86488044e-01 -2.85536945e-01]\n",
      " [ 4.03622836e-01 -1.19454237e-02]\n",
      " [-1.28910244e-01  3.13491195e-01]\n",
      " [ 6.63258970e-01 -7.00803280e-01]\n",
      " [ 9.78156865e-01  2.21100315e-01]\n",
      " [ 3.96521598e-01  8.38758722e-02]\n",
      " [ 2.26870149e-01  6.33101046e-01]\n",
      " [ 5.73820412e-01 -7.52941251e-01]\n",
      " [ 1.19792875e-02 -3.62214357e-01]\n",
      " [-6.84168220e-01  5.18822707e-02]\n",
      " [ 5.82065046e-01 -2.46583402e-01]\n",
      " [ 8.13563883e-01 -5.12131453e-01]\n",
      " [ 7.22783327e-01  1.93486735e-01]\n",
      " [ 8.42817485e-01 -7.59118080e-01]\n",
      " [-8.14456940e-01  9.91092384e-01]\n",
      " [ 7.67439425e-01  7.90718105e-03]\n",
      " [-4.49874520e-01 -4.71014023e-01]\n",
      " [ 1.23023592e-01  9.01415944e-01]\n",
      " [ 3.97712231e-01 -9.07740414e-01]\n",
      " [-2.68990755e-01 -8.69076908e-01]\n",
      " [-2.01094290e-03  5.40072441e-01]\n",
      " [-6.92334950e-01  7.13490963e-01]\n",
      " [ 2.78253973e-01  5.54073036e-01]\n",
      " [-4.74370152e-01  1.03084527e-01]\n",
      " [ 7.18867302e-01  4.07065362e-01]\n",
      " [-4.35654745e-02  3.34204614e-01]\n",
      " [-5.36391698e-02 -7.67683610e-02]\n",
      " [ 6.05095588e-02 -6.12589955e-01]\n",
      " [ 5.79722881e-01  2.59241164e-01]\n",
      " [ 3.66094619e-01  8.43309164e-01]\n",
      " [-5.51700652e-01 -8.56580675e-01]\n",
      " [-6.91874027e-01 -2.59900689e-01]\n",
      " [ 5.00515163e-01  7.75214732e-01]\n",
      " [-8.09829414e-01  3.63867074e-01]\n",
      " [ 1.12631410e-01  8.01207542e-01]\n",
      " [ 8.09371412e-01  6.51156068e-01]\n",
      " [ 9.35907662e-01  5.89590728e-01]\n",
      " [ 8.90715063e-01 -7.14913368e-01]\n",
      " [-8.38272274e-01  2.55909741e-01]\n",
      " [ 4.87889498e-01  4.50314552e-01]\n",
      " [ 7.40245998e-01  7.80307531e-01]\n",
      " [ 6.48979843e-01  8.42190504e-01]\n",
      " [ 5.38443387e-01 -7.44233787e-01]\n",
      " [-5.61307728e-01 -3.22645426e-01]\n",
      " [ 8.00479710e-01  2.88994014e-01]\n",
      " [ 9.15902376e-01 -9.58289355e-02]\n",
      " [ 6.33171499e-02 -4.83346432e-01]\n",
      " [-3.75680834e-01  9.91583169e-01]\n",
      " [-3.68587732e-01 -7.59122968e-01]\n",
      " [ 4.81341213e-01 -2.77667381e-02]\n",
      " [ 4.13928300e-01  8.78418565e-01]\n",
      " [-1.28279448e-01 -8.45062375e-01]\n",
      " [-1.94628045e-01  2.06999570e-01]\n",
      " [-7.44772494e-01  5.52112103e-01]\n",
      " [-5.92645168e-01  9.64952409e-01]\n",
      " [-6.05350196e-01 -7.91633368e-01]\n",
      " [-8.64939928e-01 -7.07439184e-02]\n",
      " [ 9.57309842e-01  6.08352780e-01]\n",
      " [-1.48396656e-01 -5.51171184e-01]\n",
      " [-6.22128665e-01 -7.52829611e-01]\n",
      " [ 6.33479357e-01  2.31602505e-01]\n",
      " [-1.97899595e-01  4.97105092e-01]\n",
      " [ 5.17620802e-01 -2.77098920e-02]\n",
      " [-2.69201398e-01 -1.90692410e-01]\n",
      " [ 9.18101192e-01  4.11423594e-01]\n",
      " [ 9.47021723e-01 -1.55311555e-01]\n",
      " [ 2.27440014e-01 -2.13271111e-01]\n",
      " [-2.12433532e-01 -7.87434578e-01]\n",
      " [-5.00487760e-02  7.88650632e-01]\n",
      " [-1.17671952e-01 -7.70612836e-01]\n",
      " [ 1.01223201e-01  8.35767865e-01]\n",
      " [-8.18073153e-01  2.90496022e-01]\n",
      " [ 2.35336870e-01 -8.30947101e-01]\n",
      " [ 7.76841164e-01  4.59813893e-01]\n",
      " [ 1.79616380e-02 -3.61656755e-01]\n",
      " [-1.79786831e-01 -6.70701981e-01]\n",
      " [ 4.95352358e-01 -8.65931749e-01]\n",
      " [-9.13833737e-01 -2.02891588e-01]\n",
      " [-5.23697793e-01 -3.03586036e-01]\n",
      " [ 6.85024798e-01  7.58424342e-01]\n",
      " [-3.62249941e-01  3.92746717e-01]\n",
      " [-3.19120884e-01 -4.24783438e-01]\n",
      " [ 4.87167090e-01  3.16069990e-01]\n",
      " [-5.61267078e-01 -9.91238415e-01]\n",
      " [-5.33760130e-01 -7.86213040e-01]\n",
      " [-5.58965683e-01  2.77854234e-01]\n",
      " [-9.37647700e-01  6.30368710e-01]\n",
      " [ 2.04007104e-01 -7.16201782e-01]\n",
      " [ 4.21281487e-01 -1.06342375e-01]\n",
      " [ 1.09415628e-01 -3.15779597e-02]\n",
      " [ 3.65754038e-01  7.95423150e-01]\n",
      " [-8.10213685e-01 -5.68838298e-01]\n",
      " [-4.03641045e-01  9.01652753e-01]\n",
      " [-7.36414015e-01  8.24004829e-01]\n",
      " [-2.60792971e-01  9.13026571e-01]\n",
      " [-1.11568667e-01 -6.54550433e-01]\n",
      " [ 5.20546675e-01 -3.55426483e-02]\n",
      " [-7.50644207e-01  9.94966149e-01]\n",
      " [ 2.68953532e-01 -7.15070188e-01]\n",
      " [-7.32134461e-01  1.07823201e-01]\n",
      " [-8.96479666e-01 -5.53624153e-01]\n",
      " [-5.64485252e-01 -1.73591703e-01]\n",
      " [ 1.84240699e-01 -8.29468846e-01]\n",
      " [ 4.24511552e-01 -5.29571593e-01]\n",
      " [ 1.58088386e-01  9.45959806e-01]\n",
      " [-9.65099394e-01 -9.04901564e-01]\n",
      " [ 7.04572678e-01 -2.62996554e-01]\n",
      " [-2.16475829e-01  8.11697364e-01]\n",
      " [ 3.13413680e-01  8.34941745e-01]\n",
      " [ 2.70487051e-02  4.70010102e-01]\n",
      " [-6.50656283e-01  2.52166599e-01]\n",
      " [-9.78507638e-01 -4.73949872e-02]\n",
      " [-7.95695722e-01 -9.48357210e-02]\n",
      " [-7.55660608e-02 -8.55020821e-01]\n",
      " [ 5.06139807e-02  2.86021262e-01]\n",
      " [ 6.53557301e-01 -2.09682975e-02]\n",
      " [-4.60933357e-01 -5.45178533e-01]\n",
      " [ 1.35898218e-01 -1.32794872e-01]\n",
      " [ 4.30019617e-01 -9.81270447e-02]]\n",
      "[ 1.  1.  1.  1.  1.  1. -1. -1.  1.  1. -1.  1. -1. -1. -1. -1.  1.  1.\n",
      " -1. -1. -1. -1.  1. -1.  1. -1.  1. -1. -1.  1. -1. -1. -1. -1.  1.  1.\n",
      " -1. -1.  1.  1. -1. -1. -1.  1.  1.  1.  1.  1.  1.  1.  1. -1. -1.  1.\n",
      "  1. -1. -1.  1.  1.  1.  1.  1. -1. -1.  1.  1.  1. -1. -1.  1.  1.  1.\n",
      "  1. -1. -1. -1.  1.  1.  1. -1.  1.  1. -1.  1.  1. -1.  1. -1. -1. -1.\n",
      "  1.  1. -1. -1. -1.  1. -1.  1. -1.  1. -1. -1.  1. -1.  1.  1.  1. -1.\n",
      " -1. -1. -1. -1.  1.  1. -1. -1. -1. -1.  1. -1.  1. -1.  1. -1.  1. -1.\n",
      " -1.  1. -1. -1. -1.  1. -1. -1.  1.  1.  1. -1. -1. -1.  1.  1. -1.  1.\n",
      " -1.  1.  1.  1. -1. -1.  1. -1. -1. -1.  1.  1. -1.  1. -1.  1. -1.  1.\n",
      "  1.  1. -1.  1. -1.  1.  1. -1. -1.  1. -1. -1.  1. -1.  1. -1.  1. -1.\n",
      " -1. -1.  1.  1.  1.  1. -1.  1.  1.  1.  1.  1. -1.  1.  1.  1.  1.  1.\n",
      "  1.  1. -1.  1.  1.  1.  1. -1. -1. -1.  1.  1.  1. -1. -1.  1. -1.  1.\n",
      "  1.  1. -1. -1.  1.  1.  1.  1. -1. -1. -1. -1. -1.  1. -1. -1. -1. -1.\n",
      "  1. -1. -1.  1. -1. -1. -1.  1. -1. -1.  1.  1.  1. -1. -1.  1. -1.  1.\n",
      "  1. -1. -1.  1.  1.  1. -1.  1. -1. -1. -1. -1. -1. -1.  1. -1. -1.  1.\n",
      " -1.  1. -1.  1. -1.  1. -1.  1.  1. -1. -1. -1. -1. -1.  1.  1. -1. -1.\n",
      "  1. -1. -1.  1. -1.  1.  1.  1.  1.  1. -1. -1.  1. -1.  1.  1.  1.  1.\n",
      " -1. -1. -1.  1.  1.  1. -1.  1.  1.  1. -1.  1. -1.  1. -1.  1. -1. -1.\n",
      "  1.  1. -1.  1. -1.  1.  1.  1. -1. -1. -1.  1.  1.  1.  1.  1. -1. -1.\n",
      " -1. -1. -1.  1. -1.  1.  1.  1. -1. -1. -1.  1.  1. -1. -1.  1. -1.  1.\n",
      "  1.  1.  1. -1. -1.  1. -1. -1.  1.  1. -1. -1.  1.  1. -1. -1. -1.  1.\n",
      "  1.  1.  1.  1.  1.  1. -1.  1.  1.  1. -1.  1.  1.  1. -1.  1. -1. -1.\n",
      "  1. -1.  1. -1.  1.  1. -1.  1.  1. -1.  1.  1.  1.  1. -1. -1.  1. -1.\n",
      " -1.  1. -1. -1. -1.  1. -1. -1. -1. -1. -1.  1.  1.  1. -1. -1.  1. -1.\n",
      "  1.  1. -1. -1. -1.  1. -1.  1. -1.  1.  1.  1.  1. -1.  1.  1.  1.  1.\n",
      "  1.  1.  1.  1. -1.  1.  1. -1.  1. -1. -1. -1. -1. -1. -1. -1.  1. -1.\n",
      "  1.  1.  1. -1. -1. -1. -1.  1.  1.  1. -1.  1.  1. -1.  1.  1. -1.  1.\n",
      " -1.  1.  1. -1.  1.  1.  1.  1.  1.  1.  1. -1.  1.  1.]\n"
     ]
    }
   ],
   "source": [
    "print(X)\n",
    "print(Y)"
   ],
   "metadata": {
    "collapsed": false
   }
  },
  {
   "cell_type": "code",
   "execution_count": 46,
   "outputs": [],
   "source": [
    "arr_size = len(X)\n",
    "dimension = len(X[0])\n",
    "learning_rate = ctypes.c_float(0.001)\n",
    "epoch = 1000000\n",
    "X_flat = X.flatten()"
   ],
   "metadata": {
    "collapsed": false
   }
  },
  {
   "cell_type": "code",
   "execution_count": 47,
   "outputs": [],
   "source": [
    "LP_c_float = ctypes.POINTER(ctypes.c_float)\n",
    "x_to_predict = (ctypes.c_float * len(X_flat))(*X_flat)\n",
    "x_to_predict_ptr = ctypes.cast(x_to_predict, LP_c_float)"
   ],
   "metadata": {
    "collapsed": false
   }
  },
  {
   "cell_type": "code",
   "execution_count": 48,
   "outputs": [],
   "source": [
    "LP_c_float = ctypes.POINTER(ctypes.c_float)\n",
    "y_to_predict = (ctypes.c_float * len(Y))(*Y)\n",
    "y_to_predict_ptr = ctypes.cast(y_to_predict, LP_c_float)"
   ],
   "metadata": {
    "collapsed": false
   }
  },
  {
   "cell_type": "code",
   "execution_count": 49,
   "outputs": [],
   "source": [
    "my_lib.linear_model_training.argtypes = [\n",
    "    ctypes.POINTER(ctypes.c_float),\n",
    "    ctypes.POINTER(ctypes.c_float),\n",
    "    ctypes.POINTER(ctypes.c_float),\n",
    "    ctypes.c_int32,\n",
    "    ctypes.c_int32,\n",
    "    ctypes.c_float,\n",
    "    ctypes.c_int32,\n",
    "]\n",
    "my_lib.linear_model_training.restype = ctypes.POINTER(ctypes.c_float)"
   ],
   "metadata": {
    "collapsed": false
   }
  },
  {
   "cell_type": "code",
   "execution_count": 50,
   "outputs": [
    {
     "name": "stdout",
     "output_type": "stream",
     "text": [
      "[ 0.00028008 -0.00159314  0.00412446]\n",
      "<class 'ctypes.wintypes.LP_c_float'>\n"
     ]
    }
   ],
   "source": [
    "linear_model_training_ptr = my_lib.linear_model_training(\n",
    "    w_array_ptr,  # pointeur vers le résultat du vecteur W random\n",
    "    y_to_predict_ptr,  # pointeur vers les résultats labellisés pour entrainer le modele\n",
    "    x_to_predict_ptr,  # points qui ont permis de labeliser le vecteur d'au dessus\n",
    "    arr_size,  # array size\n",
    "    dimension,  # dimension de chaque vecteur\n",
    "    learning_rate,  # learning rate\n",
    "    epoch,  # nombre de fois où l'on passe sur le data set\n",
    ")\n",
    "trained_linear_model = np.ctypeslib.as_array(\n",
    "    linear_model_training_ptr, ((dimension + 1),)\n",
    ")\n",
    "print(trained_linear_model)\n",
    "print(type(linear_model_training_ptr))"
   ],
   "metadata": {
    "collapsed": false
   }
  },
  {
   "cell_type": "code",
   "execution_count": 51,
   "outputs": [],
   "source": [
    "my_lib.predict_linear_model.argtypes = [\n",
    "    ctypes.POINTER(ctypes.c_float),\n",
    "    ctypes.POINTER(ctypes.c_float),\n",
    "    ctypes.c_int32,\n",
    "    ctypes.c_int32,\n",
    "]\n",
    "my_lib.predict_linear_model.restype = ctypes.POINTER(ctypes.c_float)"
   ],
   "metadata": {
    "collapsed": false
   }
  },
  {
   "cell_type": "code",
   "execution_count": 52,
   "outputs": [],
   "source": [
    "predicted_labels = []\n",
    "predicted_x1 = []\n",
    "predicted_x2 = []\n",
    "for x1 in range(-100 , 100) :\n",
    "  for x2 in range(-100 , 100) :\n",
    "    predicted_x1.append(x1/100)\n",
    "    predicted_x2.append(x2/100)\n",
    "    predicted_labels.append('pink' if x1/100 * trained_linear_model[1] + x2/100 * trained_linear_model[2] + trained_linear_model[0] >= 0 else 'lightskyblue')"
   ],
   "metadata": {
    "collapsed": false
   }
  },
  {
   "cell_type": "code",
   "metadata": {
    "id": "zVBAE2fY2MpO",
    "colab": {
     "base_uri": "https://localhost:8080/",
     "height": 287
    },
    "outputId": "46b434a6-2fd8-492e-c080-14b0d0028968"
   },
   "source": [
    "plt.scatter(predicted_x1, predicted_x2, c=predicted_labels)\n",
    "plt.scatter(np.array(list(map(lambda elt : elt[1], filter(lambda c: Y[c[0]] == 1, enumerate(X)))))[:,0], np.array(list(map(lambda elt : elt[1], filter(lambda c: Y[c[0]] == 1, enumerate(X)))))[:,1], color='blue')\n",
    "plt.scatter(np.array(list(map(lambda elt : elt[1], filter(lambda c: Y[c[0]] == -1, enumerate(X)))))[:,0], np.array(list(map(lambda elt : elt[1], filter(lambda c: Y[c[0]] == -1, enumerate(X)))))[:,1], color='red')\n",
    "plt.show()\n",
    "plt.clf()"
   ],
   "execution_count": 53,
   "outputs": [
    {
     "data": {
      "text/plain": "<Figure size 640x480 with 1 Axes>",
      "image/png": "[encoded data removed]"
     },
     "metadata": {},
     "output_type": "display_data"
    },
    {
     "data": {
      "text/plain": "<Figure size 640x480 with 0 Axes>"
     },
     "metadata": {},
     "output_type": "display_data"
    }
   ]
  },
  {
   "cell_type": "code",
   "execution_count": 54,
   "outputs": [],
   "source": [
    "my_lib.delete_float_array(linear_model_training_ptr, (dimension + 1))\n",
    "del linear_model_training_ptr"
   ],
   "metadata": {
    "collapsed": false
   }
  },
  {
   "cell_type": "markdown",
   "metadata": {
    "id": "v4hhnYge928d"
   },
   "source": [
    "### Multi Linear 3 classes :\n",
    "        Linear Model x3 : OK\n",
    "        MLP (2, 3)      : OK"
   ]
  },
  {
   "cell_type": "code",
   "execution_count": 2,
   "outputs": [
    {
     "name": "stdout",
     "output_type": "stream",
     "text": [
      "[0.92221963 0.07325065 0.7730154 ]\n"
     ]
    }
   ],
   "source": [
    "my_lib = ctypes.CDLL(r\"..\\rust_lib\\target\\debug\\rust_lib.dll\")\n",
    "\n",
    "my_lib.delete_float_array.argtypes = [\n",
    "    ctypes.POINTER(ctypes.c_float),\n",
    "    ctypes.c_int32,\n",
    "]\n",
    "\n",
    "my_lib.generate_random_w.argtypes = [ctypes.c_int32]\n",
    "my_lib.generate_random_w.restype = ctypes.POINTER(ctypes.c_float)\n",
    "\n",
    "my_lib.delete_float_array.restype = None\n",
    "\n",
    "dimension = 2\n",
    "\n",
    "w_array_ptr = my_lib.generate_random_w(dimension)\n",
    "\n",
    "w_array = np.ctypeslib.as_array(w_array_ptr, ((dimension + 1),))\n",
    "\n",
    "print(w_array)"
   ],
   "metadata": {
    "collapsed": false
   }
  },
  {
   "cell_type": "code",
   "metadata": {
    "id": "IvhvqkDw928q",
    "colab": {
     "base_uri": "https://localhost:8080/"
    },
    "outputId": "be06d0ab-dfcb-4469-f009-7cad5672caab"
   },
   "source": [
    "X = np.random.random((500, 2)) * 2.0 - 1.0\n",
    "Y = np.array([[1, 0, 0] if -p[0] - p[1] - 0.5 > 0 and p[1] < 0 and p[0] - p[1] - 0.5 < 0 else\n",
    "              [0, 1, 0] if -p[0] - p[1] - 0.5 < 0 and p[1] > 0 and p[0] - p[1] - 0.5 < 0 else\n",
    "              [0, 0, 1] if -p[0] - p[1] - 0.5 < 0 and p[1] < 0 and p[0] - p[1] - 0.5 > 0 else\n",
    "              [0, 0, 0]for p in X])\n",
    "\n",
    "X = X[[not np.all(arr == [0, 0, 0]) for arr in Y]]\n",
    "Y = Y[[not np.all(arr == [0, 0, 0]) for arr in Y]]\n",
    "\n",
    "X = np.array(X, dtype=ctypes.c_float)\n",
    "Y = np.array(Y, dtype=ctypes.c_float)\n",
    "\n",
    "X_plot = np.random.random((500, 2)) * 2.0 - 1.0\n",
    "Y_plot = np.array([[1, 0, 0] if -p[0] - p[1] - 0.5 > 0 and p[1] < 0 and p[0] - p[1] - 0.5 < 0 else\n",
    "              [0, 1, 0] if -p[0] - p[1] - 0.5 < 0 and p[1] > 0 and p[0] - p[1] - 0.5 < 0 else\n",
    "              [0, 0, 1] if -p[0] - p[1] - 0.5 < 0 and p[1] < 0 and p[0] - p[1] - 0.5 > 0 else\n",
    "              [0, 0, 0]for p in X_plot])\n",
    "\n",
    "X_plot = X_plot[[not np.all(arr == [0, 0, 0]) for arr in Y_plot]]\n",
    "Y_plot = Y_plot[[not np.all(arr == [0, 0, 0]) for arr in Y_plot]]"
   ],
   "execution_count": 3,
   "outputs": []
  },
  {
   "cell_type": "code",
   "execution_count": 4,
   "outputs": [
    {
     "name": "stdout",
     "output_type": "stream",
     "text": [
      "[[-0.65830046  0.49325362]\n",
      " [-0.32316357  0.369188  ]\n",
      " [ 0.9682845  -0.66753227]\n",
      " [ 0.7328385  -0.16892165]\n",
      " [-0.32976398  0.05528286]\n",
      " [ 0.6788458  -0.674251  ]\n",
      " [ 0.98073334 -0.22099482]\n",
      " [-0.44010127 -0.7497357 ]\n",
      " [ 0.7305739  -0.13536686]\n",
      " [-0.53302217 -0.7211303 ]\n",
      " [-0.77151835  0.6417255 ]\n",
      " [ 0.48888645 -0.04368049]\n",
      " [-0.6887377  -0.14310935]\n",
      " [ 0.6607649   0.7252065 ]\n",
      " [ 0.58615977 -0.3614234 ]\n",
      " [-0.30190015  0.7269409 ]\n",
      " [ 0.75136405  0.8283048 ]\n",
      " [ 0.38870364  0.6510039 ]\n",
      " [ 0.78699106  0.3652396 ]\n",
      " [-0.44821146  0.9721233 ]\n",
      " [-0.6367694  -0.6461271 ]\n",
      " [ 0.6260202   0.8308028 ]\n",
      " [ 0.8284559  -0.86640596]\n",
      " [ 0.35857567  0.03432909]\n",
      " [ 0.73011446 -0.22374825]\n",
      " [ 0.22790839  0.40727058]\n",
      " [-0.10677968  0.74144644]\n",
      " [-0.32152155  0.8539428 ]\n",
      " [-0.7893408   0.58583856]\n",
      " [ 0.960185   -0.63435394]\n",
      " [ 0.03815125  0.16122521]\n",
      " [-0.611132   -0.2892645 ]\n",
      " [-0.6832456  -0.562166  ]\n",
      " [-0.8369755  -0.94398457]\n",
      " [ 0.5131418   0.21231869]\n",
      " [-0.89203304 -0.8740545 ]\n",
      " [ 0.19056553  0.5046733 ]\n",
      " [ 0.56450975  0.1255496 ]\n",
      " [-0.6670527   0.9641914 ]\n",
      " [-0.72951037  0.44396505]\n",
      " [-0.52153295  0.94979906]\n",
      " [-0.32869804  0.3509744 ]\n",
      " [-0.35683748 -0.23179044]\n",
      " [-0.74899495 -0.8002048 ]\n",
      " [ 0.5578059  -0.33828068]\n",
      " [ 0.99262065 -0.22787558]\n",
      " [ 0.58104473 -0.05254576]\n",
      " [ 0.12192696  0.7369875 ]\n",
      " [ 0.92755085 -0.26648366]\n",
      " [ 0.41084102  0.96650445]\n",
      " [ 0.39706272 -0.82233036]\n",
      " [ 0.6357973  -0.9018586 ]\n",
      " [ 0.9655329  -0.20435573]\n",
      " [ 0.37582868 -0.35624495]\n",
      " [ 0.28414753  0.76386285]\n",
      " [ 0.60351187  0.22402082]\n",
      " [-0.6181774  -0.23354019]\n",
      " [ 0.22593239  0.70846945]\n",
      " [-0.72184455 -0.6654966 ]\n",
      " [ 0.08589818  0.94462824]\n",
      " [ 0.3793195   0.3849119 ]\n",
      " [ 0.21638079  0.28350952]\n",
      " [ 0.925036   -0.7586602 ]\n",
      " [-0.4879228   0.8699769 ]\n",
      " [-0.9498635   0.60798085]\n",
      " [ 0.33677486 -0.70648026]\n",
      " [-0.2903805   0.95725256]\n",
      " [-0.40681562 -0.3790179 ]\n",
      " [-0.9290418  -0.6711277 ]\n",
      " [ 0.36424878  0.45523244]\n",
      " [-0.6486564  -0.8980672 ]\n",
      " [-0.21913369 -0.40609604]\n",
      " [-0.6874442   0.43705523]\n",
      " [ 0.68253297  0.45430672]\n",
      " [ 0.55030566  0.46053067]\n",
      " [ 0.80261034 -0.71574026]\n",
      " [-0.64394623  0.9219213 ]\n",
      " [-0.53181225 -0.5103475 ]\n",
      " [ 0.72035635  0.8028313 ]\n",
      " [ 0.5651042  -0.47492686]\n",
      " [-0.85076386  0.6666107 ]\n",
      " [-0.17897536  0.09601121]\n",
      " [ 0.28668386 -0.2560089 ]\n",
      " [ 0.49876216 -0.5996036 ]\n",
      " [ 0.47517323  0.11671951]\n",
      " [-0.3908886   0.8242177 ]\n",
      " [ 0.9462107  -0.4824063 ]\n",
      " [-0.71342784 -0.19438161]\n",
      " [ 0.05760244  0.8134474 ]\n",
      " [ 0.36671174 -0.7508836 ]\n",
      " [-0.705346   -0.13579303]\n",
      " [-0.6641301   0.5756411 ]\n",
      " [ 0.80033255 -0.3959038 ]\n",
      " [-0.34575427 -0.3043759 ]\n",
      " [ 0.6562229  -0.60769945]\n",
      " [-0.33987162  0.9164547 ]\n",
      " [-0.3536425   0.5284917 ]\n",
      " [-0.48167902 -0.8865089 ]\n",
      " [ 0.4706787   0.9894451 ]\n",
      " [-0.6094407   0.7411481 ]\n",
      " [-0.87669206 -0.18931775]\n",
      " [-0.369193    0.76468945]\n",
      " [-0.24023895 -0.40099153]\n",
      " [ 0.39988953 -0.8272979 ]\n",
      " [ 0.342432   -0.5715485 ]\n",
      " [ 0.0354724   0.13313568]\n",
      " [-0.99807256  0.897726  ]\n",
      " [-0.8626613   0.6886702 ]\n",
      " [ 0.8234251  -0.14528175]\n",
      " [ 0.0383255   0.6988004 ]\n",
      " [-0.986643   -0.71171284]\n",
      " [ 0.29699567  0.52085906]\n",
      " [-0.8573583  -0.51371974]\n",
      " [-0.91495544 -0.44092184]\n",
      " [-0.06302568 -0.4830096 ]\n",
      " [-0.1747451   0.77465445]\n",
      " [-0.66247576 -0.8873562 ]\n",
      " [-0.9974565  -0.60200256]\n",
      " [ 0.23161723 -0.5925591 ]\n",
      " [-0.32473654  0.01463462]\n",
      " [-0.98785144 -0.45794353]\n",
      " [-0.1811168   0.3989555 ]\n",
      " [-0.88137037  0.73395234]\n",
      " [ 0.01495179  0.19734584]\n",
      " [ 0.30204275 -0.67179906]\n",
      " [ 0.74790853 -0.0479016 ]\n",
      " [ 0.77536535  0.41917288]\n",
      " [-0.28146    -0.6502119 ]\n",
      " [ 0.5737001   0.10544235]\n",
      " [ 0.41135958 -0.4067056 ]\n",
      " [ 0.58627224  0.43891895]\n",
      " [ 0.9857893  -0.3738339 ]\n",
      " [ 0.42862335  0.8477945 ]\n",
      " [ 0.15568739 -0.43687105]\n",
      " [ 0.52516156  0.812279  ]\n",
      " [ 0.74374896  0.45162973]\n",
      " [-0.867922   -0.4381526 ]\n",
      " [ 0.1404043   0.9656426 ]\n",
      " [-0.08467115  0.91593355]\n",
      " [ 0.7958727  -0.9496314 ]\n",
      " [ 0.21273759  0.06243375]\n",
      " [ 0.61082155  0.5856681 ]\n",
      " [-0.91346097 -0.7021862 ]\n",
      " [-0.97504866 -0.5323201 ]\n",
      " [-0.397583    0.9268222 ]\n",
      " [-0.3607851  -0.82092965]\n",
      " [-0.7961316  -0.88423765]\n",
      " [-0.18279716 -0.58397394]\n",
      " [ 0.805434   -0.2356294 ]\n",
      " [ 0.02042933  0.7553237 ]\n",
      " [-0.5285239   0.50559485]\n",
      " [-0.69649476 -0.83526075]\n",
      " [-0.7123464   0.92000157]\n",
      " [ 0.62589544  0.80810827]\n",
      " [-0.7494032  -0.5442958 ]\n",
      " [-0.5920028   0.6649152 ]\n",
      " [-0.2860837   0.26834533]\n",
      " [-0.27827135  0.5862715 ]\n",
      " [ 0.3046661   0.47657415]\n",
      " [ 0.39713165  0.3708258 ]\n",
      " [ 0.449846    0.23963743]\n",
      " [ 0.60016143  0.8296852 ]\n",
      " [ 0.7560899   0.8284461 ]\n",
      " [-0.0475347   0.6839061 ]\n",
      " [ 0.69839406 -0.36495733]\n",
      " [ 0.06619386 -0.49999735]\n",
      " [-0.63106996  0.19311582]\n",
      " [-0.5863001   0.2363968 ]\n",
      " [ 0.44861093  0.7738112 ]\n",
      " [-0.8757565  -0.35332865]\n",
      " [ 0.29798734  0.18694316]\n",
      " [-0.54860514  0.93000996]\n",
      " [-0.79816765 -0.2912121 ]\n",
      " [ 0.5777369  -0.00983167]\n",
      " [ 0.69850975  0.38682216]\n",
      " [ 0.8584758  -0.8322682 ]\n",
      " [-0.13377231  0.35127407]\n",
      " [-0.31406772 -0.34409758]\n",
      " [ 0.22106373  0.18843327]\n",
      " [-0.80734146 -0.14592661]\n",
      " [-0.6244376   0.23244046]\n",
      " [-0.6101797  -0.57556057]\n",
      " [-0.6155037   0.9817188 ]\n",
      " [ 0.23255002  0.5377032 ]\n",
      " [-0.6824537   0.45802253]\n",
      " [ 0.47904706 -0.1489093 ]\n",
      " [-0.15147762 -0.47693446]\n",
      " [ 0.46243322  0.32312015]\n",
      " [ 0.83935183 -0.23195867]\n",
      " [ 0.18359302 -0.66173536]\n",
      " [ 0.23841098  0.5794809 ]\n",
      " [ 0.19204094  0.35407445]\n",
      " [ 0.9347376  -0.08524483]\n",
      " [-0.46581978  0.37580153]\n",
      " [-0.00335206  0.6907514 ]\n",
      " [-0.59801185  0.10124033]\n",
      " [-0.66329294  0.5576022 ]\n",
      " [ 0.91620314 -0.15606727]\n",
      " [ 0.4287526  -0.23259445]\n",
      " [ 0.9742581  -0.3212045 ]\n",
      " [-0.5654054  -0.09664826]\n",
      " [-0.0066142   0.7640201 ]\n",
      " [ 0.6216375   0.920838  ]\n",
      " [-0.45746255  0.42678475]\n",
      " [ 0.41439033 -0.67748964]\n",
      " [-0.67623377 -0.4191221 ]\n",
      " [-0.6930189  -0.8380512 ]\n",
      " [-0.3294083  -0.63286614]\n",
      " [-0.99942863 -0.985259  ]\n",
      " [-0.04150414  0.33067438]\n",
      " [ 0.79181755 -0.00484212]\n",
      " [-0.4343504  -0.45859033]\n",
      " [-0.20953602  0.7666256 ]\n",
      " [-0.9178374  -0.8223057 ]\n",
      " [-0.5402745  -0.77770114]\n",
      " [ 0.2789046   0.17904982]\n",
      " [ 0.7561994  -0.06384945]\n",
      " [-0.07852267  0.42672497]\n",
      " [-0.65002143  0.9457864 ]\n",
      " [ 0.40381908 -0.22524899]\n",
      " [ 0.8023886  -0.22056983]\n",
      " [-0.34387302  0.19929688]\n",
      " [-0.36388788  0.0012126 ]\n",
      " [-0.88905215 -0.17369866]\n",
      " [ 0.05803921  0.14386503]\n",
      " [-0.99343336  0.7665918 ]\n",
      " [ 0.5672991   0.43360636]\n",
      " [-0.32021725 -0.72099566]\n",
      " [-0.21978875  0.90652096]\n",
      " [-0.71440023 -0.03596897]\n",
      " [-0.0640064   0.94826674]\n",
      " [ 0.35030574 -0.54024094]\n",
      " [-0.60742617 -0.19868259]\n",
      " [ 0.62602973 -0.2737462 ]\n",
      " [ 0.9915255   0.6332724 ]\n",
      " [ 0.99483174  0.7590957 ]\n",
      " [-0.97971433 -0.07133456]\n",
      " [ 0.71752024 -0.26499537]\n",
      " [-0.6827696   0.9352985 ]\n",
      " [ 0.7061421   0.9592167 ]\n",
      " [-0.10115913  0.41094065]\n",
      " [ 0.71608955 -0.22504571]\n",
      " [ 0.24412426  0.7489403 ]\n",
      " [-0.811087   -0.76080745]\n",
      " [-0.17314294  0.9511346 ]\n",
      " [-0.38353604  0.3402445 ]\n",
      " [-0.43450493  0.6838436 ]\n",
      " [-0.24408533  0.6228238 ]\n",
      " [ 0.26894656  0.5942171 ]\n",
      " [-0.501645    0.47864076]\n",
      " [-0.6545719  -0.95433825]\n",
      " [-0.63659817  0.315409  ]\n",
      " [-0.04046398  0.22090538]\n",
      " [ 0.92615    -0.9398068 ]\n",
      " [-0.6843346  -0.2274026 ]\n",
      " [ 0.70152825 -0.6741704 ]\n",
      " [-0.8203855  -0.6902621 ]\n",
      " [ 0.78707343 -0.6365714 ]\n",
      " [-0.92497444  0.4764681 ]\n",
      " [ 0.40254265  0.77879816]\n",
      " [-0.82258064  0.34910977]\n",
      " [ 0.53901064  0.522734  ]\n",
      " [-0.7987827   0.49466836]\n",
      " [ 0.2142092   0.25851586]\n",
      " [ 0.8124922  -0.9006123 ]\n",
      " [ 0.63636136 -0.84576744]\n",
      " [-0.8727587   0.70512474]\n",
      " [ 0.8291523  -0.1481343 ]\n",
      " [ 0.81279546 -0.6532466 ]\n",
      " [-0.8351397   0.7332105 ]\n",
      " [-0.46953556  0.6073952 ]\n",
      " [ 0.57354033 -0.4868267 ]\n",
      " [-0.09474844  0.08851659]\n",
      " [-0.5237837   0.6668336 ]\n",
      " [ 0.03717382  0.06919725]\n",
      " [ 0.8624727  -0.88225603]\n",
      " [-0.13118342  0.52896696]\n",
      " [-0.25591362  0.9952483 ]\n",
      " [ 0.00172836  0.2724597 ]\n",
      " [-0.0139713   0.90812427]\n",
      " [ 0.7339569   0.3275336 ]\n",
      " [ 0.5355912   0.25432795]\n",
      " [ 0.610802   -0.05550218]\n",
      " [ 0.32563114 -0.73300076]\n",
      " [-0.05152921  0.0036368 ]\n",
      " [ 0.900977   -0.74203235]\n",
      " [ 0.21593611  0.9960151 ]\n",
      " [-0.6461632   0.6106778 ]\n",
      " [-0.7325453   0.5423237 ]\n",
      " [-0.46777767 -0.11328752]\n",
      " [ 0.49104604  0.31860736]\n",
      " [ 0.67154527  0.3296949 ]\n",
      " [ 0.48544848  0.16781029]\n",
      " [-0.7694884  -0.845645  ]\n",
      " [ 0.5430858   0.22460736]\n",
      " [ 0.28801426  0.6641226 ]\n",
      " [ 0.8646761   0.38747203]\n",
      " [-0.8069274   0.7113821 ]\n",
      " [-0.37969533 -0.7602119 ]\n",
      " [ 0.40898713  0.0521748 ]\n",
      " [ 0.95095825 -0.36337736]\n",
      " [ 0.8772826  -0.9785836 ]\n",
      " [-0.6725895   0.18845834]\n",
      " [-0.7008962  -0.27930734]\n",
      " [-0.41991577  0.97600234]\n",
      " [-0.22240345  0.4226562 ]\n",
      " [-0.13537613 -0.44729298]\n",
      " [ 0.90635943 -0.32999587]\n",
      " [ 0.10936598  0.56083435]\n",
      " [-0.77221    -0.5646816 ]\n",
      " [ 0.4833345   0.3720452 ]\n",
      " [ 0.43377852  0.73637587]\n",
      " [-0.5089166   0.95919573]\n",
      " [-0.5415369  -0.3234746 ]\n",
      " [ 0.6055804  -0.5805125 ]\n",
      " [-0.68840605  0.8058826 ]\n",
      " [-0.21852212  0.1305697 ]\n",
      " [-0.56735986 -0.62119293]\n",
      " [ 0.20457335  0.9654158 ]\n",
      " [-0.43519     0.35978317]\n",
      " [ 0.583683   -0.4328094 ]\n",
      " [-0.42617014  0.44464293]\n",
      " [ 0.15588608  0.8005751 ]\n",
      " [-0.6634599   0.16432539]\n",
      " [ 0.19439818  0.31543562]\n",
      " [ 0.4550321  -0.18577965]\n",
      " [ 0.20554364  0.34230924]\n",
      " [-0.01500886  0.38037738]\n",
      " [-0.4478624   0.9527672 ]\n",
      " [ 0.29008672  0.6452217 ]\n",
      " [-0.6871134  -0.28445786]\n",
      " [-0.43888313 -0.14696826]\n",
      " [-0.08867531 -0.4514232 ]\n",
      " [-0.3974887   0.18441767]\n",
      " [-0.5155926   0.04866485]\n",
      " [-0.4288531   0.08909748]\n",
      " [ 0.1078324   0.5983317 ]\n",
      " [-0.8688429  -0.13715874]\n",
      " [-0.42688823  0.3750596 ]\n",
      " [-0.32498726  0.15658583]\n",
      " [ 0.42968023  0.28534195]\n",
      " [-0.6904042   0.7338652 ]\n",
      " [-0.36038175  0.9278088 ]\n",
      " [-0.9694357  -0.9157255 ]\n",
      " [ 0.8898275   0.5797704 ]\n",
      " [-0.4407931   0.8187916 ]\n",
      " [-0.20503023  0.3775282 ]\n",
      " [-0.632529    0.83308923]\n",
      " [ 0.97552985  0.7080733 ]\n",
      " [ 0.28334996  0.27284864]\n",
      " [-0.04096539  0.3811209 ]\n",
      " [-0.87385976 -0.8308629 ]\n",
      " [-0.624211    0.77517384]\n",
      " [ 0.6386012  -0.1100219 ]\n",
      " [-0.3106755  -0.5739771 ]\n",
      " [-0.4510518  -0.3631916 ]\n",
      " [ 0.63234985 -0.39612797]\n",
      " [-0.49944913  0.4858796 ]\n",
      " [-0.47674406 -0.67896885]\n",
      " [-0.94944906 -0.0341258 ]\n",
      " [-0.5209745   0.76297295]\n",
      " [-0.9453153   0.60993075]\n",
      " [-0.4496041   0.26444274]\n",
      " [ 0.6281447   0.42083868]\n",
      " [-0.38066825  0.95212895]\n",
      " [-0.70776105  0.75262344]\n",
      " [-0.89989656 -0.02865811]\n",
      " [ 0.325595    0.06976349]\n",
      " [ 0.41485903  0.102541  ]\n",
      " [ 0.88024056  0.9574029 ]\n",
      " [-0.15444323  0.29845715]\n",
      " [-0.34727472 -0.3668226 ]\n",
      " [-0.7729468   0.40892583]\n",
      " [ 0.69994843  0.372256  ]\n",
      " [-0.1768915   0.82403016]\n",
      " [-0.49202207  0.02616787]\n",
      " [ 0.60737175  0.15221727]\n",
      " [-0.28227267 -0.5102645 ]\n",
      " [ 0.3261878  -0.48464948]\n",
      " [ 0.9134508  -0.10954124]\n",
      " [-0.5567674  -0.27016583]\n",
      " [-0.05501291 -0.5115773 ]\n",
      " [-0.4637506   0.25802302]\n",
      " [ 0.45278773 -0.26731333]\n",
      " [ 0.29957557  0.67475903]\n",
      " [-0.43209928  0.5558448 ]\n",
      " [ 0.36458805  0.52588475]\n",
      " [-0.9302901   0.47760358]\n",
      " [-0.21569918  0.13803412]\n",
      " [ 0.21268289  0.81514966]\n",
      " [ 0.5633759   0.9018449 ]\n",
      " [ 0.6612759   0.89285785]]\n"
     ]
    }
   ],
   "source": [
    "print(X)"
   ],
   "metadata": {
    "collapsed": false
   }
  },
  {
   "cell_type": "code",
   "execution_count": 6,
   "outputs": [
    {
     "name": "stdout",
     "output_type": "stream",
     "text": [
      "[[0. 1. 0.]\n",
      " [0. 1. 0.]\n",
      " [0. 0. 1.]\n",
      " ...\n",
      " [0. 1. 0.]\n",
      " [0. 1. 0.]\n",
      " [0. 1. 0.]]\n"
     ]
    }
   ],
   "source": [
    "print(Y)"
   ],
   "metadata": {
    "collapsed": false
   }
  },
  {
   "cell_type": "code",
   "execution_count": 7,
   "outputs": [],
   "source": [
    "arr_size = len(X)\n",
    "dimension = 2\n",
    "learning_rate = ctypes.c_float(0.001)\n",
    "epoch = 1000000\n",
    "X_flat = X.flatten()"
   ],
   "metadata": {
    "collapsed": false
   }
  },
  {
   "cell_type": "code",
   "execution_count": 8,
   "outputs": [],
   "source": [
    "LP_c_float = ctypes.POINTER(ctypes.c_float)\n",
    "x_to_predict = (ctypes.c_float * len(X_flat))(*X_flat)\n",
    "x_to_predict_ptr = ctypes.cast(x_to_predict, LP_c_float)"
   ],
   "metadata": {
    "collapsed": false
   }
  },
  {
   "cell_type": "code",
   "execution_count": 9,
   "outputs": [],
   "source": [
    "Y_flat = Y.flatten()"
   ],
   "metadata": {
    "collapsed": false
   }
  },
  {
   "cell_type": "code",
   "execution_count": 10,
   "outputs": [],
   "source": [
    "LP_c_float = ctypes.POINTER(ctypes.c_float)\n",
    "y_to_predict = (ctypes.c_float * len(Y_flat))(*Y_flat)\n",
    "y_to_predict_ptr = ctypes.cast(y_to_predict, LP_c_float)"
   ],
   "metadata": {
    "collapsed": false
   }
  },
  {
   "cell_type": "code",
   "execution_count": 11,
   "outputs": [],
   "source": [
    "my_lib.linear_model_training.argtypes = [\n",
    "    ctypes.POINTER(ctypes.c_float),\n",
    "    ctypes.POINTER(ctypes.c_float),\n",
    "    ctypes.POINTER(ctypes.c_float),\n",
    "    ctypes.c_int32,\n",
    "    ctypes.c_int32,\n",
    "    ctypes.c_float,\n",
    "    ctypes.c_int32,\n",
    "]\n",
    "my_lib.linear_model_training.restype = ctypes.POINTER(ctypes.c_float)"
   ],
   "metadata": {
    "collapsed": false
   }
  },
  {
   "cell_type": "code",
   "execution_count": 12,
   "outputs": [
    {
     "name": "stdout",
     "output_type": "stream",
     "text": [
      "[ 0.00022795 -0.00073191 -0.00019612]\n",
      "<class 'ctypes.wintypes.LP_c_float'>\n"
     ]
    }
   ],
   "source": [
    "linear_model_training_ptr = my_lib.linear_model_training(\n",
    "    w_array_ptr,  # pointeur vers le résultat du vecteur W random\n",
    "    y_to_predict_ptr,  # pointeur vers les résultats labellisés pour entrainer le modele\n",
    "    x_to_predict_ptr,  # points qui ont permis de labeliser le vecteur d'au dessus\n",
    "    arr_size,  # array size\n",
    "    dimension,  # dimension de chaque vecteur\n",
    "    learning_rate,  # learning rate\n",
    "    epoch,  # nombre de fois où l'on passe sur le data set\n",
    ")\n",
    "trained_linear_model = np.ctypeslib.as_array(\n",
    "    linear_model_training_ptr, ((dimension + 1),)\n",
    ")\n",
    "print(trained_linear_model)\n",
    "print(type(linear_model_training_ptr))"
   ],
   "metadata": {
    "collapsed": false
   }
  },
  {
   "cell_type": "code",
   "execution_count": 11,
   "outputs": [],
   "source": [
    "my_lib.predict_linear_model.argtypes = [\n",
    "    ctypes.POINTER(ctypes.c_float),\n",
    "    ctypes.POINTER(ctypes.c_float),\n",
    "    ctypes.c_int32,\n",
    "    ctypes.c_int32,\n",
    "]\n",
    "my_lib.predict_linear_model.restype = ctypes.POINTER(ctypes.c_float)"
   ],
   "metadata": {
    "collapsed": false
   }
  },
  {
   "cell_type": "code",
   "execution_count": 13,
   "outputs": [],
   "source": [
    "predicted_labels = []\n",
    "predicted_x1 = []\n",
    "predicted_x2 = []\n",
    "for x1 in range(-100 , 100) :\n",
    "  for x2 in range(-100 , 100) :\n",
    "    predicted_x1.append(x1/100)\n",
    "    predicted_x2.append(x2/100)\n",
    "    predicted_labels.append('pink' if x1/100 * trained_linear_model[1] + x2/100 * trained_linear_model[2] + trained_linear_model[0] >= 0 else 'lightskyblue')"
   ],
   "metadata": {
    "collapsed": false
   }
  },
  {
   "cell_type": "code",
   "metadata": {
    "id": "4aqzcUlJ928s",
    "colab": {
     "base_uri": "https://localhost:8080/",
     "height": 287
    },
    "outputId": "71df307b-e9c9-4a2d-a942-b75e3a141e46"
   },
   "source": [
    "plt.scatter(predicted_x1, predicted_x2, c=predicted_labels)\n",
    "plt.scatter(np.array(list(map(lambda elt : elt[1], filter(lambda c: Y[c[0]][0] == 1, enumerate(X)))))[:,0], np.array(list(map(lambda elt : elt[1], filter(lambda c: Y[c[0]][0] == 1, enumerate(X)))))[:,1], color='blue')\n",
    "plt.scatter(np.array(list(map(lambda elt : elt[1], filter(lambda c: Y[c[0]][1] == 1, enumerate(X)))))[:,0], np.array(list(map(lambda elt : elt[1], filter(lambda c: Y[c[0]][1] == 1, enumerate(X)))))[:,1], color='red')\n",
    "plt.scatter(np.array(list(map(lambda elt : elt[1], filter(lambda c: Y[c[0]][2] == 1, enumerate(X)))))[:,0], np.array(list(map(lambda elt : elt[1], filter(lambda c: Y[c[0]][2] == 1, enumerate(X)))))[:,1], color='green')\n",
    "plt.show()\n",
    "plt.clf()"
   ],
   "execution_count": 14,
   "outputs": [
    {
     "data": {
      "text/plain": "<Figure size 640x480 with 1 Axes>",
      "image/png": "[encoded data removed]"
     },
     "metadata": {},
     "output_type": "display_data"
    },
    {
     "data": {
      "text/plain": "<Figure size 640x480 with 0 Axes>"
     },
     "metadata": {},
     "output_type": "display_data"
    }
   ]
  },
  {
   "cell_type": "code",
   "execution_count": 14,
   "outputs": [],
   "source": [
    "my_lib.delete_float_array(linear_model_training_ptr, (dimension + 1))\n",
    "del linear_model_training_ptr"
   ],
   "metadata": {
    "collapsed": false
   }
  },
  {
   "cell_type": "markdown",
   "metadata": {
    "id": "uKFBx2m066i2"
   },
   "source": [
    "### Multi Cross :\n",
    "        Linear Model x3 : KO\n",
    "        MLP (2, ?, ?, 3): OK"
   ]
  },
  {
   "cell_type": "code",
   "metadata": {
    "id": "0ZE8OW-K66i5"
   },
   "source": [
    "X = np.random.random((1000, 2)) * 2.0 - 1.0\n",
    "Y = np.array([[1, 0, 0] if abs(p[0] % 0.5) <= 0.25 and abs(p[1] % 0.5) > 0.25 else [0, 1, 0] if abs(p[0] % 0.5) > 0.25 and abs(p[1] % 0.5) <= 0.25 else [0, 0, 1] for p in X])"
   ],
   "execution_count": null,
   "outputs": []
  },
  {
   "cell_type": "code",
   "metadata": {
    "id": "55U95UMS66i6",
    "colab": {
     "base_uri": "https://localhost:8080/",
     "height": 287
    },
    "outputId": "f14df72f-c2c1-4498-9668-f91f29594b06"
   },
   "source": [
    "plt.scatter(np.array(list(map(lambda elt : elt[1], filter(lambda c: Y[c[0]][0] == 1, enumerate(X)))))[:,0], np.array(list(map(lambda elt : elt[1], filter(lambda c: Y[c[0]][0] == 1, enumerate(X)))))[:,1], color='blue')\n",
    "plt.scatter(np.array(list(map(lambda elt : elt[1], filter(lambda c: Y[c[0]][1] == 1, enumerate(X)))))[:,0], np.array(list(map(lambda elt : elt[1], filter(lambda c: Y[c[0]][1] == 1, enumerate(X)))))[:,1], color='red')\n",
    "plt.scatter(np.array(list(map(lambda elt : elt[1], filter(lambda c: Y[c[0]][2] == 1, enumerate(X)))))[:,0], np.array(list(map(lambda elt : elt[1], filter(lambda c: Y[c[0]][2] == 1, enumerate(X)))))[:,1], color='green')\n",
    "plt.show()\n",
    "plt.clf()"
   ],
   "execution_count": null,
   "outputs": [
    {
     "output_type": "display_data",
     "data": {
      "image/png": "[encoded data removed]",
      "text/plain": [
       "<Figure size 432x288 with 1 Axes>"
      ]
     },
     "metadata": {
      "tags": []
     }
    },
    {
     "output_type": "display_data",
     "data": {
      "text/plain": [
       "<Figure size 432x288 with 0 Axes>"
      ]
     },
     "metadata": {
      "tags": []
     }
    }
   ]
  },
  {
   "cell_type": "markdown",
   "metadata": {
    "id": "zyrivJMK_WOQ"
   },
   "source": [
    "## Régression"
   ]
  },
  {
   "cell_type": "markdown",
   "metadata": {
    "id": "p4EB787A_WOR"
   },
   "source": [
    "### Linear Simple 2D :\n",
    "        Linear Model : OK\n",
    "        MLP (1, 1)   : OK"
   ]
  },
  {
   "cell_type": "code",
   "metadata": {
    "id": "dan93I7A_WOR"
   },
   "source": [
    "X = np.array([\n",
    "      [1],\n",
    "      [2]\n",
    "])\n",
    "Y = np.array([\n",
    "      2,\n",
    "      3\n",
    "])"
   ],
   "execution_count": null,
   "outputs": []
  },
  {
   "cell_type": "code",
   "metadata": {
    "id": "6vHbCksm_sQU",
    "colab": {
     "base_uri": "https://localhost:8080/",
     "height": 287
    },
    "outputId": "1e476e34-d3ef-456a-c46e-62de28756946"
   },
   "source": [
    "plt.scatter(X,Y)\n",
    "plt.show()\n",
    "plt.clf()"
   ],
   "execution_count": null,
   "outputs": [
    {
     "output_type": "display_data",
     "data": {
      "image/png": "[encoded data removed]",
      "text/plain": [
       "<Figure size 432x288 with 1 Axes>"
      ]
     },
     "metadata": {
      "tags": []
     }
    },
    {
     "output_type": "display_data",
     "data": {
      "text/plain": [
       "<Figure size 432x288 with 0 Axes>"
      ]
     },
     "metadata": {
      "tags": []
     }
    }
   ]
  },
  {
   "cell_type": "markdown",
   "metadata": {
    "id": "CkFb79fq_6ci"
   },
   "source": [
    "### Non Linear Simple 2D :\n",
    "        Linear Model    : OK\n",
    "        MLP (1, ?, 1)   : OK"
   ]
  },
  {
   "cell_type": "code",
   "metadata": {
    "id": "sZqi1Yy3_6cj"
   },
   "source": [
    "X = np.array([\n",
    "      [1],\n",
    "      [2],\n",
    "      [3]\n",
    "])\n",
    "Y = np.array([\n",
    "      2,\n",
    "      3,\n",
    "      2.5\n",
    "])"
   ],
   "execution_count": null,
   "outputs": []
  },
  {
   "cell_type": "code",
   "metadata": {
    "id": "NSqXDh6c_6ck",
    "colab": {
     "base_uri": "https://localhost:8080/",
     "height": 287
    },
    "outputId": "5e07562b-4b2f-4dc9-b4bd-263ac1b778fd"
   },
   "source": [
    "plt.scatter(X,Y)\n",
    "plt.show()\n",
    "plt.clf()"
   ],
   "execution_count": null,
   "outputs": [
    {
     "output_type": "display_data",
     "data": {
      "image/png": "[encoded data removed]",
      "text/plain": [
       "<Figure size 432x288 with 1 Axes>"
      ]
     },
     "metadata": {
      "tags": []
     }
    },
    {
     "output_type": "display_data",
     "data": {
      "text/plain": [
       "<Figure size 432x288 with 0 Axes>"
      ]
     },
     "metadata": {
      "tags": []
     }
    }
   ]
  },
  {
   "cell_type": "markdown",
   "metadata": {
    "id": "WT1s5lZxAJuL"
   },
   "source": [
    "### Linear Simple 3D :\n",
    "        Linear Model    : OK\n",
    "        MLP (2, 1)      : OK"
   ]
  },
  {
   "cell_type": "code",
   "metadata": {
    "id": "KL_IanGMAJuM"
   },
   "source": [
    "X = np.array([\n",
    "      [1, 1],\n",
    "      [2, 2],\n",
    "      [3, 1]\n",
    "])\n",
    "Y = np.array([\n",
    "      2,\n",
    "      3,\n",
    "      2.5\n",
    "])"
   ],
   "execution_count": null,
   "outputs": []
  },
  {
   "cell_type": "code",
   "metadata": {
    "id": "91dQpMIzAJuO",
    "colab": {
     "base_uri": "https://localhost:8080/",
     "height": 337
    },
    "outputId": "c1681d4c-3b99-429c-fa3f-6b8ef879e0de"
   },
   "source": [
    "from mpl_toolkits.mplot3d import Axes3D\n",
    "fig = plt.figure()\n",
    "ax = Axes3D(fig)\n",
    "ax.scatter(X[:,0],X[:,1],Y)\n",
    "plt.show()\n",
    "plt.clf()"
   ],
   "execution_count": null,
   "outputs": [
    {
     "output_type": "display_data",
     "data": {
      "image/png": "[encoded data removed]",
      "text/plain": [
       "<Figure size 432x288 with 1 Axes>"
      ]
     },
     "metadata": {
      "tags": []
     }
    },
    {
     "output_type": "display_data",
     "data": {
      "text/plain": [
       "<Figure size 432x288 with 0 Axes>"
      ]
     },
     "metadata": {
      "tags": []
     }
    }
   ]
  },
  {
   "cell_type": "markdown",
   "metadata": {
    "id": "kO361TllBqbm"
   },
   "source": [
    "### Linear Tricky 3D :\n",
    "        Linear Model    : OK\n",
    "        MLP (2, 1)      : OK"
   ]
  },
  {
   "cell_type": "code",
   "metadata": {
    "id": "nR_i7qLxBqbm"
   },
   "source": [
    "X = np.array([\n",
    "      [1, 1],\n",
    "      [2, 2],\n",
    "      [3, 3]\n",
    "])\n",
    "Y = np.array([\n",
    "      1,\n",
    "      2,\n",
    "      3\n",
    "])"
   ],
   "execution_count": null,
   "outputs": []
  },
  {
   "cell_type": "code",
   "metadata": {
    "id": "dHriVYrKBqbo",
    "colab": {
     "base_uri": "https://localhost:8080/",
     "height": 337
    },
    "outputId": "681a33c5-8ad5-427a-beea-eaf2a4e268ac"
   },
   "source": [
    "from mpl_toolkits.mplot3d import Axes3D\n",
    "fig = plt.figure()\n",
    "ax = Axes3D(fig)\n",
    "ax.scatter(X[:,0],X[:,1],Y)\n",
    "plt.show()\n",
    "plt.clf()"
   ],
   "execution_count": null,
   "outputs": [
    {
     "output_type": "display_data",
     "data": {
      "image/png": "[encoded data removed]",
      "text/plain": [
       "<Figure size 432x288 with 1 Axes>"
      ]
     },
     "metadata": {
      "tags": []
     }
    },
    {
     "output_type": "display_data",
     "data": {
      "text/plain": [
       "<Figure size 432x288 with 0 Axes>"
      ]
     },
     "metadata": {
      "tags": []
     }
    }
   ]
  },
  {
   "cell_type": "markdown",
   "metadata": {
    "id": "H_h0_vtCBEzk"
   },
   "source": [
    "### Non Linear Simple 3D :\n",
    "        Linear Model       : KO\n",
    "        MLP (2, 2, 1)      : OK"
   ]
  },
  {
   "cell_type": "code",
   "metadata": {
    "id": "ij70I1H9BEzk"
   },
   "source": [
    "X = np.array([\n",
    "      [1, 0],\n",
    "      [0, 1],\n",
    "      [1, 1],\n",
    "      [0, 0],\n",
    "])\n",
    "Y = np.array([\n",
    "      2,\n",
    "      1,\n",
    "      -2,\n",
    "      -1\n",
    "])"
   ],
   "execution_count": null,
   "outputs": []
  },
  {
   "cell_type": "code",
   "metadata": {
    "id": "N3VDOby8BEzn",
    "colab": {
     "base_uri": "https://localhost:8080/",
     "height": 337
    },
    "outputId": "ef903fb3-08ed-4afd-f1e0-bcaed828b118"
   },
   "source": [
    "from mpl_toolkits.mplot3d import Axes3D\n",
    "fig = plt.figure()\n",
    "ax = Axes3D(fig)\n",
    "ax.scatter(X[:,0],X[:,1],Y)\n",
    "plt.show()\n",
    "plt.clf()"
   ],
   "execution_count": null,
   "outputs": [
    {
     "output_type": "display_data",
     "data": {
      "image/png": "[encoded data removed]",
      "text/plain": [
       "<Figure size 432x288 with 1 Axes>"
      ]
     },
     "metadata": {
      "tags": []
     }
    },
    {
     "output_type": "display_data",
     "data": {
      "text/plain": [
       "<Figure size 432x288 with 0 Axes>"
      ]
     },
     "metadata": {
      "tags": []
     }
    }
   ]
  }
 ]
}
